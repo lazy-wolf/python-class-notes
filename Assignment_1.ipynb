{
  "nbformat": 4,
  "nbformat_minor": 0,
  "metadata": {
    "colab": {
      "provenance": [],
      "mount_file_id": "https://github.com/lazy-wolf/python-class-notes/blob/main/Assignment_1.ipynb",
      "authorship_tag": "ABX9TyOF9uVjxLJbnzcrrQQ+GV9y",
      "include_colab_link": true
    },
    "kernelspec": {
      "name": "python3",
      "display_name": "Python 3"
    },
    "language_info": {
      "name": "python"
    }
  },
  "cells": [
    {
      "cell_type": "markdown",
      "metadata": {
        "id": "view-in-github",
        "colab_type": "text"
      },
      "source": [
        "<a href=\"https://colab.research.google.com/github/lazy-wolf/python-class-notes/blob/main/Assignment_1.ipynb\" target=\"_parent\"><img src=\"https://colab.research.google.com/assets/colab-badge.svg\" alt=\"Open In Colab\"/></a>"
      ]
    },
    {
      "cell_type": "markdown",
      "source": [
        "**Assignment 1**\n",
        "\n",
        "```\n",
        "# Authoured by: Wasim Dawood Shaik\n",
        "# UNB ID: 3744476\n",
        "# Date: 05-10-2023\n",
        "```\n",
        "\n",
        "\n",
        "\n",
        "\n",
        "\n",
        "\n"
      ],
      "metadata": {
        "id": "k0nOtwwGADuE"
      }
    },
    {
      "cell_type": "markdown",
      "source": [
        "**Import Libraries**"
      ],
      "metadata": {
        "id": "t8WA2nfmBBdR"
      }
    },
    {
      "cell_type": "code",
      "source": [
        "import tensorflow as tf\n",
        "from tensorflow.keras.datasets import mnist\n",
        "from tensorflow.keras.preprocessing import image\n",
        "import numpy as np\n",
        "import os\n",
        "from PIL import Image, ImageFilter\n",
        "import matplotlib.pyplot as plt\n",
        "from tensorflow.keras import datasets, layers, models\n",
        "from google.colab import drive\n",
        "from sklearn.metrics import accuracy_score"
      ],
      "metadata": {
        "id": "zUqYg_Da__iW"
      },
      "execution_count": 1,
      "outputs": []
    },
    {
      "cell_type": "markdown",
      "source": [
        "**Mounting Google Drive in Google Colab**"
      ],
      "metadata": {
        "id": "is4L7LwCBNE2"
      }
    },
    {
      "cell_type": "code",
      "source": [
        "drive.mount('/content/drive', force_remount=True)"
      ],
      "metadata": {
        "colab": {
          "base_uri": "https://localhost:8080/"
        },
        "id": "FYVQD5vMBJ8R",
        "outputId": "c044e3f0-352e-4b9a-bf14-357fa35e4676"
      },
      "execution_count": 2,
      "outputs": [
        {
          "output_type": "stream",
          "name": "stdout",
          "text": [
            "Mounted at /content/drive\n"
          ]
        }
      ]
    },
    {
      "cell_type": "markdown",
      "source": [
        "**Load custom images from Google Drive**"
      ],
      "metadata": {
        "id": "BNaxWUOoB3R1"
      }
    },
    {
      "cell_type": "code",
      "source": [
        "# Load custom images from Google Drive\n",
        "custom_images = []\n",
        "custom_labels = []\n",
        "base_folder_path = '/content/drive/MyDrive/TME_6015/Assignment_1'\n",
        "for folder_name in os.listdir(base_folder_path):\n",
        "    folder_path = os.path.join(base_folder_path, folder_name)\n",
        "    print(folder_path)\n",
        "    if os.path.isdir(folder_path):\n",
        "        for filename in os.listdir(folder_path):\n",
        "          print('filename', filename)\n",
        "          if filename.endswith('.png') or filename.endswith('.PNG') or filename.endswith('.JPG') or filename.endswith('.jpg'):\n",
        "              img_path = os.path.join(folder_path, filename)\n",
        "              img = Image.open(img_path).convert('L')  # convert image to grayscale\n",
        "              img = img.resize((28, 28))  # resize image to match MNIST data\n",
        "              img = img.rotate(-90)\n",
        "              threshold = 100\n",
        "              img = img.point(lambda p: p > threshold and 255)\n",
        "              img_array = np.array(img)\n",
        "              custom_images.append(img_array)\n",
        "              custom_labels.append(int(folder_name))  # use folder name as label\n",
        "\n",
        "# Convert the list of custom images and labels to numpy arrays\n",
        "custom_images = np.array(custom_images)\n",
        "custom_labels = np.array(custom_labels)\n",
        "\n",
        "# Preprocess the custom images\n",
        "custom_images = custom_images / 255.0"
      ],
      "metadata": {
        "colab": {
          "base_uri": "https://localhost:8080/"
        },
        "id": "OVRxvf3FBMJg",
        "outputId": "d687f21c-9da8-4a9a-9416-ee3c4e3f2a0a"
      },
      "execution_count": 3,
      "outputs": [
        {
          "output_type": "stream",
          "name": "stdout",
          "text": [
            "/content/drive/MyDrive/TME_6015/Assignment_1/7\n",
            "filename 7-1.jpg\n",
            "filename 7-2.png\n",
            "filename 7-3.png\n",
            "/content/drive/MyDrive/TME_6015/Assignment_1/1\n",
            "filename 1-1.jpg\n",
            "filename 1-2.png\n",
            "filename 1-3`.png\n",
            "/content/drive/MyDrive/TME_6015/Assignment_1/2\n",
            "filename 2-1.jpg\n",
            "filename 2-2.png\n",
            "filename 2-3.png\n",
            "/content/drive/MyDrive/TME_6015/Assignment_1/3\n",
            "filename 3-1.jpg\n",
            "filename 3-2.png\n",
            "filename 3-3.png\n",
            "/content/drive/MyDrive/TME_6015/Assignment_1/4\n",
            "filename 4-1.jpg\n",
            "filename 4-2.png\n",
            "filename 4-3.png\n",
            "/content/drive/MyDrive/TME_6015/Assignment_1/5\n",
            "filename 5-1.jpg\n",
            "filename 5-2.png\n",
            "filename 5-3.png\n",
            "/content/drive/MyDrive/TME_6015/Assignment_1/6\n",
            "filename 6-1.jpg\n",
            "filename 6-2.png\n",
            "filename 6-3.png\n",
            "/content/drive/MyDrive/TME_6015/Assignment_1/8\n",
            "filename 8-1.jpg\n",
            "filename 8-2.png\n",
            "filename 8-3.png\n",
            "/content/drive/MyDrive/TME_6015/Assignment_1/9\n",
            "filename 9-1.jpg\n",
            "filename 9-2.png\n",
            "filename 9-3.png\n",
            "/content/drive/MyDrive/TME_6015/Assignment_1/0\n",
            "filename 0-1.jpg\n",
            "filename 0-2.png\n",
            "filename 0-3.png\n"
          ]
        }
      ]
    },
    {
      "cell_type": "code",
      "source": [
        "display_image = custom_images[2] * 255\n",
        "\n",
        "# Convert the image data to uint8\n",
        "display_image = display_image.astype(np.uint8)\n",
        "\n",
        "# Create a PIL image\n",
        "img = Image.fromarray(display_image)\n",
        "\n",
        "# Display the image\n",
        "img"
      ],
      "metadata": {
        "colab": {
          "base_uri": "https://localhost:8080/",
          "height": 45
        },
        "id": "njR2-G8_C45W",
        "outputId": "14b7314f-4f81-418f-8e66-eb9c8e0c547c"
      },
      "execution_count": 4,
      "outputs": [
        {
          "output_type": "execute_result",
          "data": {
            "text/plain": [
              "<PIL.Image.Image image mode=L size=28x28>"
            ],
            "image/png": "[encoded data removed]"
          },
          "metadata": {},
          "execution_count": 4
        }
      ]
    },
    {
      "cell_type": "markdown",
      "source": [
        "**Plotting the data**"
      ],
      "metadata": {
        "id": "BIS1TtwSCRKh"
      }
    },
    {
      "cell_type": "code",
      "source": [
        "plt.figure(figsize=(14,14))\n",
        "for i in range(30):\n",
        "    plt.subplot(10,3,i+1)\n",
        "    plt.xticks([])\n",
        "    plt.yticks([])\n",
        "    plt.grid(False)\n",
        "    plt.imshow(custom_images[i])\n",
        "    plt.xlabel(custom_labels[i])\n",
        "plt.show()"
      ],
      "metadata": {
        "colab": {
          "base_uri": "https://localhost:8080/",
          "height": 1000
        },
        "id": "k7i8XXFHBwuU",
        "outputId": "74d5162e-ace0-4311-a17e-d98bc15d0f14"
      },
      "execution_count": 5,
      "outputs": [
        {
          "output_type": "display_data",
          "data": {
            "text/plain": [
              "<Figure size 1400x1400 with 30 Axes>"
            ],
            "image/png": "[encoded data removed]"
          },
          "metadata": {}
        }
      ]
    },
    {
      "cell_type": "markdown",
      "source": [
        "**Load and Preprocess MNIST Dataset**"
      ],
      "metadata": {
        "id": "pdwjXQMdClhB"
      }
    },
    {
      "cell_type": "code",
      "source": [
        "mnist = tf.keras.datasets.mnist\n",
        "(x_train,y_train),(x_test,y_test)=mnist.load_data()"
      ],
      "metadata": {
        "colab": {
          "base_uri": "https://localhost:8080/"
        },
        "id": "oQL8FzrOBwxI",
        "outputId": "a9935704-c3df-483c-e1ef-fe7f1f45bae4"
      },
      "execution_count": 6,
      "outputs": [
        {
          "output_type": "stream",
          "name": "stdout",
          "text": [
            "Downloading data from https://storage.googleapis.com/tensorflow/tf-keras-datasets/mnist.npz\n",
            "11490434/11490434 [==============================] - 0s 0us/step\n"
          ]
        }
      ]
    },
    {
      "cell_type": "markdown",
      "source": [
        "**Adding the custom images and labels to the original MNIST dataset**"
      ],
      "metadata": {
        "id": "XKjBl_NPDJNG"
      }
    },
    {
      "cell_type": "code",
      "source": [
        "# Add the custom images and labels to the original MNIST dataset\n",
        "x_train = np.concatenate((x_train, custom_images), axis=0)\n",
        "y_train = np.concatenate((y_train, custom_labels), axis=0)"
      ],
      "metadata": {
        "id": "iRFw3c8vBwzy"
      },
      "execution_count": 7,
      "outputs": []
    },
    {
      "cell_type": "code",
      "source": [
        "display_image = x_train[0] * 255\n",
        "\n",
        "# Convert the image data to uint8\n",
        "display_image = display_image.astype(np.uint8)\n",
        "\n",
        "# Create a PIL image\n",
        "img = Image.fromarray(display_image)\n",
        "img"
      ],
      "metadata": {
        "colab": {
          "base_uri": "https://localhost:8080/",
          "height": 45
        },
        "id": "I6nmWEDlBxAg",
        "outputId": "65843ef4-0149-462c-ad52-170931fe99fa"
      },
      "execution_count": 8,
      "outputs": [
        {
          "output_type": "execute_result",
          "data": {
            "text/plain": [
              "<PIL.Image.Image image mode=L size=28x28>"
            ],
            "image/png": "[encoded data removed]"
          },
          "metadata": {},
          "execution_count": 8
        }
      ]
    },
    {
      "cell_type": "markdown",
      "source": [
        "**Create a Model**"
      ],
      "metadata": {
        "id": "hX3khsAfDksY"
      }
    },
    {
      "cell_type": "code",
      "source": [
        "model = models.Sequential()\n",
        "model.add(layers.Conv2D(32, (3, 3), activation='relu', input_shape=(28, 28, 1)))\n",
        "model.add(layers.MaxPooling2D((2, 2)))\n",
        "model.add(layers.Conv2D(64, (3, 3), activation='relu'))\n",
        "model.add(layers.MaxPooling2D((2, 2)))\n",
        "model.add(layers.Conv2D(64, (3, 3), activation='relu'))\n",
        "model.add(layers.Flatten())\n",
        "model.add(layers.Dense(64, activation='relu'))\n",
        "model.add(layers.Dense(10))"
      ],
      "metadata": {
        "id": "UzqSNrp5BxEJ"
      },
      "execution_count": 9,
      "outputs": []
    },
    {
      "cell_type": "code",
      "source": [
        "model.summary()"
      ],
      "metadata": {
        "colab": {
          "base_uri": "https://localhost:8080/"
        },
        "id": "ADvj_KJHGDLm",
        "outputId": "c50337ed-280a-4949-d857-d8d9a8dd5209"
      },
      "execution_count": 10,
      "outputs": [
        {
          "output_type": "stream",
          "name": "stdout",
          "text": [
            "Model: \"sequential\"\n",
            "_________________________________________________________________\n",
            " Layer (type)                Output Shape              Param #   \n",
            "=================================================================\n",
            " conv2d (Conv2D)             (None, 26, 26, 32)        320       \n",
            "                                                                 \n",
            " max_pooling2d (MaxPooling2  (None, 13, 13, 32)        0         \n",
            " D)                                                              \n",
            "                                                                 \n",
            " conv2d_1 (Conv2D)           (None, 11, 11, 64)        18496     \n",
            "                                                                 \n",
            " max_pooling2d_1 (MaxPoolin  (None, 5, 5, 64)          0         \n",
            " g2D)                                                            \n",
            "                                                                 \n",
            " conv2d_2 (Conv2D)           (None, 3, 3, 64)          36928     \n",
            "                                                                 \n",
            " flatten (Flatten)           (None, 576)               0         \n",
            "                                                                 \n",
            " dense (Dense)               (None, 64)                36928     \n",
            "                                                                 \n",
            " dense_1 (Dense)             (None, 10)                650       \n",
            "                                                                 \n",
            "=================================================================\n",
            "Total params: 93322 (364.54 KB)\n",
            "Trainable params: 93322 (364.54 KB)\n",
            "Non-trainable params: 0 (0.00 Byte)\n",
            "_________________________________________________________________\n"
          ]
        }
      ]
    },
    {
      "cell_type": "markdown",
      "source": [
        "**Compile and Train the Model**"
      ],
      "metadata": {
        "id": "b_6m0mDlD7XY"
      }
    },
    {
      "cell_type": "code",
      "source": [
        "model.compile(optimizer='adam',\n",
        "              loss=tf.keras.losses.SparseCategoricalCrossentropy(from_logits=True),\n",
        "              metrics=['accuracy'])\n",
        "history = model.fit(x_train, y_train, epochs=10,\n",
        "                    validation_data=(x_test, y_test))"
      ],
      "metadata": {
        "colab": {
          "base_uri": "https://localhost:8080/"
        },
        "id": "jG8H_SpfBMM0",
        "outputId": "68e6a9ed-77a4-453a-e6eb-3d755fcd6508"
      },
      "execution_count": null,
      "outputs": [
        {
          "output_type": "stream",
          "name": "stdout",
          "text": [
            "Epoch 1/10\n",
            "1876/1876 [==============================] - 61s 32ms/step - loss: 0.2433 - accuracy: 0.9414 - val_loss: 0.0586 - val_accuracy: 0.9805\n",
            "Epoch 2/10\n",
            "1876/1876 [==============================] - 69s 37ms/step - loss: 0.0661 - accuracy: 0.9799 - val_loss: 0.0505 - val_accuracy: 0.9829\n",
            "Epoch 3/10\n",
            "1876/1876 [==============================] - 61s 33ms/step - loss: 0.0508 - accuracy: 0.9842 - val_loss: 0.0616 - val_accuracy: 0.9811\n",
            "Epoch 4/10\n",
            "1876/1876 [==============================] - 65s 34ms/step - loss: 0.0474 - accuracy: 0.9857 - val_loss: 0.0474 - val_accuracy: 0.9860\n",
            "Epoch 5/10\n",
            " 944/1876 [==============>...............] - ETA: 28s - loss: 0.0390 - accuracy: 0.9878"
          ]
        }
      ]
    },
    {
      "cell_type": "markdown",
      "source": [
        "**Plot Training History**"
      ],
      "metadata": {
        "id": "ch-VAkEzEGsb"
      }
    },
    {
      "cell_type": "code",
      "source": [
        "plt.plot(history.history['accuracy'], label='accuracy')\n",
        "plt.plot(history.history['val_accuracy'], label = 'val_accuracy')\n",
        "plt.xlabel('Epoch')\n",
        "plt.ylabel('Accuracy')\n",
        "plt.ylim([0.5, 1])\n",
        "plt.legend(loc='lower right')\n",
        "\n",
        "test_loss, test_acc = model.evaluate(x_test,  y_test, verbose=2)"
      ],
      "metadata": {
        "id": "MHxQ7AzhEAtX"
      },
      "execution_count": null,
      "outputs": []
    },
    {
      "cell_type": "code",
      "source": [
        "print(test_acc)"
      ],
      "metadata": {
        "id": "zMDCJMtqHo4Y"
      },
      "execution_count": null,
      "outputs": []
    },
    {
      "cell_type": "markdown",
      "source": [
        "**Detect Overfitting**\n",
        "\n",
        "---\n",
        "\n",
        "We will Train the model for more epochs until you observe overfitting in the training data (i.e., when validation accuracy starts decreasing while training accuracy keeps increasing).\n",
        "\n",
        "---\n",
        "\n",
        "Here we will run two models to check overffitting on them. First model has less parameters compared to the next one.\n",
        "\n"
      ],
      "metadata": {
        "id": "3Ls-Iz4PENqJ"
      }
    },
    {
      "cell_type": "markdown",
      "source": [
        "**Model -1**"
      ],
      "metadata": {
        "id": "5UjnI_tlgecq"
      }
    },
    {
      "cell_type": "code",
      "source": [
        "model = models.Sequential()\n",
        "model.add(layers.Conv2D(32, (3, 3), activation='relu', input_shape=(28, 28, 1)))\n",
        "model.add(layers.MaxPooling2D((2, 2)))\n",
        "model.add(layers.Flatten())\n",
        "model.add(layers.Dense(64, activation='relu'))\n",
        "model.add(layers.Dense(10))"
      ],
      "metadata": {
        "id": "4J9tXMQvjm-e"
      },
      "execution_count": null,
      "outputs": []
    },
    {
      "cell_type": "code",
      "source": [
        "model.summary()"
      ],
      "metadata": {
        "id": "oEU60RSOjnrm"
      },
      "execution_count": null,
      "outputs": []
    },
    {
      "cell_type": "code",
      "source": [
        "model.compile(optimizer='adam',\n",
        "              loss=tf.keras.losses.SparseCategoricalCrossentropy(from_logits=True),\n",
        "              metrics=['accuracy'])"
      ],
      "metadata": {
        "id": "PPTpuw8GjnyO"
      },
      "execution_count": null,
      "outputs": []
    },
    {
      "cell_type": "code",
      "source": [
        "history = model.fit(x_train, y_train, epochs=25,\n",
        "                    validation_data=(x_test, y_test))"
      ],
      "metadata": {
        "id": "7KwK1FtPjn2L"
      },
      "execution_count": null,
      "outputs": []
    },
    {
      "cell_type": "markdown",
      "source": [
        "**After 18 Epoch, We can see the validation accuracy has reached its peak of 98 percent then it decreases from that value**"
      ],
      "metadata": {
        "id": "b0DIw8NugsgD"
      }
    },
    {
      "cell_type": "code",
      "source": [
        "plt.plot(history.history['accuracy'], label='accuracy')\n",
        "plt.plot(history.history['val_accuracy'], label = 'val_accuracy')\n",
        "plt.xlabel('Epoch')\n",
        "plt.ylabel('Accuracy')\n",
        "plt.ylim([0.5, 1])\n",
        "plt.legend(loc='lower right')\n",
        "\n",
        "test_loss, test_acc = model.evaluate(x_test,  y_test, verbose=2)"
      ],
      "metadata": {
        "id": "OcwdPN22j3Fq"
      },
      "execution_count": null,
      "outputs": []
    },
    {
      "cell_type": "code",
      "source": [
        "print(test_acc)"
      ],
      "metadata": {
        "id": "2o0IS-6Fj5gT"
      },
      "execution_count": null,
      "outputs": []
    },
    {
      "cell_type": "code",
      "source": [
        "model = models.Sequential()\n",
        "model.add(layers.Conv2D(32, (3, 3), activation='relu', input_shape=(28, 28, 1)))\n",
        "model.add(layers.MaxPooling2D((2, 2)))\n",
        "model.add(layers.Conv2D(64, (3, 3), activation='relu'))\n",
        "model.add(layers.MaxPooling2D((2, 2)))\n",
        "model.add(layers.Conv2D(64, (3, 3), activation='relu'))\n",
        "model.add(layers.Flatten())\n",
        "model.add(layers.Dense(64, activation='relu'))\n",
        "model.add(layers.Dense(10))"
      ],
      "metadata": {
        "id": "igDZuIJCEKvI"
      },
      "execution_count": null,
      "outputs": []
    },
    {
      "cell_type": "code",
      "source": [
        "model.summary()"
      ],
      "metadata": {
        "id": "19TScrYkjyPI"
      },
      "execution_count": null,
      "outputs": []
    },
    {
      "cell_type": "code",
      "source": [
        "model.compile(optimizer='adam',\n",
        "              loss=tf.keras.losses.SparseCategoricalCrossentropy(from_logits=True),\n",
        "              metrics=['accuracy'])"
      ],
      "metadata": {
        "id": "YRuhCijxEKyL"
      },
      "execution_count": null,
      "outputs": []
    },
    {
      "cell_type": "code",
      "source": [
        "history = model.fit(x_train, y_train, epochs=18,\n",
        "                    validation_data=(x_test, y_test))"
      ],
      "metadata": {
        "id": "7GSC_uE4FwYm"
      },
      "execution_count": null,
      "outputs": []
    },
    {
      "cell_type": "markdown",
      "source": [
        "**After 11 Epoch,We can see the validation accuracy has reached its peak of 98.9 percent then it decreases from that value**"
      ],
      "metadata": {
        "id": "Rv8nMpJIhC0Z"
      }
    },
    {
      "cell_type": "code",
      "source": [
        "plt.plot(history.history['accuracy'], label='accuracy')\n",
        "plt.plot(history.history['val_accuracy'], label = 'val_accuracy')\n",
        "plt.xlabel('Epoch')\n",
        "plt.ylabel('Accuracy')\n",
        "plt.ylim([0.5, 1])\n",
        "plt.legend(loc='lower right')\n",
        "\n",
        "test_loss, test_acc = model.evaluate(x_test,  y_test, verbose=2)"
      ],
      "metadata": {
        "id": "Z1jtK-YZHVxl"
      },
      "execution_count": null,
      "outputs": []
    },
    {
      "cell_type": "code",
      "source": [
        "print(test_acc)"
      ],
      "metadata": {
        "id": "wc8EqnGcHV81"
      },
      "execution_count": null,
      "outputs": []
    },
    {
      "cell_type": "markdown",
      "source": [
        "**Experiment with Different Configurationst**"
      ],
      "metadata": {
        "id": "KXhOWbtHF07R"
      }
    },
    {
      "cell_type": "markdown",
      "source": [
        "**Model - 1**"
      ],
      "metadata": {
        "id": "ifmNHVX8F6jY"
      }
    },
    {
      "cell_type": "code",
      "source": [
        "model = models.Sequential()\n",
        "model.add(layers.Conv2D(32, (3, 3), activation='relu', input_shape=(28, 28, 1)))\n",
        "model.add(layers.MaxPooling2D((2, 2)))\n",
        "model.add(layers.Flatten())\n",
        "model.add(layers.Dense(64, activation='relu'))\n",
        "model.add(layers.Dense(10))"
      ],
      "metadata": {
        "id": "t7RGdx2JF0fP"
      },
      "execution_count": null,
      "outputs": []
    },
    {
      "cell_type": "code",
      "source": [
        "model.summary()"
      ],
      "metadata": {
        "id": "0owoll-WF0h1"
      },
      "execution_count": null,
      "outputs": []
    },
    {
      "cell_type": "code",
      "source": [
        "model.compile(optimizer='adam',\n",
        "              loss=tf.keras.losses.SparseCategoricalCrossentropy(from_logits=True),\n",
        "              metrics=['accuracy'])"
      ],
      "metadata": {
        "id": "4fjf5EOwFwbf"
      },
      "execution_count": null,
      "outputs": []
    },
    {
      "cell_type": "code",
      "source": [
        "history = model.fit(x_train, y_train, epochs=10,\n",
        "                    validation_data=(x_test, y_test))"
      ],
      "metadata": {
        "id": "2MKHKSlPFweI"
      },
      "execution_count": null,
      "outputs": []
    },
    {
      "cell_type": "code",
      "source": [
        "plt.plot(history.history['accuracy'], label='accuracy')\n",
        "plt.plot(history.history['val_accuracy'], label = 'val_accuracy')\n",
        "plt.xlabel('Epoch')\n",
        "plt.ylabel('Accuracy')\n",
        "plt.ylim([0.5, 1])\n",
        "plt.legend(loc='lower right')\n",
        "\n",
        "test_loss, test_acc = model.evaluate(x_test,  y_test, verbose=2)"
      ],
      "metadata": {
        "id": "Ko1PWHavEK1A"
      },
      "execution_count": null,
      "outputs": []
    },
    {
      "cell_type": "code",
      "source": [
        "print(test_acc)"
      ],
      "metadata": {
        "id": "mrpwLKEPHyXF"
      },
      "execution_count": null,
      "outputs": []
    },
    {
      "cell_type": "markdown",
      "source": [
        "**Model - 2**"
      ],
      "metadata": {
        "id": "XSXmQjP4GN2Q"
      }
    },
    {
      "cell_type": "code",
      "source": [
        "model = models.Sequential()\n",
        "model.add(layers.Conv2D(32, (3, 3), activation='relu', input_shape=(28, 28, 1)))\n",
        "model.add(layers.MaxPooling2D((2, 2)))\n",
        "model.add(layers.Conv2D(64, (3, 3), activation='relu'))\n",
        "model.add(layers.Flatten())\n",
        "model.add(layers.Dense(64, activation='relu'))\n",
        "model.add(layers.Dense(10))"
      ],
      "metadata": {
        "id": "-FaS51XIGNgM"
      },
      "execution_count": null,
      "outputs": []
    },
    {
      "cell_type": "code",
      "source": [
        "model.summary()"
      ],
      "metadata": {
        "id": "loaFO4YXEK4E"
      },
      "execution_count": null,
      "outputs": []
    },
    {
      "cell_type": "code",
      "source": [
        "model.compile(optimizer='adam',\n",
        "              loss=tf.keras.losses.SparseCategoricalCrossentropy(from_logits=True),\n",
        "              metrics=['accuracy'])"
      ],
      "metadata": {
        "id": "8Zl0Gz5DGM-3"
      },
      "execution_count": null,
      "outputs": []
    },
    {
      "cell_type": "code",
      "source": [
        "history = model.fit(x_train, y_train, epochs=10,\n",
        "                    validation_data=(x_test, y_test))"
      ],
      "metadata": {
        "id": "6W5E-0ZLEK6y"
      },
      "execution_count": null,
      "outputs": []
    },
    {
      "cell_type": "code",
      "source": [
        "plt.plot(history.history['accuracy'], label='accuracy')\n",
        "plt.plot(history.history['val_accuracy'], label = 'val_accuracy')\n",
        "plt.xlabel('Epoch')\n",
        "plt.ylabel('Accuracy')\n",
        "plt.ylim([0.5, 1])\n",
        "plt.legend(loc='lower right')\n",
        "\n",
        "test_loss, test_acc = model.evaluate(x_test,  y_test, verbose=2)"
      ],
      "metadata": {
        "id": "CHvryMakEK93"
      },
      "execution_count": null,
      "outputs": []
    },
    {
      "cell_type": "code",
      "source": [
        "print(test_acc)"
      ],
      "metadata": {
        "id": "EWBZPxt-H0Ho"
      },
      "execution_count": null,
      "outputs": []
    },
    {
      "cell_type": "markdown",
      "source": [
        "**Model - 3**"
      ],
      "metadata": {
        "id": "Fj5HdzN-hdG-"
      }
    },
    {
      "cell_type": "code",
      "source": [
        "model = models.Sequential()\n",
        "model.add(layers.Conv2D(32, (3, 3), activation='relu', input_shape=(28, 28, 1)))\n",
        "model.add(layers.MaxPooling2D((2, 2)))\n",
        "model.add(layers.Conv2D(64, (3, 3), activation='relu'))\n",
        "model.add(layers.MaxPooling2D((2, 2)))\n",
        "model.add(layers.Conv2D(64, (3, 3), activation='relu'))\n",
        "model.add(layers.Flatten())\n",
        "model.add(layers.Dense(64, activation='relu'))\n",
        "model.add(layers.Dense(10))"
      ],
      "metadata": {
        "id": "c2v3h3dphcqi"
      },
      "execution_count": null,
      "outputs": []
    },
    {
      "cell_type": "code",
      "source": [
        "model.summary()"
      ],
      "metadata": {
        "id": "HkT_AWL0hctU"
      },
      "execution_count": null,
      "outputs": []
    },
    {
      "cell_type": "code",
      "source": [
        "model.compile(optimizer='adam',\n",
        "              loss=tf.keras.losses.SparseCategoricalCrossentropy(from_logits=True),\n",
        "              metrics=['accuracy'])"
      ],
      "metadata": {
        "id": "jtw9aDnbhb1i"
      },
      "execution_count": null,
      "outputs": []
    },
    {
      "cell_type": "code",
      "source": [
        "history = model.fit(x_train, y_train, epochs=10,\n",
        "                    validation_data=(x_test, y_test))"
      ],
      "metadata": {
        "id": "vXDH16kwhb5T"
      },
      "execution_count": null,
      "outputs": []
    },
    {
      "cell_type": "code",
      "source": [
        "plt.plot(history.history['accuracy'], label='accuracy')\n",
        "plt.plot(history.history['val_accuracy'], label = 'val_accuracy')\n",
        "plt.xlabel('Epoch')\n",
        "plt.ylabel('Accuracy')\n",
        "plt.ylim([0.5, 1])\n",
        "plt.legend(loc='lower right')\n",
        "\n",
        "test_loss, test_acc = model.evaluate(x_test,  y_test, verbose=2)"
      ],
      "metadata": {
        "id": "QicRAsvKhb8h"
      },
      "execution_count": null,
      "outputs": []
    },
    {
      "cell_type": "code",
      "source": [
        "print(test_acc)"
      ],
      "metadata": {
        "id": "2qkU4Aayhb_o"
      },
      "execution_count": null,
      "outputs": []
    },
    {
      "cell_type": "markdown",
      "source": [
        "**Create a Custom Test Set**"
      ],
      "metadata": {
        "id": "znOR28CiG1fn"
      }
    },
    {
      "cell_type": "code",
      "source": [
        "custom_test_images = []\n",
        "custom_test_labels = []\n",
        "folder_path = '/content/drive/MyDrive/TME_6015/Assignment_1_Custom_Test_Data'\n",
        "for filename in os.listdir(folder_path):\n",
        "  print('filename : ', filename)\n",
        "  if filename.endswith('.png') or filename.endswith('.PNG') or filename.endswith('.JPG') or filename.endswith('.jpg') or filename.endswith('.JPEG') or filename.endswith('.jpeg'):\n",
        "    img_path = os.path.join(folder_path, filename)\n",
        "    img = Image.open(img_path).convert('L')\n",
        "    img = img.resize((28, 28))\n",
        "    threshold = 100\n",
        "    img = img.point(lambda p: p > threshold and 255)\n",
        "    img_array = np.array(img)\n",
        "    custom_test_images.append(img_array)\n",
        "    custom_test_labels.append(int(filename[0]))\n",
        "\n",
        "# Convert the list of custom images and labels to numpy arrays\n",
        "custom_test_images = np.array(custom_test_images)\n",
        "custom_test_labels = np.array(custom_test_labels)\n"
      ],
      "metadata": {
        "id": "5NWs5ij9KDyC"
      },
      "execution_count": null,
      "outputs": []
    },
    {
      "cell_type": "code",
      "source": [
        "plt.figure(figsize=(14,14))\n",
        "for i in range(10):\n",
        "    plt.subplot(2,5,i+1)\n",
        "    plt.xticks([])\n",
        "    plt.yticks([])\n",
        "    plt.grid(False)\n",
        "    plt.imshow(custom_test_images[i])\n",
        "    plt.xlabel(custom_test_labels[i])\n",
        "plt.show()"
      ],
      "metadata": {
        "id": "tvUXAlqAlEnB"
      },
      "execution_count": null,
      "outputs": []
    },
    {
      "cell_type": "code",
      "source": [
        "custom_test_labels, len(custom_test_labels)"
      ],
      "metadata": {
        "id": "Psh4glGHSmNp"
      },
      "execution_count": null,
      "outputs": []
    },
    {
      "cell_type": "code",
      "source": [
        "custom_test_pred=model.predict(custom_test_images)"
      ],
      "metadata": {
        "id": "end2cRAwG0xG"
      },
      "execution_count": null,
      "outputs": []
    },
    {
      "cell_type": "code",
      "source": [
        "custom_test_pred[0]"
      ],
      "metadata": {
        "id": "cfvH-2kESpmP"
      },
      "execution_count": null,
      "outputs": []
    },
    {
      "cell_type": "code",
      "source": [
        "custom_test_pred=list(map(lambda p: np.argmax(p), custom_test_pred))"
      ],
      "metadata": {
        "id": "AMRM_vljLYHx"
      },
      "execution_count": null,
      "outputs": []
    },
    {
      "cell_type": "code",
      "source": [
        "for i in range(len(custom_test_pred)):\n",
        "  print(custom_test_labels[i],custom_test_pred[i])"
      ],
      "metadata": {
        "id": "kAsoGZVLG00U"
      },
      "execution_count": null,
      "outputs": []
    },
    {
      "cell_type": "code",
      "source": [],
      "metadata": {
        "id": "g8KctYqzS23s"
      },
      "execution_count": null,
      "outputs": []
    }
  ]
}
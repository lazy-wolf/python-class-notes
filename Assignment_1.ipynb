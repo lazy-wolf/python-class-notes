{
  "nbformat": 4,
  "nbformat_minor": 0,
  "metadata": {
    "colab": {
      "provenance": [],
      "gpuType": "T4",
      "authorship_tag": "ABX9TyOPQ3LmV4D8PctdyOvXmGqz",
      "include_colab_link": true
    },
    "kernelspec": {
      "name": "python3",
      "display_name": "Python 3"
    },
    "language_info": {
      "name": "python"
    },
    "accelerator": "GPU"
  },
  "cells": [
    {
      "cell_type": "markdown",
      "metadata": {
        "id": "view-in-github",
        "colab_type": "text"
      },
      "source": [
        "<a href=\"https://colab.research.google.com/github/lazy-wolf/python-class-notes/blob/main/Assignment_1.ipynb\" target=\"_parent\"><img src=\"https://colab.research.google.com/assets/colab-badge.svg\" alt=\"Open In Colab\"/></a>"
      ]
    },
    {
      "cell_type": "markdown",
      "source": [
        "**Assignment 1**\n",
        "\n",
        "```\n",
        "# Authoured by: Wasim Dawood Shaik\n",
        "# UNB ID: 3744476\n",
        "# Date: 6-12-2023\n",
        "```\n"
      ],
      "metadata": {
        "id": "8mr-t4emO4NH"
      }
    },
    {
      "cell_type": "markdown",
      "source": [
        "**1. Describe in Function in YOUR OWN WORDS**"
      ],
      "metadata": {
        "id": "riztTIFrQ11_"
      }
    },
    {
      "cell_type": "markdown",
      "source": [
        "**tf.keras.layers.Conv2D**"
      ],
      "metadata": {
        "id": "27UC0i-VQ5PG"
      }
    },
    {
      "cell_type": "markdown",
      "source": [
        "`The Conv2D layer is a key element in image-processing neural networks, creating a convolutional kernel to convolve with input, producing an output tensor. In the model, two Conv2D layers are added sequentially in different layers. The first has 32 filters with a 3x3 kernel and ReLU activation, expecting grayscale images of 28x28 pixels. The second adds 64 filters with a 3x3 kernel and ReLU activation, assuming input shape from the preceding layer. These layers are pivotal for extracting hierarchical features, enhancing the model's pattern recognition capabilities in the input data.`\n",
        "\n"
      ],
      "metadata": {
        "id": "C31Q5vBkQ796"
      }
    },
    {
      "cell_type": "markdown",
      "source": [
        "**tf.keras.layers.MaxPooling2D**"
      ],
      "metadata": {
        "id": "Lgwly2rpS0a1"
      }
    },
    {
      "cell_type": "markdown",
      "source": [
        "\n",
        "`The MaxPooling2D layer performs spatial downsampling by selecting the maximum value within a defined window (specified by pool_size) for each channel of the input. This window shifts along each dimension according to the specified strides. In the given scenario, two MaxPooling2D layers are included in the model, both with a pool size of (2, 2). This operation aids in capturing crucial features through spatial reduction, contributing to the model's overall effectiveness in processing input data.`\n",
        "\n"
      ],
      "metadata": {
        "id": "pRKgEj8BTTaE"
      }
    },
    {
      "cell_type": "markdown",
      "source": [
        "**tf.keras.layers.Dropout**"
      ],
      "metadata": {
        "id": "9Emf0Sn5UBU-"
      }
    },
    {
      "cell_type": "markdown",
      "source": [
        "`The Dropout layer introduces randomness during training by randomly setting a fraction of input units to zero, determined by the specified rate. This stochastic process, applied thrice in the provided scenario with a dropout rate of 0.25, is a regularization technique designed to prevent overfitting. Inputs that are not set to zero are scaled by a factor to maintain the overall sum, promoting a more generalized and resilient neural network.`"
      ],
      "metadata": {
        "id": "FbwfwoUWUDIS"
      }
    },
    {
      "cell_type": "markdown",
      "source": [
        "**tf.keras.layers.Flatten**"
      ],
      "metadata": {
        "id": "8Jq2RfvpUvKb"
      }
    },
    {
      "cell_type": "markdown",
      "source": [
        "`The Flatten layer is applied to the input data, reshaping it from a multidimensional tensor into a one-dimensional vector. Crucially, this transformation does not impact the batch size. The inclusion of this layer is instrumental in transitioning the data flow from convolutional layers to fully connected layers within the neural network architecture.`"
      ],
      "metadata": {
        "id": "X9a_m3Q9UzWj"
      }
    },
    {
      "cell_type": "markdown",
      "source": [
        "**tf.keras.layers.Dense**"
      ],
      "metadata": {
        "id": "APjmA6HqV4FS"
      }
    },
    {
      "cell_type": "markdown",
      "source": [
        "`\n",
        "The Dense layer conducts a linear operation, defined as output = activation(dot(input, kernel) + bias). It applies an element-wise activation function to the result. The layer incorporates a weights matrix ('kernel') and, if applicable, a bias vector ('bias'). In the context of the provided code, two Dense layers are added to the model. The first has 128 units and employs the ReLU activation function, while the second has 10 units and utilizes the softmax activation function. These layers contribute significantly to capturing intricate patterns and generating output suitable for classification tasks.`"
      ],
      "metadata": {
        "id": "JDxsM07HV7Zc"
      }
    },
    {
      "cell_type": "markdown",
      "source": [
        "**2. Setup and Load the MNIST Dataset**"
      ],
      "metadata": {
        "id": "zpVwf5WpWTjb"
      }
    },
    {
      "cell_type": "markdown",
      "source": [
        "**Import the necessary libraries from TensorFlow and Keras.**"
      ],
      "metadata": {
        "id": "XMa2QQouWVsv"
      }
    },
    {
      "cell_type": "code",
      "execution_count": 13,
      "metadata": {
        "id": "lFNexXSZ6z8u"
      },
      "outputs": [],
      "source": [
        "import tensorflow as tf\n",
        "from tensorflow import keras\n",
        "from tensorflow.keras import layers\n",
        "from tensorflow.keras.datasets import mnist\n",
        "from tensorflow.keras.models import Sequential\n",
        "from tensorflow.keras.layers import Dense, Dropout, Flatten\n",
        "from tensorflow.keras.layers import Conv2D, MaxPooling2D\n",
        "from tensorflow.keras import backend as K\n",
        "from sklearn.model_selection import train_test_split\n",
        "import matplotlib.pyplot as plt"
      ]
    },
    {
      "cell_type": "markdown",
      "source": [
        "**Load the MNIST dataset and split it into training and testing sets.**"
      ],
      "metadata": {
        "id": "g8U0DNi0O5g3"
      }
    },
    {
      "cell_type": "code",
      "source": [
        "(x_train, y_train), (x_test, y_test) = mnist.load_data()"
      ],
      "metadata": {
        "id": "0Cj5DalPxfEe"
      },
      "execution_count": 31,
      "outputs": []
    },
    {
      "cell_type": "code",
      "source": [
        "x_train, x_val, y_train, y_val = train_test_split(x_train, y_train, test_size=0.33, random_state=42)"
      ],
      "metadata": {
        "id": "-QPZjkDMZyoV"
      },
      "execution_count": 32,
      "outputs": []
    },
    {
      "cell_type": "markdown",
      "source": [
        "**Normalize the pixel values of the images to the range [0, 1].**"
      ],
      "metadata": {
        "id": "fheu8NXiO5yl"
      }
    },
    {
      "cell_type": "code",
      "source": [
        "x_train = x_train.reshape(x_train.shape[0], 28, 28, 1)\n",
        "x_val = x_val.reshape(x_val.shape[0], 28, 28, 1)\n",
        "x_test = x_test.reshape(x_test.shape[0], 28, 28, 1)"
      ],
      "metadata": {
        "id": "jBJjQT5JxqXd"
      },
      "execution_count": 33,
      "outputs": []
    },
    {
      "cell_type": "code",
      "source": [
        "x_train = x_train.astype('float32')\n",
        "x_val = x_val.astype('float32')\n",
        "x_test = x_test.astype('float32')"
      ],
      "metadata": {
        "id": "trzzyTkoxqa4"
      },
      "execution_count": 34,
      "outputs": []
    },
    {
      "cell_type": "code",
      "source": [
        "x_train /= 255\n",
        "x_val /= 255\n",
        "x_test /= 255"
      ],
      "metadata": {
        "id": "c6aIJyDMxqeQ"
      },
      "execution_count": 35,
      "outputs": []
    },
    {
      "cell_type": "markdown",
      "source": [
        "**Convert the class vectors to binary class matrices (one-hot encoding).**"
      ],
      "metadata": {
        "id": "ZveQ6QGcO51o"
      }
    },
    {
      "cell_type": "code",
      "source": [
        "# convert y_train, y_val and y_test to categorical one-hot encoding\n",
        "y_train = keras.utils.to_categorical(y_train, 10)\n",
        "y_val = keras.utils.to_categorical(y_val, 10)\n",
        "y_test = keras.utils.to_categorical(y_test, 10)"
      ],
      "metadata": {
        "id": "qSytLeFay1Ci"
      },
      "execution_count": 36,
      "outputs": []
    },
    {
      "cell_type": "markdown",
      "source": [
        "**3. Build the CNN Model**"
      ],
      "metadata": {
        "id": "KyV6qJrtO54v"
      }
    },
    {
      "cell_type": "markdown",
      "source": [
        "**Model Architecture**"
      ],
      "metadata": {
        "id": "zflBV79hO573"
      }
    },
    {
      "cell_type": "code",
      "source": [
        "model = Sequential()\n",
        "# add a convolutional layer\n",
        "model.add(Conv2D(32, kernel_size=(3, 3), activation='relu', input_shape=(28, 28, 1)))\n",
        "# add a max pooling layer\n",
        "model.add(MaxPooling2D(pool_size=(2, 2)))\n",
        "# add a dropout layer\n",
        "model.add(Dropout(0.25))\n",
        "# add a convolutional layer\n",
        "model.add(Conv2D(64, kernel_size=(3, 3), activation='relu'))\n",
        "# add a max pooling layer\n",
        "model.add(MaxPooling2D(pool_size=(2, 2)))\n",
        "# add a dropout layer\n",
        "model.add(Dropout(0.25))\n",
        "# add a flatten layer\n",
        "model.add(Flatten())\n",
        "# add a dense layer\n",
        "model.add(Dense(128, activation='relu'))\n",
        "# add a dropout layer\n",
        "model.add(Dropout(0.5))\n",
        "# add a dense layer\n",
        "model.add(Dense(10, activation='softmax'))"
      ],
      "metadata": {
        "id": "fcWNV5LsxfpZ"
      },
      "execution_count": 37,
      "outputs": []
    },
    {
      "cell_type": "markdown",
      "source": [
        "**Compilation**"
      ],
      "metadata": {
        "id": "sZ4-c8gkO5-v"
      }
    },
    {
      "cell_type": "code",
      "source": [
        "model.compile(loss=keras.losses.categorical_crossentropy, optimizer=keras.optimizers.Adadelta(), metrics=['accuracy'])"
      ],
      "metadata": {
        "id": "LbKuay9Vxfu4"
      },
      "execution_count": 38,
      "outputs": []
    },
    {
      "cell_type": "markdown",
      "source": [
        "**4. Train and Test the Model**"
      ],
      "metadata": {
        "id": "e550SJCOO6Bw"
      }
    },
    {
      "cell_type": "markdown",
      "source": [
        "**Train the model on the MNIST training set. Choose an appropriate batch size and number of epochs.**"
      ],
      "metadata": {
        "id": "3bydiduVO6El"
      }
    },
    {
      "cell_type": "code",
      "source": [
        "history = model.fit(x_train, y_train, batch_size=128, epochs=50, verbose=1, validation_data=(x_val, y_val))"
      ],
      "metadata": {
        "colab": {
          "base_uri": "https://localhost:8080/"
        },
        "id": "7e22skcBxfyx",
        "outputId": "89948baf-a4e3-4899-8c8b-d3289c4ef8a2"
      },
      "execution_count": 39,
      "outputs": [
        {
          "output_type": "stream",
          "name": "stdout",
          "text": [
            "Epoch 1/50\n",
            "315/315 [==============================] - 4s 10ms/step - loss: 2.3078 - accuracy: 0.1120 - val_loss: 2.2913 - val_accuracy: 0.1553\n",
            "Epoch 2/50\n",
            "315/315 [==============================] - 2s 7ms/step - loss: 2.2943 - accuracy: 0.1216 - val_loss: 2.2788 - val_accuracy: 0.1981\n",
            "Epoch 3/50\n",
            "315/315 [==============================] - 2s 6ms/step - loss: 2.2799 - accuracy: 0.1414 - val_loss: 2.2666 - val_accuracy: 0.2504\n",
            "Epoch 4/50\n",
            "315/315 [==============================] - 2s 7ms/step - loss: 2.2672 - accuracy: 0.1552 - val_loss: 2.2545 - val_accuracy: 0.2993\n",
            "Epoch 5/50\n",
            "315/315 [==============================] - 2s 7ms/step - loss: 2.2570 - accuracy: 0.1665 - val_loss: 2.2423 - val_accuracy: 0.3382\n",
            "Epoch 6/50\n",
            "315/315 [==============================] - 3s 9ms/step - loss: 2.2441 - accuracy: 0.1830 - val_loss: 2.2297 - val_accuracy: 0.3725\n",
            "Epoch 7/50\n",
            "315/315 [==============================] - 2s 7ms/step - loss: 2.2296 - accuracy: 0.2013 - val_loss: 2.2166 - val_accuracy: 0.4072\n",
            "Epoch 8/50\n",
            "315/315 [==============================] - 2s 6ms/step - loss: 2.2154 - accuracy: 0.2170 - val_loss: 2.2025 - val_accuracy: 0.4391\n",
            "Epoch 9/50\n",
            "315/315 [==============================] - 2s 7ms/step - loss: 2.2021 - accuracy: 0.2309 - val_loss: 2.1877 - val_accuracy: 0.4714\n",
            "Epoch 10/50\n",
            "315/315 [==============================] - 2s 7ms/step - loss: 2.1894 - accuracy: 0.2443 - val_loss: 2.1719 - val_accuracy: 0.5040\n",
            "Epoch 11/50\n",
            "315/315 [==============================] - 2s 8ms/step - loss: 2.1715 - accuracy: 0.2635 - val_loss: 2.1549 - val_accuracy: 0.5315\n",
            "Epoch 12/50\n",
            "315/315 [==============================] - 3s 8ms/step - loss: 2.1571 - accuracy: 0.2774 - val_loss: 2.1367 - val_accuracy: 0.5582\n",
            "Epoch 13/50\n",
            "315/315 [==============================] - 2s 7ms/step - loss: 2.1362 - accuracy: 0.2975 - val_loss: 2.1171 - val_accuracy: 0.5816\n",
            "Epoch 14/50\n",
            "315/315 [==============================] - 2s 6ms/step - loss: 2.1169 - accuracy: 0.3137 - val_loss: 2.0959 - val_accuracy: 0.6026\n",
            "Epoch 15/50\n",
            "315/315 [==============================] - 2s 7ms/step - loss: 2.1008 - accuracy: 0.3210 - val_loss: 2.0737 - val_accuracy: 0.6189\n",
            "Epoch 16/50\n",
            "315/315 [==============================] - 2s 7ms/step - loss: 2.0803 - accuracy: 0.3365 - val_loss: 2.0503 - val_accuracy: 0.6336\n",
            "Epoch 17/50\n",
            "315/315 [==============================] - 2s 8ms/step - loss: 2.0575 - accuracy: 0.3516 - val_loss: 2.0252 - val_accuracy: 0.6494\n",
            "Epoch 18/50\n",
            "315/315 [==============================] - 4s 12ms/step - loss: 2.0337 - accuracy: 0.3645 - val_loss: 1.9985 - val_accuracy: 0.6595\n",
            "Epoch 19/50\n",
            "315/315 [==============================] - 5s 16ms/step - loss: 2.0079 - accuracy: 0.3816 - val_loss: 1.9703 - val_accuracy: 0.6724\n",
            "Epoch 20/50\n",
            "315/315 [==============================] - 7s 21ms/step - loss: 1.9856 - accuracy: 0.3886 - val_loss: 1.9406 - val_accuracy: 0.6819\n",
            "Epoch 21/50\n",
            "315/315 [==============================] - 4s 13ms/step - loss: 1.9592 - accuracy: 0.3991 - val_loss: 1.9094 - val_accuracy: 0.6917\n",
            "Epoch 22/50\n",
            "315/315 [==============================] - 4s 12ms/step - loss: 1.9315 - accuracy: 0.4124 - val_loss: 1.8769 - val_accuracy: 0.7035\n",
            "Epoch 23/50\n",
            "315/315 [==============================] - 3s 11ms/step - loss: 1.9057 - accuracy: 0.4218 - val_loss: 1.8433 - val_accuracy: 0.7140\n",
            "Epoch 24/50\n",
            "315/315 [==============================] - 3s 9ms/step - loss: 1.8748 - accuracy: 0.4323 - val_loss: 1.8083 - val_accuracy: 0.7222\n",
            "Epoch 25/50\n",
            "315/315 [==============================] - 2s 7ms/step - loss: 1.8454 - accuracy: 0.4404 - val_loss: 1.7721 - val_accuracy: 0.7288\n",
            "Epoch 26/50\n",
            "315/315 [==============================] - 2s 7ms/step - loss: 1.8182 - accuracy: 0.4497 - val_loss: 1.7349 - val_accuracy: 0.7361\n",
            "Epoch 27/50\n",
            "315/315 [==============================] - 3s 10ms/step - loss: 1.7844 - accuracy: 0.4653 - val_loss: 1.6967 - val_accuracy: 0.7412\n",
            "Epoch 28/50\n",
            "315/315 [==============================] - 2s 7ms/step - loss: 1.7575 - accuracy: 0.4657 - val_loss: 1.6578 - val_accuracy: 0.7469\n",
            "Epoch 29/50\n",
            "315/315 [==============================] - 3s 8ms/step - loss: 1.7285 - accuracy: 0.4751 - val_loss: 1.6186 - val_accuracy: 0.7509\n",
            "Epoch 30/50\n",
            "315/315 [==============================] - 2s 6ms/step - loss: 1.6986 - accuracy: 0.4836 - val_loss: 1.5795 - val_accuracy: 0.7566\n",
            "Epoch 31/50\n",
            "315/315 [==============================] - 2s 7ms/step - loss: 1.6651 - accuracy: 0.4979 - val_loss: 1.5405 - val_accuracy: 0.7626\n",
            "Epoch 32/50\n",
            "315/315 [==============================] - 3s 8ms/step - loss: 1.6340 - accuracy: 0.5034 - val_loss: 1.5016 - val_accuracy: 0.7659\n",
            "Epoch 33/50\n",
            "315/315 [==============================] - 2s 7ms/step - loss: 1.6037 - accuracy: 0.5096 - val_loss: 1.4632 - val_accuracy: 0.7689\n",
            "Epoch 34/50\n",
            "315/315 [==============================] - 2s 6ms/step - loss: 1.5767 - accuracy: 0.5177 - val_loss: 1.4257 - val_accuracy: 0.7716\n",
            "Epoch 35/50\n",
            "315/315 [==============================] - 2s 7ms/step - loss: 1.5486 - accuracy: 0.5255 - val_loss: 1.3888 - val_accuracy: 0.7744\n",
            "Epoch 36/50\n",
            "315/315 [==============================] - 2s 7ms/step - loss: 1.5194 - accuracy: 0.5319 - val_loss: 1.3525 - val_accuracy: 0.7771\n",
            "Epoch 37/50\n",
            "315/315 [==============================] - 2s 7ms/step - loss: 1.4929 - accuracy: 0.5393 - val_loss: 1.3176 - val_accuracy: 0.7802\n",
            "Epoch 38/50\n",
            "315/315 [==============================] - 2s 8ms/step - loss: 1.4669 - accuracy: 0.5468 - val_loss: 1.2841 - val_accuracy: 0.7829\n",
            "Epoch 39/50\n",
            "315/315 [==============================] - 2s 7ms/step - loss: 1.4381 - accuracy: 0.5561 - val_loss: 1.2512 - val_accuracy: 0.7851\n",
            "Epoch 40/50\n",
            "315/315 [==============================] - 2s 7ms/step - loss: 1.4175 - accuracy: 0.5598 - val_loss: 1.2193 - val_accuracy: 0.7879\n",
            "Epoch 41/50\n",
            "315/315 [==============================] - 2s 7ms/step - loss: 1.3909 - accuracy: 0.5648 - val_loss: 1.1889 - val_accuracy: 0.7909\n",
            "Epoch 42/50\n",
            "315/315 [==============================] - 2s 7ms/step - loss: 1.3676 - accuracy: 0.5756 - val_loss: 1.1592 - val_accuracy: 0.7935\n",
            "Epoch 43/50\n",
            "315/315 [==============================] - 2s 8ms/step - loss: 1.3486 - accuracy: 0.5748 - val_loss: 1.1309 - val_accuracy: 0.7958\n",
            "Epoch 44/50\n",
            "315/315 [==============================] - 2s 6ms/step - loss: 1.3272 - accuracy: 0.5825 - val_loss: 1.1035 - val_accuracy: 0.7981\n",
            "Epoch 45/50\n",
            "315/315 [==============================] - 2s 7ms/step - loss: 1.3067 - accuracy: 0.5893 - val_loss: 1.0772 - val_accuracy: 0.8003\n",
            "Epoch 46/50\n",
            "315/315 [==============================] - 2s 6ms/step - loss: 1.2791 - accuracy: 0.5957 - val_loss: 1.0513 - val_accuracy: 0.8022\n",
            "Epoch 47/50\n",
            "315/315 [==============================] - 2s 6ms/step - loss: 1.2632 - accuracy: 0.6010 - val_loss: 1.0268 - val_accuracy: 0.8044\n",
            "Epoch 48/50\n",
            "315/315 [==============================] - 2s 8ms/step - loss: 1.2413 - accuracy: 0.6078 - val_loss: 1.0033 - val_accuracy: 0.8064\n",
            "Epoch 49/50\n",
            "315/315 [==============================] - 3s 8ms/step - loss: 1.2239 - accuracy: 0.6118 - val_loss: 0.9807 - val_accuracy: 0.8086\n",
            "Epoch 50/50\n",
            "315/315 [==============================] - 2s 6ms/step - loss: 1.2053 - accuracy: 0.6201 - val_loss: 0.9592 - val_accuracy: 0.8109\n"
          ]
        }
      ]
    },
    {
      "cell_type": "markdown",
      "source": [
        "**Evaluate the model on the MNIST test set and report the accuracy.**"
      ],
      "metadata": {
        "id": "VT72aHOYO6Hj"
      }
    },
    {
      "cell_type": "code",
      "source": [
        "# evaluate the model\n",
        "score = model.evaluate(x_test, y_test, verbose=0)\n",
        "# print the score\n",
        "print('Test loss:', score[0])\n",
        "print('Test accuracy:', score[1])"
      ],
      "metadata": {
        "colab": {
          "base_uri": "https://localhost:8080/"
        },
        "id": "-preVB5Zxf2Z",
        "outputId": "9542595f-26e8-4503-9c27-ecead90917d9"
      },
      "execution_count": 40,
      "outputs": [
        {
          "output_type": "stream",
          "name": "stdout",
          "text": [
            "Test loss: 0.9392868876457214\n",
            "Test accuracy: 0.8259000182151794\n"
          ]
        }
      ]
    },
    {
      "cell_type": "markdown",
      "source": [
        "**Save the training history for later analysis.**"
      ],
      "metadata": {
        "id": "K4elCSUzO6KU"
      }
    },
    {
      "cell_type": "code",
      "source": [
        "history.history.keys()"
      ],
      "metadata": {
        "colab": {
          "base_uri": "https://localhost:8080/"
        },
        "id": "PlJPVfSpxf5y",
        "outputId": "58c07d72-7f08-448f-c3cb-801a79e433da"
      },
      "execution_count": 41,
      "outputs": [
        {
          "output_type": "execute_result",
          "data": {
            "text/plain": [
              "dict_keys(['loss', 'accuracy', 'val_loss', 'val_accuracy'])"
            ]
          },
          "metadata": {},
          "execution_count": 41
        }
      ]
    },
    {
      "cell_type": "markdown",
      "source": [
        "**5. Analysis and Reporting**"
      ],
      "metadata": {
        "id": "1fkws7jcYGe1"
      }
    },
    {
      "cell_type": "markdown",
      "source": [
        "**Plot the training and validation accuracy and loss over epochs.**"
      ],
      "metadata": {
        "id": "b1ZOtuFbYMZP"
      }
    },
    {
      "cell_type": "code",
      "source": [
        "plt.plot(history.history['accuracy'], label='accuracy')\n",
        "plt.plot(history.history['val_accuracy'], label = 'val_accuracy')\n",
        "plt.xlabel('Epoch')\n",
        "plt.ylabel('Accuracy')\n",
        "# plt.ylim([0.5, 1])\n",
        "plt.legend(loc='lower right')\n",
        "plt.show()"
      ],
      "metadata": {
        "colab": {
          "base_uri": "https://localhost:8080/",
          "height": 449
        },
        "id": "YYfAF4Qpxf9L",
        "outputId": "c3a5cc25-0d37-41cc-c897-ad5d273bd5d9"
      },
      "execution_count": 43,
      "outputs": [
        {
          "output_type": "display_data",
          "data": {
            "text/plain": [
              "<Figure size 640x480 with 1 Axes>"
            ],
            "image/png": "[encoded data removed]"
          },
          "metadata": {}
        }
      ]
    },
    {
      "cell_type": "markdown",
      "source": [
        "**Discuss any signs of overfitting or underfitting and suggest possible solutions.**"
      ],
      "metadata": {
        "id": "e69dZnaxas58"
      }
    },
    {
      "cell_type": "code",
      "source": [],
      "metadata": {
        "id": "4g7OUpDXxgAb"
      },
      "execution_count": null,
      "outputs": []
    },
    {
      "cell_type": "markdown",
      "source": [
        "**Provide a brief summary of your findings and any insights gained from this assignment.**"
      ],
      "metadata": {
        "id": "dCebJXHPavQC"
      }
    },
    {
      "cell_type": "code",
      "source": [],
      "metadata": {
        "id": "av70Cqc0xgD1"
      },
      "execution_count": null,
      "outputs": []
    }
  ]
}
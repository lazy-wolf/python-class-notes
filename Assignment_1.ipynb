{
  "nbformat": 4,
  "nbformat_minor": 0,
  "metadata": {
    "colab": {
      "provenance": [],
      "mount_file_id": "https://github.com/lazy-wolf/python-class-notes/blob/main/Assignment_1.ipynb",
      "authorship_tag": "ABX9TyNpV5D3ICtgYno5067tXzrw",
      "include_colab_link": true
    },
    "kernelspec": {
      "name": "python3",
      "display_name": "Python 3"
    },
    "language_info": {
      "name": "python"
    }
  },
  "cells": [
    {
      "cell_type": "markdown",
      "metadata": {
        "id": "view-in-github",
        "colab_type": "text"
      },
      "source": [
        "<a href=\"https://colab.research.google.com/github/lazy-wolf/python-class-notes/blob/main/Assignment_1.ipynb\" target=\"_parent\"><img src=\"https://colab.research.google.com/assets/colab-badge.svg\" alt=\"Open In Colab\"/></a>"
      ]
    },
    {
      "cell_type": "markdown",
      "source": [
        "**Assignment 1**\n",
        "\n",
        "```\n",
        "# Authoured by: Wasim Dawood Shaik\n",
        "# UNB ID: 3744476\n",
        "# Date: 05-10-2023\n",
        "```\n",
        "\n",
        "\n",
        "\n",
        "\n",
        "\n",
        "\n"
      ],
      "metadata": {
        "id": "k0nOtwwGADuE"
      }
    },
    {
      "cell_type": "markdown",
      "source": [
        "**Import Libraries**"
      ],
      "metadata": {
        "id": "t8WA2nfmBBdR"
      }
    },
    {
      "cell_type": "code",
      "source": [
        "import tensorflow as tf\n",
        "from tensorflow.keras.datasets import mnist\n",
        "from tensorflow.keras.preprocessing import image\n",
        "import numpy as np\n",
        "import os\n",
        "from PIL import Image, ImageFilter\n",
        "import matplotlib.pyplot as plt\n",
        "from tensorflow.keras import datasets, layers, models\n",
        "from google.colab import drive\n",
        "from sklearn.metrics import accuracy_score"
      ],
      "metadata": {
        "id": "zUqYg_Da__iW"
      },
      "execution_count": 1,
      "outputs": []
    },
    {
      "cell_type": "markdown",
      "source": [
        "**Mounting Google Drive in Google Colab**"
      ],
      "metadata": {
        "id": "is4L7LwCBNE2"
      }
    },
    {
      "cell_type": "code",
      "source": [
        "drive.mount('/content/drive', force_remount=True)"
      ],
      "metadata": {
        "colab": {
          "base_uri": "https://localhost:8080/"
        },
        "id": "FYVQD5vMBJ8R",
        "outputId": "c044e3f0-352e-4b9a-bf14-357fa35e4676"
      },
      "execution_count": 2,
      "outputs": [
        {
          "output_type": "stream",
          "name": "stdout",
          "text": [
            "Mounted at /content/drive\n"
          ]
        }
      ]
    },
    {
      "cell_type": "markdown",
      "source": [
        "**Load custom images from Google Drive**"
      ],
      "metadata": {
        "id": "BNaxWUOoB3R1"
      }
    },
    {
      "cell_type": "code",
      "source": [
        "# Load custom images from Google Drive\n",
        "custom_images = []\n",
        "custom_labels = []\n",
        "base_folder_path = '/content/drive/MyDrive/TME_6015/Assignment_1'\n",
        "for folder_name in os.listdir(base_folder_path):\n",
        "    folder_path = os.path.join(base_folder_path, folder_name)\n",
        "    print(folder_path)\n",
        "    if os.path.isdir(folder_path):\n",
        "        for filename in os.listdir(folder_path):\n",
        "          print('filename', filename)\n",
        "          if filename.endswith('.png') or filename.endswith('.PNG') or filename.endswith('.JPG') or filename.endswith('.jpg'):\n",
        "              img_path = os.path.join(folder_path, filename)\n",
        "              img = Image.open(img_path).convert('L')  # convert image to grayscale\n",
        "              img = img.resize((28, 28))  # resize image to match MNIST data\n",
        "              img = img.rotate(-90)\n",
        "              threshold = 100\n",
        "              img = img.point(lambda p: p > threshold and 255)\n",
        "              img_array = np.array(img)\n",
        "              custom_images.append(img_array)\n",
        "              custom_labels.append(int(folder_name))  # use folder name as label\n",
        "\n",
        "# Convert the list of custom images and labels to numpy arrays\n",
        "custom_images = np.array(custom_images)\n",
        "custom_labels = np.array(custom_labels)\n",
        "\n",
        "# Preprocess the custom images\n",
        "custom_images = custom_images / 255.0"
      ],
      "metadata": {
        "colab": {
          "base_uri": "https://localhost:8080/"
        },
        "id": "OVRxvf3FBMJg",
        "outputId": "d687f21c-9da8-4a9a-9416-ee3c4e3f2a0a"
      },
      "execution_count": 3,
      "outputs": [
        {
          "output_type": "stream",
          "name": "stdout",
          "text": [
            "/content/drive/MyDrive/TME_6015/Assignment_1/7\n",
            "filename 7-1.jpg\n",
            "filename 7-2.png\n",
            "filename 7-3.png\n",
            "/content/drive/MyDrive/TME_6015/Assignment_1/1\n",
            "filename 1-1.jpg\n",
            "filename 1-2.png\n",
            "filename 1-3`.png\n",
            "/content/drive/MyDrive/TME_6015/Assignment_1/2\n",
            "filename 2-1.jpg\n",
            "filename 2-2.png\n",
            "filename 2-3.png\n",
            "/content/drive/MyDrive/TME_6015/Assignment_1/3\n",
            "filename 3-1.jpg\n",
            "filename 3-2.png\n",
            "filename 3-3.png\n",
            "/content/drive/MyDrive/TME_6015/Assignment_1/4\n",
            "filename 4-1.jpg\n",
            "filename 4-2.png\n",
            "filename 4-3.png\n",
            "/content/drive/MyDrive/TME_6015/Assignment_1/5\n",
            "filename 5-1.jpg\n",
            "filename 5-2.png\n",
            "filename 5-3.png\n",
            "/content/drive/MyDrive/TME_6015/Assignment_1/6\n",
            "filename 6-1.jpg\n",
            "filename 6-2.png\n",
            "filename 6-3.png\n",
            "/content/drive/MyDrive/TME_6015/Assignment_1/8\n",
            "filename 8-1.jpg\n",
            "filename 8-2.png\n",
            "filename 8-3.png\n",
            "/content/drive/MyDrive/TME_6015/Assignment_1/9\n",
            "filename 9-1.jpg\n",
            "filename 9-2.png\n",
            "filename 9-3.png\n",
            "/content/drive/MyDrive/TME_6015/Assignment_1/0\n",
            "filename 0-1.jpg\n",
            "filename 0-2.png\n",
            "filename 0-3.png\n"
          ]
        }
      ]
    },
    {
      "cell_type": "code",
      "source": [
        "display_image = custom_images[2] * 255\n",
        "\n",
        "# Convert the image data to uint8\n",
        "display_image = display_image.astype(np.uint8)\n",
        "\n",
        "# Create a PIL image\n",
        "img = Image.fromarray(display_image)\n",
        "\n",
        "# Display the image\n",
        "img"
      ],
      "metadata": {
        "colab": {
          "base_uri": "https://localhost:8080/",
          "height": 45
        },
        "id": "njR2-G8_C45W",
        "outputId": "14b7314f-4f81-418f-8e66-eb9c8e0c547c"
      },
      "execution_count": 4,
      "outputs": [
        {
          "output_type": "execute_result",
          "data": {
            "text/plain": [
              "<PIL.Image.Image image mode=L size=28x28>"
            ],
            "image/png": "[encoded data removed]"
          },
          "metadata": {},
          "execution_count": 4
        }
      ]
    },
    {
      "cell_type": "markdown",
      "source": [
        "**Plotting the data**"
      ],
      "metadata": {
        "id": "BIS1TtwSCRKh"
      }
    },
    {
      "cell_type": "code",
      "source": [
        "plt.figure(figsize=(14,14))\n",
        "for i in range(30):\n",
        "    plt.subplot(10,3,i+1)\n",
        "    plt.xticks([])\n",
        "    plt.yticks([])\n",
        "    plt.grid(False)\n",
        "    plt.imshow(custom_images[i])\n",
        "    plt.xlabel(custom_labels[i])\n",
        "plt.show()"
      ],
      "metadata": {
        "colab": {
          "base_uri": "https://localhost:8080/",
          "height": 1000
        },
        "id": "k7i8XXFHBwuU",
        "outputId": "74d5162e-ace0-4311-a17e-d98bc15d0f14"
      },
      "execution_count": 5,
      "outputs": [
        {
          "output_type": "display_data",
          "data": {
            "text/plain": [
              "<Figure size 1400x1400 with 30 Axes>"
            ],
            "image/png": "[encoded data removed]"
          },
          "metadata": {}
        }
      ]
    },
    {
      "cell_type": "markdown",
      "source": [
        "**Load and Preprocess MNIST Dataset**"
      ],
      "metadata": {
        "id": "pdwjXQMdClhB"
      }
    },
    {
      "cell_type": "code",
      "source": [
        "mnist = tf.keras.datasets.mnist\n",
        "(x_train,y_train),(x_test,y_test)=mnist.load_data()"
      ],
      "metadata": {
        "colab": {
          "base_uri": "https://localhost:8080/"
        },
        "id": "oQL8FzrOBwxI",
        "outputId": "a9935704-c3df-483c-e1ef-fe7f1f45bae4"
      },
      "execution_count": 6,
      "outputs": [
        {
          "output_type": "stream",
          "name": "stdout",
          "text": [
            "Downloading data from https://storage.googleapis.com/tensorflow/tf-keras-datasets/mnist.npz\n",
            "11490434/11490434 [==============================] - 0s 0us/step\n"
          ]
        }
      ]
    },
    {
      "cell_type": "markdown",
      "source": [
        "**Adding the custom images and labels to the original MNIST dataset**"
      ],
      "metadata": {
        "id": "XKjBl_NPDJNG"
      }
    },
    {
      "cell_type": "code",
      "source": [
        "# Add the custom images and labels to the original MNIST dataset\n",
        "x_train = np.concatenate((x_train, custom_images), axis=0)\n",
        "y_train = np.concatenate((y_train, custom_labels), axis=0)"
      ],
      "metadata": {
        "id": "iRFw3c8vBwzy"
      },
      "execution_count": 7,
      "outputs": []
    },
    {
      "cell_type": "code",
      "source": [
        "display_image = x_train[0] * 255\n",
        "\n",
        "# Convert the image data to uint8\n",
        "display_image = display_image.astype(np.uint8)\n",
        "\n",
        "# Create a PIL image\n",
        "img = Image.fromarray(display_image)\n",
        "img"
      ],
      "metadata": {
        "colab": {
          "base_uri": "https://localhost:8080/",
          "height": 45
        },
        "id": "I6nmWEDlBxAg",
        "outputId": "65843ef4-0149-462c-ad52-170931fe99fa"
      },
      "execution_count": 8,
      "outputs": [
        {
          "output_type": "execute_result",
          "data": {
            "text/plain": [
              "<PIL.Image.Image image mode=L size=28x28>"
            ],
            "image/png": "[encoded data removed]"
          },
          "metadata": {},
          "execution_count": 8
        }
      ]
    },
    {
      "cell_type": "markdown",
      "source": [
        "**Create a Model**"
      ],
      "metadata": {
        "id": "hX3khsAfDksY"
      }
    },
    {
      "cell_type": "code",
      "source": [
        "model = models.Sequential()\n",
        "model.add(layers.Conv2D(32, (3, 3), activation='relu', input_shape=(28, 28, 1)))\n",
        "model.add(layers.MaxPooling2D((2, 2)))\n",
        "model.add(layers.Conv2D(64, (3, 3), activation='relu'))\n",
        "model.add(layers.MaxPooling2D((2, 2)))\n",
        "model.add(layers.Conv2D(64, (3, 3), activation='relu'))\n",
        "model.add(layers.Flatten())\n",
        "model.add(layers.Dense(64, activation='relu'))\n",
        "model.add(layers.Dense(10))"
      ],
      "metadata": {
        "id": "UzqSNrp5BxEJ"
      },
      "execution_count": 9,
      "outputs": []
    },
    {
      "cell_type": "code",
      "source": [
        "model.summary()"
      ],
      "metadata": {
        "colab": {
          "base_uri": "https://localhost:8080/"
        },
        "id": "ADvj_KJHGDLm",
        "outputId": "c50337ed-280a-4949-d857-d8d9a8dd5209"
      },
      "execution_count": 10,
      "outputs": [
        {
          "output_type": "stream",
          "name": "stdout",
          "text": [
            "Model: \"sequential\"\n",
            "_________________________________________________________________\n",
            " Layer (type)                Output Shape              Param #   \n",
            "=================================================================\n",
            " conv2d (Conv2D)             (None, 26, 26, 32)        320       \n",
            "                                                                 \n",
            " max_pooling2d (MaxPooling2  (None, 13, 13, 32)        0         \n",
            " D)                                                              \n",
            "                                                                 \n",
            " conv2d_1 (Conv2D)           (None, 11, 11, 64)        18496     \n",
            "                                                                 \n",
            " max_pooling2d_1 (MaxPoolin  (None, 5, 5, 64)          0         \n",
            " g2D)                                                            \n",
            "                                                                 \n",
            " conv2d_2 (Conv2D)           (None, 3, 3, 64)          36928     \n",
            "                                                                 \n",
            " flatten (Flatten)           (None, 576)               0         \n",
            "                                                                 \n",
            " dense (Dense)               (None, 64)                36928     \n",
            "                                                                 \n",
            " dense_1 (Dense)             (None, 10)                650       \n",
            "                                                                 \n",
            "=================================================================\n",
            "Total params: 93322 (364.54 KB)\n",
            "Trainable params: 93322 (364.54 KB)\n",
            "Non-trainable params: 0 (0.00 Byte)\n",
            "_________________________________________________________________\n"
          ]
        }
      ]
    },
    {
      "cell_type": "markdown",
      "source": [
        "**Compile and Train the Model**"
      ],
      "metadata": {
        "id": "b_6m0mDlD7XY"
      }
    },
    {
      "cell_type": "code",
      "source": [
        "model.compile(optimizer='adam',\n",
        "              loss=tf.keras.losses.SparseCategoricalCrossentropy(from_logits=True),\n",
        "              metrics=['accuracy'])\n",
        "history = model.fit(x_train, y_train, epochs=10,\n",
        "                    validation_data=(x_test, y_test))"
      ],
      "metadata": {
        "colab": {
          "base_uri": "https://localhost:8080/"
        },
        "id": "jG8H_SpfBMM0",
        "outputId": "68e6a9ed-77a4-453a-e6eb-3d755fcd6508"
      },
      "execution_count": 11,
      "outputs": [
        {
          "output_type": "stream",
          "name": "stdout",
          "text": [
            "Epoch 1/10\n",
            "1876/1876 [==============================] - 61s 32ms/step - loss: 0.2433 - accuracy: 0.9414 - val_loss: 0.0586 - val_accuracy: 0.9805\n",
            "Epoch 2/10\n",
            "1876/1876 [==============================] - 69s 37ms/step - loss: 0.0661 - accuracy: 0.9799 - val_loss: 0.0505 - val_accuracy: 0.9829\n",
            "Epoch 3/10\n",
            "1876/1876 [==============================] - 61s 33ms/step - loss: 0.0508 - accuracy: 0.9842 - val_loss: 0.0616 - val_accuracy: 0.9811\n",
            "Epoch 4/10\n",
            "1876/1876 [==============================] - 65s 34ms/step - loss: 0.0474 - accuracy: 0.9857 - val_loss: 0.0474 - val_accuracy: 0.9860\n",
            "Epoch 5/10\n",
            "1876/1876 [==============================] - 59s 32ms/step - loss: 0.0391 - accuracy: 0.9880 - val_loss: 0.0403 - val_accuracy: 0.9870\n",
            "Epoch 6/10\n",
            "1876/1876 [==============================] - 84s 45ms/step - loss: 0.0347 - accuracy: 0.9896 - val_loss: 0.0384 - val_accuracy: 0.9883\n",
            "Epoch 7/10\n",
            "1876/1876 [==============================] - 58s 31ms/step - loss: 0.0296 - accuracy: 0.9910 - val_loss: 0.0532 - val_accuracy: 0.9852\n",
            "Epoch 8/10\n",
            "1876/1876 [==============================] - 60s 32ms/step - loss: 0.0273 - accuracy: 0.9918 - val_loss: 0.0543 - val_accuracy: 0.9868\n",
            "Epoch 9/10\n",
            "1876/1876 [==============================] - 57s 30ms/step - loss: 0.0269 - accuracy: 0.9922 - val_loss: 0.0440 - val_accuracy: 0.9894\n",
            "Epoch 10/10\n",
            "1876/1876 [==============================] - 57s 30ms/step - loss: 0.0226 - accuracy: 0.9933 - val_loss: 0.0530 - val_accuracy: 0.9887\n"
          ]
        }
      ]
    },
    {
      "cell_type": "markdown",
      "source": [
        "**Plot Training History**"
      ],
      "metadata": {
        "id": "ch-VAkEzEGsb"
      }
    },
    {
      "cell_type": "code",
      "source": [
        "plt.plot(history.history['accuracy'], label='accuracy')\n",
        "plt.plot(history.history['val_accuracy'], label = 'val_accuracy')\n",
        "plt.xlabel('Epoch')\n",
        "plt.ylabel('Accuracy')\n",
        "plt.ylim([0.5, 1])\n",
        "plt.legend(loc='lower right')\n",
        "\n",
        "test_loss, test_acc = model.evaluate(x_test,  y_test, verbose=2)"
      ],
      "metadata": {
        "colab": {
          "base_uri": "https://localhost:8080/",
          "height": 473
        },
        "id": "MHxQ7AzhEAtX",
        "outputId": "4f4ad533-11e5-4725-bed2-bcf46e2314e6"
      },
      "execution_count": 12,
      "outputs": [
        {
          "output_type": "stream",
          "name": "stdout",
          "text": [
            "313/313 - 2s - loss: 0.0530 - accuracy: 0.9887 - 2s/epoch - 7ms/step\n"
          ]
        },
        {
          "output_type": "display_data",
          "data": {
            "text/plain": [
              "<Figure size 640x480 with 1 Axes>"
            ],
            "image/png": "[encoded data removed]"
          },
          "metadata": {}
        }
      ]
    },
    {
      "cell_type": "code",
      "source": [
        "print(test_acc)"
      ],
      "metadata": {
        "colab": {
          "base_uri": "https://localhost:8080/"
        },
        "id": "zMDCJMtqHo4Y",
        "outputId": "65182a5d-72f3-4b85-e509-561e4dca99de"
      },
      "execution_count": 13,
      "outputs": [
        {
          "output_type": "stream",
          "name": "stdout",
          "text": [
            "0.9886999726295471\n"
          ]
        }
      ]
    },
    {
      "cell_type": "markdown",
      "source": [
        "**Detect Overfitting**\n",
        "\n",
        "---\n",
        "\n",
        "We will Train the model for more epochs until you observe overfitting in the training data (i.e., when validation accuracy starts decreasing while training accuracy keeps increasing).\n",
        "\n",
        "---\n",
        "\n",
        "Here we will run two models to check overffitting on them. First model has less parameters compared to the next one.\n",
        "\n"
      ],
      "metadata": {
        "id": "3Ls-Iz4PENqJ"
      }
    },
    {
      "cell_type": "markdown",
      "source": [
        "**Model -1**"
      ],
      "metadata": {
        "id": "5UjnI_tlgecq"
      }
    },
    {
      "cell_type": "code",
      "source": [
        "model = models.Sequential()\n",
        "model.add(layers.Conv2D(32, (3, 3), activation='relu', input_shape=(28, 28, 1)))\n",
        "model.add(layers.MaxPooling2D((2, 2)))\n",
        "model.add(layers.Flatten())\n",
        "model.add(layers.Dense(64, activation='relu'))\n",
        "model.add(layers.Dense(10))"
      ],
      "metadata": {
        "id": "4J9tXMQvjm-e"
      },
      "execution_count": 14,
      "outputs": []
    },
    {
      "cell_type": "code",
      "source": [
        "model.summary()"
      ],
      "metadata": {
        "colab": {
          "base_uri": "https://localhost:8080/"
        },
        "id": "oEU60RSOjnrm",
        "outputId": "37890268-758c-4ed6-c148-d645a4d80f2e"
      },
      "execution_count": 15,
      "outputs": [
        {
          "output_type": "stream",
          "name": "stdout",
          "text": [
            "Model: \"sequential_1\"\n",
            "_________________________________________________________________\n",
            " Layer (type)                Output Shape              Param #   \n",
            "=================================================================\n",
            " conv2d_3 (Conv2D)           (None, 26, 26, 32)        320       \n",
            "                                                                 \n",
            " max_pooling2d_2 (MaxPoolin  (None, 13, 13, 32)        0         \n",
            " g2D)                                                            \n",
            "                                                                 \n",
            " flatten_1 (Flatten)         (None, 5408)              0         \n",
            "                                                                 \n",
            " dense_2 (Dense)             (None, 64)                346176    \n",
            "                                                                 \n",
            " dense_3 (Dense)             (None, 10)                650       \n",
            "                                                                 \n",
            "=================================================================\n",
            "Total params: 347146 (1.32 MB)\n",
            "Trainable params: 347146 (1.32 MB)\n",
            "Non-trainable params: 0 (0.00 Byte)\n",
            "_________________________________________________________________\n"
          ]
        }
      ]
    },
    {
      "cell_type": "code",
      "source": [
        "model.compile(optimizer='adam',\n",
        "              loss=tf.keras.losses.SparseCategoricalCrossentropy(from_logits=True),\n",
        "              metrics=['accuracy'])"
      ],
      "metadata": {
        "id": "PPTpuw8GjnyO"
      },
      "execution_count": 16,
      "outputs": []
    },
    {
      "cell_type": "code",
      "source": [
        "history = model.fit(x_train, y_train, epochs=25,\n",
        "                    validation_data=(x_test, y_test))"
      ],
      "metadata": {
        "colab": {
          "base_uri": "https://localhost:8080/"
        },
        "id": "7KwK1FtPjn2L",
        "outputId": "00ecddc5-48e3-48f7-e0df-997c7ba3fbdf"
      },
      "execution_count": 17,
      "outputs": [
        {
          "output_type": "stream",
          "name": "stdout",
          "text": [
            "Epoch 1/25\n",
            "1876/1876 [==============================] - 36s 19ms/step - loss: 0.3269 - accuracy: 0.9317 - val_loss: 0.1087 - val_accuracy: 0.9696\n",
            "Epoch 2/25\n",
            "1876/1876 [==============================] - 34s 18ms/step - loss: 0.0840 - accuracy: 0.9753 - val_loss: 0.0825 - val_accuracy: 0.9764\n",
            "Epoch 3/25\n",
            "1876/1876 [==============================] - 32s 17ms/step - loss: 0.0553 - accuracy: 0.9832 - val_loss: 0.0905 - val_accuracy: 0.9755\n",
            "Epoch 4/25\n",
            "1876/1876 [==============================] - 32s 17ms/step - loss: 0.0463 - accuracy: 0.9853 - val_loss: 0.1037 - val_accuracy: 0.9734\n",
            "Epoch 5/25\n",
            "1876/1876 [==============================] - 33s 17ms/step - loss: 0.0337 - accuracy: 0.9887 - val_loss: 0.0925 - val_accuracy: 0.9773\n",
            "Epoch 6/25\n",
            "1876/1876 [==============================] - 35s 19ms/step - loss: 0.0303 - accuracy: 0.9905 - val_loss: 0.1093 - val_accuracy: 0.9788\n",
            "Epoch 7/25\n",
            "1876/1876 [==============================] - 33s 17ms/step - loss: 0.0268 - accuracy: 0.9920 - val_loss: 0.1119 - val_accuracy: 0.9782\n",
            "Epoch 8/25\n",
            "1876/1876 [==============================] - 32s 17ms/step - loss: 0.0242 - accuracy: 0.9924 - val_loss: 0.1129 - val_accuracy: 0.9787\n",
            "Epoch 9/25\n",
            "1876/1876 [==============================] - 35s 19ms/step - loss: 0.0220 - accuracy: 0.9931 - val_loss: 0.1176 - val_accuracy: 0.9762\n",
            "Epoch 10/25\n",
            "1876/1876 [==============================] - 33s 18ms/step - loss: 0.0193 - accuracy: 0.9941 - val_loss: 0.1192 - val_accuracy: 0.9784\n",
            "Epoch 11/25\n",
            "1876/1876 [==============================] - 32s 17ms/step - loss: 0.0170 - accuracy: 0.9950 - val_loss: 0.1572 - val_accuracy: 0.9780\n",
            "Epoch 12/25\n",
            "1876/1876 [==============================] - 31s 17ms/step - loss: 0.0194 - accuracy: 0.9946 - val_loss: 0.1508 - val_accuracy: 0.9754\n",
            "Epoch 13/25\n",
            "1876/1876 [==============================] - 32s 17ms/step - loss: 0.0168 - accuracy: 0.9953 - val_loss: 0.1498 - val_accuracy: 0.9791\n",
            "Epoch 14/25\n",
            "1876/1876 [==============================] - 34s 18ms/step - loss: 0.0162 - accuracy: 0.9958 - val_loss: 0.1710 - val_accuracy: 0.9793\n",
            "Epoch 15/25\n",
            "1876/1876 [==============================] - 35s 18ms/step - loss: 0.0148 - accuracy: 0.9960 - val_loss: 0.1801 - val_accuracy: 0.9793\n",
            "Epoch 16/25\n",
            "1876/1876 [==============================] - 36s 19ms/step - loss: 0.0179 - accuracy: 0.9959 - val_loss: 0.2052 - val_accuracy: 0.9791\n",
            "Epoch 17/25\n",
            "1876/1876 [==============================] - 32s 17ms/step - loss: 0.0122 - accuracy: 0.9968 - val_loss: 0.1871 - val_accuracy: 0.9810\n",
            "Epoch 18/25\n",
            "1876/1876 [==============================] - 33s 18ms/step - loss: 0.0169 - accuracy: 0.9961 - val_loss: 0.2012 - val_accuracy: 0.9784\n",
            "Epoch 19/25\n",
            "1876/1876 [==============================] - 32s 17ms/step - loss: 0.0142 - accuracy: 0.9969 - val_loss: 0.2516 - val_accuracy: 0.9769\n",
            "Epoch 20/25\n",
            "1876/1876 [==============================] - 32s 17ms/step - loss: 0.0141 - accuracy: 0.9970 - val_loss: 0.2394 - val_accuracy: 0.9786\n",
            "Epoch 21/25\n",
            "1876/1876 [==============================] - 32s 17ms/step - loss: 0.0129 - accuracy: 0.9972 - val_loss: 0.1960 - val_accuracy: 0.9801\n",
            "Epoch 22/25\n",
            "1876/1876 [==============================] - 32s 17ms/step - loss: 0.0156 - accuracy: 0.9969 - val_loss: 0.2105 - val_accuracy: 0.9818\n",
            "Epoch 23/25\n",
            "1876/1876 [==============================] - 34s 18ms/step - loss: 0.0162 - accuracy: 0.9968 - val_loss: 0.2669 - val_accuracy: 0.9778\n",
            "Epoch 24/25\n",
            "1876/1876 [==============================] - 35s 19ms/step - loss: 0.0151 - accuracy: 0.9973 - val_loss: 0.2217 - val_accuracy: 0.9798\n",
            "Epoch 25/25\n",
            "1876/1876 [==============================] - 32s 17ms/step - loss: 0.0125 - accuracy: 0.9975 - val_loss: 0.2720 - val_accuracy: 0.9812\n"
          ]
        }
      ]
    },
    {
      "cell_type": "markdown",
      "source": [
        "**After 17 Epoch, We can see the validation accuracy has reached its peak of 98 percent then it decreases from that value**"
      ],
      "metadata": {
        "id": "b0DIw8NugsgD"
      }
    },
    {
      "cell_type": "code",
      "source": [
        "plt.plot(history.history['accuracy'], label='accuracy')\n",
        "plt.plot(history.history['val_accuracy'], label = 'val_accuracy')\n",
        "plt.xlabel('Epoch')\n",
        "plt.ylabel('Accuracy')\n",
        "plt.ylim([0.5, 1])\n",
        "plt.legend(loc='lower right')\n",
        "\n",
        "test_loss, test_acc = model.evaluate(x_test,  y_test, verbose=2)"
      ],
      "metadata": {
        "colab": {
          "base_uri": "https://localhost:8080/",
          "height": 473
        },
        "id": "OcwdPN22j3Fq",
        "outputId": "f3fbd7ac-f110-4dbb-f09b-23f3c51dc089"
      },
      "execution_count": 18,
      "outputs": [
        {
          "output_type": "stream",
          "name": "stdout",
          "text": [
            "313/313 - 1s - loss: 0.2720 - accuracy: 0.9812 - 1s/epoch - 4ms/step\n"
          ]
        },
        {
          "output_type": "display_data",
          "data": {
            "text/plain": [
              "<Figure size 640x480 with 1 Axes>"
            ],
            "image/png": "[encoded data removed]"
          },
          "metadata": {}
        }
      ]
    },
    {
      "cell_type": "code",
      "source": [
        "print(test_acc)"
      ],
      "metadata": {
        "colab": {
          "base_uri": "https://localhost:8080/"
        },
        "id": "2o0IS-6Fj5gT",
        "outputId": "179d7d0b-72b9-46ff-fb40-f14ae33626b3"
      },
      "execution_count": 19,
      "outputs": [
        {
          "output_type": "stream",
          "name": "stdout",
          "text": [
            "0.9811999797821045\n"
          ]
        }
      ]
    },
    {
      "cell_type": "code",
      "source": [
        "model = models.Sequential()\n",
        "model.add(layers.Conv2D(32, (3, 3), activation='relu', input_shape=(28, 28, 1)))\n",
        "model.add(layers.MaxPooling2D((2, 2)))\n",
        "model.add(layers.Conv2D(64, (3, 3), activation='relu'))\n",
        "model.add(layers.MaxPooling2D((2, 2)))\n",
        "model.add(layers.Conv2D(64, (3, 3), activation='relu'))\n",
        "model.add(layers.Flatten())\n",
        "model.add(layers.Dense(64, activation='relu'))\n",
        "model.add(layers.Dense(10))"
      ],
      "metadata": {
        "id": "igDZuIJCEKvI"
      },
      "execution_count": 20,
      "outputs": []
    },
    {
      "cell_type": "code",
      "source": [
        "model.summary()"
      ],
      "metadata": {
        "colab": {
          "base_uri": "https://localhost:8080/"
        },
        "id": "19TScrYkjyPI",
        "outputId": "ff1c1da5-cdb7-41cd-82f5-4079006d6246"
      },
      "execution_count": 21,
      "outputs": [
        {
          "output_type": "stream",
          "name": "stdout",
          "text": [
            "Model: \"sequential_2\"\n",
            "_________________________________________________________________\n",
            " Layer (type)                Output Shape              Param #   \n",
            "=================================================================\n",
            " conv2d_4 (Conv2D)           (None, 26, 26, 32)        320       \n",
            "                                                                 \n",
            " max_pooling2d_3 (MaxPoolin  (None, 13, 13, 32)        0         \n",
            " g2D)                                                            \n",
            "                                                                 \n",
            " conv2d_5 (Conv2D)           (None, 11, 11, 64)        18496     \n",
            "                                                                 \n",
            " max_pooling2d_4 (MaxPoolin  (None, 5, 5, 64)          0         \n",
            " g2D)                                                            \n",
            "                                                                 \n",
            " conv2d_6 (Conv2D)           (None, 3, 3, 64)          36928     \n",
            "                                                                 \n",
            " flatten_2 (Flatten)         (None, 576)               0         \n",
            "                                                                 \n",
            " dense_4 (Dense)             (None, 64)                36928     \n",
            "                                                                 \n",
            " dense_5 (Dense)             (None, 10)                650       \n",
            "                                                                 \n",
            "=================================================================\n",
            "Total params: 93322 (364.54 KB)\n",
            "Trainable params: 93322 (364.54 KB)\n",
            "Non-trainable params: 0 (0.00 Byte)\n",
            "_________________________________________________________________\n"
          ]
        }
      ]
    },
    {
      "cell_type": "code",
      "source": [
        "model.compile(optimizer='adam',\n",
        "              loss=tf.keras.losses.SparseCategoricalCrossentropy(from_logits=True),\n",
        "              metrics=['accuracy'])"
      ],
      "metadata": {
        "id": "YRuhCijxEKyL"
      },
      "execution_count": 22,
      "outputs": []
    },
    {
      "cell_type": "code",
      "source": [
        "history = model.fit(x_train, y_train, epochs=18,\n",
        "                    validation_data=(x_test, y_test))"
      ],
      "metadata": {
        "colab": {
          "base_uri": "https://localhost:8080/"
        },
        "id": "7GSC_uE4FwYm",
        "outputId": "14904dfe-fc3b-45f9-a33d-f1f3c4fdb202"
      },
      "execution_count": 23,
      "outputs": [
        {
          "output_type": "stream",
          "name": "stdout",
          "text": [
            "Epoch 1/18\n",
            "1876/1876 [==============================] - 59s 31ms/step - loss: 0.2130 - accuracy: 0.9483 - val_loss: 0.0624 - val_accuracy: 0.9801\n",
            "Epoch 2/18\n",
            "1876/1876 [==============================] - 59s 31ms/step - loss: 0.0596 - accuracy: 0.9823 - val_loss: 0.0502 - val_accuracy: 0.9845\n",
            "Epoch 3/18\n",
            "1876/1876 [==============================] - 58s 31ms/step - loss: 0.0495 - accuracy: 0.9849 - val_loss: 0.0480 - val_accuracy: 0.9868\n",
            "Epoch 4/18\n",
            "1876/1876 [==============================] - 58s 31ms/step - loss: 0.0429 - accuracy: 0.9869 - val_loss: 0.0393 - val_accuracy: 0.9886\n",
            "Epoch 5/18\n",
            "1876/1876 [==============================] - 60s 32ms/step - loss: 0.0360 - accuracy: 0.9886 - val_loss: 0.0330 - val_accuracy: 0.9898\n",
            "Epoch 6/18\n",
            "1876/1876 [==============================] - 59s 31ms/step - loss: 0.0297 - accuracy: 0.9909 - val_loss: 0.0459 - val_accuracy: 0.9883\n",
            "Epoch 7/18\n",
            "1876/1876 [==============================] - 66s 35ms/step - loss: 0.0277 - accuracy: 0.9912 - val_loss: 0.0553 - val_accuracy: 0.9871\n",
            "Epoch 8/18\n",
            "1876/1876 [==============================] - 57s 31ms/step - loss: 0.0284 - accuracy: 0.9918 - val_loss: 0.0561 - val_accuracy: 0.9875\n",
            "Epoch 9/18\n",
            "1876/1876 [==============================] - 57s 30ms/step - loss: 0.0245 - accuracy: 0.9928 - val_loss: 0.0517 - val_accuracy: 0.9879\n",
            "Epoch 10/18\n",
            "1876/1876 [==============================] - 64s 34ms/step - loss: 0.0227 - accuracy: 0.9933 - val_loss: 0.0419 - val_accuracy: 0.9899\n",
            "Epoch 11/18\n",
            "1876/1876 [==============================] - 60s 32ms/step - loss: 0.0190 - accuracy: 0.9943 - val_loss: 0.0632 - val_accuracy: 0.9870\n",
            "Epoch 12/18\n",
            "1876/1876 [==============================] - 58s 31ms/step - loss: 0.0226 - accuracy: 0.9934 - val_loss: 0.0623 - val_accuracy: 0.9863\n",
            "Epoch 13/18\n",
            "1876/1876 [==============================] - 54s 29ms/step - loss: 0.0210 - accuracy: 0.9944 - val_loss: 0.0665 - val_accuracy: 0.9865\n",
            "Epoch 14/18\n",
            "1876/1876 [==============================] - 56s 30ms/step - loss: 0.0196 - accuracy: 0.9944 - val_loss: 0.0617 - val_accuracy: 0.9876\n",
            "Epoch 15/18\n",
            "1876/1876 [==============================] - 58s 31ms/step - loss: 0.0167 - accuracy: 0.9953 - val_loss: 0.0738 - val_accuracy: 0.9881\n",
            "Epoch 16/18\n",
            "1876/1876 [==============================] - 57s 30ms/step - loss: 0.0194 - accuracy: 0.9951 - val_loss: 0.0625 - val_accuracy: 0.9883\n",
            "Epoch 17/18\n",
            "1876/1876 [==============================] - 57s 30ms/step - loss: 0.0171 - accuracy: 0.9954 - val_loss: 0.0651 - val_accuracy: 0.9883\n",
            "Epoch 18/18\n",
            "1876/1876 [==============================] - 62s 33ms/step - loss: 0.0223 - accuracy: 0.9945 - val_loss: 0.0561 - val_accuracy: 0.9887\n"
          ]
        }
      ]
    },
    {
      "cell_type": "markdown",
      "source": [
        "**After 11 Epoch,We can see the validation accuracy has reached its peak of 98.9 percent then it decreases from that value**"
      ],
      "metadata": {
        "id": "Rv8nMpJIhC0Z"
      }
    },
    {
      "cell_type": "code",
      "source": [
        "plt.plot(history.history['accuracy'], label='accuracy')\n",
        "plt.plot(history.history['val_accuracy'], label = 'val_accuracy')\n",
        "plt.xlabel('Epoch')\n",
        "plt.ylabel('Accuracy')\n",
        "plt.ylim([0.5, 1])\n",
        "plt.legend(loc='lower right')\n",
        "\n",
        "test_loss, test_acc = model.evaluate(x_test,  y_test, verbose=2)"
      ],
      "metadata": {
        "colab": {
          "base_uri": "https://localhost:8080/",
          "height": 473
        },
        "id": "Z1jtK-YZHVxl",
        "outputId": "30f68784-55df-429c-cbf9-18cb90c4fc81"
      },
      "execution_count": 24,
      "outputs": [
        {
          "output_type": "stream",
          "name": "stdout",
          "text": [
            "313/313 - 3s - loss: 0.0561 - accuracy: 0.9887 - 3s/epoch - 9ms/step\n"
          ]
        },
        {
          "output_type": "display_data",
          "data": {
            "text/plain": [
              "<Figure size 640x480 with 1 Axes>"
            ],
            "image/png": "[encoded data removed]"
          },
          "metadata": {}
        }
      ]
    },
    {
      "cell_type": "code",
      "source": [
        "print(test_acc)"
      ],
      "metadata": {
        "colab": {
          "base_uri": "https://localhost:8080/"
        },
        "id": "wc8EqnGcHV81",
        "outputId": "09919133-e27c-464e-b9ce-12250cf879fd"
      },
      "execution_count": 25,
      "outputs": [
        {
          "output_type": "stream",
          "name": "stdout",
          "text": [
            "0.9886999726295471\n"
          ]
        }
      ]
    },
    {
      "cell_type": "markdown",
      "source": [
        "**Experiment with Different Configurationst**"
      ],
      "metadata": {
        "id": "KXhOWbtHF07R"
      }
    },
    {
      "cell_type": "markdown",
      "source": [
        "**Model - 1**"
      ],
      "metadata": {
        "id": "ifmNHVX8F6jY"
      }
    },
    {
      "cell_type": "code",
      "source": [
        "model = models.Sequential()\n",
        "model.add(layers.Conv2D(32, (3, 3), activation='relu', input_shape=(28, 28, 1)))\n",
        "model.add(layers.MaxPooling2D((2, 2)))\n",
        "model.add(layers.Flatten())\n",
        "model.add(layers.Dense(64, activation='relu'))\n",
        "model.add(layers.Dense(10))"
      ],
      "metadata": {
        "id": "t7RGdx2JF0fP"
      },
      "execution_count": 26,
      "outputs": []
    },
    {
      "cell_type": "code",
      "source": [
        "model.summary()"
      ],
      "metadata": {
        "id": "0owoll-WF0h1",
        "colab": {
          "base_uri": "https://localhost:8080/"
        },
        "outputId": "d9ff63d6-3480-40cc-aa6d-217e7dce2424"
      },
      "execution_count": 27,
      "outputs": [
        {
          "output_type": "stream",
          "name": "stdout",
          "text": [
            "Model: \"sequential_3\"\n",
            "_________________________________________________________________\n",
            " Layer (type)                Output Shape              Param #   \n",
            "=================================================================\n",
            " conv2d_7 (Conv2D)           (None, 26, 26, 32)        320       \n",
            "                                                                 \n",
            " max_pooling2d_5 (MaxPoolin  (None, 13, 13, 32)        0         \n",
            " g2D)                                                            \n",
            "                                                                 \n",
            " flatten_3 (Flatten)         (None, 5408)              0         \n",
            "                                                                 \n",
            " dense_6 (Dense)             (None, 64)                346176    \n",
            "                                                                 \n",
            " dense_7 (Dense)             (None, 10)                650       \n",
            "                                                                 \n",
            "=================================================================\n",
            "Total params: 347146 (1.32 MB)\n",
            "Trainable params: 347146 (1.32 MB)\n",
            "Non-trainable params: 0 (0.00 Byte)\n",
            "_________________________________________________________________\n"
          ]
        }
      ]
    },
    {
      "cell_type": "code",
      "source": [
        "model.compile(optimizer='adam',\n",
        "              loss=tf.keras.losses.SparseCategoricalCrossentropy(from_logits=True),\n",
        "              metrics=['accuracy'])"
      ],
      "metadata": {
        "id": "4fjf5EOwFwbf"
      },
      "execution_count": 28,
      "outputs": []
    },
    {
      "cell_type": "code",
      "source": [
        "history = model.fit(x_train, y_train, epochs=10,\n",
        "                    validation_data=(x_test, y_test))"
      ],
      "metadata": {
        "id": "2MKHKSlPFweI",
        "colab": {
          "base_uri": "https://localhost:8080/"
        },
        "outputId": "b6c58692-f439-485a-b2b2-51de58ec9cd4"
      },
      "execution_count": 29,
      "outputs": [
        {
          "output_type": "stream",
          "name": "stdout",
          "text": [
            "Epoch 1/10\n",
            "1876/1876 [==============================] - 38s 19ms/step - loss: 0.5261 - accuracy: 0.9003 - val_loss: 0.1254 - val_accuracy: 0.9680\n",
            "Epoch 2/10\n",
            "1876/1876 [==============================] - 36s 19ms/step - loss: 0.0987 - accuracy: 0.9718 - val_loss: 0.0969 - val_accuracy: 0.9739\n",
            "Epoch 3/10\n",
            "1876/1876 [==============================] - 32s 17ms/step - loss: 0.0672 - accuracy: 0.9799 - val_loss: 0.0898 - val_accuracy: 0.9775\n",
            "Epoch 4/10\n",
            "1876/1876 [==============================] - 33s 18ms/step - loss: 0.0538 - accuracy: 0.9834 - val_loss: 0.0903 - val_accuracy: 0.9769\n",
            "Epoch 5/10\n",
            "1876/1876 [==============================] - 31s 17ms/step - loss: 0.0433 - accuracy: 0.9865 - val_loss: 0.1094 - val_accuracy: 0.9734\n",
            "Epoch 6/10\n",
            "1876/1876 [==============================] - 32s 17ms/step - loss: 0.0347 - accuracy: 0.9890 - val_loss: 0.0901 - val_accuracy: 0.9779\n",
            "Epoch 7/10\n",
            "1876/1876 [==============================] - 32s 17ms/step - loss: 0.0293 - accuracy: 0.9909 - val_loss: 0.1006 - val_accuracy: 0.9789\n",
            "Epoch 8/10\n",
            "1876/1876 [==============================] - 32s 17ms/step - loss: 0.0267 - accuracy: 0.9918 - val_loss: 0.0967 - val_accuracy: 0.9786\n",
            "Epoch 9/10\n",
            "1876/1876 [==============================] - 35s 19ms/step - loss: 0.0235 - accuracy: 0.9926 - val_loss: 0.1110 - val_accuracy: 0.9775\n",
            "Epoch 10/10\n",
            "1876/1876 [==============================] - 33s 18ms/step - loss: 0.0190 - accuracy: 0.9942 - val_loss: 0.1125 - val_accuracy: 0.9783\n"
          ]
        }
      ]
    },
    {
      "cell_type": "markdown",
      "source": [
        "**Curve - 1**"
      ],
      "metadata": {
        "id": "KavltEi3V27C"
      }
    },
    {
      "cell_type": "code",
      "source": [
        "plt.plot(history.history['accuracy'], label='accuracy')\n",
        "plt.plot(history.history['val_accuracy'], label = 'val_accuracy')\n",
        "plt.xlabel('Epoch')\n",
        "plt.ylabel('Accuracy')\n",
        "plt.ylim([0.5, 1])\n",
        "plt.legend(loc='lower right')\n",
        "\n",
        "test_loss, test_acc = model.evaluate(x_test,  y_test, verbose=2)"
      ],
      "metadata": {
        "id": "Ko1PWHavEK1A",
        "colab": {
          "base_uri": "https://localhost:8080/",
          "height": 473
        },
        "outputId": "66b368e5-2047-420e-c625-6556a801d316"
      },
      "execution_count": 30,
      "outputs": [
        {
          "output_type": "stream",
          "name": "stdout",
          "text": [
            "313/313 - 1s - loss: 0.1125 - accuracy: 0.9783 - 1s/epoch - 4ms/step\n"
          ]
        },
        {
          "output_type": "display_data",
          "data": {
            "text/plain": [
              "<Figure size 640x480 with 1 Axes>"
            ],
            "image/png": "[encoded data removed]"
          },
          "metadata": {}
        }
      ]
    },
    {
      "cell_type": "code",
      "source": [
        "print(test_acc)"
      ],
      "metadata": {
        "id": "mrpwLKEPHyXF",
        "colab": {
          "base_uri": "https://localhost:8080/"
        },
        "outputId": "3dcefa4b-101e-4edc-c3ac-8d46dc46c9c8"
      },
      "execution_count": 31,
      "outputs": [
        {
          "output_type": "stream",
          "name": "stdout",
          "text": [
            "0.9782999753952026\n"
          ]
        }
      ]
    },
    {
      "cell_type": "markdown",
      "source": [
        "**Model - 2**"
      ],
      "metadata": {
        "id": "XSXmQjP4GN2Q"
      }
    },
    {
      "cell_type": "code",
      "source": [
        "model = models.Sequential()\n",
        "model.add(layers.Conv2D(32, (3, 3), activation='relu', input_shape=(28, 28, 1)))\n",
        "model.add(layers.MaxPooling2D((2, 2)))\n",
        "model.add(layers.Conv2D(64, (3, 3), activation='relu'))\n",
        "model.add(layers.Flatten())\n",
        "model.add(layers.Dense(64, activation='relu'))\n",
        "model.add(layers.Dense(10))"
      ],
      "metadata": {
        "id": "-FaS51XIGNgM"
      },
      "execution_count": 32,
      "outputs": []
    },
    {
      "cell_type": "code",
      "source": [
        "model.summary()"
      ],
      "metadata": {
        "id": "loaFO4YXEK4E",
        "colab": {
          "base_uri": "https://localhost:8080/"
        },
        "outputId": "1443a2d6-3522-407b-e935-b9b74c347412"
      },
      "execution_count": 33,
      "outputs": [
        {
          "output_type": "stream",
          "name": "stdout",
          "text": [
            "Model: \"sequential_4\"\n",
            "_________________________________________________________________\n",
            " Layer (type)                Output Shape              Param #   \n",
            "=================================================================\n",
            " conv2d_8 (Conv2D)           (None, 26, 26, 32)        320       \n",
            "                                                                 \n",
            " max_pooling2d_6 (MaxPoolin  (None, 13, 13, 32)        0         \n",
            " g2D)                                                            \n",
            "                                                                 \n",
            " conv2d_9 (Conv2D)           (None, 11, 11, 64)        18496     \n",
            "                                                                 \n",
            " flatten_4 (Flatten)         (None, 7744)              0         \n",
            "                                                                 \n",
            " dense_8 (Dense)             (None, 64)                495680    \n",
            "                                                                 \n",
            " dense_9 (Dense)             (None, 10)                650       \n",
            "                                                                 \n",
            "=================================================================\n",
            "Total params: 515146 (1.97 MB)\n",
            "Trainable params: 515146 (1.97 MB)\n",
            "Non-trainable params: 0 (0.00 Byte)\n",
            "_________________________________________________________________\n"
          ]
        }
      ]
    },
    {
      "cell_type": "code",
      "source": [
        "model.compile(optimizer='adam',\n",
        "              loss=tf.keras.losses.SparseCategoricalCrossentropy(from_logits=True),\n",
        "              metrics=['accuracy'])"
      ],
      "metadata": {
        "id": "8Zl0Gz5DGM-3"
      },
      "execution_count": 34,
      "outputs": []
    },
    {
      "cell_type": "code",
      "source": [
        "history = model.fit(x_train, y_train, epochs=10,\n",
        "                    validation_data=(x_test, y_test))"
      ],
      "metadata": {
        "id": "6W5E-0ZLEK6y",
        "colab": {
          "base_uri": "https://localhost:8080/"
        },
        "outputId": "99cd565d-dbfa-4701-aa3a-1e26074b04fc"
      },
      "execution_count": 35,
      "outputs": [
        {
          "output_type": "stream",
          "name": "stdout",
          "text": [
            "Epoch 1/10\n",
            "1876/1876 [==============================] - 62s 33ms/step - loss: 0.2841 - accuracy: 0.9524 - val_loss: 0.0923 - val_accuracy: 0.9716\n",
            "Epoch 2/10\n",
            "1876/1876 [==============================] - 59s 32ms/step - loss: 0.0653 - accuracy: 0.9805 - val_loss: 0.0655 - val_accuracy: 0.9797\n",
            "Epoch 3/10\n",
            "1876/1876 [==============================] - 64s 34ms/step - loss: 0.0490 - accuracy: 0.9846 - val_loss: 0.0610 - val_accuracy: 0.9824\n",
            "Epoch 4/10\n",
            "1876/1876 [==============================] - 59s 32ms/step - loss: 0.0392 - accuracy: 0.9876 - val_loss: 0.0591 - val_accuracy: 0.9836\n",
            "Epoch 5/10\n",
            "1876/1876 [==============================] - 61s 32ms/step - loss: 0.0331 - accuracy: 0.9892 - val_loss: 0.0552 - val_accuracy: 0.9854\n",
            "Epoch 6/10\n",
            "1876/1876 [==============================] - 59s 32ms/step - loss: 0.0264 - accuracy: 0.9917 - val_loss: 0.0702 - val_accuracy: 0.9842\n",
            "Epoch 7/10\n",
            "1876/1876 [==============================] - 63s 34ms/step - loss: 0.0253 - accuracy: 0.9926 - val_loss: 0.0599 - val_accuracy: 0.9852\n",
            "Epoch 8/10\n",
            "1876/1876 [==============================] - 62s 33ms/step - loss: 0.0224 - accuracy: 0.9936 - val_loss: 0.0775 - val_accuracy: 0.9826\n",
            "Epoch 9/10\n",
            "1876/1876 [==============================] - 61s 32ms/step - loss: 0.0194 - accuracy: 0.9943 - val_loss: 0.0746 - val_accuracy: 0.9851\n",
            "Epoch 10/10\n",
            "1876/1876 [==============================] - 62s 33ms/step - loss: 0.0194 - accuracy: 0.9944 - val_loss: 0.1018 - val_accuracy: 0.9828\n"
          ]
        }
      ]
    },
    {
      "cell_type": "markdown",
      "source": [
        "**Curve - 2**"
      ],
      "metadata": {
        "id": "uXYVys2YV7Fv"
      }
    },
    {
      "cell_type": "code",
      "source": [
        "plt.plot(history.history['accuracy'], label='accuracy')\n",
        "plt.plot(history.history['val_accuracy'], label = 'val_accuracy')\n",
        "plt.xlabel('Epoch')\n",
        "plt.ylabel('Accuracy')\n",
        "plt.ylim([0.5, 1])\n",
        "plt.legend(loc='lower right')\n",
        "\n",
        "test_loss, test_acc = model.evaluate(x_test,  y_test, verbose=2)"
      ],
      "metadata": {
        "id": "CHvryMakEK93",
        "colab": {
          "base_uri": "https://localhost:8080/",
          "height": 473
        },
        "outputId": "bdb10e3e-dc30-4373-cd54-dd443fd68a89"
      },
      "execution_count": 36,
      "outputs": [
        {
          "output_type": "stream",
          "name": "stdout",
          "text": [
            "313/313 - 4s - loss: 0.1018 - accuracy: 0.9828 - 4s/epoch - 13ms/step\n"
          ]
        },
        {
          "output_type": "display_data",
          "data": {
            "text/plain": [
              "<Figure size 640x480 with 1 Axes>"
            ],
            "image/png": "[encoded data removed]"
          },
          "metadata": {}
        }
      ]
    },
    {
      "cell_type": "code",
      "source": [
        "print(test_acc)"
      ],
      "metadata": {
        "id": "EWBZPxt-H0Ho",
        "colab": {
          "base_uri": "https://localhost:8080/"
        },
        "outputId": "b121f958-bbdf-4158-bd0f-4d12505c776f"
      },
      "execution_count": 37,
      "outputs": [
        {
          "output_type": "stream",
          "name": "stdout",
          "text": [
            "0.9828000068664551\n"
          ]
        }
      ]
    },
    {
      "cell_type": "markdown",
      "source": [
        "**Model - 3**"
      ],
      "metadata": {
        "id": "Fj5HdzN-hdG-"
      }
    },
    {
      "cell_type": "code",
      "source": [
        "model = models.Sequential()\n",
        "model.add(layers.Conv2D(32, (3, 3), activation='relu', input_shape=(28, 28, 1)))\n",
        "model.add(layers.MaxPooling2D((2, 2)))\n",
        "model.add(layers.Conv2D(64, (3, 3), activation='relu'))\n",
        "model.add(layers.MaxPooling2D((2, 2)))\n",
        "model.add(layers.Conv2D(64, (3, 3), activation='relu'))\n",
        "model.add(layers.Flatten())\n",
        "model.add(layers.Dense(64, activation='relu'))\n",
        "model.add(layers.Dense(10))"
      ],
      "metadata": {
        "id": "c2v3h3dphcqi"
      },
      "execution_count": 38,
      "outputs": []
    },
    {
      "cell_type": "code",
      "source": [
        "model.summary()"
      ],
      "metadata": {
        "colab": {
          "base_uri": "https://localhost:8080/"
        },
        "id": "HkT_AWL0hctU",
        "outputId": "ac542136-26eb-48ed-d787-ea6b80921720"
      },
      "execution_count": 39,
      "outputs": [
        {
          "output_type": "stream",
          "name": "stdout",
          "text": [
            "Model: \"sequential_5\"\n",
            "_________________________________________________________________\n",
            " Layer (type)                Output Shape              Param #   \n",
            "=================================================================\n",
            " conv2d_10 (Conv2D)          (None, 26, 26, 32)        320       \n",
            "                                                                 \n",
            " max_pooling2d_7 (MaxPoolin  (None, 13, 13, 32)        0         \n",
            " g2D)                                                            \n",
            "                                                                 \n",
            " conv2d_11 (Conv2D)          (None, 11, 11, 64)        18496     \n",
            "                                                                 \n",
            " max_pooling2d_8 (MaxPoolin  (None, 5, 5, 64)          0         \n",
            " g2D)                                                            \n",
            "                                                                 \n",
            " conv2d_12 (Conv2D)          (None, 3, 3, 64)          36928     \n",
            "                                                                 \n",
            " flatten_5 (Flatten)         (None, 576)               0         \n",
            "                                                                 \n",
            " dense_10 (Dense)            (None, 64)                36928     \n",
            "                                                                 \n",
            " dense_11 (Dense)            (None, 10)                650       \n",
            "                                                                 \n",
            "=================================================================\n",
            "Total params: 93322 (364.54 KB)\n",
            "Trainable params: 93322 (364.54 KB)\n",
            "Non-trainable params: 0 (0.00 Byte)\n",
            "_________________________________________________________________\n"
          ]
        }
      ]
    },
    {
      "cell_type": "code",
      "source": [
        "model.compile(optimizer='adam',\n",
        "              loss=tf.keras.losses.SparseCategoricalCrossentropy(from_logits=True),\n",
        "              metrics=['accuracy'])"
      ],
      "metadata": {
        "id": "jtw9aDnbhb1i"
      },
      "execution_count": 40,
      "outputs": []
    },
    {
      "cell_type": "code",
      "source": [
        "history = model.fit(x_train, y_train, epochs=10,\n",
        "                    validation_data=(x_test, y_test))"
      ],
      "metadata": {
        "colab": {
          "base_uri": "https://localhost:8080/"
        },
        "id": "vXDH16kwhb5T",
        "outputId": "003a36fb-fb95-4520-dfc7-9ec5cd43ce14"
      },
      "execution_count": 41,
      "outputs": [
        {
          "output_type": "stream",
          "name": "stdout",
          "text": [
            "Epoch 1/10\n",
            "1876/1876 [==============================] - 61s 32ms/step - loss: 0.2309 - accuracy: 0.9446 - val_loss: 0.0620 - val_accuracy: 0.9803\n",
            "Epoch 2/10\n",
            "1876/1876 [==============================] - 58s 31ms/step - loss: 0.0674 - accuracy: 0.9796 - val_loss: 0.0490 - val_accuracy: 0.9855\n",
            "Epoch 3/10\n",
            "1876/1876 [==============================] - 59s 31ms/step - loss: 0.0515 - accuracy: 0.9845 - val_loss: 0.0779 - val_accuracy: 0.9767\n",
            "Epoch 4/10\n",
            "1876/1876 [==============================] - 59s 31ms/step - loss: 0.0466 - accuracy: 0.9856 - val_loss: 0.0466 - val_accuracy: 0.9859\n",
            "Epoch 5/10\n",
            "1876/1876 [==============================] - 57s 30ms/step - loss: 0.0395 - accuracy: 0.9877 - val_loss: 0.0499 - val_accuracy: 0.9857\n",
            "Epoch 6/10\n",
            "1876/1876 [==============================] - 56s 30ms/step - loss: 0.0346 - accuracy: 0.9897 - val_loss: 0.0483 - val_accuracy: 0.9877\n",
            "Epoch 7/10\n",
            "1876/1876 [==============================] - 57s 30ms/step - loss: 0.0310 - accuracy: 0.9906 - val_loss: 0.0434 - val_accuracy: 0.9874\n",
            "Epoch 8/10\n",
            "1876/1876 [==============================] - 59s 31ms/step - loss: 0.0268 - accuracy: 0.9919 - val_loss: 0.0552 - val_accuracy: 0.9867\n",
            "Epoch 9/10\n",
            "1876/1876 [==============================] - 59s 31ms/step - loss: 0.0255 - accuracy: 0.9921 - val_loss: 0.0416 - val_accuracy: 0.9901\n",
            "Epoch 10/10\n",
            "1876/1876 [==============================] - 57s 30ms/step - loss: 0.0229 - accuracy: 0.9931 - val_loss: 0.0537 - val_accuracy: 0.9893\n"
          ]
        }
      ]
    },
    {
      "cell_type": "markdown",
      "source": [
        "**Curve - 3**"
      ],
      "metadata": {
        "id": "CbLem_miV_Ad"
      }
    },
    {
      "cell_type": "code",
      "source": [
        "plt.plot(history.history['accuracy'], label='accuracy')\n",
        "plt.plot(history.history['val_accuracy'], label = 'val_accuracy')\n",
        "plt.xlabel('Epoch')\n",
        "plt.ylabel('Accuracy')\n",
        "plt.ylim([0.5, 1])\n",
        "plt.legend(loc='lower right')\n",
        "\n",
        "test_loss, test_acc = model.evaluate(x_test,  y_test, verbose=2)"
      ],
      "metadata": {
        "colab": {
          "base_uri": "https://localhost:8080/",
          "height": 473
        },
        "id": "QicRAsvKhb8h",
        "outputId": "d7619e99-8c46-45ce-a412-28c838742f9f"
      },
      "execution_count": 42,
      "outputs": [
        {
          "output_type": "stream",
          "name": "stdout",
          "text": [
            "313/313 - 2s - loss: 0.0537 - accuracy: 0.9893 - 2s/epoch - 7ms/step\n"
          ]
        },
        {
          "output_type": "display_data",
          "data": {
            "text/plain": [
              "<Figure size 640x480 with 1 Axes>"
            ],
            "image/png": "[encoded data removed]"
          },
          "metadata": {}
        }
      ]
    },
    {
      "cell_type": "code",
      "source": [
        "print(test_acc)"
      ],
      "metadata": {
        "colab": {
          "base_uri": "https://localhost:8080/"
        },
        "id": "2qkU4Aayhb_o",
        "outputId": "f9060cdd-4a1d-463d-a601-f51299adb077"
      },
      "execution_count": 43,
      "outputs": [
        {
          "output_type": "stream",
          "name": "stdout",
          "text": [
            "0.989300012588501\n"
          ]
        }
      ]
    },
    {
      "cell_type": "markdown",
      "source": [
        "**Create a Custom Test Set**"
      ],
      "metadata": {
        "id": "znOR28CiG1fn"
      }
    },
    {
      "cell_type": "code",
      "source": [
        "custom_test_images = []\n",
        "custom_test_labels = []\n",
        "folder_path = '/content/drive/MyDrive/TME_6015/Assignment_1_Custom_Test_Data'\n",
        "for filename in os.listdir(folder_path):\n",
        "  print('filename : ', filename)\n",
        "  if filename.endswith('.png') or filename.endswith('.PNG') or filename.endswith('.JPG') or filename.endswith('.jpg') or filename.endswith('.JPEG') or filename.endswith('.jpeg'):\n",
        "    img_path = os.path.join(folder_path, filename)\n",
        "    img = Image.open(img_path).convert('L')\n",
        "    img = img.resize((28, 28))\n",
        "    threshold = 100\n",
        "    img = img.point(lambda p: p > threshold and 255)\n",
        "    img_array = np.array(img)\n",
        "    custom_test_images.append(img_array)\n",
        "    custom_test_labels.append(int(filename[0]))\n",
        "\n",
        "# Convert the list of custom images and labels to numpy arrays\n",
        "custom_test_images = np.array(custom_test_images)\n",
        "custom_test_labels = np.array(custom_test_labels)\n"
      ],
      "metadata": {
        "colab": {
          "base_uri": "https://localhost:8080/"
        },
        "id": "5NWs5ij9KDyC",
        "outputId": "df39432f-051a-4606-d002-09679b1fa8d3"
      },
      "execution_count": 44,
      "outputs": [
        {
          "output_type": "stream",
          "name": "stdout",
          "text": [
            "filename :  1.png\n",
            "filename :  2.png\n",
            "filename :  3.png\n",
            "filename :  4.png\n",
            "filename :  5.png\n",
            "filename :  6.png\n",
            "filename :  7.png\n",
            "filename :  8.png\n",
            "filename :  9.png\n",
            "filename :  0.png\n"
          ]
        }
      ]
    },
    {
      "cell_type": "code",
      "source": [
        "plt.figure(figsize=(14,14))\n",
        "for i in range(10):\n",
        "    plt.subplot(2,5,i+1)\n",
        "    plt.xticks([])\n",
        "    plt.yticks([])\n",
        "    plt.grid(False)\n",
        "    plt.imshow(custom_test_images[i])\n",
        "    plt.xlabel(custom_test_labels[i])\n",
        "plt.show()"
      ],
      "metadata": {
        "colab": {
          "base_uri": "https://localhost:8080/",
          "height": 831
        },
        "id": "tvUXAlqAlEnB",
        "outputId": "eca59292-dede-459a-9188-060a23f7079a"
      },
      "execution_count": 45,
      "outputs": [
        {
          "output_type": "display_data",
          "data": {
            "text/plain": [
              "<Figure size 1400x1400 with 10 Axes>"
            ],
            "image/png": "[encoded data removed]"
          },
          "metadata": {}
        }
      ]
    },
    {
      "cell_type": "code",
      "source": [
        "custom_test_labels, len(custom_test_labels)"
      ],
      "metadata": {
        "colab": {
          "base_uri": "https://localhost:8080/"
        },
        "id": "Psh4glGHSmNp",
        "outputId": "d3567dc1-0e9a-4990-9c6f-815ac80f0570"
      },
      "execution_count": 46,
      "outputs": [
        {
          "output_type": "execute_result",
          "data": {
            "text/plain": [
              "(array([1, 2, 3, 4, 5, 6, 7, 8, 9, 0]), 10)"
            ]
          },
          "metadata": {},
          "execution_count": 46
        }
      ]
    },
    {
      "cell_type": "code",
      "source": [
        "custom_test_pred=model.predict(custom_test_images)"
      ],
      "metadata": {
        "colab": {
          "base_uri": "https://localhost:8080/"
        },
        "id": "end2cRAwG0xG",
        "outputId": "0ab7792f-45f3-47b5-9c08-9e129cc65186"
      },
      "execution_count": 47,
      "outputs": [
        {
          "output_type": "stream",
          "name": "stdout",
          "text": [
            "1/1 [==============================] - 0s 123ms/step\n"
          ]
        }
      ]
    },
    {
      "cell_type": "code",
      "source": [
        "custom_test_pred[0]"
      ],
      "metadata": {
        "colab": {
          "base_uri": "https://localhost:8080/"
        },
        "id": "cfvH-2kESpmP",
        "outputId": "6b8cbea2-2d45-47ad-f12d-827dcf7a35b2"
      },
      "execution_count": 48,
      "outputs": [
        {
          "output_type": "execute_result",
          "data": {
            "text/plain": [
              "array([ 1.8333828e+00, -2.8141439e-03,  1.1896887e+00, -1.6005188e+00,\n",
              "       -8.4234840e-01, -6.5162450e-01, -2.8606820e+00,  1.0017333e+00,\n",
              "        7.5910008e-01,  1.2536244e+00], dtype=float32)"
            ]
          },
          "metadata": {},
          "execution_count": 48
        }
      ]
    },
    {
      "cell_type": "code",
      "source": [
        "custom_test_pred=list(map(lambda p: np.argmax(p), custom_test_pred))"
      ],
      "metadata": {
        "id": "AMRM_vljLYHx"
      },
      "execution_count": 49,
      "outputs": []
    },
    {
      "cell_type": "code",
      "source": [
        "for i in range(len(custom_test_pred)):\n",
        "  print(custom_test_labels[i],custom_test_pred[i])"
      ],
      "metadata": {
        "colab": {
          "base_uri": "https://localhost:8080/"
        },
        "id": "kAsoGZVLG00U",
        "outputId": "b5e35e45-ce30-4fce-d54d-16695a18b07a"
      },
      "execution_count": 50,
      "outputs": [
        {
          "output_type": "stream",
          "name": "stdout",
          "text": [
            "1 0\n",
            "2 2\n",
            "3 9\n",
            "4 9\n",
            "5 9\n",
            "6 7\n",
            "7 7\n",
            "8 7\n",
            "9 2\n",
            "0 0\n"
          ]
        }
      ]
    },
    {
      "cell_type": "code",
      "source": [
        "print(accuracy_score(custom_test_labels, custom_test_pred)*100)"
      ],
      "metadata": {
        "id": "g8KctYqzS23s",
        "colab": {
          "base_uri": "https://localhost:8080/"
        },
        "outputId": "1af7cd97-afc2-42b9-a23c-c3dc716afc20"
      },
      "execution_count": 51,
      "outputs": [
        {
          "output_type": "stream",
          "name": "stdout",
          "text": [
            "30.0\n"
          ]
        }
      ]
    },
    {
      "cell_type": "code",
      "source": [],
      "metadata": {
        "id": "Ou7BfwV6oKZ0"
      },
      "execution_count": null,
      "outputs": []
    }
  ]
}
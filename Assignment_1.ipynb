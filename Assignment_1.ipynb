{
  "nbformat": 4,
  "nbformat_minor": 0,
  "metadata": {
    "colab": {
      "provenance": [],
      "mount_file_id": "https://github.com/lazy-wolf/python-class-notes/blob/main/Assignment_1.ipynb",
      "authorship_tag": "ABX9TyOwyk9R/IXq00U1HqWP7jjK",
      "include_colab_link": true
    },
    "kernelspec": {
      "name": "python3",
      "display_name": "Python 3"
    },
    "language_info": {
      "name": "python"
    }
  },
  "cells": [
    {
      "cell_type": "markdown",
      "metadata": {
        "id": "view-in-github",
        "colab_type": "text"
      },
      "source": [
        "<a href=\"https://colab.research.google.com/github/lazy-wolf/python-class-notes/blob/main/Assignment_1.ipynb\" target=\"_parent\"><img src=\"https://colab.research.google.com/assets/colab-badge.svg\" alt=\"Open In Colab\"/></a>"
      ]
    },
    {
      "cell_type": "markdown",
      "source": [
        "**Assignment 1**\n",
        "\n",
        "```\n",
        "# Authoured by: Wasim Dawood Shaik\n",
        "# UNB ID: 3744476\n",
        "# Date: 05-10-2023\n",
        "```\n",
        "\n",
        "\n",
        "\n",
        "\n",
        "\n",
        "\n"
      ],
      "metadata": {
        "id": "k0nOtwwGADuE"
      }
    },
    {
      "cell_type": "markdown",
      "source": [
        "**Import Libraries**"
      ],
      "metadata": {
        "id": "t8WA2nfmBBdR"
      }
    },
    {
      "cell_type": "code",
      "source": [
        "import tensorflow as tf\n",
        "from tensorflow.keras.datasets import mnist\n",
        "from tensorflow.keras.preprocessing import image\n",
        "import numpy as np\n",
        "import os\n",
        "from PIL import Image, ImageFilter\n",
        "import matplotlib.pyplot as plt\n",
        "from tensorflow.keras import datasets, layers, models\n",
        "from google.colab import drive\n",
        "from sklearn.metrics import accuracy_score"
      ],
      "metadata": {
        "id": "zUqYg_Da__iW"
      },
      "execution_count": 1,
      "outputs": []
    },
    {
      "cell_type": "markdown",
      "source": [
        "**Mounting Google Drive in Google Colab**"
      ],
      "metadata": {
        "id": "is4L7LwCBNE2"
      }
    },
    {
      "cell_type": "code",
      "source": [
        "drive.mount('/content/drive', force_remount=True)"
      ],
      "metadata": {
        "colab": {
          "base_uri": "https://localhost:8080/"
        },
        "id": "FYVQD5vMBJ8R",
        "outputId": "f57a31ba-2e32-4eda-a4b5-155f53bacbe5"
      },
      "execution_count": 52,
      "outputs": [
        {
          "output_type": "stream",
          "name": "stdout",
          "text": [
            "Mounted at /content/drive\n"
          ]
        }
      ]
    },
    {
      "cell_type": "markdown",
      "source": [
        "**Load custom images from Google Drive**"
      ],
      "metadata": {
        "id": "BNaxWUOoB3R1"
      }
    },
    {
      "cell_type": "code",
      "source": [
        "# Load custom images from Google Drive\n",
        "custom_images = []\n",
        "custom_labels = []\n",
        "base_folder_path = '/content/drive/MyDrive/TME_6015/Assignment_1'\n",
        "for folder_name in os.listdir(base_folder_path):\n",
        "    folder_path = os.path.join(base_folder_path, folder_name)\n",
        "    print(folder_path)\n",
        "    if os.path.isdir(folder_path):\n",
        "        for filename in os.listdir(folder_path):\n",
        "          print('filename', filename)\n",
        "          if filename.endswith('.png') or filename.endswith('.PNG') or filename.endswith('.JPG') or filename.endswith('.jpg'):\n",
        "              img_path = os.path.join(folder_path, filename)\n",
        "              img = Image.open(img_path).convert('L')  # convert image to grayscale\n",
        "              img = img.resize((28, 28))  # resize image to match MNIST data\n",
        "              img = img.rotate(-90)\n",
        "              threshold = 100\n",
        "              img = img.point(lambda p: p > threshold and 255)\n",
        "              img_array = np.array(img)\n",
        "              custom_images.append(img_array)\n",
        "              custom_labels.append(int(folder_name))  # use folder name as label\n",
        "\n",
        "# Convert the list of custom images and labels to numpy arrays\n",
        "custom_images = np.array(custom_images)\n",
        "custom_labels = np.array(custom_labels)\n",
        "\n",
        "# Preprocess the custom images\n",
        "custom_images = custom_images / 255.0"
      ],
      "metadata": {
        "colab": {
          "base_uri": "https://localhost:8080/"
        },
        "id": "OVRxvf3FBMJg",
        "outputId": "6d0c6076-ecc1-4649-ab08-f06231777816"
      },
      "execution_count": 53,
      "outputs": [
        {
          "output_type": "stream",
          "name": "stdout",
          "text": [
            "/content/drive/MyDrive/TME_6015/Assignment_1/7\n",
            "filename 7-1.jpg\n",
            "filename 7-2.png\n",
            "filename 7-3.png\n",
            "/content/drive/MyDrive/TME_6015/Assignment_1/1\n",
            "filename 1-1.jpg\n",
            "filename 1-2.png\n",
            "filename 1-3`.png\n",
            "/content/drive/MyDrive/TME_6015/Assignment_1/2\n",
            "filename 2-1.jpg\n",
            "filename 2-2.png\n",
            "filename 2-3.png\n",
            "/content/drive/MyDrive/TME_6015/Assignment_1/3\n",
            "filename 3-1.jpg\n",
            "filename 3-2.png\n",
            "filename 3-3.png\n",
            "/content/drive/MyDrive/TME_6015/Assignment_1/4\n",
            "filename 4-1.jpg\n",
            "filename 4-2.png\n",
            "filename 4-3.png\n",
            "/content/drive/MyDrive/TME_6015/Assignment_1/5\n",
            "filename 5-1.jpg\n",
            "filename 5-2.png\n",
            "filename 5-3.png\n",
            "/content/drive/MyDrive/TME_6015/Assignment_1/6\n",
            "filename 6-1.jpg\n",
            "filename 6-2.png\n",
            "filename 6-3.png\n",
            "/content/drive/MyDrive/TME_6015/Assignment_1/8\n",
            "filename 8-1.jpg\n",
            "filename 8-2.png\n",
            "filename 8-3.png\n",
            "/content/drive/MyDrive/TME_6015/Assignment_1/9\n",
            "filename 9-1.jpg\n",
            "filename 9-2.png\n",
            "filename 9-3.png\n",
            "/content/drive/MyDrive/TME_6015/Assignment_1/0\n",
            "filename 0-1.jpg\n",
            "filename 0-2.png\n",
            "filename 0-3.png\n"
          ]
        }
      ]
    },
    {
      "cell_type": "code",
      "source": [
        "display_image = custom_images[2] * 255\n",
        "\n",
        "# Convert the image data to uint8\n",
        "display_image = display_image.astype(np.uint8)\n",
        "\n",
        "# Create a PIL image\n",
        "img = Image.fromarray(display_image)\n",
        "\n",
        "# Display the image\n",
        "img"
      ],
      "metadata": {
        "colab": {
          "base_uri": "https://localhost:8080/",
          "height": 45
        },
        "id": "njR2-G8_C45W",
        "outputId": "bc4e5312-4458-4197-cc7e-8d6cc1e60eb9"
      },
      "execution_count": 54,
      "outputs": [
        {
          "output_type": "execute_result",
          "data": {
            "text/plain": [
              "<PIL.Image.Image image mode=L size=28x28>"
            ],
            "image/png": "[encoded data removed]"
          },
          "metadata": {},
          "execution_count": 54
        }
      ]
    },
    {
      "cell_type": "markdown",
      "source": [
        "**Plotting the data**"
      ],
      "metadata": {
        "id": "BIS1TtwSCRKh"
      }
    },
    {
      "cell_type": "code",
      "source": [
        "plt.figure(figsize=(14,14))\n",
        "for i in range(30):\n",
        "    plt.subplot(10,3,i+1)\n",
        "    plt.xticks([])\n",
        "    plt.yticks([])\n",
        "    plt.grid(False)\n",
        "    plt.imshow(custom_images[i])\n",
        "    plt.xlabel(custom_labels[i])\n",
        "plt.show()"
      ],
      "metadata": {
        "colab": {
          "base_uri": "https://localhost:8080/",
          "height": 1000
        },
        "id": "k7i8XXFHBwuU",
        "outputId": "045b550e-c664-4ba3-f773-40dbcff00b3b"
      },
      "execution_count": 55,
      "outputs": [
        {
          "output_type": "display_data",
          "data": {
            "text/plain": [
              "<Figure size 1400x1400 with 30 Axes>"
            ],
            "image/png": "[encoded data removed]"
          },
          "metadata": {}
        }
      ]
    },
    {
      "cell_type": "markdown",
      "source": [
        "**Load and Preprocess MNIST Dataset**"
      ],
      "metadata": {
        "id": "pdwjXQMdClhB"
      }
    },
    {
      "cell_type": "code",
      "source": [
        "mnist = tf.keras.datasets.mnist\n",
        "(x_train,y_train),(x_test,y_test)=mnist.load_data()\n",
        "\n",
        "x_train = x_train/255.0\n",
        "x_test = x_test/255.0"
      ],
      "metadata": {
        "id": "oQL8FzrOBwxI"
      },
      "execution_count": 56,
      "outputs": []
    },
    {
      "cell_type": "markdown",
      "source": [
        "**Adding the custom images and labels to the original MNIST dataset**"
      ],
      "metadata": {
        "id": "XKjBl_NPDJNG"
      }
    },
    {
      "cell_type": "code",
      "source": [
        "# Add the custom images and labels to the original MNIST dataset\n",
        "x_train = np.concatenate((x_train, custom_images), axis=0)\n",
        "y_train = np.concatenate((y_train, custom_labels), axis=0)"
      ],
      "metadata": {
        "id": "iRFw3c8vBwzy"
      },
      "execution_count": 57,
      "outputs": []
    },
    {
      "cell_type": "code",
      "source": [
        "display_image = x_train[0] * 255\n",
        "\n",
        "# Convert the image data to uint8\n",
        "display_image = display_image.astype(np.uint8)\n",
        "\n",
        "# Create a PIL image\n",
        "img = Image.fromarray(display_image)\n",
        "img"
      ],
      "metadata": {
        "colab": {
          "base_uri": "https://localhost:8080/",
          "height": 45
        },
        "id": "I6nmWEDlBxAg",
        "outputId": "bf00c60f-eec3-4bfb-ed2e-f3664e556eb8"
      },
      "execution_count": 58,
      "outputs": [
        {
          "output_type": "execute_result",
          "data": {
            "text/plain": [
              "<PIL.Image.Image image mode=L size=28x28>"
            ],
            "image/png": "[encoded data removed]"
          },
          "metadata": {},
          "execution_count": 58
        }
      ]
    },
    {
      "cell_type": "markdown",
      "source": [
        "**Create a Model**"
      ],
      "metadata": {
        "id": "hX3khsAfDksY"
      }
    },
    {
      "cell_type": "code",
      "source": [
        "model = models.Sequential()\n",
        "model.add(layers.Conv2D(32, (3, 3), activation='relu', input_shape=(28, 28, 1)))\n",
        "model.add(layers.MaxPooling2D((2, 2)))\n",
        "model.add(layers.Conv2D(64, (3, 3), activation='relu'))\n",
        "model.add(layers.MaxPooling2D((2, 2)))\n",
        "model.add(layers.Conv2D(64, (3, 3), activation='relu'))\n",
        "model.add(layers.Flatten())\n",
        "model.add(layers.Dense(64, activation='relu'))\n",
        "model.add(layers.Dense(10))"
      ],
      "metadata": {
        "id": "UzqSNrp5BxEJ"
      },
      "execution_count": 59,
      "outputs": []
    },
    {
      "cell_type": "code",
      "source": [
        "model.summary()"
      ],
      "metadata": {
        "colab": {
          "base_uri": "https://localhost:8080/"
        },
        "id": "ADvj_KJHGDLm",
        "outputId": "b83c9a21-5345-4d3f-d860-0f23b0a111fa"
      },
      "execution_count": 60,
      "outputs": [
        {
          "output_type": "stream",
          "name": "stdout",
          "text": [
            "Model: \"sequential_6\"\n",
            "_________________________________________________________________\n",
            " Layer (type)                Output Shape              Param #   \n",
            "=================================================================\n",
            " conv2d_13 (Conv2D)          (None, 26, 26, 32)        320       \n",
            "                                                                 \n",
            " max_pooling2d_9 (MaxPoolin  (None, 13, 13, 32)        0         \n",
            " g2D)                                                            \n",
            "                                                                 \n",
            " conv2d_14 (Conv2D)          (None, 11, 11, 64)        18496     \n",
            "                                                                 \n",
            " max_pooling2d_10 (MaxPooli  (None, 5, 5, 64)          0         \n",
            " ng2D)                                                           \n",
            "                                                                 \n",
            " conv2d_15 (Conv2D)          (None, 3, 3, 64)          36928     \n",
            "                                                                 \n",
            " flatten_6 (Flatten)         (None, 576)               0         \n",
            "                                                                 \n",
            " dense_12 (Dense)            (None, 64)                36928     \n",
            "                                                                 \n",
            " dense_13 (Dense)            (None, 10)                650       \n",
            "                                                                 \n",
            "=================================================================\n",
            "Total params: 93322 (364.54 KB)\n",
            "Trainable params: 93322 (364.54 KB)\n",
            "Non-trainable params: 0 (0.00 Byte)\n",
            "_________________________________________________________________\n"
          ]
        }
      ]
    },
    {
      "cell_type": "markdown",
      "source": [
        "**Compile and Train the Model**"
      ],
      "metadata": {
        "id": "b_6m0mDlD7XY"
      }
    },
    {
      "cell_type": "code",
      "source": [
        "model.compile(optimizer='adam',\n",
        "              loss=tf.keras.losses.SparseCategoricalCrossentropy(from_logits=True),\n",
        "              metrics=['accuracy'])\n",
        "history = model.fit(x_train, y_train, epochs=10,\n",
        "                    validation_data=(x_test, y_test))"
      ],
      "metadata": {
        "colab": {
          "base_uri": "https://localhost:8080/"
        },
        "id": "jG8H_SpfBMM0",
        "outputId": "e1f09442-1cb9-47a2-88d5-9af0d326de56"
      },
      "execution_count": 61,
      "outputs": [
        {
          "output_type": "stream",
          "name": "stdout",
          "text": [
            "Epoch 1/10\n",
            "1876/1876 [==============================] - 62s 32ms/step - loss: 0.1459 - accuracy: 0.9554 - val_loss: 0.0463 - val_accuracy: 0.9845\n",
            "Epoch 2/10\n",
            "1876/1876 [==============================] - 60s 32ms/step - loss: 0.0472 - accuracy: 0.9853 - val_loss: 0.0356 - val_accuracy: 0.9882\n",
            "Epoch 3/10\n",
            "1876/1876 [==============================] - 58s 31ms/step - loss: 0.0332 - accuracy: 0.9897 - val_loss: 0.0348 - val_accuracy: 0.9895\n",
            "Epoch 4/10\n",
            "1876/1876 [==============================] - 62s 33ms/step - loss: 0.0274 - accuracy: 0.9912 - val_loss: 0.0292 - val_accuracy: 0.9899\n",
            "Epoch 5/10\n",
            "1876/1876 [==============================] - 60s 32ms/step - loss: 0.0207 - accuracy: 0.9933 - val_loss: 0.0296 - val_accuracy: 0.9904\n",
            "Epoch 6/10\n",
            "1876/1876 [==============================] - 59s 31ms/step - loss: 0.0158 - accuracy: 0.9951 - val_loss: 0.0370 - val_accuracy: 0.9906\n",
            "Epoch 7/10\n",
            "1876/1876 [==============================] - 61s 32ms/step - loss: 0.0149 - accuracy: 0.9952 - val_loss: 0.0315 - val_accuracy: 0.9919\n",
            "Epoch 8/10\n",
            "1876/1876 [==============================] - 60s 32ms/step - loss: 0.0112 - accuracy: 0.9965 - val_loss: 0.0363 - val_accuracy: 0.9918\n",
            "Epoch 9/10\n",
            "1876/1876 [==============================] - 58s 31ms/step - loss: 0.0112 - accuracy: 0.9964 - val_loss: 0.0408 - val_accuracy: 0.9891\n",
            "Epoch 10/10\n",
            "1876/1876 [==============================] - 60s 32ms/step - loss: 0.0095 - accuracy: 0.9970 - val_loss: 0.0436 - val_accuracy: 0.9895\n"
          ]
        }
      ]
    },
    {
      "cell_type": "markdown",
      "source": [
        "**Plot Training History**"
      ],
      "metadata": {
        "id": "ch-VAkEzEGsb"
      }
    },
    {
      "cell_type": "code",
      "source": [
        "plt.plot(history.history['accuracy'], label='accuracy')\n",
        "plt.plot(history.history['val_accuracy'], label = 'val_accuracy')\n",
        "plt.xlabel('Epoch')\n",
        "plt.ylabel('Accuracy')\n",
        "plt.ylim([0.5, 1])\n",
        "plt.legend(loc='lower right')\n",
        "\n",
        "test_loss, test_acc = model.evaluate(x_test,  y_test, verbose=2)"
      ],
      "metadata": {
        "colab": {
          "base_uri": "https://localhost:8080/",
          "height": 473
        },
        "id": "MHxQ7AzhEAtX",
        "outputId": "0b89e4c8-b365-4ff1-9371-27d9aea82c10"
      },
      "execution_count": 62,
      "outputs": [
        {
          "output_type": "stream",
          "name": "stdout",
          "text": [
            "313/313 - 2s - loss: 0.0436 - accuracy: 0.9895 - 2s/epoch - 7ms/step\n"
          ]
        },
        {
          "output_type": "display_data",
          "data": {
            "text/plain": [
              "<Figure size 640x480 with 1 Axes>"
            ],
            "image/png": "[encoded data removed]"
          },
          "metadata": {}
        }
      ]
    },
    {
      "cell_type": "code",
      "source": [
        "print(test_acc)"
      ],
      "metadata": {
        "colab": {
          "base_uri": "https://localhost:8080/"
        },
        "id": "zMDCJMtqHo4Y",
        "outputId": "cdc58aa2-37bd-4a9d-d1da-62f217744cb4"
      },
      "execution_count": 63,
      "outputs": [
        {
          "output_type": "stream",
          "name": "stdout",
          "text": [
            "0.9894999861717224\n"
          ]
        }
      ]
    },
    {
      "cell_type": "markdown",
      "source": [
        "**Detect Overfitting**\n",
        "\n",
        "---\n",
        "\n",
        "We will Train the model for more epochs until you observe overfitting in the training data (i.e., when validation accuracy starts decreasing while training accuracy keeps increasing).\n",
        "\n",
        "---\n",
        "\n",
        "Here we will run two models to check overffitting on them. First model has less parameters compared to the next one.\n",
        "\n"
      ],
      "metadata": {
        "id": "3Ls-Iz4PENqJ"
      }
    },
    {
      "cell_type": "markdown",
      "source": [
        "**Model -1**"
      ],
      "metadata": {
        "id": "5UjnI_tlgecq"
      }
    },
    {
      "cell_type": "code",
      "source": [
        "model = models.Sequential()\n",
        "model.add(layers.Conv2D(32, (3, 3), activation='relu', input_shape=(28, 28, 1)))\n",
        "model.add(layers.MaxPooling2D((2, 2)))\n",
        "model.add(layers.Flatten())\n",
        "model.add(layers.Dense(64, activation='relu'))\n",
        "model.add(layers.Dense(10))"
      ],
      "metadata": {
        "id": "4J9tXMQvjm-e"
      },
      "execution_count": 64,
      "outputs": []
    },
    {
      "cell_type": "code",
      "source": [
        "model.summary()"
      ],
      "metadata": {
        "colab": {
          "base_uri": "https://localhost:8080/"
        },
        "id": "oEU60RSOjnrm",
        "outputId": "812d9e16-9f26-46d3-91ac-46c71767e328"
      },
      "execution_count": 65,
      "outputs": [
        {
          "output_type": "stream",
          "name": "stdout",
          "text": [
            "Model: \"sequential_7\"\n",
            "_________________________________________________________________\n",
            " Layer (type)                Output Shape              Param #   \n",
            "=================================================================\n",
            " conv2d_16 (Conv2D)          (None, 26, 26, 32)        320       \n",
            "                                                                 \n",
            " max_pooling2d_11 (MaxPooli  (None, 13, 13, 32)        0         \n",
            " ng2D)                                                           \n",
            "                                                                 \n",
            " flatten_7 (Flatten)         (None, 5408)              0         \n",
            "                                                                 \n",
            " dense_14 (Dense)            (None, 64)                346176    \n",
            "                                                                 \n",
            " dense_15 (Dense)            (None, 10)                650       \n",
            "                                                                 \n",
            "=================================================================\n",
            "Total params: 347146 (1.32 MB)\n",
            "Trainable params: 347146 (1.32 MB)\n",
            "Non-trainable params: 0 (0.00 Byte)\n",
            "_________________________________________________________________\n"
          ]
        }
      ]
    },
    {
      "cell_type": "code",
      "source": [
        "model.compile(optimizer='adam',\n",
        "              loss=tf.keras.losses.SparseCategoricalCrossentropy(from_logits=True),\n",
        "              metrics=['accuracy'])"
      ],
      "metadata": {
        "id": "PPTpuw8GjnyO"
      },
      "execution_count": 66,
      "outputs": []
    },
    {
      "cell_type": "code",
      "source": [
        "history = model.fit(x_train, y_train, epochs=25,\n",
        "                    validation_data=(x_test, y_test))"
      ],
      "metadata": {
        "colab": {
          "base_uri": "https://localhost:8080/"
        },
        "id": "7KwK1FtPjn2L",
        "outputId": "31a270cc-2c04-47ac-c81a-d74e3e541da1"
      },
      "execution_count": 67,
      "outputs": [
        {
          "output_type": "stream",
          "name": "stdout",
          "text": [
            "Epoch 1/25\n",
            "1876/1876 [==============================] - 35s 18ms/step - loss: 0.1655 - accuracy: 0.9523 - val_loss: 0.0631 - val_accuracy: 0.9796\n",
            "Epoch 2/25\n",
            "1876/1876 [==============================] - 34s 18ms/step - loss: 0.0568 - accuracy: 0.9826 - val_loss: 0.0585 - val_accuracy: 0.9817\n",
            "Epoch 3/25\n",
            "1876/1876 [==============================] - 35s 19ms/step - loss: 0.0382 - accuracy: 0.9883 - val_loss: 0.0547 - val_accuracy: 0.9824\n",
            "Epoch 4/25\n",
            "1876/1876 [==============================] - 33s 18ms/step - loss: 0.0285 - accuracy: 0.9914 - val_loss: 0.0419 - val_accuracy: 0.9858\n",
            "Epoch 5/25\n",
            "1876/1876 [==============================] - 35s 18ms/step - loss: 0.0204 - accuracy: 0.9935 - val_loss: 0.0501 - val_accuracy: 0.9848\n",
            "Epoch 6/25\n",
            "1876/1876 [==============================] - 34s 18ms/step - loss: 0.0136 - accuracy: 0.9957 - val_loss: 0.0425 - val_accuracy: 0.9854\n",
            "Epoch 7/25\n",
            "1876/1876 [==============================] - 32s 17ms/step - loss: 0.0104 - accuracy: 0.9966 - val_loss: 0.0490 - val_accuracy: 0.9868\n",
            "Epoch 8/25\n",
            "1876/1876 [==============================] - 33s 17ms/step - loss: 0.0088 - accuracy: 0.9970 - val_loss: 0.0445 - val_accuracy: 0.9871\n",
            "Epoch 9/25\n",
            "1876/1876 [==============================] - 34s 18ms/step - loss: 0.0058 - accuracy: 0.9981 - val_loss: 0.0514 - val_accuracy: 0.9862\n",
            "Epoch 10/25\n",
            "1876/1876 [==============================] - 35s 19ms/step - loss: 0.0056 - accuracy: 0.9982 - val_loss: 0.0616 - val_accuracy: 0.9848\n",
            "Epoch 11/25\n",
            "1876/1876 [==============================] - 33s 17ms/step - loss: 0.0042 - accuracy: 0.9987 - val_loss: 0.0456 - val_accuracy: 0.9890\n",
            "Epoch 12/25\n",
            "1876/1876 [==============================] - 34s 18ms/step - loss: 0.0039 - accuracy: 0.9987 - val_loss: 0.0568 - val_accuracy: 0.9874\n",
            "Epoch 13/25\n",
            "1876/1876 [==============================] - 33s 18ms/step - loss: 0.0032 - accuracy: 0.9989 - val_loss: 0.0572 - val_accuracy: 0.9863\n",
            "Epoch 14/25\n",
            "1876/1876 [==============================] - 33s 17ms/step - loss: 0.0042 - accuracy: 0.9986 - val_loss: 0.0663 - val_accuracy: 0.9851\n",
            "Epoch 15/25\n",
            "1876/1876 [==============================] - 33s 18ms/step - loss: 0.0023 - accuracy: 0.9992 - val_loss: 0.0627 - val_accuracy: 0.9866\n",
            "Epoch 16/25\n",
            "1876/1876 [==============================] - 34s 18ms/step - loss: 0.0021 - accuracy: 0.9994 - val_loss: 0.0572 - val_accuracy: 0.9881\n",
            "Epoch 17/25\n",
            "1876/1876 [==============================] - 35s 19ms/step - loss: 6.8245e-04 - accuracy: 0.9998 - val_loss: 0.0686 - val_accuracy: 0.9857\n",
            "Epoch 18/25\n",
            "1876/1876 [==============================] - 33s 18ms/step - loss: 0.0036 - accuracy: 0.9987 - val_loss: 0.0592 - val_accuracy: 0.9885\n",
            "Epoch 19/25\n",
            "1876/1876 [==============================] - 33s 17ms/step - loss: 0.0026 - accuracy: 0.9992 - val_loss: 0.0742 - val_accuracy: 0.9873\n",
            "Epoch 20/25\n",
            "1876/1876 [==============================] - 33s 17ms/step - loss: 0.0019 - accuracy: 0.9994 - val_loss: 0.0734 - val_accuracy: 0.9873\n",
            "Epoch 21/25\n",
            "1876/1876 [==============================] - 33s 18ms/step - loss: 0.0024 - accuracy: 0.9991 - val_loss: 0.0731 - val_accuracy: 0.9858\n",
            "Epoch 22/25\n",
            "1876/1876 [==============================] - 34s 18ms/step - loss: 9.0959e-04 - accuracy: 0.9997 - val_loss: 0.0709 - val_accuracy: 0.9877\n",
            "Epoch 23/25\n",
            "1876/1876 [==============================] - 35s 19ms/step - loss: 0.0029 - accuracy: 0.9992 - val_loss: 0.0657 - val_accuracy: 0.9881\n",
            "Epoch 24/25\n",
            "1876/1876 [==============================] - 32s 17ms/step - loss: 0.0021 - accuracy: 0.9992 - val_loss: 0.0684 - val_accuracy: 0.9873\n",
            "Epoch 25/25\n",
            "1876/1876 [==============================] - 32s 17ms/step - loss: 0.0017 - accuracy: 0.9994 - val_loss: 0.0661 - val_accuracy: 0.9888\n"
          ]
        }
      ]
    },
    {
      "cell_type": "markdown",
      "source": [
        "**At 11 Epoch, We can see the validation accuracy has reached its peak of 98.9 percent then it decreases from that value. This shows that the model overfitted at 11 Epoch**"
      ],
      "metadata": {
        "id": "b0DIw8NugsgD"
      }
    },
    {
      "cell_type": "code",
      "source": [
        "plt.plot(history.history['accuracy'], label='accuracy')\n",
        "plt.plot(history.history['val_accuracy'], label = 'val_accuracy')\n",
        "plt.xlabel('Epoch')\n",
        "plt.ylabel('Accuracy')\n",
        "plt.ylim([0.5, 1])\n",
        "plt.legend(loc='lower right')\n",
        "\n",
        "test_loss, test_acc = model.evaluate(x_test,  y_test, verbose=2)"
      ],
      "metadata": {
        "colab": {
          "base_uri": "https://localhost:8080/",
          "height": 473
        },
        "id": "OcwdPN22j3Fq",
        "outputId": "24e6aee2-66b9-486b-edab-b2536cbcf126"
      },
      "execution_count": 68,
      "outputs": [
        {
          "output_type": "stream",
          "name": "stdout",
          "text": [
            "313/313 - 1s - loss: 0.0661 - accuracy: 0.9888 - 1s/epoch - 4ms/step\n"
          ]
        },
        {
          "output_type": "display_data",
          "data": {
            "text/plain": [
              "<Figure size 640x480 with 1 Axes>"
            ],
            "image/png": "[encoded data removed]"
          },
          "metadata": {}
        }
      ]
    },
    {
      "cell_type": "code",
      "source": [
        "print(test_acc)"
      ],
      "metadata": {
        "colab": {
          "base_uri": "https://localhost:8080/"
        },
        "id": "2o0IS-6Fj5gT",
        "outputId": "580f629d-e67e-4ccf-d96f-a6c5c269f8c7"
      },
      "execution_count": 69,
      "outputs": [
        {
          "output_type": "stream",
          "name": "stdout",
          "text": [
            "0.9887999892234802\n"
          ]
        }
      ]
    },
    {
      "cell_type": "markdown",
      "source": [
        "**Model - 2**"
      ],
      "metadata": {
        "id": "hNljpLbqGkZ2"
      }
    },
    {
      "cell_type": "code",
      "source": [
        "model = models.Sequential()\n",
        "model.add(layers.Conv2D(32, (3, 3), activation='relu', input_shape=(28, 28, 1)))\n",
        "model.add(layers.MaxPooling2D((2, 2)))\n",
        "model.add(layers.Conv2D(64, (3, 3), activation='relu'))\n",
        "model.add(layers.MaxPooling2D((2, 2)))\n",
        "model.add(layers.Conv2D(64, (3, 3), activation='relu'))\n",
        "model.add(layers.Flatten())\n",
        "model.add(layers.Dense(64, activation='relu'))\n",
        "model.add(layers.Dense(10))"
      ],
      "metadata": {
        "id": "igDZuIJCEKvI"
      },
      "execution_count": 70,
      "outputs": []
    },
    {
      "cell_type": "code",
      "source": [
        "model.summary()"
      ],
      "metadata": {
        "colab": {
          "base_uri": "https://localhost:8080/"
        },
        "id": "19TScrYkjyPI",
        "outputId": "fed3410c-91be-4710-84b2-18254a5c1469"
      },
      "execution_count": 71,
      "outputs": [
        {
          "output_type": "stream",
          "name": "stdout",
          "text": [
            "Model: \"sequential_8\"\n",
            "_________________________________________________________________\n",
            " Layer (type)                Output Shape              Param #   \n",
            "=================================================================\n",
            " conv2d_17 (Conv2D)          (None, 26, 26, 32)        320       \n",
            "                                                                 \n",
            " max_pooling2d_12 (MaxPooli  (None, 13, 13, 32)        0         \n",
            " ng2D)                                                           \n",
            "                                                                 \n",
            " conv2d_18 (Conv2D)          (None, 11, 11, 64)        18496     \n",
            "                                                                 \n",
            " max_pooling2d_13 (MaxPooli  (None, 5, 5, 64)          0         \n",
            " ng2D)                                                           \n",
            "                                                                 \n",
            " conv2d_19 (Conv2D)          (None, 3, 3, 64)          36928     \n",
            "                                                                 \n",
            " flatten_8 (Flatten)         (None, 576)               0         \n",
            "                                                                 \n",
            " dense_16 (Dense)            (None, 64)                36928     \n",
            "                                                                 \n",
            " dense_17 (Dense)            (None, 10)                650       \n",
            "                                                                 \n",
            "=================================================================\n",
            "Total params: 93322 (364.54 KB)\n",
            "Trainable params: 93322 (364.54 KB)\n",
            "Non-trainable params: 0 (0.00 Byte)\n",
            "_________________________________________________________________\n"
          ]
        }
      ]
    },
    {
      "cell_type": "code",
      "source": [
        "model.compile(optimizer='adam',\n",
        "              loss=tf.keras.losses.SparseCategoricalCrossentropy(from_logits=True),\n",
        "              metrics=['accuracy'])"
      ],
      "metadata": {
        "id": "YRuhCijxEKyL"
      },
      "execution_count": 72,
      "outputs": []
    },
    {
      "cell_type": "code",
      "source": [
        "history = model.fit(x_train, y_train, epochs=18,\n",
        "                    validation_data=(x_test, y_test))"
      ],
      "metadata": {
        "colab": {
          "base_uri": "https://localhost:8080/"
        },
        "id": "7GSC_uE4FwYm",
        "outputId": "ca2c4181-7aef-434b-db52-0411eda60848"
      },
      "execution_count": 73,
      "outputs": [
        {
          "output_type": "stream",
          "name": "stdout",
          "text": [
            "Epoch 1/18\n",
            "1876/1876 [==============================] - 65s 33ms/step - loss: 0.1565 - accuracy: 0.9504 - val_loss: 0.0432 - val_accuracy: 0.9872\n",
            "Epoch 2/18\n",
            "1876/1876 [==============================] - 59s 31ms/step - loss: 0.0477 - accuracy: 0.9853 - val_loss: 0.0371 - val_accuracy: 0.9877\n",
            "Epoch 3/18\n",
            "1876/1876 [==============================] - 61s 32ms/step - loss: 0.0350 - accuracy: 0.9891 - val_loss: 0.0368 - val_accuracy: 0.9879\n",
            "Epoch 4/18\n",
            "1876/1876 [==============================] - 58s 31ms/step - loss: 0.0273 - accuracy: 0.9913 - val_loss: 0.0350 - val_accuracy: 0.9887\n",
            "Epoch 5/18\n",
            "1876/1876 [==============================] - 59s 31ms/step - loss: 0.0228 - accuracy: 0.9931 - val_loss: 0.0288 - val_accuracy: 0.9913\n",
            "Epoch 6/18\n",
            "1876/1876 [==============================] - 58s 31ms/step - loss: 0.0162 - accuracy: 0.9945 - val_loss: 0.0337 - val_accuracy: 0.9912\n",
            "Epoch 7/18\n",
            "1876/1876 [==============================] - 60s 32ms/step - loss: 0.0142 - accuracy: 0.9950 - val_loss: 0.0337 - val_accuracy: 0.9919\n",
            "Epoch 8/18\n",
            "1876/1876 [==============================] - 58s 31ms/step - loss: 0.0126 - accuracy: 0.9961 - val_loss: 0.0311 - val_accuracy: 0.9913\n",
            "Epoch 9/18\n",
            "1876/1876 [==============================] - 60s 32ms/step - loss: 0.0097 - accuracy: 0.9970 - val_loss: 0.0358 - val_accuracy: 0.9910\n",
            "Epoch 10/18\n",
            "1876/1876 [==============================] - 61s 33ms/step - loss: 0.0099 - accuracy: 0.9968 - val_loss: 0.0282 - val_accuracy: 0.9923\n",
            "Epoch 11/18\n",
            "1876/1876 [==============================] - 59s 31ms/step - loss: 0.0076 - accuracy: 0.9975 - val_loss: 0.0360 - val_accuracy: 0.9924\n",
            "Epoch 12/18\n",
            "1876/1876 [==============================] - 63s 33ms/step - loss: 0.0077 - accuracy: 0.9976 - val_loss: 0.0351 - val_accuracy: 0.9925\n",
            "Epoch 13/18\n",
            "1876/1876 [==============================] - 69s 37ms/step - loss: 0.0066 - accuracy: 0.9978 - val_loss: 0.0457 - val_accuracy: 0.9896\n",
            "Epoch 14/18\n",
            "1876/1876 [==============================] - 60s 32ms/step - loss: 0.0062 - accuracy: 0.9979 - val_loss: 0.0507 - val_accuracy: 0.9891\n",
            "Epoch 15/18\n",
            "1876/1876 [==============================] - 58s 31ms/step - loss: 0.0073 - accuracy: 0.9975 - val_loss: 0.0410 - val_accuracy: 0.9930\n",
            "Epoch 16/18\n",
            "1876/1876 [==============================] - 59s 31ms/step - loss: 0.0059 - accuracy: 0.9980 - val_loss: 0.0448 - val_accuracy: 0.9906\n",
            "Epoch 17/18\n",
            "1876/1876 [==============================] - 58s 31ms/step - loss: 0.0059 - accuracy: 0.9984 - val_loss: 0.0414 - val_accuracy: 0.9921\n",
            "Epoch 18/18\n",
            "1876/1876 [==============================] - 62s 33ms/step - loss: 0.0061 - accuracy: 0.9982 - val_loss: 0.0414 - val_accuracy: 0.9916\n"
          ]
        }
      ]
    },
    {
      "cell_type": "markdown",
      "source": [
        "**At 15 Epoch, We can see the validation accuracy has reached its peak of 99.3 percent then it decreases from that value. This shows that the model overfitted at 15 Epoch**"
      ],
      "metadata": {
        "id": "Rv8nMpJIhC0Z"
      }
    },
    {
      "cell_type": "code",
      "source": [
        "plt.plot(history.history['accuracy'], label='accuracy')\n",
        "plt.plot(history.history['val_accuracy'], label = 'val_accuracy')\n",
        "plt.xlabel('Epoch')\n",
        "plt.ylabel('Accuracy')\n",
        "plt.ylim([0.5, 1])\n",
        "plt.legend(loc='lower right')\n",
        "\n",
        "test_loss, test_acc = model.evaluate(x_test,  y_test, verbose=2)"
      ],
      "metadata": {
        "colab": {
          "base_uri": "https://localhost:8080/",
          "height": 473
        },
        "id": "Z1jtK-YZHVxl",
        "outputId": "2e9cba49-4799-4ba8-8efe-34ee18ad3917"
      },
      "execution_count": 74,
      "outputs": [
        {
          "output_type": "stream",
          "name": "stdout",
          "text": [
            "313/313 - 2s - loss: 0.0414 - accuracy: 0.9916 - 2s/epoch - 7ms/step\n"
          ]
        },
        {
          "output_type": "display_data",
          "data": {
            "text/plain": [
              "<Figure size 640x480 with 1 Axes>"
            ],
            "image/png": "[encoded data removed]"
          },
          "metadata": {}
        }
      ]
    },
    {
      "cell_type": "code",
      "source": [
        "print(test_acc)"
      ],
      "metadata": {
        "colab": {
          "base_uri": "https://localhost:8080/"
        },
        "id": "wc8EqnGcHV81",
        "outputId": "ef8ae191-b6f4-466d-b0c8-32815a4d36b5"
      },
      "execution_count": 75,
      "outputs": [
        {
          "output_type": "stream",
          "name": "stdout",
          "text": [
            "0.991599977016449\n"
          ]
        }
      ]
    },
    {
      "cell_type": "markdown",
      "source": [
        "**Experiment with Different Configurationst**"
      ],
      "metadata": {
        "id": "KXhOWbtHF07R"
      }
    },
    {
      "cell_type": "markdown",
      "source": [
        "**Model - 1**"
      ],
      "metadata": {
        "id": "ifmNHVX8F6jY"
      }
    },
    {
      "cell_type": "code",
      "source": [
        "model = models.Sequential()\n",
        "model.add(layers.Conv2D(32, (3, 3), activation='relu', input_shape=(28, 28, 1)))\n",
        "model.add(layers.MaxPooling2D((2, 2)))\n",
        "model.add(layers.Flatten())\n",
        "model.add(layers.Dense(64, activation='relu'))\n",
        "model.add(layers.Dense(10))"
      ],
      "metadata": {
        "id": "t7RGdx2JF0fP"
      },
      "execution_count": 76,
      "outputs": []
    },
    {
      "cell_type": "code",
      "source": [
        "model.summary()"
      ],
      "metadata": {
        "id": "0owoll-WF0h1",
        "colab": {
          "base_uri": "https://localhost:8080/"
        },
        "outputId": "f10a36b0-740e-4e3b-a5dd-8b7f948f5edc"
      },
      "execution_count": 77,
      "outputs": [
        {
          "output_type": "stream",
          "name": "stdout",
          "text": [
            "Model: \"sequential_9\"\n",
            "_________________________________________________________________\n",
            " Layer (type)                Output Shape              Param #   \n",
            "=================================================================\n",
            " conv2d_20 (Conv2D)          (None, 26, 26, 32)        320       \n",
            "                                                                 \n",
            " max_pooling2d_14 (MaxPooli  (None, 13, 13, 32)        0         \n",
            " ng2D)                                                           \n",
            "                                                                 \n",
            " flatten_9 (Flatten)         (None, 5408)              0         \n",
            "                                                                 \n",
            " dense_18 (Dense)            (None, 64)                346176    \n",
            "                                                                 \n",
            " dense_19 (Dense)            (None, 10)                650       \n",
            "                                                                 \n",
            "=================================================================\n",
            "Total params: 347146 (1.32 MB)\n",
            "Trainable params: 347146 (1.32 MB)\n",
            "Non-trainable params: 0 (0.00 Byte)\n",
            "_________________________________________________________________\n"
          ]
        }
      ]
    },
    {
      "cell_type": "code",
      "source": [
        "model.compile(optimizer='adam',\n",
        "              loss=tf.keras.losses.SparseCategoricalCrossentropy(from_logits=True),\n",
        "              metrics=['accuracy'])"
      ],
      "metadata": {
        "id": "4fjf5EOwFwbf"
      },
      "execution_count": 78,
      "outputs": []
    },
    {
      "cell_type": "code",
      "source": [
        "history = model.fit(x_train, y_train, epochs=10,\n",
        "                    validation_data=(x_test, y_test))"
      ],
      "metadata": {
        "id": "2MKHKSlPFweI",
        "colab": {
          "base_uri": "https://localhost:8080/"
        },
        "outputId": "b985ded4-a7b1-40f1-f970-315d0e910c16"
      },
      "execution_count": 79,
      "outputs": [
        {
          "output_type": "stream",
          "name": "stdout",
          "text": [
            "Epoch 1/10\n",
            "1876/1876 [==============================] - 36s 19ms/step - loss: 0.1678 - accuracy: 0.9501 - val_loss: 0.0676 - val_accuracy: 0.9794\n",
            "Epoch 2/10\n",
            "1876/1876 [==============================] - 33s 18ms/step - loss: 0.0589 - accuracy: 0.9820 - val_loss: 0.0593 - val_accuracy: 0.9805\n",
            "Epoch 3/10\n",
            "1876/1876 [==============================] - 35s 19ms/step - loss: 0.0393 - accuracy: 0.9878 - val_loss: 0.0565 - val_accuracy: 0.9826\n",
            "Epoch 4/10\n",
            "1876/1876 [==============================] - 36s 19ms/step - loss: 0.0284 - accuracy: 0.9913 - val_loss: 0.0418 - val_accuracy: 0.9854\n",
            "Epoch 5/10\n",
            "1876/1876 [==============================] - 37s 20ms/step - loss: 0.0203 - accuracy: 0.9933 - val_loss: 0.0611 - val_accuracy: 0.9809\n",
            "Epoch 6/10\n",
            "1876/1876 [==============================] - 38s 20ms/step - loss: 0.0140 - accuracy: 0.9953 - val_loss: 0.0516 - val_accuracy: 0.9832\n",
            "Epoch 7/10\n",
            "1876/1876 [==============================] - 34s 18ms/step - loss: 0.0115 - accuracy: 0.9961 - val_loss: 0.0579 - val_accuracy: 0.9838\n",
            "Epoch 8/10\n",
            "1876/1876 [==============================] - 34s 18ms/step - loss: 0.0085 - accuracy: 0.9970 - val_loss: 0.0474 - val_accuracy: 0.9860\n",
            "Epoch 9/10\n",
            "1876/1876 [==============================] - 40s 21ms/step - loss: 0.0055 - accuracy: 0.9984 - val_loss: 0.0591 - val_accuracy: 0.9863\n",
            "Epoch 10/10\n",
            "1876/1876 [==============================] - 41s 22ms/step - loss: 0.0062 - accuracy: 0.9980 - val_loss: 0.0540 - val_accuracy: 0.9861\n"
          ]
        }
      ]
    },
    {
      "cell_type": "markdown",
      "source": [
        "**Curve - 1**"
      ],
      "metadata": {
        "id": "KavltEi3V27C"
      }
    },
    {
      "cell_type": "code",
      "source": [
        "plt.plot(history.history['accuracy'], label='accuracy')\n",
        "plt.plot(history.history['val_accuracy'], label = 'val_accuracy')\n",
        "plt.xlabel('Epoch')\n",
        "plt.ylabel('Accuracy')\n",
        "plt.ylim([0.5, 1])\n",
        "plt.legend(loc='lower right')\n",
        "\n",
        "test_loss, test_acc = model.evaluate(x_test,  y_test, verbose=2)"
      ],
      "metadata": {
        "id": "Ko1PWHavEK1A",
        "colab": {
          "base_uri": "https://localhost:8080/",
          "height": 473
        },
        "outputId": "7aca15c6-61c8-4b6f-de51-0f83ed92ac30"
      },
      "execution_count": 80,
      "outputs": [
        {
          "output_type": "stream",
          "name": "stdout",
          "text": [
            "313/313 - 2s - loss: 0.0540 - accuracy: 0.9861 - 2s/epoch - 7ms/step\n"
          ]
        },
        {
          "output_type": "display_data",
          "data": {
            "text/plain": [
              "<Figure size 640x480 with 1 Axes>"
            ],
            "image/png": "[encoded data removed]"
          },
          "metadata": {}
        }
      ]
    },
    {
      "cell_type": "code",
      "source": [
        "print(test_acc)"
      ],
      "metadata": {
        "id": "mrpwLKEPHyXF",
        "colab": {
          "base_uri": "https://localhost:8080/"
        },
        "outputId": "8bc7f4c8-f7d7-40ae-df24-d3b1fc578b27"
      },
      "execution_count": 81,
      "outputs": [
        {
          "output_type": "stream",
          "name": "stdout",
          "text": [
            "0.9861000180244446\n"
          ]
        }
      ]
    },
    {
      "cell_type": "markdown",
      "source": [
        "**Model - 2**"
      ],
      "metadata": {
        "id": "XSXmQjP4GN2Q"
      }
    },
    {
      "cell_type": "code",
      "source": [
        "model = models.Sequential()\n",
        "model.add(layers.Conv2D(32, (3, 3), activation='relu', input_shape=(28, 28, 1)))\n",
        "model.add(layers.MaxPooling2D((2, 2)))\n",
        "model.add(layers.Conv2D(64, (3, 3), activation='relu'))\n",
        "model.add(layers.Flatten())\n",
        "model.add(layers.Dense(64, activation='relu'))\n",
        "model.add(layers.Dense(10))"
      ],
      "metadata": {
        "id": "-FaS51XIGNgM"
      },
      "execution_count": 82,
      "outputs": []
    },
    {
      "cell_type": "code",
      "source": [
        "model.summary()"
      ],
      "metadata": {
        "id": "loaFO4YXEK4E",
        "colab": {
          "base_uri": "https://localhost:8080/"
        },
        "outputId": "42db8174-6ced-4a1c-cf92-3503faa9cb94"
      },
      "execution_count": 83,
      "outputs": [
        {
          "output_type": "stream",
          "name": "stdout",
          "text": [
            "Model: \"sequential_10\"\n",
            "_________________________________________________________________\n",
            " Layer (type)                Output Shape              Param #   \n",
            "=================================================================\n",
            " conv2d_21 (Conv2D)          (None, 26, 26, 32)        320       \n",
            "                                                                 \n",
            " max_pooling2d_15 (MaxPooli  (None, 13, 13, 32)        0         \n",
            " ng2D)                                                           \n",
            "                                                                 \n",
            " conv2d_22 (Conv2D)          (None, 11, 11, 64)        18496     \n",
            "                                                                 \n",
            " flatten_10 (Flatten)        (None, 7744)              0         \n",
            "                                                                 \n",
            " dense_20 (Dense)            (None, 64)                495680    \n",
            "                                                                 \n",
            " dense_21 (Dense)            (None, 10)                650       \n",
            "                                                                 \n",
            "=================================================================\n",
            "Total params: 515146 (1.97 MB)\n",
            "Trainable params: 515146 (1.97 MB)\n",
            "Non-trainable params: 0 (0.00 Byte)\n",
            "_________________________________________________________________\n"
          ]
        }
      ]
    },
    {
      "cell_type": "code",
      "source": [
        "model.compile(optimizer='adam',\n",
        "              loss=tf.keras.losses.SparseCategoricalCrossentropy(from_logits=True),\n",
        "              metrics=['accuracy'])"
      ],
      "metadata": {
        "id": "8Zl0Gz5DGM-3"
      },
      "execution_count": 84,
      "outputs": []
    },
    {
      "cell_type": "code",
      "source": [
        "history = model.fit(x_train, y_train, epochs=10,\n",
        "                    validation_data=(x_test, y_test))"
      ],
      "metadata": {
        "id": "6W5E-0ZLEK6y",
        "colab": {
          "base_uri": "https://localhost:8080/"
        },
        "outputId": "93597368-135a-488c-879a-f45df38643d3"
      },
      "execution_count": 85,
      "outputs": [
        {
          "output_type": "stream",
          "name": "stdout",
          "text": [
            "Epoch 1/10\n",
            "1876/1876 [==============================] - 69s 36ms/step - loss: 0.1249 - accuracy: 0.9614 - val_loss: 0.0504 - val_accuracy: 0.9829\n",
            "Epoch 2/10\n",
            "1876/1876 [==============================] - 63s 34ms/step - loss: 0.0424 - accuracy: 0.9869 - val_loss: 0.0362 - val_accuracy: 0.9873\n",
            "Epoch 3/10\n",
            "1876/1876 [==============================] - 62s 33ms/step - loss: 0.0266 - accuracy: 0.9917 - val_loss: 0.0289 - val_accuracy: 0.9903\n",
            "Epoch 4/10\n",
            "1876/1876 [==============================] - 62s 33ms/step - loss: 0.0192 - accuracy: 0.9935 - val_loss: 0.0314 - val_accuracy: 0.9906\n",
            "Epoch 5/10\n",
            "1876/1876 [==============================] - 64s 34ms/step - loss: 0.0133 - accuracy: 0.9960 - val_loss: 0.0402 - val_accuracy: 0.9885\n",
            "Epoch 6/10\n",
            "1876/1876 [==============================] - 65s 34ms/step - loss: 0.0111 - accuracy: 0.9962 - val_loss: 0.0340 - val_accuracy: 0.9914\n",
            "Epoch 7/10\n",
            "1876/1876 [==============================] - 62s 33ms/step - loss: 0.0074 - accuracy: 0.9976 - val_loss: 0.0444 - val_accuracy: 0.9903\n",
            "Epoch 8/10\n",
            "1876/1876 [==============================] - 64s 34ms/step - loss: 0.0072 - accuracy: 0.9976 - val_loss: 0.0401 - val_accuracy: 0.9899\n",
            "Epoch 9/10\n",
            "1876/1876 [==============================] - 62s 33ms/step - loss: 0.0064 - accuracy: 0.9978 - val_loss: 0.0351 - val_accuracy: 0.9909\n",
            "Epoch 10/10\n",
            "1876/1876 [==============================] - 63s 34ms/step - loss: 0.0043 - accuracy: 0.9985 - val_loss: 0.0545 - val_accuracy: 0.9892\n"
          ]
        }
      ]
    },
    {
      "cell_type": "markdown",
      "source": [
        "**Curve - 2**"
      ],
      "metadata": {
        "id": "uXYVys2YV7Fv"
      }
    },
    {
      "cell_type": "code",
      "source": [
        "plt.plot(history.history['accuracy'], label='accuracy')\n",
        "plt.plot(history.history['val_accuracy'], label = 'val_accuracy')\n",
        "plt.xlabel('Epoch')\n",
        "plt.ylabel('Accuracy')\n",
        "plt.ylim([0.5, 1])\n",
        "plt.legend(loc='lower right')\n",
        "\n",
        "test_loss, test_acc = model.evaluate(x_test,  y_test, verbose=2)"
      ],
      "metadata": {
        "id": "CHvryMakEK93",
        "colab": {
          "base_uri": "https://localhost:8080/",
          "height": 473
        },
        "outputId": "796c3797-eb7e-4686-b423-23d92c27601d"
      },
      "execution_count": 86,
      "outputs": [
        {
          "output_type": "stream",
          "name": "stdout",
          "text": [
            "313/313 - 4s - loss: 0.0545 - accuracy: 0.9892 - 4s/epoch - 12ms/step\n"
          ]
        },
        {
          "output_type": "display_data",
          "data": {
            "text/plain": [
              "<Figure size 640x480 with 1 Axes>"
            ],
            "image/png": "[encoded data removed]"
          },
          "metadata": {}
        }
      ]
    },
    {
      "cell_type": "code",
      "source": [
        "print(test_acc)"
      ],
      "metadata": {
        "id": "EWBZPxt-H0Ho",
        "colab": {
          "base_uri": "https://localhost:8080/"
        },
        "outputId": "124b3d7e-b018-46e0-8213-da40205ba545"
      },
      "execution_count": 87,
      "outputs": [
        {
          "output_type": "stream",
          "name": "stdout",
          "text": [
            "0.9891999959945679\n"
          ]
        }
      ]
    },
    {
      "cell_type": "markdown",
      "source": [
        "**Model - 3**"
      ],
      "metadata": {
        "id": "Fj5HdzN-hdG-"
      }
    },
    {
      "cell_type": "code",
      "source": [
        "model = models.Sequential()\n",
        "model.add(layers.Conv2D(32, (3, 3), activation='relu', input_shape=(28, 28, 1)))\n",
        "model.add(layers.MaxPooling2D((2, 2)))\n",
        "model.add(layers.Conv2D(64, (3, 3), activation='relu'))\n",
        "model.add(layers.MaxPooling2D((2, 2)))\n",
        "model.add(layers.Conv2D(64, (3, 3), activation='relu'))\n",
        "model.add(layers.Flatten())\n",
        "model.add(layers.Dense(64, activation='relu'))\n",
        "model.add(layers.Dense(10))"
      ],
      "metadata": {
        "id": "c2v3h3dphcqi"
      },
      "execution_count": 88,
      "outputs": []
    },
    {
      "cell_type": "code",
      "source": [
        "model.summary()"
      ],
      "metadata": {
        "colab": {
          "base_uri": "https://localhost:8080/"
        },
        "id": "HkT_AWL0hctU",
        "outputId": "71c77912-30a7-4b2f-97d2-3d6f6238630f"
      },
      "execution_count": 89,
      "outputs": [
        {
          "output_type": "stream",
          "name": "stdout",
          "text": [
            "Model: \"sequential_11\"\n",
            "_________________________________________________________________\n",
            " Layer (type)                Output Shape              Param #   \n",
            "=================================================================\n",
            " conv2d_23 (Conv2D)          (None, 26, 26, 32)        320       \n",
            "                                                                 \n",
            " max_pooling2d_16 (MaxPooli  (None, 13, 13, 32)        0         \n",
            " ng2D)                                                           \n",
            "                                                                 \n",
            " conv2d_24 (Conv2D)          (None, 11, 11, 64)        18496     \n",
            "                                                                 \n",
            " max_pooling2d_17 (MaxPooli  (None, 5, 5, 64)          0         \n",
            " ng2D)                                                           \n",
            "                                                                 \n",
            " conv2d_25 (Conv2D)          (None, 3, 3, 64)          36928     \n",
            "                                                                 \n",
            " flatten_11 (Flatten)        (None, 576)               0         \n",
            "                                                                 \n",
            " dense_22 (Dense)            (None, 64)                36928     \n",
            "                                                                 \n",
            " dense_23 (Dense)            (None, 10)                650       \n",
            "                                                                 \n",
            "=================================================================\n",
            "Total params: 93322 (364.54 KB)\n",
            "Trainable params: 93322 (364.54 KB)\n",
            "Non-trainable params: 0 (0.00 Byte)\n",
            "_________________________________________________________________\n"
          ]
        }
      ]
    },
    {
      "cell_type": "code",
      "source": [
        "model.compile(optimizer='adam',\n",
        "              loss=tf.keras.losses.SparseCategoricalCrossentropy(from_logits=True),\n",
        "              metrics=['accuracy'])"
      ],
      "metadata": {
        "id": "jtw9aDnbhb1i"
      },
      "execution_count": 90,
      "outputs": []
    },
    {
      "cell_type": "code",
      "source": [
        "history = model.fit(x_train, y_train, epochs=10,\n",
        "                    validation_data=(x_test, y_test))"
      ],
      "metadata": {
        "colab": {
          "base_uri": "https://localhost:8080/"
        },
        "id": "vXDH16kwhb5T",
        "outputId": "0b0e493f-b497-43c1-c962-76e30ea290e6"
      },
      "execution_count": 91,
      "outputs": [
        {
          "output_type": "stream",
          "name": "stdout",
          "text": [
            "Epoch 1/10\n",
            "1876/1876 [==============================] - 62s 32ms/step - loss: 0.1504 - accuracy: 0.9534 - val_loss: 0.0417 - val_accuracy: 0.9871\n",
            "Epoch 2/10\n",
            "1876/1876 [==============================] - 59s 32ms/step - loss: 0.0466 - accuracy: 0.9859 - val_loss: 0.0302 - val_accuracy: 0.9905\n",
            "Epoch 3/10\n",
            "1876/1876 [==============================] - 58s 31ms/step - loss: 0.0337 - accuracy: 0.9893 - val_loss: 0.0271 - val_accuracy: 0.9915\n",
            "Epoch 4/10\n",
            "1876/1876 [==============================] - 59s 31ms/step - loss: 0.0265 - accuracy: 0.9915 - val_loss: 0.0242 - val_accuracy: 0.9932\n",
            "Epoch 5/10\n",
            "1876/1876 [==============================] - 57s 31ms/step - loss: 0.0211 - accuracy: 0.9933 - val_loss: 0.0305 - val_accuracy: 0.9914\n",
            "Epoch 6/10\n",
            "1876/1876 [==============================] - 57s 30ms/step - loss: 0.0160 - accuracy: 0.9950 - val_loss: 0.0315 - val_accuracy: 0.9914\n",
            "Epoch 7/10\n",
            "1876/1876 [==============================] - 58s 31ms/step - loss: 0.0145 - accuracy: 0.9953 - val_loss: 0.0300 - val_accuracy: 0.9916\n",
            "Epoch 8/10\n",
            "1876/1876 [==============================] - 60s 32ms/step - loss: 0.0124 - accuracy: 0.9959 - val_loss: 0.0285 - val_accuracy: 0.9923\n",
            "Epoch 9/10\n",
            "1876/1876 [==============================] - 57s 30ms/step - loss: 0.0103 - accuracy: 0.9966 - val_loss: 0.0329 - val_accuracy: 0.9921\n",
            "Epoch 10/10\n",
            "1876/1876 [==============================] - 58s 31ms/step - loss: 0.0080 - accuracy: 0.9974 - val_loss: 0.0275 - val_accuracy: 0.9928\n"
          ]
        }
      ]
    },
    {
      "cell_type": "markdown",
      "source": [
        "**Curve - 3**"
      ],
      "metadata": {
        "id": "CbLem_miV_Ad"
      }
    },
    {
      "cell_type": "code",
      "source": [
        "plt.plot(history.history['accuracy'], label='accuracy')\n",
        "plt.plot(history.history['val_accuracy'], label = 'val_accuracy')\n",
        "plt.xlabel('Epoch')\n",
        "plt.ylabel('Accuracy')\n",
        "plt.ylim([0.5, 1])\n",
        "plt.legend(loc='lower right')\n",
        "\n",
        "test_loss, test_acc = model.evaluate(x_test,  y_test, verbose=2)"
      ],
      "metadata": {
        "colab": {
          "base_uri": "https://localhost:8080/",
          "height": 473
        },
        "id": "QicRAsvKhb8h",
        "outputId": "55ba0b31-0bc3-4b58-8001-225869860af9"
      },
      "execution_count": 92,
      "outputs": [
        {
          "output_type": "stream",
          "name": "stdout",
          "text": [
            "313/313 - 2s - loss: 0.0275 - accuracy: 0.9928 - 2s/epoch - 7ms/step\n"
          ]
        },
        {
          "output_type": "display_data",
          "data": {
            "text/plain": [
              "<Figure size 640x480 with 1 Axes>"
            ],
            "image/png": "[encoded data removed]"
          },
          "metadata": {}
        }
      ]
    },
    {
      "cell_type": "code",
      "source": [
        "print(test_acc)"
      ],
      "metadata": {
        "colab": {
          "base_uri": "https://localhost:8080/"
        },
        "id": "2qkU4Aayhb_o",
        "outputId": "4f476009-79d2-41ad-be10-540a652d7dc9"
      },
      "execution_count": 93,
      "outputs": [
        {
          "output_type": "stream",
          "name": "stdout",
          "text": [
            "0.9927999973297119\n"
          ]
        }
      ]
    },
    {
      "cell_type": "markdown",
      "source": [
        "**Create a Custom Test Set**"
      ],
      "metadata": {
        "id": "znOR28CiG1fn"
      }
    },
    {
      "cell_type": "code",
      "source": [
        "custom_test_images = []\n",
        "custom_test_labels = []\n",
        "folder_path = '/content/drive/MyDrive/TME_6015/Assignment_1_Custom_Test_Data'\n",
        "for filename in os.listdir(folder_path):\n",
        "  print('filename : ', filename)\n",
        "  if filename.endswith('.png') or filename.endswith('.PNG') or filename.endswith('.JPG') or filename.endswith('.jpg') or filename.endswith('.JPEG') or filename.endswith('.jpeg'):\n",
        "    img_path = os.path.join(folder_path, filename)\n",
        "    img = Image.open(img_path).convert('L')\n",
        "    img = img.resize((28, 28))\n",
        "    threshold = 100\n",
        "    img = img.point(lambda p: p > threshold and 255)\n",
        "    img_array = np.array(img)\n",
        "    custom_test_images.append(img_array)\n",
        "    custom_test_labels.append(int(filename[0]))\n",
        "\n",
        "# Convert the list of custom images and labels to numpy arrays\n",
        "custom_test_images = np.array(custom_test_images)\n",
        "custom_test_labels = np.array(custom_test_labels)\n"
      ],
      "metadata": {
        "colab": {
          "base_uri": "https://localhost:8080/"
        },
        "id": "5NWs5ij9KDyC",
        "outputId": "5aeeb25d-9a89-4be0-ada8-a7c88685f1e0"
      },
      "execution_count": 94,
      "outputs": [
        {
          "output_type": "stream",
          "name": "stdout",
          "text": [
            "filename :  1.png\n",
            "filename :  2.png\n",
            "filename :  3.png\n",
            "filename :  4.png\n",
            "filename :  5.png\n",
            "filename :  6.png\n",
            "filename :  7.png\n",
            "filename :  8.png\n",
            "filename :  9.png\n",
            "filename :  0.png\n"
          ]
        }
      ]
    },
    {
      "cell_type": "code",
      "source": [
        "plt.figure(figsize=(14,14))\n",
        "for i in range(10):\n",
        "    plt.subplot(2,5,i+1)\n",
        "    plt.xticks([])\n",
        "    plt.yticks([])\n",
        "    plt.grid(False)\n",
        "    plt.imshow(custom_test_images[i])\n",
        "    plt.xlabel(custom_test_labels[i])\n",
        "plt.show()"
      ],
      "metadata": {
        "colab": {
          "base_uri": "https://localhost:8080/",
          "height": 831
        },
        "id": "tvUXAlqAlEnB",
        "outputId": "00366a85-015c-499f-b32f-4f9e41e237da"
      },
      "execution_count": 95,
      "outputs": [
        {
          "output_type": "display_data",
          "data": {
            "text/plain": [
              "<Figure size 1400x1400 with 10 Axes>"
            ],
            "image/png": "[encoded data removed]"
          },
          "metadata": {}
        }
      ]
    },
    {
      "cell_type": "code",
      "source": [
        "custom_test_labels, len(custom_test_labels)"
      ],
      "metadata": {
        "colab": {
          "base_uri": "https://localhost:8080/"
        },
        "id": "Psh4glGHSmNp",
        "outputId": "653c09cd-3277-4432-b169-5b597188b676"
      },
      "execution_count": 96,
      "outputs": [
        {
          "output_type": "execute_result",
          "data": {
            "text/plain": [
              "(array([1, 2, 3, 4, 5, 6, 7, 8, 9, 0]), 10)"
            ]
          },
          "metadata": {},
          "execution_count": 96
        }
      ]
    },
    {
      "cell_type": "markdown",
      "source": [
        "**Generate Classifications for Custom Test Set**"
      ],
      "metadata": {
        "id": "aDCgYU8V900U"
      }
    },
    {
      "cell_type": "code",
      "source": [
        "custom_test_pred=model.predict(custom_test_images)"
      ],
      "metadata": {
        "colab": {
          "base_uri": "https://localhost:8080/"
        },
        "id": "end2cRAwG0xG",
        "outputId": "9ab3abf0-7888-45d5-c259-74c63d73c3c2"
      },
      "execution_count": 97,
      "outputs": [
        {
          "output_type": "stream",
          "name": "stdout",
          "text": [
            "1/1 [==============================] - 0s 91ms/step\n"
          ]
        }
      ]
    },
    {
      "cell_type": "code",
      "source": [
        "custom_test_pred[0]"
      ],
      "metadata": {
        "colab": {
          "base_uri": "https://localhost:8080/"
        },
        "id": "cfvH-2kESpmP",
        "outputId": "6d0f2c2b-1a1b-4687-d05b-93f5c50da7f9"
      },
      "execution_count": 98,
      "outputs": [
        {
          "output_type": "execute_result",
          "data": {
            "text/plain": [
              "array([ -192.34807, -1235.0894 ,   752.1111 ,   374.82346, -1241.9521 ,\n",
              "       -1149.033  ,  -401.10483, -1623.7148 ,   706.03876, -1603.5377 ],\n",
              "      dtype=float32)"
            ]
          },
          "metadata": {},
          "execution_count": 98
        }
      ]
    },
    {
      "cell_type": "code",
      "source": [
        "custom_test_pred=list(map(lambda p: np.argmax(p), custom_test_pred))"
      ],
      "metadata": {
        "id": "AMRM_vljLYHx"
      },
      "execution_count": 99,
      "outputs": []
    },
    {
      "cell_type": "markdown",
      "source": [
        "**Performance Report**"
      ],
      "metadata": {
        "id": "f_kV7gbE9-yf"
      }
    },
    {
      "cell_type": "code",
      "source": [
        "for i in range(len(custom_test_pred)):\n",
        "  print(custom_test_labels[i],custom_test_pred[i])"
      ],
      "metadata": {
        "colab": {
          "base_uri": "https://localhost:8080/"
        },
        "id": "kAsoGZVLG00U",
        "outputId": "eec05108-7782-4ca3-9838-26afd5b61c81"
      },
      "execution_count": 100,
      "outputs": [
        {
          "output_type": "stream",
          "name": "stdout",
          "text": [
            "1 2\n",
            "2 2\n",
            "3 3\n",
            "4 6\n",
            "5 5\n",
            "6 3\n",
            "7 3\n",
            "8 5\n",
            "9 3\n",
            "0 3\n"
          ]
        }
      ]
    },
    {
      "cell_type": "code",
      "source": [
        "print(\"Accuracy Score: \",accuracy_score(custom_test_labels, custom_test_pred)*100)"
      ],
      "metadata": {
        "id": "g8KctYqzS23s",
        "colab": {
          "base_uri": "https://localhost:8080/"
        },
        "outputId": "d7d7bc4a-17e0-4183-889e-2c7e123a158d"
      },
      "execution_count": 102,
      "outputs": [
        {
          "output_type": "stream",
          "name": "stdout",
          "text": [
            "Accuracy Score:  30.0\n"
          ]
        }
      ]
    },
    {
      "cell_type": "code",
      "source": [],
      "metadata": {
        "id": "Ou7BfwV6oKZ0"
      },
      "execution_count": 101,
      "outputs": []
    }
  ]
}
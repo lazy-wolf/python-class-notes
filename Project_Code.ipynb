{
  "nbformat": 4,
  "nbformat_minor": 0,
  "metadata": {
    "colab": {
      "provenance": [],
      "authorship_tag": "ABX9TyPo98BSxMurCYAkPyg0kWaw",
      "include_colab_link": true
    },
    "kernelspec": {
      "name": "python3",
      "display_name": "Python 3"
    },
    "language_info": {
      "name": "python"
    }
  },
  "cells": [
    {
      "cell_type": "markdown",
      "metadata": {
        "id": "view-in-github",
        "colab_type": "text"
      },
      "source": [
        "<a href=\"https://colab.research.google.com/github/lazy-wolf/python-class-notes/blob/main/Project_Code.ipynb\" target=\"_parent\"><img src=\"https://colab.research.google.com/assets/colab-badge.svg\" alt=\"Open In Colab\"/></a>"
      ]
    },
    {
      "cell_type": "markdown",
      "source": [
        "**Group Project Code**\n",
        "\n",
        "```\n",
        "# Authoured by: Wasim Dawood Shaik, Aastha Dawar\n",
        "# UNB ID: 3744476, 3737216\n",
        "# Date: 29-11-2023\n",
        "```"
      ],
      "metadata": {
        "id": "SkmCpply3KRV"
      }
    },
    {
      "cell_type": "markdown",
      "source": [
        "**Import Libraries**"
      ],
      "metadata": {
        "id": "n_Rpttw-4T41"
      }
    },
    {
      "cell_type": "code",
      "execution_count": 59,
      "metadata": {
        "id": "GJmpv15hZrXc"
      },
      "outputs": [],
      "source": [
        "from google.colab import drive\n",
        "import pandas as pd\n",
        "import numpy as np\n",
        "import matplotlib.pyplot as plt\n",
        "from sklearn.preprocessing import MinMaxScaler\n",
        "import tensorflow as tf\n",
        "from keras.models import Sequential\n",
        "from keras.layers import Dense\n",
        "from keras.layers import LSTM, GRU\n",
        "from keras.layers import Dropout\n",
        "from keras.models import load_model\n",
        "from keras.callbacks import EarlyStopping\n",
        "from keras.callbacks import ModelCheckpoint\n",
        "import itertools\n",
        "from sklearn.metrics import r2_score, mean_absolute_error, mean_squared_error"
      ]
    },
    {
      "cell_type": "markdown",
      "source": [
        "**Mounting Google Drive in Google Colab**"
      ],
      "metadata": {
        "id": "uC581mel4aiz"
      }
    },
    {
      "cell_type": "code",
      "source": [
        "drive.mount('/content/drive', force_remount=True)"
      ],
      "metadata": {
        "colab": {
          "base_uri": "https://localhost:8080/"
        },
        "id": "3rpE8KtvZswe",
        "outputId": "536becdd-a40e-49ca-8672-047228287787"
      },
      "execution_count": 2,
      "outputs": [
        {
          "output_type": "stream",
          "name": "stdout",
          "text": [
            "Mounted at /content/drive\n"
          ]
        }
      ]
    },
    {
      "cell_type": "markdown",
      "source": [
        "**Dataset selection**"
      ],
      "metadata": {
        "id": "5wG5FvXZ4unw"
      }
    },
    {
      "cell_type": "code",
      "source": [
        "dataframe = pd.read_csv(\"/content/drive/MyDrive/TME_6015/Project/BTC-USD.csv\")"
      ],
      "metadata": {
        "id": "7loYi_sxaRc-"
      },
      "execution_count": 3,
      "outputs": []
    },
    {
      "cell_type": "markdown",
      "source": [
        "**Dataset Info**"
      ],
      "metadata": {
        "id": "McBg88cQ4zCj"
      }
    },
    {
      "cell_type": "markdown",
      "source": [
        "[Bitcoin-USD datset download source](https://finance.yahoo.com/quote/BTC-USD/history?period1=1410825600&period2=1700956800&interval=1d&filter=history&frequency=1d&includeAdjustedClose=true)\n",
        "\n",
        "*https://finance.yahoo.com/quote/BTC-USD/history?period1=1410825600&period2=1700956800&interval=1d&filter=history&frequency=1d&includeAdjustedClose=true*"
      ],
      "metadata": {
        "id": "kc9OE3jz42W8"
      }
    },
    {
      "cell_type": "code",
      "source": [
        "dataframe.head()"
      ],
      "metadata": {
        "colab": {
          "base_uri": "https://localhost:8080/",
          "height": 206
        },
        "id": "uNeRMoe0aRZ4",
        "outputId": "da494810-c94a-44d0-a41f-aeb6ea1fd0ab"
      },
      "execution_count": 4,
      "outputs": [
        {
          "output_type": "execute_result",
          "data": {
            "text/plain": [
              "         Date        Open        High         Low       Close   Adj Close  \\\n",
              "0  2014-09-17  465.864014  468.174011  452.421997  457.334015  457.334015   \n",
              "1  2014-09-18  456.859985  456.859985  413.104004  424.440002  424.440002   \n",
              "2  2014-09-19  424.102997  427.834991  384.532013  394.795990  394.795990   \n",
              "3  2014-09-20  394.673004  423.295990  389.882996  408.903992  408.903992   \n",
              "4  2014-09-21  408.084991  412.425995  393.181000  398.821014  398.821014   \n",
              "\n",
              "       Volume  \n",
              "0  21056800.0  \n",
              "1  34483200.0  \n",
              "2  37919700.0  \n",
              "3  36863600.0  \n",
              "4  26580100.0  "
            ],
            "text/html": [
              "\n",
              "  <div id=\"df-a91873bf-f8dc-4fce-8c9a-cd10fdeacea3\" class=\"colab-df-container\">\n",
              "    <div>\n",
              "<style scoped>\n",
              "    .dataframe tbody tr th:only-of-type {\n",
              "        vertical-align: middle;\n",
              "    }\n",
              "\n",
              "    .dataframe tbody tr th {\n",
              "        vertical-align: top;\n",
              "    }\n",
              "\n",
              "    .dataframe thead th {\n",
              "        text-align: right;\n",
              "    }\n",
              "</style>\n",
              "<table border=\"1\" class=\"dataframe\">\n",
              "  <thead>\n",
              "    <tr style=\"text-align: right;\">\n",
              "      <th></th>\n",
              "      <th>Date</th>\n",
              "      <th>Open</th>\n",
              "      <th>High</th>\n",
              "      <th>Low</th>\n",
              "      <th>Close</th>\n",
              "      <th>Adj Close</th>\n",
              "      <th>Volume</th>\n",
              "    </tr>\n",
              "  </thead>\n",
              "  <tbody>\n",
              "    <tr>\n",
              "      <th>0</th>\n",
              "      <td>2014-09-17</td>\n",
              "      <td>465.864014</td>\n",
              "      <td>468.174011</td>\n",
              "      <td>452.421997</td>\n",
              "      <td>457.334015</td>\n",
              "      <td>457.334015</td>\n",
              "      <td>21056800.0</td>\n",
              "    </tr>\n",
              "    <tr>\n",
              "      <th>1</th>\n",
              "      <td>2014-09-18</td>\n",
              "      <td>456.859985</td>\n",
              "      <td>456.859985</td>\n",
              "      <td>413.104004</td>\n",
              "      <td>424.440002</td>\n",
              "      <td>424.440002</td>\n",
              "      <td>34483200.0</td>\n",
              "    </tr>\n",
              "    <tr>\n",
              "      <th>2</th>\n",
              "      <td>2014-09-19</td>\n",
              "      <td>424.102997</td>\n",
              "      <td>427.834991</td>\n",
              "      <td>384.532013</td>\n",
              "      <td>394.795990</td>\n",
              "      <td>394.795990</td>\n",
              "      <td>37919700.0</td>\n",
              "    </tr>\n",
              "    <tr>\n",
              "      <th>3</th>\n",
              "      <td>2014-09-20</td>\n",
              "      <td>394.673004</td>\n",
              "      <td>423.295990</td>\n",
              "      <td>389.882996</td>\n",
              "      <td>408.903992</td>\n",
              "      <td>408.903992</td>\n",
              "      <td>36863600.0</td>\n",
              "    </tr>\n",
              "    <tr>\n",
              "      <th>4</th>\n",
              "      <td>2014-09-21</td>\n",
              "      <td>408.084991</td>\n",
              "      <td>412.425995</td>\n",
              "      <td>393.181000</td>\n",
              "      <td>398.821014</td>\n",
              "      <td>398.821014</td>\n",
              "      <td>26580100.0</td>\n",
              "    </tr>\n",
              "  </tbody>\n",
              "</table>\n",
              "</div>\n",
              "    <div class=\"colab-df-buttons\">\n",
              "\n",
              "  <div class=\"colab-df-container\">\n",
              "    <button class=\"colab-df-convert\" onclick=\"convertToInteractive('df-a91873bf-f8dc-4fce-8c9a-cd10fdeacea3')\"\n",
              "            title=\"Convert this dataframe to an interactive table.\"\n",
              "            style=\"display:none;\">\n",
              "\n",
              "  <svg xmlns=\"http://www.w3.org/2000/svg\" height=\"24px\" viewBox=\"0 -960 960 960\">\n",
              "    <path d=\"M120-120v-720h720v720H120Zm60-500h600v-160H180v160Zm220 220h160v-160H400v160Zm0 220h160v-160H400v160ZM180-400h160v-160H180v160Zm440 0h160v-160H620v160ZM180-180h160v-160H180v160Zm440 0h160v-160H620v160Z\"/>\n",
              "  </svg>\n",
              "    </button>\n",
              "\n",
              "  <style>\n",
              "    .colab-df-container {\n",
              "      display:flex;\n",
              "      gap: 12px;\n",
              "    }\n",
              "\n",
              "    .colab-df-convert {\n",
              "      background-color: #E8F0FE;\n",
              "      border: none;\n",
              "      border-radius: 50%;\n",
              "      cursor: pointer;\n",
              "      display: none;\n",
              "      fill: #1967D2;\n",
              "      height: 32px;\n",
              "      padding: 0 0 0 0;\n",
              "      width: 32px;\n",
              "    }\n",
              "\n",
              "    .colab-df-convert:hover {\n",
              "      background-color: #E2EBFA;\n",
              "      box-shadow: 0px 1px 2px rgba(60, 64, 67, 0.3), 0px 1px 3px 1px rgba(60, 64, 67, 0.15);\n",
              "      fill: #174EA6;\n",
              "    }\n",
              "\n",
              "    .colab-df-buttons div {\n",
              "      margin-bottom: 4px;\n",
              "    }\n",
              "\n",
              "    [theme=dark] .colab-df-convert {\n",
              "      background-color: #3B4455;\n",
              "      fill: #D2E3FC;\n",
              "    }\n",
              "\n",
              "    [theme=dark] .colab-df-convert:hover {\n",
              "      background-color: #434B5C;\n",
              "      box-shadow: 0px 1px 3px 1px rgba(0, 0, 0, 0.15);\n",
              "      filter: drop-shadow(0px 1px 2px rgba(0, 0, 0, 0.3));\n",
              "      fill: #FFFFFF;\n",
              "    }\n",
              "  </style>\n",
              "\n",
              "    <script>\n",
              "      const buttonEl =\n",
              "        document.querySelector('#df-a91873bf-f8dc-4fce-8c9a-cd10fdeacea3 button.colab-df-convert');\n",
              "      buttonEl.style.display =\n",
              "        google.colab.kernel.accessAllowed ? 'block' : 'none';\n",
              "\n",
              "      async function convertToInteractive(key) {\n",
              "        const element = document.querySelector('#df-a91873bf-f8dc-4fce-8c9a-cd10fdeacea3');\n",
              "        const dataTable =\n",
              "          await google.colab.kernel.invokeFunction('convertToInteractive',\n",
              "                                                    [key], {});\n",
              "        if (!dataTable) return;\n",
              "\n",
              "        const docLinkHtml = 'Like what you see? Visit the ' +\n",
              "          '<a target=\"_blank\" href=https://colab.research.google.com/notebooks/data_table.ipynb>data table notebook</a>'\n",
              "          + ' to learn more about interactive tables.';\n",
              "        element.innerHTML = '';\n",
              "        dataTable['output_type'] = 'display_data';\n",
              "        await google.colab.output.renderOutput(dataTable, element);\n",
              "        const docLink = document.createElement('div');\n",
              "        docLink.innerHTML = docLinkHtml;\n",
              "        element.appendChild(docLink);\n",
              "      }\n",
              "    </script>\n",
              "  </div>\n",
              "\n",
              "\n",
              "<div id=\"df-943bd834-21a0-4b59-afba-2c1a7c865ef7\">\n",
              "  <button class=\"colab-df-quickchart\" onclick=\"quickchart('df-943bd834-21a0-4b59-afba-2c1a7c865ef7')\"\n",
              "            title=\"Suggest charts\"\n",
              "            style=\"display:none;\">\n",
              "\n",
              "<svg xmlns=\"http://www.w3.org/2000/svg\" height=\"24px\"viewBox=\"0 0 24 24\"\n",
              "     width=\"24px\">\n",
              "    <g>\n",
              "        <path d=\"M19 3H5c-1.1 0-2 .9-2 2v14c0 1.1.9 2 2 2h14c1.1 0 2-.9 2-2V5c0-1.1-.9-2-2-2zM9 17H7v-7h2v7zm4 0h-2V7h2v10zm4 0h-2v-4h2v4z\"/>\n",
              "    </g>\n",
              "</svg>\n",
              "  </button>\n",
              "\n",
              "<style>\n",
              "  .colab-df-quickchart {\n",
              "      --bg-color: #E8F0FE;\n",
              "      --fill-color: #1967D2;\n",
              "      --hover-bg-color: #E2EBFA;\n",
              "      --hover-fill-color: #174EA6;\n",
              "      --disabled-fill-color: #AAA;\n",
              "      --disabled-bg-color: #DDD;\n",
              "  }\n",
              "\n",
              "  [theme=dark] .colab-df-quickchart {\n",
              "      --bg-color: #3B4455;\n",
              "      --fill-color: #D2E3FC;\n",
              "      --hover-bg-color: #434B5C;\n",
              "      --hover-fill-color: #FFFFFF;\n",
              "      --disabled-bg-color: #3B4455;\n",
              "      --disabled-fill-color: #666;\n",
              "  }\n",
              "\n",
              "  .colab-df-quickchart {\n",
              "    background-color: var(--bg-color);\n",
              "    border: none;\n",
              "    border-radius: 50%;\n",
              "    cursor: pointer;\n",
              "    display: none;\n",
              "    fill: var(--fill-color);\n",
              "    height: 32px;\n",
              "    padding: 0;\n",
              "    width: 32px;\n",
              "  }\n",
              "\n",
              "  .colab-df-quickchart:hover {\n",
              "    background-color: var(--hover-bg-color);\n",
              "    box-shadow: 0 1px 2px rgba(60, 64, 67, 0.3), 0 1px 3px 1px rgba(60, 64, 67, 0.15);\n",
              "    fill: var(--button-hover-fill-color);\n",
              "  }\n",
              "\n",
              "  .colab-df-quickchart-complete:disabled,\n",
              "  .colab-df-quickchart-complete:disabled:hover {\n",
              "    background-color: var(--disabled-bg-color);\n",
              "    fill: var(--disabled-fill-color);\n",
              "    box-shadow: none;\n",
              "  }\n",
              "\n",
              "  .colab-df-spinner {\n",
              "    border: 2px solid var(--fill-color);\n",
              "    border-color: transparent;\n",
              "    border-bottom-color: var(--fill-color);\n",
              "    animation:\n",
              "      spin 1s steps(1) infinite;\n",
              "  }\n",
              "\n",
              "  @keyframes spin {\n",
              "    0% {\n",
              "      border-color: transparent;\n",
              "      border-bottom-color: var(--fill-color);\n",
              "      border-left-color: var(--fill-color);\n",
              "    }\n",
              "    20% {\n",
              "      border-color: transparent;\n",
              "      border-left-color: var(--fill-color);\n",
              "      border-top-color: var(--fill-color);\n",
              "    }\n",
              "    30% {\n",
              "      border-color: transparent;\n",
              "      border-left-color: var(--fill-color);\n",
              "      border-top-color: var(--fill-color);\n",
              "      border-right-color: var(--fill-color);\n",
              "    }\n",
              "    40% {\n",
              "      border-color: transparent;\n",
              "      border-right-color: var(--fill-color);\n",
              "      border-top-color: var(--fill-color);\n",
              "    }\n",
              "    60% {\n",
              "      border-color: transparent;\n",
              "      border-right-color: var(--fill-color);\n",
              "    }\n",
              "    80% {\n",
              "      border-color: transparent;\n",
              "      border-right-color: var(--fill-color);\n",
              "      border-bottom-color: var(--fill-color);\n",
              "    }\n",
              "    90% {\n",
              "      border-color: transparent;\n",
              "      border-bottom-color: var(--fill-color);\n",
              "    }\n",
              "  }\n",
              "</style>\n",
              "\n",
              "  <script>\n",
              "    async function quickchart(key) {\n",
              "      const quickchartButtonEl =\n",
              "        document.querySelector('#' + key + ' button');\n",
              "      quickchartButtonEl.disabled = true;  // To prevent multiple clicks.\n",
              "      quickchartButtonEl.classList.add('colab-df-spinner');\n",
              "      try {\n",
              "        const charts = await google.colab.kernel.invokeFunction(\n",
              "            'suggestCharts', [key], {});\n",
              "      } catch (error) {\n",
              "        console.error('Error during call to suggestCharts:', error);\n",
              "      }\n",
              "      quickchartButtonEl.classList.remove('colab-df-spinner');\n",
              "      quickchartButtonEl.classList.add('colab-df-quickchart-complete');\n",
              "    }\n",
              "    (() => {\n",
              "      let quickchartButtonEl =\n",
              "        document.querySelector('#df-943bd834-21a0-4b59-afba-2c1a7c865ef7 button');\n",
              "      quickchartButtonEl.style.display =\n",
              "        google.colab.kernel.accessAllowed ? 'block' : 'none';\n",
              "    })();\n",
              "  </script>\n",
              "</div>\n",
              "    </div>\n",
              "  </div>\n"
            ]
          },
          "metadata": {},
          "execution_count": 4
        }
      ]
    },
    {
      "cell_type": "code",
      "source": [
        "dataframe.tail()"
      ],
      "metadata": {
        "colab": {
          "base_uri": "https://localhost:8080/",
          "height": 206
        },
        "id": "BB4YsHYraRi3",
        "outputId": "8c3387b6-5d5e-4b81-ace0-5f5947360ca4"
      },
      "execution_count": 5,
      "outputs": [
        {
          "output_type": "execute_result",
          "data": {
            "text/plain": [
              "            Date         Open         High          Low        Close  \\\n",
              "3352  2023-11-21  37469.16016  37631.14063  35813.81250  35813.81250   \n",
              "3353  2023-11-22  35756.55469  37856.98047  35670.97266  37432.33984   \n",
              "3354  2023-11-23  37420.43359  37643.91797  36923.86328  37289.62109   \n",
              "3355  2023-11-24  37296.31641  38415.33984  37261.60547  37720.28125   \n",
              "3356  2023-11-25  37721.41406  37892.42969  37617.41797  37796.79297   \n",
              "\n",
              "        Adj Close        Volume  \n",
              "3352  35813.81250  2.517216e+10  \n",
              "3353  37432.33984  2.439725e+10  \n",
              "3354  37289.62109  1.421495e+10  \n",
              "3355  37720.28125  2.292296e+10  \n",
              "3356  37796.79297  9.099571e+09  "
            ],
            "text/html": [
              "\n",
              "  <div id=\"df-06f44f7f-eb89-4414-881b-9dd1ed287b37\" class=\"colab-df-container\">\n",
              "    <div>\n",
              "<style scoped>\n",
              "    .dataframe tbody tr th:only-of-type {\n",
              "        vertical-align: middle;\n",
              "    }\n",
              "\n",
              "    .dataframe tbody tr th {\n",
              "        vertical-align: top;\n",
              "    }\n",
              "\n",
              "    .dataframe thead th {\n",
              "        text-align: right;\n",
              "    }\n",
              "</style>\n",
              "<table border=\"1\" class=\"dataframe\">\n",
              "  <thead>\n",
              "    <tr style=\"text-align: right;\">\n",
              "      <th></th>\n",
              "      <th>Date</th>\n",
              "      <th>Open</th>\n",
              "      <th>High</th>\n",
              "      <th>Low</th>\n",
              "      <th>Close</th>\n",
              "      <th>Adj Close</th>\n",
              "      <th>Volume</th>\n",
              "    </tr>\n",
              "  </thead>\n",
              "  <tbody>\n",
              "    <tr>\n",
              "      <th>3352</th>\n",
              "      <td>2023-11-21</td>\n",
              "      <td>37469.16016</td>\n",
              "      <td>37631.14063</td>\n",
              "      <td>35813.81250</td>\n",
              "      <td>35813.81250</td>\n",
              "      <td>35813.81250</td>\n",
              "      <td>2.517216e+10</td>\n",
              "    </tr>\n",
              "    <tr>\n",
              "      <th>3353</th>\n",
              "      <td>2023-11-22</td>\n",
              "      <td>35756.55469</td>\n",
              "      <td>37856.98047</td>\n",
              "      <td>35670.97266</td>\n",
              "      <td>37432.33984</td>\n",
              "      <td>37432.33984</td>\n",
              "      <td>2.439725e+10</td>\n",
              "    </tr>\n",
              "    <tr>\n",
              "      <th>3354</th>\n",
              "      <td>2023-11-23</td>\n",
              "      <td>37420.43359</td>\n",
              "      <td>37643.91797</td>\n",
              "      <td>36923.86328</td>\n",
              "      <td>37289.62109</td>\n",
              "      <td>37289.62109</td>\n",
              "      <td>1.421495e+10</td>\n",
              "    </tr>\n",
              "    <tr>\n",
              "      <th>3355</th>\n",
              "      <td>2023-11-24</td>\n",
              "      <td>37296.31641</td>\n",
              "      <td>38415.33984</td>\n",
              "      <td>37261.60547</td>\n",
              "      <td>37720.28125</td>\n",
              "      <td>37720.28125</td>\n",
              "      <td>2.292296e+10</td>\n",
              "    </tr>\n",
              "    <tr>\n",
              "      <th>3356</th>\n",
              "      <td>2023-11-25</td>\n",
              "      <td>37721.41406</td>\n",
              "      <td>37892.42969</td>\n",
              "      <td>37617.41797</td>\n",
              "      <td>37796.79297</td>\n",
              "      <td>37796.79297</td>\n",
              "      <td>9.099571e+09</td>\n",
              "    </tr>\n",
              "  </tbody>\n",
              "</table>\n",
              "</div>\n",
              "    <div class=\"colab-df-buttons\">\n",
              "\n",
              "  <div class=\"colab-df-container\">\n",
              "    <button class=\"colab-df-convert\" onclick=\"convertToInteractive('df-06f44f7f-eb89-4414-881b-9dd1ed287b37')\"\n",
              "            title=\"Convert this dataframe to an interactive table.\"\n",
              "            style=\"display:none;\">\n",
              "\n",
              "  <svg xmlns=\"http://www.w3.org/2000/svg\" height=\"24px\" viewBox=\"0 -960 960 960\">\n",
              "    <path d=\"M120-120v-720h720v720H120Zm60-500h600v-160H180v160Zm220 220h160v-160H400v160Zm0 220h160v-160H400v160ZM180-400h160v-160H180v160Zm440 0h160v-160H620v160ZM180-180h160v-160H180v160Zm440 0h160v-160H620v160Z\"/>\n",
              "  </svg>\n",
              "    </button>\n",
              "\n",
              "  <style>\n",
              "    .colab-df-container {\n",
              "      display:flex;\n",
              "      gap: 12px;\n",
              "    }\n",
              "\n",
              "    .colab-df-convert {\n",
              "      background-color: #E8F0FE;\n",
              "      border: none;\n",
              "      border-radius: 50%;\n",
              "      cursor: pointer;\n",
              "      display: none;\n",
              "      fill: #1967D2;\n",
              "      height: 32px;\n",
              "      padding: 0 0 0 0;\n",
              "      width: 32px;\n",
              "    }\n",
              "\n",
              "    .colab-df-convert:hover {\n",
              "      background-color: #E2EBFA;\n",
              "      box-shadow: 0px 1px 2px rgba(60, 64, 67, 0.3), 0px 1px 3px 1px rgba(60, 64, 67, 0.15);\n",
              "      fill: #174EA6;\n",
              "    }\n",
              "\n",
              "    .colab-df-buttons div {\n",
              "      margin-bottom: 4px;\n",
              "    }\n",
              "\n",
              "    [theme=dark] .colab-df-convert {\n",
              "      background-color: #3B4455;\n",
              "      fill: #D2E3FC;\n",
              "    }\n",
              "\n",
              "    [theme=dark] .colab-df-convert:hover {\n",
              "      background-color: #434B5C;\n",
              "      box-shadow: 0px 1px 3px 1px rgba(0, 0, 0, 0.15);\n",
              "      filter: drop-shadow(0px 1px 2px rgba(0, 0, 0, 0.3));\n",
              "      fill: #FFFFFF;\n",
              "    }\n",
              "  </style>\n",
              "\n",
              "    <script>\n",
              "      const buttonEl =\n",
              "        document.querySelector('#df-06f44f7f-eb89-4414-881b-9dd1ed287b37 button.colab-df-convert');\n",
              "      buttonEl.style.display =\n",
              "        google.colab.kernel.accessAllowed ? 'block' : 'none';\n",
              "\n",
              "      async function convertToInteractive(key) {\n",
              "        const element = document.querySelector('#df-06f44f7f-eb89-4414-881b-9dd1ed287b37');\n",
              "        const dataTable =\n",
              "          await google.colab.kernel.invokeFunction('convertToInteractive',\n",
              "                                                    [key], {});\n",
              "        if (!dataTable) return;\n",
              "\n",
              "        const docLinkHtml = 'Like what you see? Visit the ' +\n",
              "          '<a target=\"_blank\" href=https://colab.research.google.com/notebooks/data_table.ipynb>data table notebook</a>'\n",
              "          + ' to learn more about interactive tables.';\n",
              "        element.innerHTML = '';\n",
              "        dataTable['output_type'] = 'display_data';\n",
              "        await google.colab.output.renderOutput(dataTable, element);\n",
              "        const docLink = document.createElement('div');\n",
              "        docLink.innerHTML = docLinkHtml;\n",
              "        element.appendChild(docLink);\n",
              "      }\n",
              "    </script>\n",
              "  </div>\n",
              "\n",
              "\n",
              "<div id=\"df-69ba559d-9d62-4fd3-88bf-b6a31cefad0f\">\n",
              "  <button class=\"colab-df-quickchart\" onclick=\"quickchart('df-69ba559d-9d62-4fd3-88bf-b6a31cefad0f')\"\n",
              "            title=\"Suggest charts\"\n",
              "            style=\"display:none;\">\n",
              "\n",
              "<svg xmlns=\"http://www.w3.org/2000/svg\" height=\"24px\"viewBox=\"0 0 24 24\"\n",
              "     width=\"24px\">\n",
              "    <g>\n",
              "        <path d=\"M19 3H5c-1.1 0-2 .9-2 2v14c0 1.1.9 2 2 2h14c1.1 0 2-.9 2-2V5c0-1.1-.9-2-2-2zM9 17H7v-7h2v7zm4 0h-2V7h2v10zm4 0h-2v-4h2v4z\"/>\n",
              "    </g>\n",
              "</svg>\n",
              "  </button>\n",
              "\n",
              "<style>\n",
              "  .colab-df-quickchart {\n",
              "      --bg-color: #E8F0FE;\n",
              "      --fill-color: #1967D2;\n",
              "      --hover-bg-color: #E2EBFA;\n",
              "      --hover-fill-color: #174EA6;\n",
              "      --disabled-fill-color: #AAA;\n",
              "      --disabled-bg-color: #DDD;\n",
              "  }\n",
              "\n",
              "  [theme=dark] .colab-df-quickchart {\n",
              "      --bg-color: #3B4455;\n",
              "      --fill-color: #D2E3FC;\n",
              "      --hover-bg-color: #434B5C;\n",
              "      --hover-fill-color: #FFFFFF;\n",
              "      --disabled-bg-color: #3B4455;\n",
              "      --disabled-fill-color: #666;\n",
              "  }\n",
              "\n",
              "  .colab-df-quickchart {\n",
              "    background-color: var(--bg-color);\n",
              "    border: none;\n",
              "    border-radius: 50%;\n",
              "    cursor: pointer;\n",
              "    display: none;\n",
              "    fill: var(--fill-color);\n",
              "    height: 32px;\n",
              "    padding: 0;\n",
              "    width: 32px;\n",
              "  }\n",
              "\n",
              "  .colab-df-quickchart:hover {\n",
              "    background-color: var(--hover-bg-color);\n",
              "    box-shadow: 0 1px 2px rgba(60, 64, 67, 0.3), 0 1px 3px 1px rgba(60, 64, 67, 0.15);\n",
              "    fill: var(--button-hover-fill-color);\n",
              "  }\n",
              "\n",
              "  .colab-df-quickchart-complete:disabled,\n",
              "  .colab-df-quickchart-complete:disabled:hover {\n",
              "    background-color: var(--disabled-bg-color);\n",
              "    fill: var(--disabled-fill-color);\n",
              "    box-shadow: none;\n",
              "  }\n",
              "\n",
              "  .colab-df-spinner {\n",
              "    border: 2px solid var(--fill-color);\n",
              "    border-color: transparent;\n",
              "    border-bottom-color: var(--fill-color);\n",
              "    animation:\n",
              "      spin 1s steps(1) infinite;\n",
              "  }\n",
              "\n",
              "  @keyframes spin {\n",
              "    0% {\n",
              "      border-color: transparent;\n",
              "      border-bottom-color: var(--fill-color);\n",
              "      border-left-color: var(--fill-color);\n",
              "    }\n",
              "    20% {\n",
              "      border-color: transparent;\n",
              "      border-left-color: var(--fill-color);\n",
              "      border-top-color: var(--fill-color);\n",
              "    }\n",
              "    30% {\n",
              "      border-color: transparent;\n",
              "      border-left-color: var(--fill-color);\n",
              "      border-top-color: var(--fill-color);\n",
              "      border-right-color: var(--fill-color);\n",
              "    }\n",
              "    40% {\n",
              "      border-color: transparent;\n",
              "      border-right-color: var(--fill-color);\n",
              "      border-top-color: var(--fill-color);\n",
              "    }\n",
              "    60% {\n",
              "      border-color: transparent;\n",
              "      border-right-color: var(--fill-color);\n",
              "    }\n",
              "    80% {\n",
              "      border-color: transparent;\n",
              "      border-right-color: var(--fill-color);\n",
              "      border-bottom-color: var(--fill-color);\n",
              "    }\n",
              "    90% {\n",
              "      border-color: transparent;\n",
              "      border-bottom-color: var(--fill-color);\n",
              "    }\n",
              "  }\n",
              "</style>\n",
              "\n",
              "  <script>\n",
              "    async function quickchart(key) {\n",
              "      const quickchartButtonEl =\n",
              "        document.querySelector('#' + key + ' button');\n",
              "      quickchartButtonEl.disabled = true;  // To prevent multiple clicks.\n",
              "      quickchartButtonEl.classList.add('colab-df-spinner');\n",
              "      try {\n",
              "        const charts = await google.colab.kernel.invokeFunction(\n",
              "            'suggestCharts', [key], {});\n",
              "      } catch (error) {\n",
              "        console.error('Error during call to suggestCharts:', error);\n",
              "      }\n",
              "      quickchartButtonEl.classList.remove('colab-df-spinner');\n",
              "      quickchartButtonEl.classList.add('colab-df-quickchart-complete');\n",
              "    }\n",
              "    (() => {\n",
              "      let quickchartButtonEl =\n",
              "        document.querySelector('#df-69ba559d-9d62-4fd3-88bf-b6a31cefad0f button');\n",
              "      quickchartButtonEl.style.display =\n",
              "        google.colab.kernel.accessAllowed ? 'block' : 'none';\n",
              "    })();\n",
              "  </script>\n",
              "</div>\n",
              "    </div>\n",
              "  </div>\n"
            ]
          },
          "metadata": {},
          "execution_count": 5
        }
      ]
    },
    {
      "cell_type": "code",
      "source": [
        "dataframe.info()"
      ],
      "metadata": {
        "colab": {
          "base_uri": "https://localhost:8080/"
        },
        "id": "l4NH3w0AbswJ",
        "outputId": "f9cd33ed-0962-435d-9808-c76ecfec7dbb"
      },
      "execution_count": 6,
      "outputs": [
        {
          "output_type": "stream",
          "name": "stdout",
          "text": [
            "<class 'pandas.core.frame.DataFrame'>\n",
            "RangeIndex: 3357 entries, 0 to 3356\n",
            "Data columns (total 7 columns):\n",
            " #   Column     Non-Null Count  Dtype  \n",
            "---  ------     --------------  -----  \n",
            " 0   Date       3357 non-null   object \n",
            " 1   Open       3357 non-null   float64\n",
            " 2   High       3357 non-null   float64\n",
            " 3   Low        3357 non-null   float64\n",
            " 4   Close      3357 non-null   float64\n",
            " 5   Adj Close  3357 non-null   float64\n",
            " 6   Volume     3357 non-null   float64\n",
            "dtypes: float64(6), object(1)\n",
            "memory usage: 183.7+ KB\n"
          ]
        }
      ]
    },
    {
      "cell_type": "code",
      "source": [
        "dataframe.describe()"
      ],
      "metadata": {
        "colab": {
          "base_uri": "https://localhost:8080/",
          "height": 300
        },
        "id": "8o4zGeWibvrj",
        "outputId": "00247e7b-674c-4431-f0dc-4d88a4c2e2c3"
      },
      "execution_count": 7,
      "outputs": [
        {
          "output_type": "execute_result",
          "data": {
            "text/plain": [
              "               Open          High           Low         Close     Adj Close  \\\n",
              "count   3357.000000   3357.000000   3357.000000   3357.000000   3357.000000   \n",
              "mean   14280.733942  14617.408292  13917.086255  14290.522958  14290.522958   \n",
              "std    16024.100730  16413.765412  15585.277279  16024.424885  16024.424885   \n",
              "min      176.897003    211.731003    171.509995    178.102997    178.102997   \n",
              "25%      898.171997    913.184021    879.807007    899.072998    899.072998   \n",
              "50%     8169.060059   8296.694336   7944.776855   8180.479980   8180.479980   \n",
              "75%    23150.929690  23578.650390  22747.835940  23164.318360  23164.318360   \n",
              "max    67549.734380  68789.625000  66382.062500  67566.828130  67566.828130   \n",
              "\n",
              "             Volume  \n",
              "count  3.357000e+03  \n",
              "mean   1.648368e+10  \n",
              "std    1.916332e+10  \n",
              "min    5.914570e+06  \n",
              "25%    1.477750e+08  \n",
              "50%    1.100281e+10  \n",
              "75%    2.689636e+10  \n",
              "max    3.509680e+11  "
            ],
            "text/html": [
              "\n",
              "  <div id=\"df-4e90288f-9917-45df-9836-9e8fc9c712a0\" class=\"colab-df-container\">\n",
              "    <div>\n",
              "<style scoped>\n",
              "    .dataframe tbody tr th:only-of-type {\n",
              "        vertical-align: middle;\n",
              "    }\n",
              "\n",
              "    .dataframe tbody tr th {\n",
              "        vertical-align: top;\n",
              "    }\n",
              "\n",
              "    .dataframe thead th {\n",
              "        text-align: right;\n",
              "    }\n",
              "</style>\n",
              "<table border=\"1\" class=\"dataframe\">\n",
              "  <thead>\n",
              "    <tr style=\"text-align: right;\">\n",
              "      <th></th>\n",
              "      <th>Open</th>\n",
              "      <th>High</th>\n",
              "      <th>Low</th>\n",
              "      <th>Close</th>\n",
              "      <th>Adj Close</th>\n",
              "      <th>Volume</th>\n",
              "    </tr>\n",
              "  </thead>\n",
              "  <tbody>\n",
              "    <tr>\n",
              "      <th>count</th>\n",
              "      <td>3357.000000</td>\n",
              "      <td>3357.000000</td>\n",
              "      <td>3357.000000</td>\n",
              "      <td>3357.000000</td>\n",
              "      <td>3357.000000</td>\n",
              "      <td>3.357000e+03</td>\n",
              "    </tr>\n",
              "    <tr>\n",
              "      <th>mean</th>\n",
              "      <td>14280.733942</td>\n",
              "      <td>14617.408292</td>\n",
              "      <td>13917.086255</td>\n",
              "      <td>14290.522958</td>\n",
              "      <td>14290.522958</td>\n",
              "      <td>1.648368e+10</td>\n",
              "    </tr>\n",
              "    <tr>\n",
              "      <th>std</th>\n",
              "      <td>16024.100730</td>\n",
              "      <td>16413.765412</td>\n",
              "      <td>15585.277279</td>\n",
              "      <td>16024.424885</td>\n",
              "      <td>16024.424885</td>\n",
              "      <td>1.916332e+10</td>\n",
              "    </tr>\n",
              "    <tr>\n",
              "      <th>min</th>\n",
              "      <td>176.897003</td>\n",
              "      <td>211.731003</td>\n",
              "      <td>171.509995</td>\n",
              "      <td>178.102997</td>\n",
              "      <td>178.102997</td>\n",
              "      <td>5.914570e+06</td>\n",
              "    </tr>\n",
              "    <tr>\n",
              "      <th>25%</th>\n",
              "      <td>898.171997</td>\n",
              "      <td>913.184021</td>\n",
              "      <td>879.807007</td>\n",
              "      <td>899.072998</td>\n",
              "      <td>899.072998</td>\n",
              "      <td>1.477750e+08</td>\n",
              "    </tr>\n",
              "    <tr>\n",
              "      <th>50%</th>\n",
              "      <td>8169.060059</td>\n",
              "      <td>8296.694336</td>\n",
              "      <td>7944.776855</td>\n",
              "      <td>8180.479980</td>\n",
              "      <td>8180.479980</td>\n",
              "      <td>1.100281e+10</td>\n",
              "    </tr>\n",
              "    <tr>\n",
              "      <th>75%</th>\n",
              "      <td>23150.929690</td>\n",
              "      <td>23578.650390</td>\n",
              "      <td>22747.835940</td>\n",
              "      <td>23164.318360</td>\n",
              "      <td>23164.318360</td>\n",
              "      <td>2.689636e+10</td>\n",
              "    </tr>\n",
              "    <tr>\n",
              "      <th>max</th>\n",
              "      <td>67549.734380</td>\n",
              "      <td>68789.625000</td>\n",
              "      <td>66382.062500</td>\n",
              "      <td>67566.828130</td>\n",
              "      <td>67566.828130</td>\n",
              "      <td>3.509680e+11</td>\n",
              "    </tr>\n",
              "  </tbody>\n",
              "</table>\n",
              "</div>\n",
              "    <div class=\"colab-df-buttons\">\n",
              "\n",
              "  <div class=\"colab-df-container\">\n",
              "    <button class=\"colab-df-convert\" onclick=\"convertToInteractive('df-4e90288f-9917-45df-9836-9e8fc9c712a0')\"\n",
              "            title=\"Convert this dataframe to an interactive table.\"\n",
              "            style=\"display:none;\">\n",
              "\n",
              "  <svg xmlns=\"http://www.w3.org/2000/svg\" height=\"24px\" viewBox=\"0 -960 960 960\">\n",
              "    <path d=\"M120-120v-720h720v720H120Zm60-500h600v-160H180v160Zm220 220h160v-160H400v160Zm0 220h160v-160H400v160ZM180-400h160v-160H180v160Zm440 0h160v-160H620v160ZM180-180h160v-160H180v160Zm440 0h160v-160H620v160Z\"/>\n",
              "  </svg>\n",
              "    </button>\n",
              "\n",
              "  <style>\n",
              "    .colab-df-container {\n",
              "      display:flex;\n",
              "      gap: 12px;\n",
              "    }\n",
              "\n",
              "    .colab-df-convert {\n",
              "      background-color: #E8F0FE;\n",
              "      border: none;\n",
              "      border-radius: 50%;\n",
              "      cursor: pointer;\n",
              "      display: none;\n",
              "      fill: #1967D2;\n",
              "      height: 32px;\n",
              "      padding: 0 0 0 0;\n",
              "      width: 32px;\n",
              "    }\n",
              "\n",
              "    .colab-df-convert:hover {\n",
              "      background-color: #E2EBFA;\n",
              "      box-shadow: 0px 1px 2px rgba(60, 64, 67, 0.3), 0px 1px 3px 1px rgba(60, 64, 67, 0.15);\n",
              "      fill: #174EA6;\n",
              "    }\n",
              "\n",
              "    .colab-df-buttons div {\n",
              "      margin-bottom: 4px;\n",
              "    }\n",
              "\n",
              "    [theme=dark] .colab-df-convert {\n",
              "      background-color: #3B4455;\n",
              "      fill: #D2E3FC;\n",
              "    }\n",
              "\n",
              "    [theme=dark] .colab-df-convert:hover {\n",
              "      background-color: #434B5C;\n",
              "      box-shadow: 0px 1px 3px 1px rgba(0, 0, 0, 0.15);\n",
              "      filter: drop-shadow(0px 1px 2px rgba(0, 0, 0, 0.3));\n",
              "      fill: #FFFFFF;\n",
              "    }\n",
              "  </style>\n",
              "\n",
              "    <script>\n",
              "      const buttonEl =\n",
              "        document.querySelector('#df-4e90288f-9917-45df-9836-9e8fc9c712a0 button.colab-df-convert');\n",
              "      buttonEl.style.display =\n",
              "        google.colab.kernel.accessAllowed ? 'block' : 'none';\n",
              "\n",
              "      async function convertToInteractive(key) {\n",
              "        const element = document.querySelector('#df-4e90288f-9917-45df-9836-9e8fc9c712a0');\n",
              "        const dataTable =\n",
              "          await google.colab.kernel.invokeFunction('convertToInteractive',\n",
              "                                                    [key], {});\n",
              "        if (!dataTable) return;\n",
              "\n",
              "        const docLinkHtml = 'Like what you see? Visit the ' +\n",
              "          '<a target=\"_blank\" href=https://colab.research.google.com/notebooks/data_table.ipynb>data table notebook</a>'\n",
              "          + ' to learn more about interactive tables.';\n",
              "        element.innerHTML = '';\n",
              "        dataTable['output_type'] = 'display_data';\n",
              "        await google.colab.output.renderOutput(dataTable, element);\n",
              "        const docLink = document.createElement('div');\n",
              "        docLink.innerHTML = docLinkHtml;\n",
              "        element.appendChild(docLink);\n",
              "      }\n",
              "    </script>\n",
              "  </div>\n",
              "\n",
              "\n",
              "<div id=\"df-ad085f9f-a060-4014-bba6-49f3199f2824\">\n",
              "  <button class=\"colab-df-quickchart\" onclick=\"quickchart('df-ad085f9f-a060-4014-bba6-49f3199f2824')\"\n",
              "            title=\"Suggest charts\"\n",
              "            style=\"display:none;\">\n",
              "\n",
              "<svg xmlns=\"http://www.w3.org/2000/svg\" height=\"24px\"viewBox=\"0 0 24 24\"\n",
              "     width=\"24px\">\n",
              "    <g>\n",
              "        <path d=\"M19 3H5c-1.1 0-2 .9-2 2v14c0 1.1.9 2 2 2h14c1.1 0 2-.9 2-2V5c0-1.1-.9-2-2-2zM9 17H7v-7h2v7zm4 0h-2V7h2v10zm4 0h-2v-4h2v4z\"/>\n",
              "    </g>\n",
              "</svg>\n",
              "  </button>\n",
              "\n",
              "<style>\n",
              "  .colab-df-quickchart {\n",
              "      --bg-color: #E8F0FE;\n",
              "      --fill-color: #1967D2;\n",
              "      --hover-bg-color: #E2EBFA;\n",
              "      --hover-fill-color: #174EA6;\n",
              "      --disabled-fill-color: #AAA;\n",
              "      --disabled-bg-color: #DDD;\n",
              "  }\n",
              "\n",
              "  [theme=dark] .colab-df-quickchart {\n",
              "      --bg-color: #3B4455;\n",
              "      --fill-color: #D2E3FC;\n",
              "      --hover-bg-color: #434B5C;\n",
              "      --hover-fill-color: #FFFFFF;\n",
              "      --disabled-bg-color: #3B4455;\n",
              "      --disabled-fill-color: #666;\n",
              "  }\n",
              "\n",
              "  .colab-df-quickchart {\n",
              "    background-color: var(--bg-color);\n",
              "    border: none;\n",
              "    border-radius: 50%;\n",
              "    cursor: pointer;\n",
              "    display: none;\n",
              "    fill: var(--fill-color);\n",
              "    height: 32px;\n",
              "    padding: 0;\n",
              "    width: 32px;\n",
              "  }\n",
              "\n",
              "  .colab-df-quickchart:hover {\n",
              "    background-color: var(--hover-bg-color);\n",
              "    box-shadow: 0 1px 2px rgba(60, 64, 67, 0.3), 0 1px 3px 1px rgba(60, 64, 67, 0.15);\n",
              "    fill: var(--button-hover-fill-color);\n",
              "  }\n",
              "\n",
              "  .colab-df-quickchart-complete:disabled,\n",
              "  .colab-df-quickchart-complete:disabled:hover {\n",
              "    background-color: var(--disabled-bg-color);\n",
              "    fill: var(--disabled-fill-color);\n",
              "    box-shadow: none;\n",
              "  }\n",
              "\n",
              "  .colab-df-spinner {\n",
              "    border: 2px solid var(--fill-color);\n",
              "    border-color: transparent;\n",
              "    border-bottom-color: var(--fill-color);\n",
              "    animation:\n",
              "      spin 1s steps(1) infinite;\n",
              "  }\n",
              "\n",
              "  @keyframes spin {\n",
              "    0% {\n",
              "      border-color: transparent;\n",
              "      border-bottom-color: var(--fill-color);\n",
              "      border-left-color: var(--fill-color);\n",
              "    }\n",
              "    20% {\n",
              "      border-color: transparent;\n",
              "      border-left-color: var(--fill-color);\n",
              "      border-top-color: var(--fill-color);\n",
              "    }\n",
              "    30% {\n",
              "      border-color: transparent;\n",
              "      border-left-color: var(--fill-color);\n",
              "      border-top-color: var(--fill-color);\n",
              "      border-right-color: var(--fill-color);\n",
              "    }\n",
              "    40% {\n",
              "      border-color: transparent;\n",
              "      border-right-color: var(--fill-color);\n",
              "      border-top-color: var(--fill-color);\n",
              "    }\n",
              "    60% {\n",
              "      border-color: transparent;\n",
              "      border-right-color: var(--fill-color);\n",
              "    }\n",
              "    80% {\n",
              "      border-color: transparent;\n",
              "      border-right-color: var(--fill-color);\n",
              "      border-bottom-color: var(--fill-color);\n",
              "    }\n",
              "    90% {\n",
              "      border-color: transparent;\n",
              "      border-bottom-color: var(--fill-color);\n",
              "    }\n",
              "  }\n",
              "</style>\n",
              "\n",
              "  <script>\n",
              "    async function quickchart(key) {\n",
              "      const quickchartButtonEl =\n",
              "        document.querySelector('#' + key + ' button');\n",
              "      quickchartButtonEl.disabled = true;  // To prevent multiple clicks.\n",
              "      quickchartButtonEl.classList.add('colab-df-spinner');\n",
              "      try {\n",
              "        const charts = await google.colab.kernel.invokeFunction(\n",
              "            'suggestCharts', [key], {});\n",
              "      } catch (error) {\n",
              "        console.error('Error during call to suggestCharts:', error);\n",
              "      }\n",
              "      quickchartButtonEl.classList.remove('colab-df-spinner');\n",
              "      quickchartButtonEl.classList.add('colab-df-quickchart-complete');\n",
              "    }\n",
              "    (() => {\n",
              "      let quickchartButtonEl =\n",
              "        document.querySelector('#df-ad085f9f-a060-4014-bba6-49f3199f2824 button');\n",
              "      quickchartButtonEl.style.display =\n",
              "        google.colab.kernel.accessAllowed ? 'block' : 'none';\n",
              "    })();\n",
              "  </script>\n",
              "</div>\n",
              "    </div>\n",
              "  </div>\n"
            ]
          },
          "metadata": {},
          "execution_count": 7
        }
      ]
    },
    {
      "cell_type": "code",
      "source": [
        "dataframe.columns.tolist()"
      ],
      "metadata": {
        "colab": {
          "base_uri": "https://localhost:8080/"
        },
        "id": "P4iDap0MaRmT",
        "outputId": "c503d403-401d-434f-df7c-4afad0ed5abf"
      },
      "execution_count": 8,
      "outputs": [
        {
          "output_type": "execute_result",
          "data": {
            "text/plain": [
              "['Date', 'Open', 'High', 'Low', 'Close', 'Adj Close', 'Volume']"
            ]
          },
          "metadata": {},
          "execution_count": 8
        }
      ]
    },
    {
      "cell_type": "code",
      "source": [
        "dataframe.shape"
      ],
      "metadata": {
        "colab": {
          "base_uri": "https://localhost:8080/"
        },
        "id": "C0S3qnCwaRpj",
        "outputId": "d4ea0543-bda3-4489-bb1c-1f2e73ba6449"
      },
      "execution_count": 9,
      "outputs": [
        {
          "output_type": "execute_result",
          "data": {
            "text/plain": [
              "(3357, 7)"
            ]
          },
          "metadata": {},
          "execution_count": 9
        }
      ]
    },
    {
      "cell_type": "code",
      "source": [
        "print(f\"Columns : {dataframe.shape[1]} || Rows : {dataframe.shape[0]}\")"
      ],
      "metadata": {
        "colab": {
          "base_uri": "https://localhost:8080/"
        },
        "id": "XhprNT6UaRtM",
        "outputId": "502d8ded-4e44-4f0d-8f72-27266666bf3e"
      },
      "execution_count": 10,
      "outputs": [
        {
          "output_type": "stream",
          "name": "stdout",
          "text": [
            "Columns : 7 || Rows : 3357\n"
          ]
        }
      ]
    },
    {
      "cell_type": "code",
      "source": [
        "na_values = dataframe.isna().values.sum()\n",
        "null_values = dataframe.isnull().values.sum()\n",
        "print(f\"NA Values : {na_values} || Null Values : {null_values}\")"
      ],
      "metadata": {
        "colab": {
          "base_uri": "https://localhost:8080/"
        },
        "id": "vinxEGa3aRw9",
        "outputId": "255d189d-9021-447e-a5f5-4cc007408fbf"
      },
      "execution_count": 11,
      "outputs": [
        {
          "output_type": "stream",
          "name": "stdout",
          "text": [
            "NA Values : 0 || Null Values : 0\n"
          ]
        }
      ]
    },
    {
      "cell_type": "code",
      "source": [
        "print(f\"Dataset -> Start Date : {dataframe.iloc[0,0]} || End Date : {dataframe.iloc[-1,0]}\")"
      ],
      "metadata": {
        "colab": {
          "base_uri": "https://localhost:8080/"
        },
        "id": "rSSmccm_aR0R",
        "outputId": "137aacbc-0516-4375-ce63-ddf85374f0dc"
      },
      "execution_count": 12,
      "outputs": [
        {
          "output_type": "stream",
          "name": "stdout",
          "text": [
            "Dataset -> Start Date : 2014-09-17 || End Date : 2023-11-25\n"
          ]
        }
      ]
    },
    {
      "cell_type": "code",
      "source": [
        "dataframe['Date'] = pd.to_datetime(dataframe['Date'])"
      ],
      "metadata": {
        "id": "Khwbgu2hfFJE"
      },
      "execution_count": 13,
      "outputs": []
    },
    {
      "cell_type": "code",
      "source": [
        "plt.figure(figsize=(14,6), dpi= 100, facecolor='w', edgecolor='k')\n",
        "\n",
        "plt.plot(dataframe['Date'], dataframe['Open'], color='red', label = 'Opening Price')\n",
        "plt.plot(dataframe['Date'], dataframe['Close'], color='green', label = 'Closing Price')\n",
        "plt.plot(dataframe['Date'], dataframe['Low'], color='black', label = 'Low Price')\n",
        "plt.plot(dataframe['Date'], dataframe['High'], color='blue', label = 'High Price')\n",
        "plt.xlabel('Date')\n",
        "plt.ylabel('USD')\n",
        "plt.title('Bitcoin Prices FY 2014-2023')\n",
        "plt.legend(loc='best')\n",
        "\n",
        "plt.subplots(2, 2, figsize = (14, 8))\n",
        "\n",
        "ax1 = plt.subplot(2, 2, 1)\n",
        "plt.plot(dataframe['Date'], dataframe['Open'], color='red', label = 'Opening Price')\n",
        "plt.xlabel('Date')\n",
        "plt.ylabel('Opening Price')\n",
        "plt.title('Bitcoin Opening Prices FY 2014-2023')\n",
        "plt.legend(loc='best')\n",
        "\n",
        "ax2 = plt.subplot(2, 2, 2)\n",
        "plt.plot(dataframe['Date'], dataframe['Close'], color='green', label = 'Closing Price')\n",
        "plt.xlabel('Date')\n",
        "plt.ylabel('Closing Price')\n",
        "plt.title('Bitcoin Closing Prices FY 2014-2023')\n",
        "plt.legend(loc='best')\n",
        "\n",
        "ax3 = plt.subplot(2, 2, 3)\n",
        "plt.plot(dataframe['Date'], dataframe['Low'], color='black', label = 'Low Price')\n",
        "plt.xlabel('Date')\n",
        "plt.ylabel('Low Price')\n",
        "plt.title('Bitcoin Low Prices FY 2014-2023')\n",
        "plt.legend(loc='best')\n",
        "\n",
        "ax4 = plt.subplot(2, 2, 4)\n",
        "plt.plot(dataframe['Date'], dataframe['High'], color='blue', label = 'High Price')\n",
        "plt.xlabel('Date')\n",
        "plt.ylabel('High Price')\n",
        "plt.title('Bitcoin High Prices FY 2014-2023')\n",
        "plt.legend(loc='best')\n",
        "\n",
        "plt.show()"
      ],
      "metadata": {
        "colab": {
          "base_uri": "https://localhost:8080/",
          "height": 1000
        },
        "id": "NxzQLJiKaR3V",
        "outputId": "cd5ea624-a83b-40b5-a15d-18c203797c6a"
      },
      "execution_count": 14,
      "outputs": [
        {
          "output_type": "display_data",
          "data": {
            "text/plain": [
              "<Figure size 1400x600 with 1 Axes>"
            ],
            "image/png": "[encoded data removed]"
          },
          "metadata": {}
        },
        {
          "output_type": "display_data",
          "data": {
            "text/plain": [
              "<Figure size 1400x800 with 4 Axes>"
            ],
            "image/png": "[encoded data removed]"
          },
          "metadata": {}
        }
      ]
    },
    {
      "cell_type": "markdown",
      "source": [
        "**Data Pre-processing**"
      ],
      "metadata": {
        "id": "3lUdWesk5Qzl"
      }
    },
    {
      "cell_type": "code",
      "source": [
        "final_dataframe = dataframe.drop(['Date','Open', 'Low', 'High','Adj Close'], axis=1)"
      ],
      "metadata": {
        "id": "PB5n51XdaR6q"
      },
      "execution_count": 15,
      "outputs": []
    },
    {
      "cell_type": "code",
      "source": [
        "final_dataframe.head()"
      ],
      "metadata": {
        "colab": {
          "base_uri": "https://localhost:8080/",
          "height": 206
        },
        "id": "kOMqxh3shbxK",
        "outputId": "fa189c92-156e-4ea3-9f04-e23b2c84213d"
      },
      "execution_count": 16,
      "outputs": [
        {
          "output_type": "execute_result",
          "data": {
            "text/plain": [
              "        Close      Volume\n",
              "0  457.334015  21056800.0\n",
              "1  424.440002  34483200.0\n",
              "2  394.795990  37919700.0\n",
              "3  408.903992  36863600.0\n",
              "4  398.821014  26580100.0"
            ],
            "text/html": [
              "\n",
              "  <div id=\"df-bf515445-4875-4459-b924-16ff556e803c\" class=\"colab-df-container\">\n",
              "    <div>\n",
              "<style scoped>\n",
              "    .dataframe tbody tr th:only-of-type {\n",
              "        vertical-align: middle;\n",
              "    }\n",
              "\n",
              "    .dataframe tbody tr th {\n",
              "        vertical-align: top;\n",
              "    }\n",
              "\n",
              "    .dataframe thead th {\n",
              "        text-align: right;\n",
              "    }\n",
              "</style>\n",
              "<table border=\"1\" class=\"dataframe\">\n",
              "  <thead>\n",
              "    <tr style=\"text-align: right;\">\n",
              "      <th></th>\n",
              "      <th>Close</th>\n",
              "      <th>Volume</th>\n",
              "    </tr>\n",
              "  </thead>\n",
              "  <tbody>\n",
              "    <tr>\n",
              "      <th>0</th>\n",
              "      <td>457.334015</td>\n",
              "      <td>21056800.0</td>\n",
              "    </tr>\n",
              "    <tr>\n",
              "      <th>1</th>\n",
              "      <td>424.440002</td>\n",
              "      <td>34483200.0</td>\n",
              "    </tr>\n",
              "    <tr>\n",
              "      <th>2</th>\n",
              "      <td>394.795990</td>\n",
              "      <td>37919700.0</td>\n",
              "    </tr>\n",
              "    <tr>\n",
              "      <th>3</th>\n",
              "      <td>408.903992</td>\n",
              "      <td>36863600.0</td>\n",
              "    </tr>\n",
              "    <tr>\n",
              "      <th>4</th>\n",
              "      <td>398.821014</td>\n",
              "      <td>26580100.0</td>\n",
              "    </tr>\n",
              "  </tbody>\n",
              "</table>\n",
              "</div>\n",
              "    <div class=\"colab-df-buttons\">\n",
              "\n",
              "  <div class=\"colab-df-container\">\n",
              "    <button class=\"colab-df-convert\" onclick=\"convertToInteractive('df-bf515445-4875-4459-b924-16ff556e803c')\"\n",
              "            title=\"Convert this dataframe to an interactive table.\"\n",
              "            style=\"display:none;\">\n",
              "\n",
              "  <svg xmlns=\"http://www.w3.org/2000/svg\" height=\"24px\" viewBox=\"0 -960 960 960\">\n",
              "    <path d=\"M120-120v-720h720v720H120Zm60-500h600v-160H180v160Zm220 220h160v-160H400v160Zm0 220h160v-160H400v160ZM180-400h160v-160H180v160Zm440 0h160v-160H620v160ZM180-180h160v-160H180v160Zm440 0h160v-160H620v160Z\"/>\n",
              "  </svg>\n",
              "    </button>\n",
              "\n",
              "  <style>\n",
              "    .colab-df-container {\n",
              "      display:flex;\n",
              "      gap: 12px;\n",
              "    }\n",
              "\n",
              "    .colab-df-convert {\n",
              "      background-color: #E8F0FE;\n",
              "      border: none;\n",
              "      border-radius: 50%;\n",
              "      cursor: pointer;\n",
              "      display: none;\n",
              "      fill: #1967D2;\n",
              "      height: 32px;\n",
              "      padding: 0 0 0 0;\n",
              "      width: 32px;\n",
              "    }\n",
              "\n",
              "    .colab-df-convert:hover {\n",
              "      background-color: #E2EBFA;\n",
              "      box-shadow: 0px 1px 2px rgba(60, 64, 67, 0.3), 0px 1px 3px 1px rgba(60, 64, 67, 0.15);\n",
              "      fill: #174EA6;\n",
              "    }\n",
              "\n",
              "    .colab-df-buttons div {\n",
              "      margin-bottom: 4px;\n",
              "    }\n",
              "\n",
              "    [theme=dark] .colab-df-convert {\n",
              "      background-color: #3B4455;\n",
              "      fill: #D2E3FC;\n",
              "    }\n",
              "\n",
              "    [theme=dark] .colab-df-convert:hover {\n",
              "      background-color: #434B5C;\n",
              "      box-shadow: 0px 1px 3px 1px rgba(0, 0, 0, 0.15);\n",
              "      filter: drop-shadow(0px 1px 2px rgba(0, 0, 0, 0.3));\n",
              "      fill: #FFFFFF;\n",
              "    }\n",
              "  </style>\n",
              "\n",
              "    <script>\n",
              "      const buttonEl =\n",
              "        document.querySelector('#df-bf515445-4875-4459-b924-16ff556e803c button.colab-df-convert');\n",
              "      buttonEl.style.display =\n",
              "        google.colab.kernel.accessAllowed ? 'block' : 'none';\n",
              "\n",
              "      async function convertToInteractive(key) {\n",
              "        const element = document.querySelector('#df-bf515445-4875-4459-b924-16ff556e803c');\n",
              "        const dataTable =\n",
              "          await google.colab.kernel.invokeFunction('convertToInteractive',\n",
              "                                                    [key], {});\n",
              "        if (!dataTable) return;\n",
              "\n",
              "        const docLinkHtml = 'Like what you see? Visit the ' +\n",
              "          '<a target=\"_blank\" href=https://colab.research.google.com/notebooks/data_table.ipynb>data table notebook</a>'\n",
              "          + ' to learn more about interactive tables.';\n",
              "        element.innerHTML = '';\n",
              "        dataTable['output_type'] = 'display_data';\n",
              "        await google.colab.output.renderOutput(dataTable, element);\n",
              "        const docLink = document.createElement('div');\n",
              "        docLink.innerHTML = docLinkHtml;\n",
              "        element.appendChild(docLink);\n",
              "      }\n",
              "    </script>\n",
              "  </div>\n",
              "\n",
              "\n",
              "<div id=\"df-dba1df4b-966e-433b-848c-9abf91efbde0\">\n",
              "  <button class=\"colab-df-quickchart\" onclick=\"quickchart('df-dba1df4b-966e-433b-848c-9abf91efbde0')\"\n",
              "            title=\"Suggest charts\"\n",
              "            style=\"display:none;\">\n",
              "\n",
              "<svg xmlns=\"http://www.w3.org/2000/svg\" height=\"24px\"viewBox=\"0 0 24 24\"\n",
              "     width=\"24px\">\n",
              "    <g>\n",
              "        <path d=\"M19 3H5c-1.1 0-2 .9-2 2v14c0 1.1.9 2 2 2h14c1.1 0 2-.9 2-2V5c0-1.1-.9-2-2-2zM9 17H7v-7h2v7zm4 0h-2V7h2v10zm4 0h-2v-4h2v4z\"/>\n",
              "    </g>\n",
              "</svg>\n",
              "  </button>\n",
              "\n",
              "<style>\n",
              "  .colab-df-quickchart {\n",
              "      --bg-color: #E8F0FE;\n",
              "      --fill-color: #1967D2;\n",
              "      --hover-bg-color: #E2EBFA;\n",
              "      --hover-fill-color: #174EA6;\n",
              "      --disabled-fill-color: #AAA;\n",
              "      --disabled-bg-color: #DDD;\n",
              "  }\n",
              "\n",
              "  [theme=dark] .colab-df-quickchart {\n",
              "      --bg-color: #3B4455;\n",
              "      --fill-color: #D2E3FC;\n",
              "      --hover-bg-color: #434B5C;\n",
              "      --hover-fill-color: #FFFFFF;\n",
              "      --disabled-bg-color: #3B4455;\n",
              "      --disabled-fill-color: #666;\n",
              "  }\n",
              "\n",
              "  .colab-df-quickchart {\n",
              "    background-color: var(--bg-color);\n",
              "    border: none;\n",
              "    border-radius: 50%;\n",
              "    cursor: pointer;\n",
              "    display: none;\n",
              "    fill: var(--fill-color);\n",
              "    height: 32px;\n",
              "    padding: 0;\n",
              "    width: 32px;\n",
              "  }\n",
              "\n",
              "  .colab-df-quickchart:hover {\n",
              "    background-color: var(--hover-bg-color);\n",
              "    box-shadow: 0 1px 2px rgba(60, 64, 67, 0.3), 0 1px 3px 1px rgba(60, 64, 67, 0.15);\n",
              "    fill: var(--button-hover-fill-color);\n",
              "  }\n",
              "\n",
              "  .colab-df-quickchart-complete:disabled,\n",
              "  .colab-df-quickchart-complete:disabled:hover {\n",
              "    background-color: var(--disabled-bg-color);\n",
              "    fill: var(--disabled-fill-color);\n",
              "    box-shadow: none;\n",
              "  }\n",
              "\n",
              "  .colab-df-spinner {\n",
              "    border: 2px solid var(--fill-color);\n",
              "    border-color: transparent;\n",
              "    border-bottom-color: var(--fill-color);\n",
              "    animation:\n",
              "      spin 1s steps(1) infinite;\n",
              "  }\n",
              "\n",
              "  @keyframes spin {\n",
              "    0% {\n",
              "      border-color: transparent;\n",
              "      border-bottom-color: var(--fill-color);\n",
              "      border-left-color: var(--fill-color);\n",
              "    }\n",
              "    20% {\n",
              "      border-color: transparent;\n",
              "      border-left-color: var(--fill-color);\n",
              "      border-top-color: var(--fill-color);\n",
              "    }\n",
              "    30% {\n",
              "      border-color: transparent;\n",
              "      border-left-color: var(--fill-color);\n",
              "      border-top-color: var(--fill-color);\n",
              "      border-right-color: var(--fill-color);\n",
              "    }\n",
              "    40% {\n",
              "      border-color: transparent;\n",
              "      border-right-color: var(--fill-color);\n",
              "      border-top-color: var(--fill-color);\n",
              "    }\n",
              "    60% {\n",
              "      border-color: transparent;\n",
              "      border-right-color: var(--fill-color);\n",
              "    }\n",
              "    80% {\n",
              "      border-color: transparent;\n",
              "      border-right-color: var(--fill-color);\n",
              "      border-bottom-color: var(--fill-color);\n",
              "    }\n",
              "    90% {\n",
              "      border-color: transparent;\n",
              "      border-bottom-color: var(--fill-color);\n",
              "    }\n",
              "  }\n",
              "</style>\n",
              "\n",
              "  <script>\n",
              "    async function quickchart(key) {\n",
              "      const quickchartButtonEl =\n",
              "        document.querySelector('#' + key + ' button');\n",
              "      quickchartButtonEl.disabled = true;  // To prevent multiple clicks.\n",
              "      quickchartButtonEl.classList.add('colab-df-spinner');\n",
              "      try {\n",
              "        const charts = await google.colab.kernel.invokeFunction(\n",
              "            'suggestCharts', [key], {});\n",
              "      } catch (error) {\n",
              "        console.error('Error during call to suggestCharts:', error);\n",
              "      }\n",
              "      quickchartButtonEl.classList.remove('colab-df-spinner');\n",
              "      quickchartButtonEl.classList.add('colab-df-quickchart-complete');\n",
              "    }\n",
              "    (() => {\n",
              "      let quickchartButtonEl =\n",
              "        document.querySelector('#df-dba1df4b-966e-433b-848c-9abf91efbde0 button');\n",
              "      quickchartButtonEl.style.display =\n",
              "        google.colab.kernel.accessAllowed ? 'block' : 'none';\n",
              "    })();\n",
              "  </script>\n",
              "</div>\n",
              "    </div>\n",
              "  </div>\n"
            ]
          },
          "metadata": {},
          "execution_count": 16
        }
      ]
    },
    {
      "cell_type": "markdown",
      "source": [
        "**Min-Max Scaler**"
      ],
      "metadata": {
        "id": "jmk9pbAo5lBz"
      }
    },
    {
      "cell_type": "code",
      "source": [
        "scalar = MinMaxScaler(feature_range=(0, 1))\n",
        "dataframe_scaled = scalar.fit_transform(final_dataframe)"
      ],
      "metadata": {
        "id": "tL0rAKzKaR92"
      },
      "execution_count": 17,
      "outputs": []
    },
    {
      "cell_type": "code",
      "source": [
        "dataframe_scaled.shape"
      ],
      "metadata": {
        "colab": {
          "base_uri": "https://localhost:8080/"
        },
        "id": "6EF1YDNzaSA5",
        "outputId": "7dd01c3e-b6de-4f77-ba37-42ac7659698f"
      },
      "execution_count": 18,
      "outputs": [
        {
          "output_type": "execute_result",
          "data": {
            "text/plain": [
              "(3357, 2)"
            ]
          },
          "metadata": {},
          "execution_count": 18
        }
      ]
    },
    {
      "cell_type": "code",
      "source": [
        "dataframe_scaled[0,:]"
      ],
      "metadata": {
        "colab": {
          "base_uri": "https://localhost:8080/"
        },
        "id": "ipjUFSXPFd-p",
        "outputId": "eca0e215-f28d-4f90-973e-0e113b02cfdf"
      },
      "execution_count": 19,
      "outputs": [
        {
          "output_type": "execute_result",
          "data": {
            "text/plain": [
              "array([4.14358659e-03, 4.31449169e-05])"
            ]
          },
          "metadata": {},
          "execution_count": 19
        }
      ]
    },
    {
      "cell_type": "code",
      "source": [
        "def create_train_test_dataset(dataframe, past_values = 1, train_test_split = 0):\n",
        "  data_x, data_y = [], []\n",
        "  for i in range(len(dataframe)-past_values):\n",
        "    data_x.append(dataframe[i:i+past_values,:])\n",
        "    data_y.append(dataframe[i+past_values:i+past_values+1,0])\n",
        "  # print(len(data_x),len(data_y))\n",
        "  split_index = int(round(train_test_split * len(dataframe)))\n",
        "  x_train, x_test = data_x[:split_index], data_x[split_index:]\n",
        "  y_train, y_test = data_y[:split_index], data_y[split_index:]\n",
        "  return np.array(data_x), np.array(data_y), np.array(x_train), np.array(y_train), np.array(x_test), np.array(y_test)"
      ],
      "metadata": {
        "id": "ZocS3nq3aSDu"
      },
      "execution_count": 20,
      "outputs": []
    },
    {
      "cell_type": "code",
      "source": [
        "data_x, data_y, x_train, y_train, x_test, y_test = create_train_test_dataset(dataframe_scaled, 25, 0.8)"
      ],
      "metadata": {
        "id": "FTdZuKdwaSGk"
      },
      "execution_count": 21,
      "outputs": []
    },
    {
      "cell_type": "code",
      "source": [
        "x_train.shape, y_train.shape"
      ],
      "metadata": {
        "colab": {
          "base_uri": "https://localhost:8080/"
        },
        "id": "EwFhjV3uZszs",
        "outputId": "7633131f-c783-4eca-b9f0-5b1f2f78c37f"
      },
      "execution_count": 22,
      "outputs": [
        {
          "output_type": "execute_result",
          "data": {
            "text/plain": [
              "((2686, 25, 2), (2686, 1))"
            ]
          },
          "metadata": {},
          "execution_count": 22
        }
      ]
    },
    {
      "cell_type": "code",
      "source": [
        "x_test.shape, y_test.shape"
      ],
      "metadata": {
        "colab": {
          "base_uri": "https://localhost:8080/"
        },
        "id": "fjuoF4SiZs3A",
        "outputId": "e9b1ce92-8a7a-48be-9480-3e44bd721a13"
      },
      "execution_count": 23,
      "outputs": [
        {
          "output_type": "execute_result",
          "data": {
            "text/plain": [
              "((646, 25, 2), (646, 1))"
            ]
          },
          "metadata": {},
          "execution_count": 23
        }
      ]
    },
    {
      "cell_type": "markdown",
      "source": [
        "**Model Selection**"
      ],
      "metadata": {
        "id": "q_jkiLRm5vbt"
      }
    },
    {
      "cell_type": "markdown",
      "source": [
        "**Model Summary**"
      ],
      "metadata": {
        "id": "etzFXcEZ5yFd"
      }
    },
    {
      "cell_type": "code",
      "source": [
        "model = Sequential()\n",
        "model.add(LSTM(units=16, return_sequences=True, input_shape=(x_train.shape[1], x_train.shape[2]), activation = \"relu\"))\n",
        "model.add(Dropout(0.2))\n",
        "model.add(LSTM(units=16, return_sequences=False))\n",
        "model.add(Dropout(0.2))\n",
        "model.add(Dense(units=1, activation='linear'))\n",
        "model.compile(optimizer='adam', loss='mse', metrics=[tf.keras.metrics.RootMeanSquaredError()])\n",
        "\n",
        "model.summary()"
      ],
      "metadata": {
        "colab": {
          "base_uri": "https://localhost:8080/"
        },
        "id": "j1XHPm_uZs6L",
        "outputId": "a56dd4f0-0df5-4090-e42e-fd05a03f3ebc"
      },
      "execution_count": 24,
      "outputs": [
        {
          "output_type": "stream",
          "name": "stdout",
          "text": [
            "Model: \"sequential\"\n",
            "_________________________________________________________________\n",
            " Layer (type)                Output Shape              Param #   \n",
            "=================================================================\n",
            " lstm (LSTM)                 (None, 25, 16)            1216      \n",
            "                                                                 \n",
            " dropout (Dropout)           (None, 25, 16)            0         \n",
            "                                                                 \n",
            " lstm_1 (LSTM)               (None, 16)                2112      \n",
            "                                                                 \n",
            " dropout_1 (Dropout)         (None, 16)                0         \n",
            "                                                                 \n",
            " dense (Dense)               (None, 1)                 17        \n",
            "                                                                 \n",
            "=================================================================\n",
            "Total params: 3345 (13.07 KB)\n",
            "Trainable params: 3345 (13.07 KB)\n",
            "Non-trainable params: 0 (0.00 Byte)\n",
            "_________________________________________________________________\n"
          ]
        }
      ]
    },
    {
      "cell_type": "markdown",
      "source": [
        "**Model Training**"
      ],
      "metadata": {
        "id": "8VrEWREb56CD"
      }
    },
    {
      "cell_type": "code",
      "source": [
        "early_stop = EarlyStopping(monitor='val_loss', mode='min', verbose=1, patience=5)\n",
        "\n",
        "history = model.fit(x_train, y_train, validation_split=0.3, epochs=40, batch_size=64, callbacks=[early_stop])"
      ],
      "metadata": {
        "colab": {
          "base_uri": "https://localhost:8080/"
        },
        "id": "BQol4nX_Zs9m",
        "outputId": "fd507609-c064-4909-8f6b-ac868b9c6910"
      },
      "execution_count": 25,
      "outputs": [
        {
          "output_type": "stream",
          "name": "stdout",
          "text": [
            "Epoch 1/40\n",
            "30/30 [==============================] - 7s 78ms/step - loss: 0.0036 - root_mean_squared_error: 0.0599 - val_loss: 0.1054 - val_root_mean_squared_error: 0.3247\n",
            "Epoch 2/40\n",
            "30/30 [==============================] - 1s 33ms/step - loss: 8.8285e-04 - root_mean_squared_error: 0.0297 - val_loss: 0.0044 - val_root_mean_squared_error: 0.0660\n",
            "Epoch 3/40\n",
            "30/30 [==============================] - 1s 29ms/step - loss: 3.3836e-04 - root_mean_squared_error: 0.0184 - val_loss: 0.0034 - val_root_mean_squared_error: 0.0581\n",
            "Epoch 4/40\n",
            "30/30 [==============================] - 1s 27ms/step - loss: 3.1364e-04 - root_mean_squared_error: 0.0177 - val_loss: 0.0051 - val_root_mean_squared_error: 0.0713\n",
            "Epoch 5/40\n",
            "30/30 [==============================] - 1s 27ms/step - loss: 3.3285e-04 - root_mean_squared_error: 0.0182 - val_loss: 0.0033 - val_root_mean_squared_error: 0.0574\n",
            "Epoch 6/40\n",
            "30/30 [==============================] - 1s 29ms/step - loss: 2.9728e-04 - root_mean_squared_error: 0.0172 - val_loss: 0.0042 - val_root_mean_squared_error: 0.0651\n",
            "Epoch 7/40\n",
            "30/30 [==============================] - 1s 31ms/step - loss: 2.4010e-04 - root_mean_squared_error: 0.0155 - val_loss: 0.0037 - val_root_mean_squared_error: 0.0610\n",
            "Epoch 8/40\n",
            "30/30 [==============================] - 1s 26ms/step - loss: 2.7922e-04 - root_mean_squared_error: 0.0167 - val_loss: 0.0032 - val_root_mean_squared_error: 0.0564\n",
            "Epoch 9/40\n",
            "30/30 [==============================] - 1s 26ms/step - loss: 2.5755e-04 - root_mean_squared_error: 0.0160 - val_loss: 0.0031 - val_root_mean_squared_error: 0.0558\n",
            "Epoch 10/40\n",
            "30/30 [==============================] - 1s 26ms/step - loss: 2.4533e-04 - root_mean_squared_error: 0.0157 - val_loss: 0.0030 - val_root_mean_squared_error: 0.0551\n",
            "Epoch 11/40\n",
            "30/30 [==============================] - 1s 27ms/step - loss: 2.4601e-04 - root_mean_squared_error: 0.0157 - val_loss: 0.0029 - val_root_mean_squared_error: 0.0540\n",
            "Epoch 12/40\n",
            "30/30 [==============================] - 1s 25ms/step - loss: 2.2892e-04 - root_mean_squared_error: 0.0151 - val_loss: 0.0029 - val_root_mean_squared_error: 0.0536\n",
            "Epoch 13/40\n",
            "30/30 [==============================] - 1s 28ms/step - loss: 2.1383e-04 - root_mean_squared_error: 0.0146 - val_loss: 0.0045 - val_root_mean_squared_error: 0.0671\n",
            "Epoch 14/40\n",
            "30/30 [==============================] - 1s 39ms/step - loss: 2.2346e-04 - root_mean_squared_error: 0.0149 - val_loss: 0.0030 - val_root_mean_squared_error: 0.0545\n",
            "Epoch 15/40\n",
            "30/30 [==============================] - 1s 42ms/step - loss: 2.1712e-04 - root_mean_squared_error: 0.0147 - val_loss: 0.0029 - val_root_mean_squared_error: 0.0537\n",
            "Epoch 16/40\n",
            "30/30 [==============================] - 1s 37ms/step - loss: 2.1460e-04 - root_mean_squared_error: 0.0146 - val_loss: 0.0031 - val_root_mean_squared_error: 0.0553\n",
            "Epoch 17/40\n",
            "30/30 [==============================] - 1s 38ms/step - loss: 2.0359e-04 - root_mean_squared_error: 0.0143 - val_loss: 0.0046 - val_root_mean_squared_error: 0.0680\n",
            "Epoch 17: early stopping\n"
          ]
        }
      ]
    },
    {
      "cell_type": "code",
      "source": [
        "history.history.keys()"
      ],
      "metadata": {
        "colab": {
          "base_uri": "https://localhost:8080/"
        },
        "id": "eo0UOY9gZtA2",
        "outputId": "fe99ba2c-eb08-4935-e8cf-e63d92127ce7"
      },
      "execution_count": 26,
      "outputs": [
        {
          "output_type": "execute_result",
          "data": {
            "text/plain": [
              "dict_keys(['loss', 'root_mean_squared_error', 'val_loss', 'val_root_mean_squared_error'])"
            ]
          },
          "metadata": {},
          "execution_count": 26
        }
      ]
    },
    {
      "cell_type": "code",
      "source": [
        "fig = plt.figure(figsize=(12,7))\n",
        "fig.add_subplot(121)\n",
        "\n",
        "# Accuracy\n",
        "plt.plot(history.epoch, history.history['root_mean_squared_error'], label = \"rmse\")\n",
        "plt.plot(history.epoch, history.history['val_root_mean_squared_error'], label = \"val_rmse\")\n",
        "\n",
        "plt.title(\"RMSE\")\n",
        "plt.xlabel(\"Epochs\")\n",
        "plt.ylabel(\"RMSE\")\n",
        "plt.grid(alpha=0.3)\n",
        "plt.legend()\n",
        "\n",
        "\n",
        "#Adding Subplot 1 (For Loss)\n",
        "fig.add_subplot(122)\n",
        "\n",
        "plt.plot(history.epoch, history.history['loss'], label=\"loss\")\n",
        "plt.plot(history.epoch, history.history['val_loss'], label=\"val_loss\")\n",
        "\n",
        "plt.title(\"Loss\")\n",
        "plt.xlabel(\"Epochs\")\n",
        "plt.ylabel(\"Loss\")\n",
        "plt.grid(alpha=0.3)\n",
        "plt.legend()\n",
        "\n",
        "plt.show()"
      ],
      "metadata": {
        "colab": {
          "base_uri": "https://localhost:8080/",
          "height": 641
        },
        "id": "SRBzbdAFZtEh",
        "outputId": "3458c342-5043-47df-9bba-95fed1ed31d5"
      },
      "execution_count": 27,
      "outputs": [
        {
          "output_type": "display_data",
          "data": {
            "text/plain": [
              "<Figure size 1200x700 with 2 Axes>"
            ],
            "image/png": "[encoded data removed]"
          },
          "metadata": {}
        }
      ]
    },
    {
      "cell_type": "code",
      "source": [
        "results = model.evaluate(x_test, y_test)\n",
        "print(\"test loss , test rmse :\", np.round(results, 4))"
      ],
      "metadata": {
        "colab": {
          "base_uri": "https://localhost:8080/"
        },
        "id": "rpJK1hAMZtIF",
        "outputId": "404eb6bc-69df-4970-8b71-35722ab044e4"
      },
      "execution_count": 28,
      "outputs": [
        {
          "output_type": "stream",
          "name": "stdout",
          "text": [
            "21/21 [==============================] - 0s 7ms/step - loss: 0.0028 - root_mean_squared_error: 0.0527\n",
            "test loss , test rmse : [0.0028 0.0527]\n"
          ]
        }
      ]
    },
    {
      "cell_type": "code",
      "source": [
        "y_pred = model.predict(x_test)"
      ],
      "metadata": {
        "colab": {
          "base_uri": "https://localhost:8080/"
        },
        "id": "hGO4S5Y8wHtW",
        "outputId": "7ae6c6f4-448a-49d0-c394-38668daa8bbc"
      },
      "execution_count": 29,
      "outputs": [
        {
          "output_type": "stream",
          "name": "stdout",
          "text": [
            "21/21 [==============================] - 1s 6ms/step\n"
          ]
        }
      ]
    },
    {
      "cell_type": "markdown",
      "source": [
        "**Evaluation metrics**"
      ],
      "metadata": {
        "id": "DaCie0bB1e2I"
      }
    },
    {
      "cell_type": "code",
      "source": [
        "score = r2_score(y_test, y_pred)\n",
        "print(\"The accuracy of our model is {}%\".format(round(score, 2) *100))"
      ],
      "metadata": {
        "colab": {
          "base_uri": "https://localhost:8080/"
        },
        "id": "tXtesu3bvh3-",
        "outputId": "e2ead825-055c-4b5a-ac9f-221c87ad2b23"
      },
      "execution_count": 30,
      "outputs": [
        {
          "output_type": "stream",
          "name": "stdout",
          "text": [
            "The accuracy of our model is 76.0%\n"
          ]
        }
      ]
    },
    {
      "cell_type": "code",
      "source": [
        "score = mean_absolute_error(y_test, y_pred)\n",
        "print(\"The Mean Absolute Error of our Model is {}\".format(round(score, 4)))"
      ],
      "metadata": {
        "colab": {
          "base_uri": "https://localhost:8080/"
        },
        "id": "J1_GBHs53G0I",
        "outputId": "82106051-9a46-4c05-f73d-dacd3c327f18"
      },
      "execution_count": 61,
      "outputs": [
        {
          "output_type": "stream",
          "name": "stdout",
          "text": [
            "The Mean Absolute Error of our Model is 0.0572\n"
          ]
        }
      ]
    },
    {
      "cell_type": "code",
      "source": [
        "score = mean_squared_error(y_test, y_pred)\n",
        "print(\"The Mean Squared Error of our Model is {}\".format(round(score, 4)))"
      ],
      "metadata": {
        "colab": {
          "base_uri": "https://localhost:8080/"
        },
        "id": "96t4-nraviM3",
        "outputId": "726a2ecc-1c5c-4fac-b3de-27f80fe8283a"
      },
      "execution_count": 31,
      "outputs": [
        {
          "output_type": "stream",
          "name": "stdout",
          "text": [
            "The Mean Squared Error of our Model is 0.0028\n"
          ]
        }
      ]
    },
    {
      "cell_type": "code",
      "source": [
        "score = np.sqrt(mean_squared_error(y_test, y_pred))\n",
        "print(\"The Root Mean Squared Error of our Model is {}\".format(round(score, 4)))"
      ],
      "metadata": {
        "colab": {
          "base_uri": "https://localhost:8080/"
        },
        "id": "T-jEdjVZviRY",
        "outputId": "2553c3ab-1bbe-4d16-9754-56b38b833e74"
      },
      "execution_count": 32,
      "outputs": [
        {
          "output_type": "stream",
          "name": "stdout",
          "text": [
            "The Root Mean Squared Error of our Model is 0.0527\n"
          ]
        }
      ]
    },
    {
      "cell_type": "markdown",
      "source": [
        "**Hyperparameter Tuning Strategy**"
      ],
      "metadata": {
        "id": "CGLAwAoC6Gar"
      }
    },
    {
      "cell_type": "code",
      "source": [
        "def hyperparameter_tuning_strategy(config, x_train, y_train, x_test, y_test):\n",
        "  additional_layer, neurons, batch_size, dropout = config\n",
        "  possible_combinations = list(itertools.product(additional_layer, neurons, batch_size, dropout))\n",
        "  print(\"*\"*25)\n",
        "  print(f\"Possible No.of Combinations : {possible_combinations}\")\n",
        "  print(\"*\"*25)\n",
        "  hist = []\n",
        "  for i in range(len(possible_combinations)):\n",
        "    print(\"*\"*25)\n",
        "    print(f\"Combination : {i+1}\")\n",
        "    print(\"*\"*25)\n",
        "    additional_layer, neurons, batch_size, dropout = possible_combinations[i]\n",
        "    model = Sequential()\n",
        "    model.add(LSTM(units=neurons, return_sequences=True, input_shape=(x_train.shape[1], x_train.shape[2]), activation = \"relu\"))\n",
        "    model.add(Dropout(dropout))\n",
        "    if additional_layer:\n",
        "      model.add(LSTM(units=neurons, return_sequences=True))\n",
        "      model.add(Dropout(dropout))\n",
        "    model.add(LSTM(units=neurons, return_sequences=False))\n",
        "    model.add(Dropout(dropout))\n",
        "    model.add(Dense(units=1, activation='linear'))\n",
        "    model.compile(optimizer='adam', loss='mse', metrics=[tf.keras.metrics.RootMeanSquaredError()])\n",
        "    early_stops = EarlyStopping(monitor='val_loss', mode='min', verbose=1, patience=5)\n",
        "    file_path = 'best_model.h5'\n",
        "    model_check = ModelCheckpoint(file_path, monitor='val_loss', mode='min', verbose=1, save_best_only=True)\n",
        "    model.fit(x_train, y_train, validation_split=0.3, epochs=40, batch_size=batch_size, callbacks=[early_stop, model_check], verbose=0)\n",
        "    train_loss, train_rmse = model.evaluate(x_train, y_train, verbose=0)\n",
        "    test_loss, test_rmse = model.evaluate(x_test, y_test, verbose=0)\n",
        "    hist.append(list((additional_layer, neurons, batch_size, dropout, train_loss, train_rmse, test_loss, test_rmse)))\n",
        "    print(f\"Combination : {i+1} -> {possible_combinations[i]} train_rmse : {train_rmse} test_rmse : {test_rmse}\")\n",
        "    print(\"*\"*25)\n",
        "    print(\"*\"*25)\n",
        "  return hist\n",
        "\n"
      ],
      "metadata": {
        "id": "JdcTd6aU9wbR"
      },
      "execution_count": 33,
      "outputs": []
    },
    {
      "cell_type": "code",
      "source": [
        "config = [[False,True], [16, 32], [8, 16, 32], [0.2]]\n",
        "\n",
        "hist = hyperparameter_tuning_strategy(config, x_train, y_train, x_test, y_test)"
      ],
      "metadata": {
        "colab": {
          "base_uri": "https://localhost:8080/"
        },
        "id": "LXlcQQvGBWRU",
        "outputId": "ba22ae19-3bb8-4f43-cf37-7e884cc50b0a"
      },
      "execution_count": 34,
      "outputs": [
        {
          "output_type": "stream",
          "name": "stdout",
          "text": [
            "*************************\n",
            "Possible No.of Combinations : [(False, 16, 8, 0.2), (False, 16, 16, 0.2), (False, 16, 32, 0.2), (False, 32, 8, 0.2), (False, 32, 16, 0.2), (False, 32, 32, 0.2), (True, 16, 8, 0.2), (True, 16, 16, 0.2), (True, 16, 32, 0.2), (True, 32, 8, 0.2), (True, 32, 16, 0.2), (True, 32, 32, 0.2)]\n",
            "*************************\n",
            "*************************\n",
            "Combination : 1\n",
            "*************************\n",
            "\n",
            "Epoch 1: val_loss improved from inf to 0.00359, saving model to best_model.h5\n"
          ]
        },
        {
          "output_type": "stream",
          "name": "stderr",
          "text": [
            "/usr/local/lib/python3.10/dist-packages/keras/src/engine/training.py:3079: UserWarning: You are saving your model as an HDF5 file via `model.save()`. This file format is considered legacy. We recommend using instead the native Keras format, e.g. `model.save('my_model.keras')`.\n",
            "  saving_api.save_model(\n"
          ]
        },
        {
          "output_type": "stream",
          "name": "stdout",
          "text": [
            "\n",
            "Epoch 2: val_loss did not improve from 0.00359\n",
            "\n",
            "Epoch 3: val_loss did not improve from 0.00359\n",
            "\n",
            "Epoch 4: val_loss did not improve from 0.00359\n",
            "\n",
            "Epoch 5: val_loss did not improve from 0.00359\n",
            "\n",
            "Epoch 6: val_loss did not improve from 0.00359\n",
            "Epoch 6: early stopping\n",
            "Combination : 1 -> (False, 16, 8, 0.2) train_rmse : 0.06308086961507797 test_rmse : 0.06384702771902084\n",
            "*************************\n",
            "*************************\n",
            "*************************\n",
            "Combination : 2\n",
            "*************************\n",
            "\n",
            "Epoch 1: val_loss improved from inf to 0.00342, saving model to best_model.h5\n",
            "\n",
            "Epoch 2: val_loss did not improve from 0.00342\n",
            "\n",
            "Epoch 3: val_loss did not improve from 0.00342\n",
            "\n",
            "Epoch 4: val_loss did not improve from 0.00342\n",
            "\n",
            "Epoch 5: val_loss did not improve from 0.00342\n",
            "\n",
            "Epoch 6: val_loss did not improve from 0.00342\n",
            "Epoch 6: early stopping\n",
            "Combination : 2 -> (False, 16, 16, 0.2) train_rmse : 0.05109250918030739 test_rmse : 0.05663565918803215\n",
            "*************************\n",
            "*************************\n",
            "*************************\n",
            "Combination : 3\n",
            "*************************\n",
            "\n",
            "Epoch 1: val_loss improved from inf to 0.00794, saving model to best_model.h5\n",
            "\n",
            "Epoch 2: val_loss did not improve from 0.00794\n",
            "\n",
            "Epoch 3: val_loss did not improve from 0.00794\n",
            "\n",
            "Epoch 4: val_loss did not improve from 0.00794\n",
            "\n",
            "Epoch 5: val_loss did not improve from 0.00794\n",
            "\n",
            "Epoch 6: val_loss did not improve from 0.00794\n",
            "Epoch 6: early stopping\n",
            "Combination : 3 -> (False, 16, 32, 0.2) train_rmse : 0.05262599512934685 test_rmse : 0.06282476335763931\n",
            "*************************\n",
            "*************************\n",
            "*************************\n",
            "Combination : 4\n",
            "*************************\n",
            "\n",
            "Epoch 1: val_loss improved from inf to 0.00569, saving model to best_model.h5\n",
            "\n",
            "Epoch 2: val_loss improved from 0.00569 to 0.00320, saving model to best_model.h5\n",
            "\n",
            "Epoch 3: val_loss did not improve from 0.00320\n",
            "\n",
            "Epoch 4: val_loss did not improve from 0.00320\n",
            "\n",
            "Epoch 5: val_loss did not improve from 0.00320\n",
            "\n",
            "Epoch 6: val_loss did not improve from 0.00320\n",
            "\n",
            "Epoch 7: val_loss did not improve from 0.00320\n",
            "Epoch 7: early stopping\n",
            "Combination : 4 -> (False, 32, 8, 0.2) train_rmse : 0.053515639156103134 test_rmse : 0.04614020511507988\n",
            "*************************\n",
            "*************************\n",
            "*************************\n",
            "Combination : 5\n",
            "*************************\n",
            "\n",
            "Epoch 1: val_loss improved from inf to 0.01141, saving model to best_model.h5\n",
            "\n",
            "Epoch 2: val_loss improved from 0.01141 to 0.00660, saving model to best_model.h5\n",
            "\n",
            "Epoch 3: val_loss did not improve from 0.00660\n",
            "\n",
            "Epoch 4: val_loss improved from 0.00660 to 0.00648, saving model to best_model.h5\n",
            "\n",
            "Epoch 5: val_loss improved from 0.00648 to 0.00544, saving model to best_model.h5\n",
            "\n",
            "Epoch 6: val_loss did not improve from 0.00544\n",
            "\n",
            "Epoch 7: val_loss did not improve from 0.00544\n",
            "\n",
            "Epoch 8: val_loss did not improve from 0.00544\n",
            "\n",
            "Epoch 9: val_loss did not improve from 0.00544\n",
            "\n",
            "Epoch 10: val_loss improved from 0.00544 to 0.00519, saving model to best_model.h5\n",
            "\n",
            "Epoch 11: val_loss did not improve from 0.00519\n",
            "\n",
            "Epoch 12: val_loss did not improve from 0.00519\n",
            "\n",
            "Epoch 13: val_loss improved from 0.00519 to 0.00445, saving model to best_model.h5\n",
            "\n",
            "Epoch 14: val_loss did not improve from 0.00445\n",
            "\n",
            "Epoch 15: val_loss did not improve from 0.00445\n",
            "\n",
            "Epoch 16: val_loss did not improve from 0.00445\n",
            "\n",
            "Epoch 17: val_loss did not improve from 0.00445\n",
            "\n",
            "Epoch 18: val_loss did not improve from 0.00445\n",
            "Epoch 18: early stopping\n",
            "Combination : 5 -> (False, 32, 16, 0.2) train_rmse : 0.053912073373794556 test_rmse : 0.05372597277164459\n",
            "*************************\n",
            "*************************\n",
            "*************************\n",
            "Combination : 6\n",
            "*************************\n",
            "\n",
            "Epoch 1: val_loss improved from inf to 0.00337, saving model to best_model.h5\n",
            "\n",
            "Epoch 2: val_loss did not improve from 0.00337\n",
            "\n",
            "Epoch 3: val_loss did not improve from 0.00337\n",
            "\n",
            "Epoch 4: val_loss did not improve from 0.00337\n",
            "\n",
            "Epoch 5: val_loss did not improve from 0.00337\n",
            "\n",
            "Epoch 6: val_loss did not improve from 0.00337\n",
            "Epoch 6: early stopping\n",
            "Combination : 6 -> (False, 32, 32, 0.2) train_rmse : 0.044669486582279205 test_rmse : 0.041769180446863174\n",
            "*************************\n",
            "*************************\n",
            "*************************\n",
            "Combination : 7\n",
            "*************************\n",
            "\n",
            "Epoch 1: val_loss improved from inf to 0.00299, saving model to best_model.h5\n",
            "\n",
            "Epoch 2: val_loss did not improve from 0.00299\n",
            "\n",
            "Epoch 3: val_loss did not improve from 0.00299\n",
            "\n",
            "Epoch 4: val_loss did not improve from 0.00299\n",
            "\n",
            "Epoch 5: val_loss did not improve from 0.00299\n",
            "\n",
            "Epoch 6: val_loss did not improve from 0.00299\n",
            "Epoch 6: early stopping\n",
            "Combination : 7 -> (True, 16, 8, 0.2) train_rmse : 0.08308526128530502 test_rmse : 0.07763854414224625\n",
            "*************************\n",
            "*************************\n",
            "*************************\n",
            "Combination : 8\n",
            "*************************\n",
            "\n",
            "Epoch 1: val_loss improved from inf to 0.00798, saving model to best_model.h5\n",
            "\n",
            "Epoch 2: val_loss did not improve from 0.00798\n",
            "\n",
            "Epoch 3: val_loss did not improve from 0.00798\n",
            "\n",
            "Epoch 4: val_loss did not improve from 0.00798\n",
            "\n",
            "Epoch 5: val_loss did not improve from 0.00798\n",
            "\n",
            "Epoch 6: val_loss did not improve from 0.00798\n",
            "Epoch 6: early stopping\n",
            "Combination : 8 -> (True, 16, 16, 0.2) train_rmse : 0.08730476349592209 test_rmse : 0.08735492825508118\n",
            "*************************\n",
            "*************************\n",
            "*************************\n",
            "Combination : 9\n",
            "*************************\n",
            "\n",
            "Epoch 1: val_loss improved from inf to 0.01547, saving model to best_model.h5\n",
            "\n",
            "Epoch 2: val_loss did not improve from 0.01547\n",
            "\n",
            "Epoch 3: val_loss improved from 0.01547 to 0.01301, saving model to best_model.h5\n",
            "\n",
            "Epoch 4: val_loss did not improve from 0.01301\n",
            "\n",
            "Epoch 5: val_loss did not improve from 0.01301\n",
            "\n",
            "Epoch 6: val_loss improved from 0.01301 to 0.01168, saving model to best_model.h5\n",
            "\n",
            "Epoch 7: val_loss did not improve from 0.01168\n",
            "\n",
            "Epoch 8: val_loss did not improve from 0.01168\n",
            "\n",
            "Epoch 9: val_loss improved from 0.01168 to 0.00781, saving model to best_model.h5\n",
            "\n",
            "Epoch 10: val_loss did not improve from 0.00781\n",
            "\n",
            "Epoch 11: val_loss improved from 0.00781 to 0.00426, saving model to best_model.h5\n",
            "\n",
            "Epoch 12: val_loss did not improve from 0.00426\n",
            "\n",
            "Epoch 13: val_loss did not improve from 0.00426\n",
            "\n",
            "Epoch 14: val_loss did not improve from 0.00426\n",
            "\n",
            "Epoch 15: val_loss did not improve from 0.00426\n",
            "\n",
            "Epoch 16: val_loss did not improve from 0.00426\n",
            "Epoch 16: early stopping\n",
            "Combination : 9 -> (True, 16, 32, 0.2) train_rmse : 0.06553483754396439 test_rmse : 0.0788610652089119\n",
            "*************************\n",
            "*************************\n",
            "*************************\n",
            "Combination : 10\n",
            "*************************\n",
            "\n",
            "Epoch 1: val_loss improved from inf to 0.02242, saving model to best_model.h5\n",
            "\n",
            "Epoch 2: val_loss did not improve from 0.02242\n",
            "\n",
            "Epoch 3: val_loss did not improve from 0.02242\n",
            "\n",
            "Epoch 4: val_loss improved from 0.02242 to 0.01383, saving model to best_model.h5\n",
            "\n",
            "Epoch 5: val_loss did not improve from 0.01383\n",
            "\n",
            "Epoch 6: val_loss did not improve from 0.01383\n",
            "\n",
            "Epoch 7: val_loss did not improve from 0.01383\n",
            "\n",
            "Epoch 8: val_loss improved from 0.01383 to 0.00588, saving model to best_model.h5\n",
            "\n",
            "Epoch 9: val_loss did not improve from 0.00588\n",
            "\n",
            "Epoch 10: val_loss did not improve from 0.00588\n",
            "\n",
            "Epoch 11: val_loss did not improve from 0.00588\n",
            "\n",
            "Epoch 12: val_loss did not improve from 0.00588\n",
            "\n",
            "Epoch 13: val_loss did not improve from 0.00588\n",
            "Epoch 13: early stopping\n",
            "Combination : 10 -> (True, 32, 8, 0.2) train_rmse : 0.08730816096067429 test_rmse : 0.08475511521100998\n",
            "*************************\n",
            "*************************\n",
            "*************************\n",
            "Combination : 11\n",
            "*************************\n",
            "\n",
            "Epoch 1: val_loss improved from inf to 0.01116, saving model to best_model.h5\n",
            "\n",
            "Epoch 2: val_loss improved from 0.01116 to 0.00826, saving model to best_model.h5\n",
            "\n",
            "Epoch 3: val_loss did not improve from 0.00826\n",
            "\n",
            "Epoch 4: val_loss improved from 0.00826 to 0.00368, saving model to best_model.h5\n",
            "\n",
            "Epoch 5: val_loss did not improve from 0.00368\n",
            "\n",
            "Epoch 6: val_loss did not improve from 0.00368\n",
            "\n",
            "Epoch 7: val_loss did not improve from 0.00368\n",
            "\n",
            "Epoch 8: val_loss did not improve from 0.00368\n",
            "\n",
            "Epoch 9: val_loss did not improve from 0.00368\n",
            "Epoch 9: early stopping\n",
            "Combination : 11 -> (True, 32, 16, 0.2) train_rmse : 0.04618081450462341 test_rmse : 0.0423947274684906\n",
            "*************************\n",
            "*************************\n",
            "*************************\n",
            "Combination : 12\n",
            "*************************\n",
            "\n",
            "Epoch 1: val_loss improved from inf to 0.00372, saving model to best_model.h5\n",
            "\n",
            "Epoch 2: val_loss did not improve from 0.00372\n",
            "\n",
            "Epoch 3: val_loss did not improve from 0.00372\n",
            "\n",
            "Epoch 4: val_loss did not improve from 0.00372\n",
            "\n",
            "Epoch 5: val_loss did not improve from 0.00372\n",
            "\n",
            "Epoch 6: val_loss did not improve from 0.00372\n",
            "Epoch 6: early stopping\n",
            "Combination : 12 -> (True, 32, 32, 0.2) train_rmse : 0.04239720478653908 test_rmse : 0.044629909098148346\n",
            "*************************\n",
            "*************************\n"
          ]
        }
      ]
    },
    {
      "cell_type": "code",
      "source": [
        "hist = pd.DataFrame(hist, columns=[\"Additional Layer\", \"Neurons\", \"Batch Size\", \"Drop Out\", \"Train Loss\", \"Train RMSE\", \"Test Loss\", \"Test RMSE\"])\n",
        "hist = hist.sort_values(by=[\"Test RMSE\"], ascending=True)\n",
        "hist"
      ],
      "metadata": {
        "colab": {
          "base_uri": "https://localhost:8080/",
          "height": 425
        },
        "id": "Are6A6_hZtSO",
        "outputId": "ce503270-2d40-423d-e1d3-40ead123cfeb"
      },
      "execution_count": 35,
      "outputs": [
        {
          "output_type": "execute_result",
          "data": {
            "text/plain": [
              "    Additional Layer  Neurons  Batch Size  Drop Out  Train Loss  Train RMSE  \\\n",
              "5              False       32          32       0.2    0.001995    0.044669   \n",
              "10              True       32          16       0.2    0.002133    0.046181   \n",
              "11              True       32          32       0.2    0.001798    0.042397   \n",
              "3              False       32           8       0.2    0.002864    0.053516   \n",
              "4              False       32          16       0.2    0.002907    0.053912   \n",
              "1              False       16          16       0.2    0.002610    0.051093   \n",
              "2              False       16          32       0.2    0.002769    0.052626   \n",
              "0              False       16           8       0.2    0.003979    0.063081   \n",
              "6               True       16           8       0.2    0.006903    0.083085   \n",
              "8               True       16          32       0.2    0.004295    0.065535   \n",
              "9               True       32           8       0.2    0.007623    0.087308   \n",
              "7               True       16          16       0.2    0.007622    0.087305   \n",
              "\n",
              "    Test Loss  Test RMSE  \n",
              "5    0.001745   0.041769  \n",
              "10   0.001797   0.042395  \n",
              "11   0.001992   0.044630  \n",
              "3    0.002129   0.046140  \n",
              "4    0.002886   0.053726  \n",
              "1    0.003208   0.056636  \n",
              "2    0.003947   0.062825  \n",
              "0    0.004076   0.063847  \n",
              "6    0.006028   0.077639  \n",
              "8    0.006219   0.078861  \n",
              "9    0.007183   0.084755  \n",
              "7    0.007631   0.087355  "
            ],
            "text/html": [
              "\n",
              "  <div id=\"df-8daacd87-16e3-42bf-bb13-c9876319d17f\" class=\"colab-df-container\">\n",
              "    <div>\n",
              "<style scoped>\n",
              "    .dataframe tbody tr th:only-of-type {\n",
              "        vertical-align: middle;\n",
              "    }\n",
              "\n",
              "    .dataframe tbody tr th {\n",
              "        vertical-align: top;\n",
              "    }\n",
              "\n",
              "    .dataframe thead th {\n",
              "        text-align: right;\n",
              "    }\n",
              "</style>\n",
              "<table border=\"1\" class=\"dataframe\">\n",
              "  <thead>\n",
              "    <tr style=\"text-align: right;\">\n",
              "      <th></th>\n",
              "      <th>Additional Layer</th>\n",
              "      <th>Neurons</th>\n",
              "      <th>Batch Size</th>\n",
              "      <th>Drop Out</th>\n",
              "      <th>Train Loss</th>\n",
              "      <th>Train RMSE</th>\n",
              "      <th>Test Loss</th>\n",
              "      <th>Test RMSE</th>\n",
              "    </tr>\n",
              "  </thead>\n",
              "  <tbody>\n",
              "    <tr>\n",
              "      <th>5</th>\n",
              "      <td>False</td>\n",
              "      <td>32</td>\n",
              "      <td>32</td>\n",
              "      <td>0.2</td>\n",
              "      <td>0.001995</td>\n",
              "      <td>0.044669</td>\n",
              "      <td>0.001745</td>\n",
              "      <td>0.041769</td>\n",
              "    </tr>\n",
              "    <tr>\n",
              "      <th>10</th>\n",
              "      <td>True</td>\n",
              "      <td>32</td>\n",
              "      <td>16</td>\n",
              "      <td>0.2</td>\n",
              "      <td>0.002133</td>\n",
              "      <td>0.046181</td>\n",
              "      <td>0.001797</td>\n",
              "      <td>0.042395</td>\n",
              "    </tr>\n",
              "    <tr>\n",
              "      <th>11</th>\n",
              "      <td>True</td>\n",
              "      <td>32</td>\n",
              "      <td>32</td>\n",
              "      <td>0.2</td>\n",
              "      <td>0.001798</td>\n",
              "      <td>0.042397</td>\n",
              "      <td>0.001992</td>\n",
              "      <td>0.044630</td>\n",
              "    </tr>\n",
              "    <tr>\n",
              "      <th>3</th>\n",
              "      <td>False</td>\n",
              "      <td>32</td>\n",
              "      <td>8</td>\n",
              "      <td>0.2</td>\n",
              "      <td>0.002864</td>\n",
              "      <td>0.053516</td>\n",
              "      <td>0.002129</td>\n",
              "      <td>0.046140</td>\n",
              "    </tr>\n",
              "    <tr>\n",
              "      <th>4</th>\n",
              "      <td>False</td>\n",
              "      <td>32</td>\n",
              "      <td>16</td>\n",
              "      <td>0.2</td>\n",
              "      <td>0.002907</td>\n",
              "      <td>0.053912</td>\n",
              "      <td>0.002886</td>\n",
              "      <td>0.053726</td>\n",
              "    </tr>\n",
              "    <tr>\n",
              "      <th>1</th>\n",
              "      <td>False</td>\n",
              "      <td>16</td>\n",
              "      <td>16</td>\n",
              "      <td>0.2</td>\n",
              "      <td>0.002610</td>\n",
              "      <td>0.051093</td>\n",
              "      <td>0.003208</td>\n",
              "      <td>0.056636</td>\n",
              "    </tr>\n",
              "    <tr>\n",
              "      <th>2</th>\n",
              "      <td>False</td>\n",
              "      <td>16</td>\n",
              "      <td>32</td>\n",
              "      <td>0.2</td>\n",
              "      <td>0.002769</td>\n",
              "      <td>0.052626</td>\n",
              "      <td>0.003947</td>\n",
              "      <td>0.062825</td>\n",
              "    </tr>\n",
              "    <tr>\n",
              "      <th>0</th>\n",
              "      <td>False</td>\n",
              "      <td>16</td>\n",
              "      <td>8</td>\n",
              "      <td>0.2</td>\n",
              "      <td>0.003979</td>\n",
              "      <td>0.063081</td>\n",
              "      <td>0.004076</td>\n",
              "      <td>0.063847</td>\n",
              "    </tr>\n",
              "    <tr>\n",
              "      <th>6</th>\n",
              "      <td>True</td>\n",
              "      <td>16</td>\n",
              "      <td>8</td>\n",
              "      <td>0.2</td>\n",
              "      <td>0.006903</td>\n",
              "      <td>0.083085</td>\n",
              "      <td>0.006028</td>\n",
              "      <td>0.077639</td>\n",
              "    </tr>\n",
              "    <tr>\n",
              "      <th>8</th>\n",
              "      <td>True</td>\n",
              "      <td>16</td>\n",
              "      <td>32</td>\n",
              "      <td>0.2</td>\n",
              "      <td>0.004295</td>\n",
              "      <td>0.065535</td>\n",
              "      <td>0.006219</td>\n",
              "      <td>0.078861</td>\n",
              "    </tr>\n",
              "    <tr>\n",
              "      <th>9</th>\n",
              "      <td>True</td>\n",
              "      <td>32</td>\n",
              "      <td>8</td>\n",
              "      <td>0.2</td>\n",
              "      <td>0.007623</td>\n",
              "      <td>0.087308</td>\n",
              "      <td>0.007183</td>\n",
              "      <td>0.084755</td>\n",
              "    </tr>\n",
              "    <tr>\n",
              "      <th>7</th>\n",
              "      <td>True</td>\n",
              "      <td>16</td>\n",
              "      <td>16</td>\n",
              "      <td>0.2</td>\n",
              "      <td>0.007622</td>\n",
              "      <td>0.087305</td>\n",
              "      <td>0.007631</td>\n",
              "      <td>0.087355</td>\n",
              "    </tr>\n",
              "  </tbody>\n",
              "</table>\n",
              "</div>\n",
              "    <div class=\"colab-df-buttons\">\n",
              "\n",
              "  <div class=\"colab-df-container\">\n",
              "    <button class=\"colab-df-convert\" onclick=\"convertToInteractive('df-8daacd87-16e3-42bf-bb13-c9876319d17f')\"\n",
              "            title=\"Convert this dataframe to an interactive table.\"\n",
              "            style=\"display:none;\">\n",
              "\n",
              "  <svg xmlns=\"http://www.w3.org/2000/svg\" height=\"24px\" viewBox=\"0 -960 960 960\">\n",
              "    <path d=\"M120-120v-720h720v720H120Zm60-500h600v-160H180v160Zm220 220h160v-160H400v160Zm0 220h160v-160H400v160ZM180-400h160v-160H180v160Zm440 0h160v-160H620v160ZM180-180h160v-160H180v160Zm440 0h160v-160H620v160Z\"/>\n",
              "  </svg>\n",
              "    </button>\n",
              "\n",
              "  <style>\n",
              "    .colab-df-container {\n",
              "      display:flex;\n",
              "      gap: 12px;\n",
              "    }\n",
              "\n",
              "    .colab-df-convert {\n",
              "      background-color: #E8F0FE;\n",
              "      border: none;\n",
              "      border-radius: 50%;\n",
              "      cursor: pointer;\n",
              "      display: none;\n",
              "      fill: #1967D2;\n",
              "      height: 32px;\n",
              "      padding: 0 0 0 0;\n",
              "      width: 32px;\n",
              "    }\n",
              "\n",
              "    .colab-df-convert:hover {\n",
              "      background-color: #E2EBFA;\n",
              "      box-shadow: 0px 1px 2px rgba(60, 64, 67, 0.3), 0px 1px 3px 1px rgba(60, 64, 67, 0.15);\n",
              "      fill: #174EA6;\n",
              "    }\n",
              "\n",
              "    .colab-df-buttons div {\n",
              "      margin-bottom: 4px;\n",
              "    }\n",
              "\n",
              "    [theme=dark] .colab-df-convert {\n",
              "      background-color: #3B4455;\n",
              "      fill: #D2E3FC;\n",
              "    }\n",
              "\n",
              "    [theme=dark] .colab-df-convert:hover {\n",
              "      background-color: #434B5C;\n",
              "      box-shadow: 0px 1px 3px 1px rgba(0, 0, 0, 0.15);\n",
              "      filter: drop-shadow(0px 1px 2px rgba(0, 0, 0, 0.3));\n",
              "      fill: #FFFFFF;\n",
              "    }\n",
              "  </style>\n",
              "\n",
              "    <script>\n",
              "      const buttonEl =\n",
              "        document.querySelector('#df-8daacd87-16e3-42bf-bb13-c9876319d17f button.colab-df-convert');\n",
              "      buttonEl.style.display =\n",
              "        google.colab.kernel.accessAllowed ? 'block' : 'none';\n",
              "\n",
              "      async function convertToInteractive(key) {\n",
              "        const element = document.querySelector('#df-8daacd87-16e3-42bf-bb13-c9876319d17f');\n",
              "        const dataTable =\n",
              "          await google.colab.kernel.invokeFunction('convertToInteractive',\n",
              "                                                    [key], {});\n",
              "        if (!dataTable) return;\n",
              "\n",
              "        const docLinkHtml = 'Like what you see? Visit the ' +\n",
              "          '<a target=\"_blank\" href=https://colab.research.google.com/notebooks/data_table.ipynb>data table notebook</a>'\n",
              "          + ' to learn more about interactive tables.';\n",
              "        element.innerHTML = '';\n",
              "        dataTable['output_type'] = 'display_data';\n",
              "        await google.colab.output.renderOutput(dataTable, element);\n",
              "        const docLink = document.createElement('div');\n",
              "        docLink.innerHTML = docLinkHtml;\n",
              "        element.appendChild(docLink);\n",
              "      }\n",
              "    </script>\n",
              "  </div>\n",
              "\n",
              "\n",
              "<div id=\"df-107323fc-5603-4748-8812-32ac9f2a788e\">\n",
              "  <button class=\"colab-df-quickchart\" onclick=\"quickchart('df-107323fc-5603-4748-8812-32ac9f2a788e')\"\n",
              "            title=\"Suggest charts\"\n",
              "            style=\"display:none;\">\n",
              "\n",
              "<svg xmlns=\"http://www.w3.org/2000/svg\" height=\"24px\"viewBox=\"0 0 24 24\"\n",
              "     width=\"24px\">\n",
              "    <g>\n",
              "        <path d=\"M19 3H5c-1.1 0-2 .9-2 2v14c0 1.1.9 2 2 2h14c1.1 0 2-.9 2-2V5c0-1.1-.9-2-2-2zM9 17H7v-7h2v7zm4 0h-2V7h2v10zm4 0h-2v-4h2v4z\"/>\n",
              "    </g>\n",
              "</svg>\n",
              "  </button>\n",
              "\n",
              "<style>\n",
              "  .colab-df-quickchart {\n",
              "      --bg-color: #E8F0FE;\n",
              "      --fill-color: #1967D2;\n",
              "      --hover-bg-color: #E2EBFA;\n",
              "      --hover-fill-color: #174EA6;\n",
              "      --disabled-fill-color: #AAA;\n",
              "      --disabled-bg-color: #DDD;\n",
              "  }\n",
              "\n",
              "  [theme=dark] .colab-df-quickchart {\n",
              "      --bg-color: #3B4455;\n",
              "      --fill-color: #D2E3FC;\n",
              "      --hover-bg-color: #434B5C;\n",
              "      --hover-fill-color: #FFFFFF;\n",
              "      --disabled-bg-color: #3B4455;\n",
              "      --disabled-fill-color: #666;\n",
              "  }\n",
              "\n",
              "  .colab-df-quickchart {\n",
              "    background-color: var(--bg-color);\n",
              "    border: none;\n",
              "    border-radius: 50%;\n",
              "    cursor: pointer;\n",
              "    display: none;\n",
              "    fill: var(--fill-color);\n",
              "    height: 32px;\n",
              "    padding: 0;\n",
              "    width: 32px;\n",
              "  }\n",
              "\n",
              "  .colab-df-quickchart:hover {\n",
              "    background-color: var(--hover-bg-color);\n",
              "    box-shadow: 0 1px 2px rgba(60, 64, 67, 0.3), 0 1px 3px 1px rgba(60, 64, 67, 0.15);\n",
              "    fill: var(--button-hover-fill-color);\n",
              "  }\n",
              "\n",
              "  .colab-df-quickchart-complete:disabled,\n",
              "  .colab-df-quickchart-complete:disabled:hover {\n",
              "    background-color: var(--disabled-bg-color);\n",
              "    fill: var(--disabled-fill-color);\n",
              "    box-shadow: none;\n",
              "  }\n",
              "\n",
              "  .colab-df-spinner {\n",
              "    border: 2px solid var(--fill-color);\n",
              "    border-color: transparent;\n",
              "    border-bottom-color: var(--fill-color);\n",
              "    animation:\n",
              "      spin 1s steps(1) infinite;\n",
              "  }\n",
              "\n",
              "  @keyframes spin {\n",
              "    0% {\n",
              "      border-color: transparent;\n",
              "      border-bottom-color: var(--fill-color);\n",
              "      border-left-color: var(--fill-color);\n",
              "    }\n",
              "    20% {\n",
              "      border-color: transparent;\n",
              "      border-left-color: var(--fill-color);\n",
              "      border-top-color: var(--fill-color);\n",
              "    }\n",
              "    30% {\n",
              "      border-color: transparent;\n",
              "      border-left-color: var(--fill-color);\n",
              "      border-top-color: var(--fill-color);\n",
              "      border-right-color: var(--fill-color);\n",
              "    }\n",
              "    40% {\n",
              "      border-color: transparent;\n",
              "      border-right-color: var(--fill-color);\n",
              "      border-top-color: var(--fill-color);\n",
              "    }\n",
              "    60% {\n",
              "      border-color: transparent;\n",
              "      border-right-color: var(--fill-color);\n",
              "    }\n",
              "    80% {\n",
              "      border-color: transparent;\n",
              "      border-right-color: var(--fill-color);\n",
              "      border-bottom-color: var(--fill-color);\n",
              "    }\n",
              "    90% {\n",
              "      border-color: transparent;\n",
              "      border-bottom-color: var(--fill-color);\n",
              "    }\n",
              "  }\n",
              "</style>\n",
              "\n",
              "  <script>\n",
              "    async function quickchart(key) {\n",
              "      const quickchartButtonEl =\n",
              "        document.querySelector('#' + key + ' button');\n",
              "      quickchartButtonEl.disabled = true;  // To prevent multiple clicks.\n",
              "      quickchartButtonEl.classList.add('colab-df-spinner');\n",
              "      try {\n",
              "        const charts = await google.colab.kernel.invokeFunction(\n",
              "            'suggestCharts', [key], {});\n",
              "      } catch (error) {\n",
              "        console.error('Error during call to suggestCharts:', error);\n",
              "      }\n",
              "      quickchartButtonEl.classList.remove('colab-df-spinner');\n",
              "      quickchartButtonEl.classList.add('colab-df-quickchart-complete');\n",
              "    }\n",
              "    (() => {\n",
              "      let quickchartButtonEl =\n",
              "        document.querySelector('#df-107323fc-5603-4748-8812-32ac9f2a788e button');\n",
              "      quickchartButtonEl.style.display =\n",
              "        google.colab.kernel.accessAllowed ? 'block' : 'none';\n",
              "    })();\n",
              "  </script>\n",
              "</div>\n",
              "    </div>\n",
              "  </div>\n"
            ]
          },
          "metadata": {},
          "execution_count": 35
        }
      ]
    },
    {
      "cell_type": "code",
      "source": [
        "print(\"*\"*25)\n",
        "print(f\"----Best Combination---- \\n Additonal Layer = {hist.iloc[0,0]}\\n Neurons = {hist.iloc[0,1]}\\n Batch Size = {hist.iloc[0,2]}\\n Drop Out = {hist.iloc[0,3]}\\n\")\n",
        "print(\"*\"*25)\n",
        "print(\"*\"*25)\n",
        "before_rmse = np.round(results, 4)[1]\n",
        "after_rmse = np.round(hist.iloc[0, -1], 4)\n",
        "print(f'Results Before Tunning:\\n Test Set RMSE: {before_rmse}\\n')\n",
        "print(f'Results After Tunning:\\n Test Set RMSE: {after_rmse}\\n')\n",
        "print(f'{np.round((before_rmse-after_rmse)*100/before_rmse)}% Improvement')"
      ],
      "metadata": {
        "colab": {
          "base_uri": "https://localhost:8080/"
        },
        "id": "9hW6UE16ElVs",
        "outputId": "00bc18a5-e114-4165-802c-07031d842c59"
      },
      "execution_count": 36,
      "outputs": [
        {
          "output_type": "stream",
          "name": "stdout",
          "text": [
            "*************************\n",
            "----Best Combination---- \n",
            " Additonal Layer = False\n",
            " Neurons = 32\n",
            " Batch Size = 32\n",
            " Drop Out = 0.2\n",
            "\n",
            "*************************\n",
            "*************************\n",
            "Results Before Tunning:\n",
            " Test Set RMSE: 0.0527\n",
            "\n",
            "Results After Tunning:\n",
            " Test Set RMSE: 0.0418\n",
            "\n",
            "21.0% Improvement\n"
          ]
        }
      ]
    },
    {
      "cell_type": "code",
      "source": [
        "additional_layer, neurons, batch_size, dropout = list(hist.iloc[0, :-4])"
      ],
      "metadata": {
        "id": "gVxpHdu2ZtZn"
      },
      "execution_count": 37,
      "outputs": []
    },
    {
      "cell_type": "code",
      "source": [
        "model = Sequential()\n",
        "model.add(LSTM(units=neurons, return_sequences=True, input_shape=(x_train.shape[1], x_train.shape[2]), activation = \"relu\"))\n",
        "model.add(Dropout(dropout))\n",
        "\n",
        "if additional_layer:\n",
        "    model.add(LSTM(units=neurons, return_sequences=True))\n",
        "    model.add(Dropout(dropout))\n",
        "\n",
        "model.add(LSTM(units=neurons, return_sequences=False))\n",
        "model.add(Dropout(dropout))\n",
        "model.add(Dense(units=1, activation='linear'))\n",
        "model.compile(optimizer='adam', loss='mse')\n",
        "\n",
        "early_stop = EarlyStopping(monitor='val_loss', mode='min', verbose=1, patience=5)\n",
        "\n",
        "file_path = 'best_model.h5'\n",
        "\n",
        "model_check = ModelCheckpoint(file_path, monitor='val_loss', mode='min', verbose=1, save_best_only=True)\n",
        "\n",
        "model.fit(x_train, y_train, validation_split=0.3, epochs=40, batch_size=batch_size, callbacks=[early_stop, model_check], verbose=0)"
      ],
      "metadata": {
        "colab": {
          "base_uri": "https://localhost:8080/"
        },
        "id": "zLuF26-fZtca",
        "outputId": "d3bfe756-4a49-4d9f-db7b-118c64cdb8af"
      },
      "execution_count": 38,
      "outputs": [
        {
          "output_type": "stream",
          "name": "stdout",
          "text": [
            "\n",
            "Epoch 1: val_loss improved from inf to 0.00337, saving model to best_model.h5\n"
          ]
        },
        {
          "output_type": "stream",
          "name": "stderr",
          "text": [
            "/usr/local/lib/python3.10/dist-packages/keras/src/engine/training.py:3079: UserWarning: You are saving your model as an HDF5 file via `model.save()`. This file format is considered legacy. We recommend using instead the native Keras format, e.g. `model.save('my_model.keras')`.\n",
            "  saving_api.save_model(\n"
          ]
        },
        {
          "output_type": "stream",
          "name": "stdout",
          "text": [
            "\n",
            "Epoch 2: val_loss did not improve from 0.00337\n",
            "\n",
            "Epoch 3: val_loss did not improve from 0.00337\n",
            "\n",
            "Epoch 4: val_loss improved from 0.00337 to 0.00300, saving model to best_model.h5\n",
            "\n",
            "Epoch 5: val_loss did not improve from 0.00300\n",
            "\n",
            "Epoch 6: val_loss did not improve from 0.00300\n",
            "\n",
            "Epoch 7: val_loss did not improve from 0.00300\n",
            "\n",
            "Epoch 8: val_loss did not improve from 0.00300\n",
            "\n",
            "Epoch 9: val_loss did not improve from 0.00300\n",
            "Epoch 9: early stopping\n"
          ]
        },
        {
          "output_type": "execute_result",
          "data": {
            "text/plain": [
              "<keras.src.callbacks.History at 0x79d22f856f20>"
            ]
          },
          "metadata": {},
          "execution_count": 38
        }
      ]
    },
    {
      "cell_type": "markdown",
      "source": [
        "**Evaluation metrics**"
      ],
      "metadata": {
        "id": "tkvjPw361uXM"
      }
    },
    {
      "cell_type": "code",
      "source": [
        "results = model.evaluate(x_test, y_test)\n",
        "print(\"test loss , test rmse :\", np.round(results, 4))"
      ],
      "metadata": {
        "colab": {
          "base_uri": "https://localhost:8080/"
        },
        "id": "veL9bjgjZtfQ",
        "outputId": "8864ff56-f1f6-400a-88f1-81a0630de08a"
      },
      "execution_count": 39,
      "outputs": [
        {
          "output_type": "stream",
          "name": "stdout",
          "text": [
            "21/21 [==============================] - 0s 8ms/step - loss: 0.0043\n",
            "test loss , test rmse : 0.0043\n"
          ]
        }
      ]
    },
    {
      "cell_type": "code",
      "source": [
        "y_pred = model.predict(x_test)"
      ],
      "metadata": {
        "colab": {
          "base_uri": "https://localhost:8080/"
        },
        "id": "w9XR62JG0v8z",
        "outputId": "9e3a7082-5e88-48c2-8f51-725526871265"
      },
      "execution_count": 40,
      "outputs": [
        {
          "output_type": "stream",
          "name": "stdout",
          "text": [
            "21/21 [==============================] - 1s 7ms/step\n"
          ]
        }
      ]
    },
    {
      "cell_type": "code",
      "source": [
        "score = r2_score(y_test, y_pred)\n",
        "print(\"The accuracy of our model is {}%\".format(round(score, 2) *100))"
      ],
      "metadata": {
        "colab": {
          "base_uri": "https://localhost:8080/"
        },
        "id": "cTuEPSdj0wmN",
        "outputId": "e4549966-08aa-43e5-e045-993cb30baea6"
      },
      "execution_count": 41,
      "outputs": [
        {
          "output_type": "stream",
          "name": "stdout",
          "text": [
            "The accuracy of our model is 62.0%\n"
          ]
        }
      ]
    },
    {
      "cell_type": "code",
      "source": [
        "score = mean_absolute_error(y_test, y_pred)\n",
        "print(\"The Mean Absolute Error of our Model is {}\".format(round(score, 4)))"
      ],
      "metadata": {
        "colab": {
          "base_uri": "https://localhost:8080/"
        },
        "id": "TSxlwmYA3P8V",
        "outputId": "3f2739a6-2d68-4c79-db97-53aa5ee494c6"
      },
      "execution_count": 62,
      "outputs": [
        {
          "output_type": "stream",
          "name": "stdout",
          "text": [
            "The Mean Absolute Error of our Model is 0.0572\n"
          ]
        }
      ]
    },
    {
      "cell_type": "code",
      "source": [
        "score = mean_squared_error(y_test, y_pred)\n",
        "print(\"The Mean Squared Error of our Model is {}\".format(round(score, 4)))"
      ],
      "metadata": {
        "colab": {
          "base_uri": "https://localhost:8080/"
        },
        "id": "RvdSvytB0wpt",
        "outputId": "1466e464-c841-4a34-ed9e-6ba5729cd689"
      },
      "execution_count": 42,
      "outputs": [
        {
          "output_type": "stream",
          "name": "stdout",
          "text": [
            "The Mean Squared Error of our Model is 0.0043\n"
          ]
        }
      ]
    },
    {
      "cell_type": "code",
      "source": [
        "score = np.sqrt(mean_squared_error(y_test, y_pred))\n",
        "print(\"The Root Mean Squared Error of our Model is {}\".format(round(score, 4)))"
      ],
      "metadata": {
        "colab": {
          "base_uri": "https://localhost:8080/"
        },
        "id": "SpY4AHb-0wtf",
        "outputId": "410336a8-fdfa-46f5-81f4-1d1b61a010ee"
      },
      "execution_count": 43,
      "outputs": [
        {
          "output_type": "stream",
          "name": "stdout",
          "text": [
            "The Root Mean Squared Error of our Model is 0.0658\n"
          ]
        }
      ]
    },
    {
      "cell_type": "markdown",
      "source": [
        "**Plot - Scaled Data - Closing Price vs Predicted Closing Price**"
      ],
      "metadata": {
        "id": "9sSo_46Y1ykG"
      }
    },
    {
      "cell_type": "code",
      "source": [
        "plt.figure(figsize=(16,8), dpi= 100, facecolor='w', edgecolor='k')\n",
        "\n",
        "plt.plot(y_test, color='red', label = 'Closing Price')\n",
        "plt.plot(y_pred, color='green', label = 'Predicted Closing Price')\n",
        "plt.legend(loc='best')\n",
        "plt.title(\"Scaled Data - Closing Price vs Predicted Closing Price - Test Dataset\")\n",
        "plt.show()"
      ],
      "metadata": {
        "colab": {
          "base_uri": "https://localhost:8080/",
          "height": 676
        },
        "id": "R4jzPiEvQjfM",
        "outputId": "118db3ee-9791-451c-fc28-3a233ee02adc"
      },
      "execution_count": 44,
      "outputs": [
        {
          "output_type": "display_data",
          "data": {
            "text/plain": [
              "<Figure size 1600x800 with 1 Axes>"
            ],
            "image/png": "[encoded data removed]"
          },
          "metadata": {}
        }
      ]
    },
    {
      "cell_type": "code",
      "source": [
        "data_x.shape, data_y.shape"
      ],
      "metadata": {
        "colab": {
          "base_uri": "https://localhost:8080/"
        },
        "id": "aFEG5U9BKj3I",
        "outputId": "e2000739-7202-4503-f2e3-8e89b65cf6b9"
      },
      "execution_count": 45,
      "outputs": [
        {
          "output_type": "execute_result",
          "data": {
            "text/plain": [
              "((3332, 25, 2), (3332, 1))"
            ]
          },
          "metadata": {},
          "execution_count": 45
        }
      ]
    },
    {
      "cell_type": "code",
      "source": [
        "pred_data_y = model.predict(data_x)"
      ],
      "metadata": {
        "colab": {
          "base_uri": "https://localhost:8080/"
        },
        "id": "9jkruDoK2ZgH",
        "outputId": "99a58969-bb97-4d98-f8e9-c623ae0827bc"
      },
      "execution_count": 57,
      "outputs": [
        {
          "output_type": "stream",
          "name": "stdout",
          "text": [
            "105/105 [==============================] - 1s 12ms/step\n"
          ]
        }
      ]
    },
    {
      "cell_type": "markdown",
      "source": [
        "**Plot - Scaled Data - Closing Price vs Predicted Closing Price - Overall Dataset**"
      ],
      "metadata": {
        "id": "pDW184M918qA"
      }
    },
    {
      "cell_type": "code",
      "source": [
        "plt.figure(figsize=(16,8), dpi= 100, facecolor='w', edgecolor='k')\n",
        "plt.plot(data_y, color='red', label = 'Closing Price')\n",
        "plt.plot(pred_data_y, color='green', label = 'Predicted Closing Price')\n",
        "plt.legend(loc='best')\n",
        "plt.title(\"Scaled Data - Closing Price vs Predicted Closing Price - Overall Dataset\")\n",
        "plt.show()"
      ],
      "metadata": {
        "colab": {
          "base_uri": "https://localhost:8080/",
          "height": 699
        },
        "id": "nA0rVh99QooG",
        "outputId": "e11311af-927c-4132-eb99-2973fb4df214"
      },
      "execution_count": 58,
      "outputs": [
        {
          "output_type": "display_data",
          "data": {
            "text/plain": [
              "<Figure size 1600x800 with 1 Axes>"
            ],
            "image/png": "[encoded data removed]"
          },
          "metadata": {}
        }
      ]
    },
    {
      "cell_type": "markdown",
      "source": [
        "**Inverting the Min-Max Scaler - Reverting to Original Values**"
      ],
      "metadata": {
        "id": "rcfs8Lxm9Ssj"
      }
    },
    {
      "cell_type": "code",
      "source": [
        "new_data = [list((i[0],0)) for i in data_y]\n",
        "data = scalar.inverse_transform(new_data)\n",
        "overall_data = [i for i, j in data]"
      ],
      "metadata": {
        "id": "Maz43jUsK0J-"
      },
      "execution_count": 47,
      "outputs": []
    },
    {
      "cell_type": "code",
      "source": [
        "overall_data[:5]"
      ],
      "metadata": {
        "colab": {
          "base_uri": "https://localhost:8080/"
        },
        "id": "duz-E5sERGjT",
        "outputId": "84548838-34f8-4eb6-f0d0-02a26c4b44a7"
      },
      "execution_count": 48,
      "outputs": [
        {
          "output_type": "execute_result",
          "data": {
            "text/plain": [
              "[378.549011, 390.414001, 400.869995, 394.77301, 382.556]"
            ]
          },
          "metadata": {},
          "execution_count": 48
        }
      ]
    },
    {
      "cell_type": "code",
      "source": [
        "new_data = [list((i[0],0)) for i in pred_data_y]\n",
        "overall_data = scalar.inverse_transform(new_data)\n",
        "pred_overall_data = [i for i, j in data]"
      ],
      "metadata": {
        "id": "mMfyMJeaXjVe"
      },
      "execution_count": 49,
      "outputs": []
    },
    {
      "cell_type": "code",
      "source": [
        "pred_overall_data[:5]"
      ],
      "metadata": {
        "colab": {
          "base_uri": "https://localhost:8080/"
        },
        "id": "A2B96jMnRImB",
        "outputId": "e04a66fa-ff24-487e-dca1-93979937d376"
      },
      "execution_count": 50,
      "outputs": [
        {
          "output_type": "execute_result",
          "data": {
            "text/plain": [
              "[424.510185541374,\n",
              " 425.125365344367,\n",
              " 426.8669731318651,\n",
              " 429.6580643580133,\n",
              " 432.8250918236971]"
            ]
          },
          "metadata": {},
          "execution_count": 50
        }
      ]
    },
    {
      "cell_type": "code",
      "source": [
        "df = pd.DataFrame(overall_data, columns=['Close'])"
      ],
      "metadata": {
        "id": "BPR3Vd1UYoaO"
      },
      "execution_count": 51,
      "outputs": []
    },
    {
      "cell_type": "code",
      "source": [
        "df['Date']=list(dataframe.iloc[25:,0])"
      ],
      "metadata": {
        "id": "MyZu5V19PqcT"
      },
      "execution_count": 52,
      "outputs": []
    },
    {
      "cell_type": "code",
      "source": [
        "df['Pred Close'] = pred_overall_data"
      ],
      "metadata": {
        "id": "qGjb-Br-Q9gS"
      },
      "execution_count": 53,
      "outputs": []
    },
    {
      "cell_type": "code",
      "source": [
        "df.head()"
      ],
      "metadata": {
        "colab": {
          "base_uri": "https://localhost:8080/",
          "height": 206
        },
        "id": "cMgnEX68P0V0",
        "outputId": "ceef9c32-60b3-462b-89db-877f131b83c9"
      },
      "execution_count": 54,
      "outputs": [
        {
          "output_type": "execute_result",
          "data": {
            "text/plain": [
              "        Close       Date  Pred Close\n",
              "0  378.549011 2014-10-12  424.510186\n",
              "1  390.414001 2014-10-13  425.125365\n",
              "2  400.869995 2014-10-14  426.866973\n",
              "3  394.773010 2014-10-15  429.658064\n",
              "4  382.556000 2014-10-16  432.825092"
            ],
            "text/html": [
              "\n",
              "  <div id=\"df-f8ae3171-c873-4144-8e6e-ed9fc60e7873\" class=\"colab-df-container\">\n",
              "    <div>\n",
              "<style scoped>\n",
              "    .dataframe tbody tr th:only-of-type {\n",
              "        vertical-align: middle;\n",
              "    }\n",
              "\n",
              "    .dataframe tbody tr th {\n",
              "        vertical-align: top;\n",
              "    }\n",
              "\n",
              "    .dataframe thead th {\n",
              "        text-align: right;\n",
              "    }\n",
              "</style>\n",
              "<table border=\"1\" class=\"dataframe\">\n",
              "  <thead>\n",
              "    <tr style=\"text-align: right;\">\n",
              "      <th></th>\n",
              "      <th>Close</th>\n",
              "      <th>Date</th>\n",
              "      <th>Pred Close</th>\n",
              "    </tr>\n",
              "  </thead>\n",
              "  <tbody>\n",
              "    <tr>\n",
              "      <th>0</th>\n",
              "      <td>378.549011</td>\n",
              "      <td>2014-10-12</td>\n",
              "      <td>424.510186</td>\n",
              "    </tr>\n",
              "    <tr>\n",
              "      <th>1</th>\n",
              "      <td>390.414001</td>\n",
              "      <td>2014-10-13</td>\n",
              "      <td>425.125365</td>\n",
              "    </tr>\n",
              "    <tr>\n",
              "      <th>2</th>\n",
              "      <td>400.869995</td>\n",
              "      <td>2014-10-14</td>\n",
              "      <td>426.866973</td>\n",
              "    </tr>\n",
              "    <tr>\n",
              "      <th>3</th>\n",
              "      <td>394.773010</td>\n",
              "      <td>2014-10-15</td>\n",
              "      <td>429.658064</td>\n",
              "    </tr>\n",
              "    <tr>\n",
              "      <th>4</th>\n",
              "      <td>382.556000</td>\n",
              "      <td>2014-10-16</td>\n",
              "      <td>432.825092</td>\n",
              "    </tr>\n",
              "  </tbody>\n",
              "</table>\n",
              "</div>\n",
              "    <div class=\"colab-df-buttons\">\n",
              "\n",
              "  <div class=\"colab-df-container\">\n",
              "    <button class=\"colab-df-convert\" onclick=\"convertToInteractive('df-f8ae3171-c873-4144-8e6e-ed9fc60e7873')\"\n",
              "            title=\"Convert this dataframe to an interactive table.\"\n",
              "            style=\"display:none;\">\n",
              "\n",
              "  <svg xmlns=\"http://www.w3.org/2000/svg\" height=\"24px\" viewBox=\"0 -960 960 960\">\n",
              "    <path d=\"M120-120v-720h720v720H120Zm60-500h600v-160H180v160Zm220 220h160v-160H400v160Zm0 220h160v-160H400v160ZM180-400h160v-160H180v160Zm440 0h160v-160H620v160ZM180-180h160v-160H180v160Zm440 0h160v-160H620v160Z\"/>\n",
              "  </svg>\n",
              "    </button>\n",
              "\n",
              "  <style>\n",
              "    .colab-df-container {\n",
              "      display:flex;\n",
              "      gap: 12px;\n",
              "    }\n",
              "\n",
              "    .colab-df-convert {\n",
              "      background-color: #E8F0FE;\n",
              "      border: none;\n",
              "      border-radius: 50%;\n",
              "      cursor: pointer;\n",
              "      display: none;\n",
              "      fill: #1967D2;\n",
              "      height: 32px;\n",
              "      padding: 0 0 0 0;\n",
              "      width: 32px;\n",
              "    }\n",
              "\n",
              "    .colab-df-convert:hover {\n",
              "      background-color: #E2EBFA;\n",
              "      box-shadow: 0px 1px 2px rgba(60, 64, 67, 0.3), 0px 1px 3px 1px rgba(60, 64, 67, 0.15);\n",
              "      fill: #174EA6;\n",
              "    }\n",
              "\n",
              "    .colab-df-buttons div {\n",
              "      margin-bottom: 4px;\n",
              "    }\n",
              "\n",
              "    [theme=dark] .colab-df-convert {\n",
              "      background-color: #3B4455;\n",
              "      fill: #D2E3FC;\n",
              "    }\n",
              "\n",
              "    [theme=dark] .colab-df-convert:hover {\n",
              "      background-color: #434B5C;\n",
              "      box-shadow: 0px 1px 3px 1px rgba(0, 0, 0, 0.15);\n",
              "      filter: drop-shadow(0px 1px 2px rgba(0, 0, 0, 0.3));\n",
              "      fill: #FFFFFF;\n",
              "    }\n",
              "  </style>\n",
              "\n",
              "    <script>\n",
              "      const buttonEl =\n",
              "        document.querySelector('#df-f8ae3171-c873-4144-8e6e-ed9fc60e7873 button.colab-df-convert');\n",
              "      buttonEl.style.display =\n",
              "        google.colab.kernel.accessAllowed ? 'block' : 'none';\n",
              "\n",
              "      async function convertToInteractive(key) {\n",
              "        const element = document.querySelector('#df-f8ae3171-c873-4144-8e6e-ed9fc60e7873');\n",
              "        const dataTable =\n",
              "          await google.colab.kernel.invokeFunction('convertToInteractive',\n",
              "                                                    [key], {});\n",
              "        if (!dataTable) return;\n",
              "\n",
              "        const docLinkHtml = 'Like what you see? Visit the ' +\n",
              "          '<a target=\"_blank\" href=https://colab.research.google.com/notebooks/data_table.ipynb>data table notebook</a>'\n",
              "          + ' to learn more about interactive tables.';\n",
              "        element.innerHTML = '';\n",
              "        dataTable['output_type'] = 'display_data';\n",
              "        await google.colab.output.renderOutput(dataTable, element);\n",
              "        const docLink = document.createElement('div');\n",
              "        docLink.innerHTML = docLinkHtml;\n",
              "        element.appendChild(docLink);\n",
              "      }\n",
              "    </script>\n",
              "  </div>\n",
              "\n",
              "\n",
              "<div id=\"df-ca2f2854-73b7-4076-b488-4cf271cca277\">\n",
              "  <button class=\"colab-df-quickchart\" onclick=\"quickchart('df-ca2f2854-73b7-4076-b488-4cf271cca277')\"\n",
              "            title=\"Suggest charts\"\n",
              "            style=\"display:none;\">\n",
              "\n",
              "<svg xmlns=\"http://www.w3.org/2000/svg\" height=\"24px\"viewBox=\"0 0 24 24\"\n",
              "     width=\"24px\">\n",
              "    <g>\n",
              "        <path d=\"M19 3H5c-1.1 0-2 .9-2 2v14c0 1.1.9 2 2 2h14c1.1 0 2-.9 2-2V5c0-1.1-.9-2-2-2zM9 17H7v-7h2v7zm4 0h-2V7h2v10zm4 0h-2v-4h2v4z\"/>\n",
              "    </g>\n",
              "</svg>\n",
              "  </button>\n",
              "\n",
              "<style>\n",
              "  .colab-df-quickchart {\n",
              "      --bg-color: #E8F0FE;\n",
              "      --fill-color: #1967D2;\n",
              "      --hover-bg-color: #E2EBFA;\n",
              "      --hover-fill-color: #174EA6;\n",
              "      --disabled-fill-color: #AAA;\n",
              "      --disabled-bg-color: #DDD;\n",
              "  }\n",
              "\n",
              "  [theme=dark] .colab-df-quickchart {\n",
              "      --bg-color: #3B4455;\n",
              "      --fill-color: #D2E3FC;\n",
              "      --hover-bg-color: #434B5C;\n",
              "      --hover-fill-color: #FFFFFF;\n",
              "      --disabled-bg-color: #3B4455;\n",
              "      --disabled-fill-color: #666;\n",
              "  }\n",
              "\n",
              "  .colab-df-quickchart {\n",
              "    background-color: var(--bg-color);\n",
              "    border: none;\n",
              "    border-radius: 50%;\n",
              "    cursor: pointer;\n",
              "    display: none;\n",
              "    fill: var(--fill-color);\n",
              "    height: 32px;\n",
              "    padding: 0;\n",
              "    width: 32px;\n",
              "  }\n",
              "\n",
              "  .colab-df-quickchart:hover {\n",
              "    background-color: var(--hover-bg-color);\n",
              "    box-shadow: 0 1px 2px rgba(60, 64, 67, 0.3), 0 1px 3px 1px rgba(60, 64, 67, 0.15);\n",
              "    fill: var(--button-hover-fill-color);\n",
              "  }\n",
              "\n",
              "  .colab-df-quickchart-complete:disabled,\n",
              "  .colab-df-quickchart-complete:disabled:hover {\n",
              "    background-color: var(--disabled-bg-color);\n",
              "    fill: var(--disabled-fill-color);\n",
              "    box-shadow: none;\n",
              "  }\n",
              "\n",
              "  .colab-df-spinner {\n",
              "    border: 2px solid var(--fill-color);\n",
              "    border-color: transparent;\n",
              "    border-bottom-color: var(--fill-color);\n",
              "    animation:\n",
              "      spin 1s steps(1) infinite;\n",
              "  }\n",
              "\n",
              "  @keyframes spin {\n",
              "    0% {\n",
              "      border-color: transparent;\n",
              "      border-bottom-color: var(--fill-color);\n",
              "      border-left-color: var(--fill-color);\n",
              "    }\n",
              "    20% {\n",
              "      border-color: transparent;\n",
              "      border-left-color: var(--fill-color);\n",
              "      border-top-color: var(--fill-color);\n",
              "    }\n",
              "    30% {\n",
              "      border-color: transparent;\n",
              "      border-left-color: var(--fill-color);\n",
              "      border-top-color: var(--fill-color);\n",
              "      border-right-color: var(--fill-color);\n",
              "    }\n",
              "    40% {\n",
              "      border-color: transparent;\n",
              "      border-right-color: var(--fill-color);\n",
              "      border-top-color: var(--fill-color);\n",
              "    }\n",
              "    60% {\n",
              "      border-color: transparent;\n",
              "      border-right-color: var(--fill-color);\n",
              "    }\n",
              "    80% {\n",
              "      border-color: transparent;\n",
              "      border-right-color: var(--fill-color);\n",
              "      border-bottom-color: var(--fill-color);\n",
              "    }\n",
              "    90% {\n",
              "      border-color: transparent;\n",
              "      border-bottom-color: var(--fill-color);\n",
              "    }\n",
              "  }\n",
              "</style>\n",
              "\n",
              "  <script>\n",
              "    async function quickchart(key) {\n",
              "      const quickchartButtonEl =\n",
              "        document.querySelector('#' + key + ' button');\n",
              "      quickchartButtonEl.disabled = true;  // To prevent multiple clicks.\n",
              "      quickchartButtonEl.classList.add('colab-df-spinner');\n",
              "      try {\n",
              "        const charts = await google.colab.kernel.invokeFunction(\n",
              "            'suggestCharts', [key], {});\n",
              "      } catch (error) {\n",
              "        console.error('Error during call to suggestCharts:', error);\n",
              "      }\n",
              "      quickchartButtonEl.classList.remove('colab-df-spinner');\n",
              "      quickchartButtonEl.classList.add('colab-df-quickchart-complete');\n",
              "    }\n",
              "    (() => {\n",
              "      let quickchartButtonEl =\n",
              "        document.querySelector('#df-ca2f2854-73b7-4076-b488-4cf271cca277 button');\n",
              "      quickchartButtonEl.style.display =\n",
              "        google.colab.kernel.accessAllowed ? 'block' : 'none';\n",
              "    })();\n",
              "  </script>\n",
              "</div>\n",
              "    </div>\n",
              "  </div>\n"
            ]
          },
          "metadata": {},
          "execution_count": 54
        }
      ]
    },
    {
      "cell_type": "markdown",
      "source": [
        "**Plot - Original Closing Price vs Predicted Closing Price - Overall Dataset - Inverted to Original Values**"
      ],
      "metadata": {
        "id": "yey4BD2J1-YY"
      }
    },
    {
      "cell_type": "code",
      "source": [
        "plt.figure(figsize=(14,6), dpi= 100, facecolor='w', edgecolor='k')\n",
        "\n",
        "plt.plot(df['Date'], df['Close'], color='red', label = 'Closing Price')\n",
        "plt.plot(df['Date'], df['Pred Close'], color='blue', label = 'Predicted Closing Price')\n",
        "plt.xlabel('Date')\n",
        "plt.ylabel('USD')\n",
        "plt.title(\"Original Closing Price vs Predicted Closing Price - Overall Dataset\")\n",
        "plt.legend(loc='best')\n",
        "plt.show()"
      ],
      "metadata": {
        "colab": {
          "base_uri": "https://localhost:8080/",
          "height": 564
        },
        "id": "kRqZvEAsY3-u",
        "outputId": "22676f1c-7eb3-41b5-ed57-b145c48b2d1a"
      },
      "execution_count": 55,
      "outputs": [
        {
          "output_type": "display_data",
          "data": {
            "text/plain": [
              "<Figure size 1400x600 with 1 Axes>"
            ],
            "image/png": "[encoded data removed]"
          },
          "metadata": {}
        }
      ]
    },
    {
      "cell_type": "markdown",
      "source": [
        "**Results - Conclusion**"
      ],
      "metadata": {
        "id": "KUcI_GLT2IGp"
      }
    },
    {
      "cell_type": "markdown",
      "source": [
        "**From the above plot we can see our model is able to predict the general trend\n",
        "of moving up and down but falls short when prediction the the accurate high and\n",
        "lows**"
      ],
      "metadata": {
        "id": "C9O2gdeP2ccX"
      }
    }
  ]
}
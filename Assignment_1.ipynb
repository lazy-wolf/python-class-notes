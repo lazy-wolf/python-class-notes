{
  "nbformat": 4,
  "nbformat_minor": 0,
  "metadata": {
    "colab": {
      "provenance": [],
      "mount_file_id": "https://github.com/lazy-wolf/python-class-notes/blob/main/Assignment_1.ipynb",
      "authorship_tag": "ABX9TyNLVwIi1vCUtLnAqRGRz1fL",
      "include_colab_link": true
    },
    "kernelspec": {
      "name": "python3",
      "display_name": "Python 3"
    },
    "language_info": {
      "name": "python"
    }
  },
  "cells": [
    {
      "cell_type": "markdown",
      "metadata": {
        "id": "view-in-github",
        "colab_type": "text"
      },
      "source": [
        "<a href=\"https://colab.research.google.com/github/lazy-wolf/python-class-notes/blob/main/Assignment_1.ipynb\" target=\"_parent\"><img src=\"https://colab.research.google.com/assets/colab-badge.svg\" alt=\"Open In Colab\"/></a>"
      ]
    },
    {
      "cell_type": "markdown",
      "source": [
        "**Assignment 1**\n",
        "\n",
        "```\n",
        "# Authoured by: Wasim Dawood Shaik\n",
        "# UNB ID: 3744476\n",
        "# Date: 05-10-2023\n",
        "```\n",
        "\n",
        "\n",
        "\n",
        "\n",
        "\n",
        "\n"
      ],
      "metadata": {
        "id": "k0nOtwwGADuE"
      }
    },
    {
      "cell_type": "markdown",
      "source": [
        "**Import Libraries**"
      ],
      "metadata": {
        "id": "t8WA2nfmBBdR"
      }
    },
    {
      "cell_type": "code",
      "source": [
        "import tensorflow as tf\n",
        "from tensorflow.keras.datasets import mnist\n",
        "from tensorflow.keras.preprocessing import image\n",
        "import numpy as np\n",
        "import os\n",
        "from PIL import Image, ImageFilter\n",
        "import matplotlib.pyplot as plt\n",
        "from tensorflow.keras import datasets, layers, models\n",
        "from google.colab import drive\n",
        "from sklearn.metrics import accuracy_score"
      ],
      "metadata": {
        "id": "zUqYg_Da__iW"
      },
      "execution_count": 1,
      "outputs": []
    },
    {
      "cell_type": "markdown",
      "source": [
        "**Mounting Google Drive in Google Colab**"
      ],
      "metadata": {
        "id": "is4L7LwCBNE2"
      }
    },
    {
      "cell_type": "code",
      "source": [
        "drive.mount('/content/drive', force_remount=True)"
      ],
      "metadata": {
        "colab": {
          "base_uri": "https://localhost:8080/"
        },
        "id": "FYVQD5vMBJ8R",
        "outputId": "739a521a-0a1c-4915-c15c-d304c1a533a0"
      },
      "execution_count": 3,
      "outputs": [
        {
          "output_type": "stream",
          "name": "stdout",
          "text": [
            "Mounted at /content/drive\n"
          ]
        }
      ]
    },
    {
      "cell_type": "markdown",
      "source": [
        "**Load custom images from Google Drive**"
      ],
      "metadata": {
        "id": "BNaxWUOoB3R1"
      }
    },
    {
      "cell_type": "code",
      "source": [
        "# Load custom images from Google Drive\n",
        "custom_images = []\n",
        "custom_labels = []\n",
        "base_folder_path = '/content/drive/MyDrive/TME_6015/Assignment_1'\n",
        "for folder_name in os.listdir(base_folder_path):\n",
        "    folder_path = os.path.join(base_folder_path, folder_name)\n",
        "    print(folder_path)\n",
        "    if os.path.isdir(folder_path):\n",
        "        for filename in os.listdir(folder_path):\n",
        "          print('filename', filename)\n",
        "          if filename.endswith('.png') or filename.endswith('.PNG') or filename.endswith('.JPG') or filename.endswith('.jpg'):\n",
        "              img_path = os.path.join(folder_path, filename)\n",
        "              img = Image.open(img_path).convert('L')  # convert image to grayscale\n",
        "              img = img.resize((28, 28))  # resize image to match MNIST data\n",
        "              img = img.rotate(-90)\n",
        "              threshold = 100\n",
        "              img = img.point(lambda p: p > threshold and 255)\n",
        "              img_array = np.array(img)\n",
        "              custom_images.append(img_array)\n",
        "              custom_labels.append(int(folder_name))  # use folder name as label\n",
        "\n",
        "# Convert the list of custom images and labels to numpy arrays\n",
        "custom_images = np.array(custom_images)\n",
        "custom_labels = np.array(custom_labels)\n",
        "\n",
        "# Preprocess the custom images\n",
        "custom_images = custom_images / 255.0"
      ],
      "metadata": {
        "colab": {
          "base_uri": "https://localhost:8080/"
        },
        "id": "OVRxvf3FBMJg",
        "outputId": "6381ff87-3b05-4550-e4d3-5f3ba4a4228c"
      },
      "execution_count": 4,
      "outputs": [
        {
          "output_type": "stream",
          "name": "stdout",
          "text": [
            "/content/drive/MyDrive/TME_6015/Assignment_1/7\n",
            "filename 7-1.jpg\n",
            "filename 7-2.png\n",
            "filename 7-3.png\n",
            "/content/drive/MyDrive/TME_6015/Assignment_1/1\n",
            "filename 1-1.jpg\n",
            "filename 1-2.png\n",
            "filename 1-3`.png\n",
            "/content/drive/MyDrive/TME_6015/Assignment_1/2\n",
            "filename 2-1.jpg\n",
            "filename 2-2.png\n",
            "filename 2-3.png\n",
            "/content/drive/MyDrive/TME_6015/Assignment_1/3\n",
            "filename 3-1.jpg\n",
            "filename 3-2.png\n",
            "filename 3-3.png\n",
            "/content/drive/MyDrive/TME_6015/Assignment_1/4\n",
            "filename 4-1.jpg\n",
            "filename 4-2.png\n",
            "filename 4-3.png\n",
            "/content/drive/MyDrive/TME_6015/Assignment_1/5\n",
            "filename 5-1.jpg\n",
            "filename 5-2.png\n",
            "filename 5-3.png\n",
            "/content/drive/MyDrive/TME_6015/Assignment_1/6\n",
            "filename 6-1.jpg\n",
            "filename 6-2.png\n",
            "filename 6-3.png\n",
            "/content/drive/MyDrive/TME_6015/Assignment_1/8\n",
            "filename 8-1.jpg\n",
            "filename 8-2.png\n",
            "filename 8-3.png\n",
            "/content/drive/MyDrive/TME_6015/Assignment_1/9\n",
            "filename 9-1.jpg\n",
            "filename 9-2.png\n",
            "filename 9-3.png\n",
            "/content/drive/MyDrive/TME_6015/Assignment_1/0\n",
            "filename 0-1.jpg\n",
            "filename 0-2.png\n",
            "filename 0-3.png\n"
          ]
        }
      ]
    },
    {
      "cell_type": "code",
      "source": [
        "display_image = custom_images[2] * 255\n",
        "\n",
        "# Convert the image data to uint8\n",
        "display_image = display_image.astype(np.uint8)\n",
        "\n",
        "# Create a PIL image\n",
        "img = Image.fromarray(display_image)\n",
        "\n",
        "# Display the image\n",
        "img"
      ],
      "metadata": {
        "colab": {
          "base_uri": "https://localhost:8080/",
          "height": 45
        },
        "id": "njR2-G8_C45W",
        "outputId": "a6215368-745b-4e40-9609-6642ac7b0634"
      },
      "execution_count": 5,
      "outputs": [
        {
          "output_type": "execute_result",
          "data": {
            "text/plain": [
              "<PIL.Image.Image image mode=L size=28x28>"
            ],
            "image/png": "[encoded data removed]"
          },
          "metadata": {},
          "execution_count": 5
        }
      ]
    },
    {
      "cell_type": "markdown",
      "source": [
        "**Plotting the data**"
      ],
      "metadata": {
        "id": "BIS1TtwSCRKh"
      }
    },
    {
      "cell_type": "code",
      "source": [
        "plt.figure(figsize=(14,14))\n",
        "for i in range(30):\n",
        "    plt.subplot(10,3,i+1)\n",
        "    plt.xticks([])\n",
        "    plt.yticks([])\n",
        "    plt.grid(False)\n",
        "    plt.imshow(custom_images[i])\n",
        "    plt.xlabel(custom_labels[i])\n",
        "plt.show()"
      ],
      "metadata": {
        "colab": {
          "base_uri": "https://localhost:8080/",
          "height": 1000
        },
        "id": "k7i8XXFHBwuU",
        "outputId": "12ecf050-3238-4c74-a2eb-b039ed300e47"
      },
      "execution_count": 6,
      "outputs": [
        {
          "output_type": "display_data",
          "data": {
            "text/plain": [
              "<Figure size 1400x1400 with 30 Axes>"
            ],
            "image/png": "[encoded data removed]"
          },
          "metadata": {}
        }
      ]
    },
    {
      "cell_type": "markdown",
      "source": [
        "**Load and Preprocess MNIST Dataset**"
      ],
      "metadata": {
        "id": "pdwjXQMdClhB"
      }
    },
    {
      "cell_type": "code",
      "source": [
        "mnist = tf.keras.datasets.mnist\n",
        "(x_train,y_train),(x_test,y_test)=mnist.load_data()"
      ],
      "metadata": {
        "colab": {
          "base_uri": "https://localhost:8080/"
        },
        "id": "oQL8FzrOBwxI",
        "outputId": "0732e637-741b-4c06-ab30-19c1bf6558fb"
      },
      "execution_count": 7,
      "outputs": [
        {
          "output_type": "stream",
          "name": "stdout",
          "text": [
            "Downloading data from https://storage.googleapis.com/tensorflow/tf-keras-datasets/mnist.npz\n",
            "11490434/11490434 [==============================] - 0s 0us/step\n"
          ]
        }
      ]
    },
    {
      "cell_type": "markdown",
      "source": [
        "**Adding the custom images and labels to the original MNIST dataset**"
      ],
      "metadata": {
        "id": "XKjBl_NPDJNG"
      }
    },
    {
      "cell_type": "code",
      "source": [
        "# Add the custom images and labels to the original MNIST dataset\n",
        "x_train = np.concatenate((x_train, custom_images), axis=0)\n",
        "y_train = np.concatenate((y_train, custom_labels), axis=0)"
      ],
      "metadata": {
        "id": "iRFw3c8vBwzy"
      },
      "execution_count": 8,
      "outputs": []
    },
    {
      "cell_type": "code",
      "source": [
        "display_image = x_train[0] * 255\n",
        "\n",
        "# Convert the image data to uint8\n",
        "display_image = display_image.astype(np.uint8)\n",
        "\n",
        "# Create a PIL image\n",
        "img = Image.fromarray(display_image)\n",
        "img"
      ],
      "metadata": {
        "colab": {
          "base_uri": "https://localhost:8080/",
          "height": 45
        },
        "id": "I6nmWEDlBxAg",
        "outputId": "5db7a96c-cc1c-47db-c1e8-22acca2203dd"
      },
      "execution_count": 9,
      "outputs": [
        {
          "output_type": "execute_result",
          "data": {
            "text/plain": [
              "<PIL.Image.Image image mode=L size=28x28>"
            ],
            "image/png": "[encoded data removed]"
          },
          "metadata": {},
          "execution_count": 9
        }
      ]
    },
    {
      "cell_type": "markdown",
      "source": [
        "**Create a Model**"
      ],
      "metadata": {
        "id": "hX3khsAfDksY"
      }
    },
    {
      "cell_type": "code",
      "source": [
        "model = models.Sequential()\n",
        "model.add(layers.Conv2D(32, (3, 3), activation='relu', input_shape=(28, 28, 1)))\n",
        "model.add(layers.MaxPooling2D((2, 2)))\n",
        "model.add(layers.Conv2D(64, (3, 3), activation='relu'))\n",
        "model.add(layers.MaxPooling2D((2, 2)))\n",
        "model.add(layers.Conv2D(64, (3, 3), activation='relu'))\n",
        "model.add(layers.Flatten())\n",
        "model.add(layers.Dense(64, activation='relu'))\n",
        "model.add(layers.Dense(10))"
      ],
      "metadata": {
        "id": "UzqSNrp5BxEJ"
      },
      "execution_count": 10,
      "outputs": []
    },
    {
      "cell_type": "code",
      "source": [
        "model.summary()"
      ],
      "metadata": {
        "colab": {
          "base_uri": "https://localhost:8080/"
        },
        "id": "ADvj_KJHGDLm",
        "outputId": "8ce4baf9-ed23-4606-e7f6-343157dfda52"
      },
      "execution_count": 11,
      "outputs": [
        {
          "output_type": "stream",
          "name": "stdout",
          "text": [
            "Model: \"sequential\"\n",
            "_________________________________________________________________\n",
            " Layer (type)                Output Shape              Param #   \n",
            "=================================================================\n",
            " conv2d (Conv2D)             (None, 26, 26, 32)        320       \n",
            "                                                                 \n",
            " max_pooling2d (MaxPooling2  (None, 13, 13, 32)        0         \n",
            " D)                                                              \n",
            "                                                                 \n",
            " conv2d_1 (Conv2D)           (None, 11, 11, 64)        18496     \n",
            "                                                                 \n",
            " max_pooling2d_1 (MaxPoolin  (None, 5, 5, 64)          0         \n",
            " g2D)                                                            \n",
            "                                                                 \n",
            " conv2d_2 (Conv2D)           (None, 3, 3, 64)          36928     \n",
            "                                                                 \n",
            " flatten (Flatten)           (None, 576)               0         \n",
            "                                                                 \n",
            " dense (Dense)               (None, 64)                36928     \n",
            "                                                                 \n",
            " dense_1 (Dense)             (None, 10)                650       \n",
            "                                                                 \n",
            "=================================================================\n",
            "Total params: 93322 (364.54 KB)\n",
            "Trainable params: 93322 (364.54 KB)\n",
            "Non-trainable params: 0 (0.00 Byte)\n",
            "_________________________________________________________________\n"
          ]
        }
      ]
    },
    {
      "cell_type": "markdown",
      "source": [
        "**Compile and Train the Model**"
      ],
      "metadata": {
        "id": "b_6m0mDlD7XY"
      }
    },
    {
      "cell_type": "code",
      "source": [
        "model.compile(optimizer='adam',\n",
        "              loss=tf.keras.losses.SparseCategoricalCrossentropy(from_logits=True),\n",
        "              metrics=['accuracy'])\n",
        "history = model.fit(x_train, y_train, epochs=10,\n",
        "                    validation_data=(x_test, y_test))"
      ],
      "metadata": {
        "colab": {
          "base_uri": "https://localhost:8080/"
        },
        "id": "jG8H_SpfBMM0",
        "outputId": "0affd1ef-91c5-40b6-dd1e-d3f44aee88cd"
      },
      "execution_count": 12,
      "outputs": [
        {
          "output_type": "stream",
          "name": "stdout",
          "text": [
            "Epoch 1/10\n",
            "1876/1876 [==============================] - 86s 45ms/step - loss: 0.2517 - accuracy: 0.9428 - val_loss: 0.0639 - val_accuracy: 0.9806\n",
            "Epoch 2/10\n",
            "1876/1876 [==============================] - 67s 36ms/step - loss: 0.0615 - accuracy: 0.9812 - val_loss: 0.0595 - val_accuracy: 0.9812\n",
            "Epoch 3/10\n",
            "1876/1876 [==============================] - 66s 35ms/step - loss: 0.0497 - accuracy: 0.9842 - val_loss: 0.0668 - val_accuracy: 0.9795\n",
            "Epoch 4/10\n",
            "1876/1876 [==============================] - 66s 35ms/step - loss: 0.0446 - accuracy: 0.9862 - val_loss: 0.0521 - val_accuracy: 0.9844\n",
            "Epoch 5/10\n",
            "1876/1876 [==============================] - 68s 36ms/step - loss: 0.0394 - accuracy: 0.9877 - val_loss: 0.0614 - val_accuracy: 0.9843\n",
            "Epoch 6/10\n",
            "1876/1876 [==============================] - 64s 34ms/step - loss: 0.0313 - accuracy: 0.9902 - val_loss: 0.0764 - val_accuracy: 0.9823\n",
            "Epoch 7/10\n",
            "1876/1876 [==============================] - 66s 35ms/step - loss: 0.0315 - accuracy: 0.9905 - val_loss: 0.0534 - val_accuracy: 0.9861\n",
            "Epoch 8/10\n",
            "1876/1876 [==============================] - 65s 35ms/step - loss: 0.0267 - accuracy: 0.9919 - val_loss: 0.0465 - val_accuracy: 0.9877\n",
            "Epoch 9/10\n",
            "1876/1876 [==============================] - 65s 35ms/step - loss: 0.0240 - accuracy: 0.9930 - val_loss: 0.0350 - val_accuracy: 0.9910\n",
            "Epoch 10/10\n",
            "1876/1876 [==============================] - 66s 35ms/step - loss: 0.0255 - accuracy: 0.9927 - val_loss: 0.0510 - val_accuracy: 0.9888\n"
          ]
        }
      ]
    },
    {
      "cell_type": "markdown",
      "source": [
        "**Plot Training History**"
      ],
      "metadata": {
        "id": "ch-VAkEzEGsb"
      }
    },
    {
      "cell_type": "code",
      "source": [
        "plt.plot(history.history['accuracy'], label='accuracy')\n",
        "plt.plot(history.history['val_accuracy'], label = 'val_accuracy')\n",
        "plt.xlabel('Epoch')\n",
        "plt.ylabel('Accuracy')\n",
        "plt.ylim([0.5, 1])\n",
        "plt.legend(loc='lower right')\n",
        "\n",
        "test_loss, test_acc = model.evaluate(x_test,  y_test, verbose=2)"
      ],
      "metadata": {
        "colab": {
          "base_uri": "https://localhost:8080/",
          "height": 473
        },
        "id": "MHxQ7AzhEAtX",
        "outputId": "b6e5e344-8c64-499d-9f64-36a15beb5c7e"
      },
      "execution_count": 13,
      "outputs": [
        {
          "output_type": "stream",
          "name": "stdout",
          "text": [
            "313/313 - 2s - loss: 0.0510 - accuracy: 0.9888 - 2s/epoch - 8ms/step\n"
          ]
        },
        {
          "output_type": "display_data",
          "data": {
            "text/plain": [
              "<Figure size 640x480 with 1 Axes>"
            ],
            "image/png": "[encoded data removed]"
          },
          "metadata": {}
        }
      ]
    },
    {
      "cell_type": "code",
      "source": [
        "print(test_acc)"
      ],
      "metadata": {
        "colab": {
          "base_uri": "https://localhost:8080/"
        },
        "id": "zMDCJMtqHo4Y",
        "outputId": "c763c7c5-b3a0-433d-c137-5b5bd39f35eb"
      },
      "execution_count": 14,
      "outputs": [
        {
          "output_type": "stream",
          "name": "stdout",
          "text": [
            "0.9887999892234802\n"
          ]
        }
      ]
    },
    {
      "cell_type": "markdown",
      "source": [
        "**Detect Overfitting**\n",
        "\n",
        "---\n",
        "\n",
        "We will Train the model for more epochs until you observe overfitting in the training data (i.e., when validation accuracy starts decreasing while training accuracy keeps increasing)."
      ],
      "metadata": {
        "id": "3Ls-Iz4PENqJ"
      }
    },
    {
      "cell_type": "code",
      "source": [
        "model = models.Sequential()\n",
        "model.add(layers.Conv2D(32, (3, 3), activation='relu', input_shape=(28, 28, 1)))\n",
        "model.add(layers.MaxPooling2D((2, 2)))\n",
        "model.add(layers.Flatten())\n",
        "model.add(layers.Dense(64, activation='relu'))\n",
        "model.add(layers.Dense(10, activation='softmax'))"
      ],
      "metadata": {
        "id": "4J9tXMQvjm-e"
      },
      "execution_count": 15,
      "outputs": []
    },
    {
      "cell_type": "code",
      "source": [
        "model.summary()"
      ],
      "metadata": {
        "id": "oEU60RSOjnrm",
        "outputId": "f2c5d775-9282-4a5b-a322-21f6f394bd1d",
        "colab": {
          "base_uri": "https://localhost:8080/"
        }
      },
      "execution_count": 16,
      "outputs": [
        {
          "output_type": "stream",
          "name": "stdout",
          "text": [
            "Model: \"sequential_1\"\n",
            "_________________________________________________________________\n",
            " Layer (type)                Output Shape              Param #   \n",
            "=================================================================\n",
            " conv2d_3 (Conv2D)           (None, 26, 26, 32)        320       \n",
            "                                                                 \n",
            " max_pooling2d_2 (MaxPoolin  (None, 13, 13, 32)        0         \n",
            " g2D)                                                            \n",
            "                                                                 \n",
            " flatten_1 (Flatten)         (None, 5408)              0         \n",
            "                                                                 \n",
            " dense_2 (Dense)             (None, 64)                346176    \n",
            "                                                                 \n",
            " dense_3 (Dense)             (None, 10)                650       \n",
            "                                                                 \n",
            "=================================================================\n",
            "Total params: 347146 (1.32 MB)\n",
            "Trainable params: 347146 (1.32 MB)\n",
            "Non-trainable params: 0 (0.00 Byte)\n",
            "_________________________________________________________________\n"
          ]
        }
      ]
    },
    {
      "cell_type": "code",
      "source": [
        "model.compile(optimizer='adam',\n",
        "              loss=tf.keras.losses.SparseCategoricalCrossentropy(from_logits=True),\n",
        "              metrics=['accuracy'])"
      ],
      "metadata": {
        "id": "PPTpuw8GjnyO"
      },
      "execution_count": 17,
      "outputs": []
    },
    {
      "cell_type": "code",
      "source": [
        "history = model.fit(x_train, y_train, epochs=25,\n",
        "                    validation_data=(x_test, y_test))"
      ],
      "metadata": {
        "id": "7KwK1FtPjn2L",
        "outputId": "f029036b-cbd4-4d0a-b67e-24d44c12647a",
        "colab": {
          "base_uri": "https://localhost:8080/"
        }
      },
      "execution_count": 18,
      "outputs": [
        {
          "output_type": "stream",
          "name": "stdout",
          "text": [
            "Epoch 1/25\n"
          ]
        },
        {
          "output_type": "stream",
          "name": "stderr",
          "text": [
            "/usr/local/lib/python3.10/dist-packages/keras/src/backend.py:5714: UserWarning: \"`sparse_categorical_crossentropy` received `from_logits=True`, but the `output` argument was produced by a Softmax activation and thus does not represent logits. Was this intended?\n",
            "  output, from_logits = _get_logits(\n"
          ]
        },
        {
          "output_type": "stream",
          "name": "stdout",
          "text": [
            "1876/1876 [==============================] - 40s 21ms/step - loss: 0.5822 - accuracy: 0.8839 - val_loss: 0.1387 - val_accuracy: 0.9653\n",
            "Epoch 2/25\n",
            "1876/1876 [==============================] - 40s 21ms/step - loss: 0.0998 - accuracy: 0.9725 - val_loss: 0.0948 - val_accuracy: 0.9750\n",
            "Epoch 3/25\n",
            "1876/1876 [==============================] - 37s 20ms/step - loss: 0.0682 - accuracy: 0.9800 - val_loss: 0.0794 - val_accuracy: 0.9789\n",
            "Epoch 4/25\n",
            "1876/1876 [==============================] - 38s 20ms/step - loss: 0.0527 - accuracy: 0.9847 - val_loss: 0.0880 - val_accuracy: 0.9768\n",
            "Epoch 5/25\n",
            "1876/1876 [==============================] - 38s 20ms/step - loss: 0.0442 - accuracy: 0.9861 - val_loss: 0.0955 - val_accuracy: 0.9745\n",
            "Epoch 6/25\n",
            "1876/1876 [==============================] - 38s 20ms/step - loss: 0.0361 - accuracy: 0.9888 - val_loss: 0.0999 - val_accuracy: 0.9778\n",
            "Epoch 7/25\n",
            "1876/1876 [==============================] - 40s 22ms/step - loss: 0.0300 - accuracy: 0.9910 - val_loss: 0.1082 - val_accuracy: 0.9768\n",
            "Epoch 8/25\n",
            "1876/1876 [==============================] - 38s 20ms/step - loss: 0.0282 - accuracy: 0.9917 - val_loss: 0.0959 - val_accuracy: 0.9777\n",
            "Epoch 9/25\n",
            "1876/1876 [==============================] - 37s 20ms/step - loss: 0.0222 - accuracy: 0.9930 - val_loss: 0.1026 - val_accuracy: 0.9797\n",
            "Epoch 10/25\n",
            "1876/1876 [==============================] - 38s 20ms/step - loss: 0.0221 - accuracy: 0.9929 - val_loss: 0.1130 - val_accuracy: 0.9778\n",
            "Epoch 11/25\n",
            "1876/1876 [==============================] - 36s 19ms/step - loss: 0.0206 - accuracy: 0.9938 - val_loss: 0.1203 - val_accuracy: 0.9783\n",
            "Epoch 12/25\n",
            "1876/1876 [==============================] - 40s 21ms/step - loss: 0.0201 - accuracy: 0.9940 - val_loss: 0.1555 - val_accuracy: 0.9739\n",
            "Epoch 13/25\n",
            "1876/1876 [==============================] - 38s 20ms/step - loss: 0.0202 - accuracy: 0.9942 - val_loss: 0.1468 - val_accuracy: 0.9779\n",
            "Epoch 14/25\n",
            "1876/1876 [==============================] - 36s 19ms/step - loss: 0.0160 - accuracy: 0.9954 - val_loss: 0.1496 - val_accuracy: 0.9782\n",
            "Epoch 15/25\n",
            "1876/1876 [==============================] - 37s 19ms/step - loss: 0.0171 - accuracy: 0.9951 - val_loss: 0.1553 - val_accuracy: 0.9783\n",
            "Epoch 16/25\n",
            "1876/1876 [==============================] - 36s 19ms/step - loss: 0.0143 - accuracy: 0.9959 - val_loss: 0.1667 - val_accuracy: 0.9795\n",
            "Epoch 17/25\n",
            "1876/1876 [==============================] - 40s 21ms/step - loss: 0.0155 - accuracy: 0.9958 - val_loss: 0.1550 - val_accuracy: 0.9798\n",
            "Epoch 18/25\n",
            "1876/1876 [==============================] - 38s 20ms/step - loss: 0.0146 - accuracy: 0.9962 - val_loss: 0.1809 - val_accuracy: 0.9800\n",
            "Epoch 19/25\n",
            "1876/1876 [==============================] - 36s 19ms/step - loss: 0.0160 - accuracy: 0.9961 - val_loss: 0.2060 - val_accuracy: 0.9766\n",
            "Epoch 20/25\n",
            "1876/1876 [==============================] - 36s 19ms/step - loss: 0.0159 - accuracy: 0.9963 - val_loss: 0.1987 - val_accuracy: 0.9786\n",
            "Epoch 21/25\n",
            "1876/1876 [==============================] - 36s 19ms/step - loss: 0.0119 - accuracy: 0.9970 - val_loss: 0.2174 - val_accuracy: 0.9782\n",
            "Epoch 22/25\n",
            "1876/1876 [==============================] - 39s 21ms/step - loss: 0.0144 - accuracy: 0.9962 - val_loss: 0.2318 - val_accuracy: 0.9767\n",
            "Epoch 23/25\n",
            "1876/1876 [==============================] - 37s 20ms/step - loss: 0.0124 - accuracy: 0.9967 - val_loss: 0.2112 - val_accuracy: 0.9794\n",
            "Epoch 24/25\n",
            "1876/1876 [==============================] - 38s 20ms/step - loss: 0.0132 - accuracy: 0.9969 - val_loss: 0.2254 - val_accuracy: 0.9779\n",
            "Epoch 25/25\n",
            "1876/1876 [==============================] - 38s 20ms/step - loss: 0.0162 - accuracy: 0.9964 - val_loss: 0.2557 - val_accuracy: 0.9797\n"
          ]
        }
      ]
    },
    {
      "cell_type": "code",
      "source": [
        "plt.plot(history.history['accuracy'], label='accuracy')\n",
        "plt.plot(history.history['val_accuracy'], label = 'val_accuracy')\n",
        "plt.xlabel('Epoch')\n",
        "plt.ylabel('Accuracy')\n",
        "plt.ylim([0.5, 1])\n",
        "plt.legend(loc='lower right')\n",
        "\n",
        "test_loss, test_acc = model.evaluate(x_test,  y_test, verbose=2)"
      ],
      "metadata": {
        "id": "OcwdPN22j3Fq",
        "outputId": "abad8761-c51d-488e-c4d7-f2943e6b31e0",
        "colab": {
          "base_uri": "https://localhost:8080/",
          "height": 473
        }
      },
      "execution_count": 21,
      "outputs": [
        {
          "output_type": "stream",
          "name": "stdout",
          "text": [
            "313/313 - 2s - loss: 0.2557 - accuracy: 0.9797 - 2s/epoch - 5ms/step\n"
          ]
        },
        {
          "output_type": "display_data",
          "data": {
            "text/plain": [
              "<Figure size 640x480 with 1 Axes>"
            ],
            "image/png": "[encoded data removed]"
          },
          "metadata": {}
        }
      ]
    },
    {
      "cell_type": "code",
      "source": [
        "print(test_acc)"
      ],
      "metadata": {
        "id": "2o0IS-6Fj5gT",
        "outputId": "3f21bb32-0183-441f-9fa7-0b15859caa73",
        "colab": {
          "base_uri": "https://localhost:8080/"
        }
      },
      "execution_count": 22,
      "outputs": [
        {
          "output_type": "stream",
          "name": "stdout",
          "text": [
            "0.9797000288963318\n"
          ]
        }
      ]
    },
    {
      "cell_type": "code",
      "source": [
        "model = models.Sequential()\n",
        "model.add(layers.Conv2D(32, (3, 3), activation='relu', input_shape=(28, 28, 1)))\n",
        "model.add(layers.MaxPooling2D((2, 2)))\n",
        "model.add(layers.Conv2D(64, (3, 3), activation='relu'))\n",
        "model.add(layers.MaxPooling2D((2, 2)))\n",
        "model.add(layers.Conv2D(64, (3, 3), activation='relu'))\n",
        "model.add(layers.Flatten())\n",
        "model.add(layers.Dense(64, activation='relu'))\n",
        "model.add(layers.Dense(10))"
      ],
      "metadata": {
        "id": "igDZuIJCEKvI"
      },
      "execution_count": 23,
      "outputs": []
    },
    {
      "cell_type": "code",
      "source": [
        "model.summary()"
      ],
      "metadata": {
        "id": "19TScrYkjyPI",
        "outputId": "18af9a21-b532-4d4b-fac2-fb061fb6e367",
        "colab": {
          "base_uri": "https://localhost:8080/"
        }
      },
      "execution_count": 24,
      "outputs": [
        {
          "output_type": "stream",
          "name": "stdout",
          "text": [
            "Model: \"sequential_2\"\n",
            "_________________________________________________________________\n",
            " Layer (type)                Output Shape              Param #   \n",
            "=================================================================\n",
            " conv2d_4 (Conv2D)           (None, 26, 26, 32)        320       \n",
            "                                                                 \n",
            " max_pooling2d_3 (MaxPoolin  (None, 13, 13, 32)        0         \n",
            " g2D)                                                            \n",
            "                                                                 \n",
            " conv2d_5 (Conv2D)           (None, 11, 11, 64)        18496     \n",
            "                                                                 \n",
            " max_pooling2d_4 (MaxPoolin  (None, 5, 5, 64)          0         \n",
            " g2D)                                                            \n",
            "                                                                 \n",
            " conv2d_6 (Conv2D)           (None, 3, 3, 64)          36928     \n",
            "                                                                 \n",
            " flatten_2 (Flatten)         (None, 576)               0         \n",
            "                                                                 \n",
            " dense_4 (Dense)             (None, 64)                36928     \n",
            "                                                                 \n",
            " dense_5 (Dense)             (None, 10)                650       \n",
            "                                                                 \n",
            "=================================================================\n",
            "Total params: 93322 (364.54 KB)\n",
            "Trainable params: 93322 (364.54 KB)\n",
            "Non-trainable params: 0 (0.00 Byte)\n",
            "_________________________________________________________________\n"
          ]
        }
      ]
    },
    {
      "cell_type": "code",
      "source": [
        "model.compile(optimizer='adam',\n",
        "              loss=tf.keras.losses.SparseCategoricalCrossentropy(from_logits=True),\n",
        "              metrics=['accuracy'])"
      ],
      "metadata": {
        "id": "YRuhCijxEKyL"
      },
      "execution_count": 25,
      "outputs": []
    },
    {
      "cell_type": "code",
      "source": [
        "history = model.fit(x_train, y_train, epochs=25,\n",
        "                    validation_data=(x_test, y_test))"
      ],
      "metadata": {
        "colab": {
          "base_uri": "https://localhost:8080/"
        },
        "id": "7GSC_uE4FwYm",
        "outputId": "e63d3334-bbb4-4929-f12d-1e296311fdaf"
      },
      "execution_count": 26,
      "outputs": [
        {
          "output_type": "stream",
          "name": "stdout",
          "text": [
            "Epoch 1/25\n",
            "1876/1876 [==============================] - 75s 39ms/step - loss: 0.2223 - accuracy: 0.9449 - val_loss: 0.0588 - val_accuracy: 0.9820\n",
            "Epoch 2/25\n",
            "1876/1876 [==============================] - 68s 36ms/step - loss: 0.0642 - accuracy: 0.9805 - val_loss: 0.0618 - val_accuracy: 0.9808\n",
            "Epoch 3/25\n",
            "1876/1876 [==============================] - 73s 39ms/step - loss: 0.0505 - accuracy: 0.9848 - val_loss: 0.0514 - val_accuracy: 0.9835\n",
            "Epoch 4/25\n",
            "1876/1876 [==============================] - 67s 36ms/step - loss: 0.0440 - accuracy: 0.9863 - val_loss: 0.0379 - val_accuracy: 0.9881\n",
            "Epoch 5/25\n",
            "1876/1876 [==============================] - 69s 37ms/step - loss: 0.0346 - accuracy: 0.9895 - val_loss: 0.0576 - val_accuracy: 0.9837\n",
            "Epoch 6/25\n",
            "1876/1876 [==============================] - 70s 38ms/step - loss: 0.0344 - accuracy: 0.9896 - val_loss: 0.0413 - val_accuracy: 0.9884\n",
            "Epoch 7/25\n",
            "1876/1876 [==============================] - 68s 36ms/step - loss: 0.0292 - accuracy: 0.9917 - val_loss: 0.0490 - val_accuracy: 0.9875\n",
            "Epoch 8/25\n",
            "1876/1876 [==============================] - 69s 37ms/step - loss: 0.0234 - accuracy: 0.9928 - val_loss: 0.0612 - val_accuracy: 0.9857\n",
            "Epoch 9/25\n",
            "1876/1876 [==============================] - 68s 36ms/step - loss: 0.0278 - accuracy: 0.9916 - val_loss: 0.0465 - val_accuracy: 0.9863\n",
            "Epoch 10/25\n",
            "1876/1876 [==============================] - 68s 36ms/step - loss: 0.0214 - accuracy: 0.9936 - val_loss: 0.0448 - val_accuracy: 0.9868\n",
            "Epoch 11/25\n",
            "1876/1876 [==============================] - 70s 38ms/step - loss: 0.0211 - accuracy: 0.9940 - val_loss: 0.0407 - val_accuracy: 0.9894\n",
            "Epoch 12/25\n",
            "1876/1876 [==============================] - 68s 36ms/step - loss: 0.0211 - accuracy: 0.9940 - val_loss: 0.0631 - val_accuracy: 0.9867\n",
            "Epoch 13/25\n",
            "1876/1876 [==============================] - 68s 36ms/step - loss: 0.0196 - accuracy: 0.9944 - val_loss: 0.0723 - val_accuracy: 0.9868\n",
            "Epoch 14/25\n",
            "1876/1876 [==============================] - 71s 38ms/step - loss: 0.0198 - accuracy: 0.9945 - val_loss: 0.0650 - val_accuracy: 0.9882\n",
            "Epoch 15/25\n",
            "1876/1876 [==============================] - 67s 36ms/step - loss: 0.0187 - accuracy: 0.9947 - val_loss: 0.0686 - val_accuracy: 0.9883\n",
            "Epoch 16/25\n",
            "1876/1876 [==============================] - 67s 36ms/step - loss: 0.0160 - accuracy: 0.9956 - val_loss: 0.0945 - val_accuracy: 0.9846\n",
            "Epoch 17/25\n",
            "1876/1876 [==============================] - 68s 36ms/step - loss: 0.0171 - accuracy: 0.9953 - val_loss: 0.0873 - val_accuracy: 0.9854\n",
            "Epoch 18/25\n",
            "1876/1876 [==============================] - 67s 36ms/step - loss: 0.0209 - accuracy: 0.9948 - val_loss: 0.0976 - val_accuracy: 0.9850\n",
            "Epoch 19/25\n",
            "1876/1876 [==============================] - 67s 36ms/step - loss: 0.0163 - accuracy: 0.9960 - val_loss: 0.0918 - val_accuracy: 0.9871\n",
            "Epoch 20/25\n",
            "1876/1876 [==============================] - 70s 37ms/step - loss: 0.0202 - accuracy: 0.9953 - val_loss: 0.0728 - val_accuracy: 0.9867\n",
            "Epoch 21/25\n",
            "1876/1876 [==============================] - 67s 35ms/step - loss: 0.0180 - accuracy: 0.9959 - val_loss: 0.0836 - val_accuracy: 0.9866\n",
            "Epoch 22/25\n",
            "1876/1876 [==============================] - 68s 36ms/step - loss: 0.0195 - accuracy: 0.9956 - val_loss: 0.1058 - val_accuracy: 0.9869\n",
            "Epoch 23/25\n",
            "1876/1876 [==============================] - 71s 38ms/step - loss: 0.0163 - accuracy: 0.9966 - val_loss: 0.1112 - val_accuracy: 0.9856\n",
            "Epoch 24/25\n",
            "1876/1876 [==============================] - 67s 36ms/step - loss: 0.0184 - accuracy: 0.9959 - val_loss: 0.1066 - val_accuracy: 0.9851\n",
            "Epoch 25/25\n",
            "1876/1876 [==============================] - 67s 36ms/step - loss: 0.0215 - accuracy: 0.9957 - val_loss: 0.0921 - val_accuracy: 0.9888\n"
          ]
        }
      ]
    },
    {
      "cell_type": "code",
      "source": [
        "plt.plot(history.history['accuracy'], label='accuracy')\n",
        "plt.plot(history.history['val_accuracy'], label = 'val_accuracy')\n",
        "plt.xlabel('Epoch')\n",
        "plt.ylabel('Accuracy')\n",
        "plt.ylim([0.5, 1])\n",
        "plt.legend(loc='lower right')\n",
        "\n",
        "test_loss, test_acc = model.evaluate(x_test,  y_test, verbose=2)"
      ],
      "metadata": {
        "colab": {
          "base_uri": "https://localhost:8080/",
          "height": 473
        },
        "id": "Z1jtK-YZHVxl",
        "outputId": "7897003c-db7e-46db-bc7e-0005fc047498"
      },
      "execution_count": 27,
      "outputs": [
        {
          "output_type": "stream",
          "name": "stdout",
          "text": [
            "313/313 - 6s - loss: 0.0921 - accuracy: 0.9888 - 6s/epoch - 19ms/step\n"
          ]
        },
        {
          "output_type": "display_data",
          "data": {
            "text/plain": [
              "<Figure size 640x480 with 1 Axes>"
            ],
            "image/png": "[encoded data removed]"
          },
          "metadata": {}
        }
      ]
    },
    {
      "cell_type": "code",
      "source": [
        "print(test_acc)"
      ],
      "metadata": {
        "colab": {
          "base_uri": "https://localhost:8080/"
        },
        "id": "wc8EqnGcHV81",
        "outputId": "9ce841d5-0cf7-44ac-b285-8b144ea288c9"
      },
      "execution_count": 28,
      "outputs": [
        {
          "output_type": "stream",
          "name": "stdout",
          "text": [
            "0.9887999892234802\n"
          ]
        }
      ]
    },
    {
      "cell_type": "code",
      "source": [],
      "metadata": {
        "id": "xYmkt21VmwVp"
      },
      "execution_count": 28,
      "outputs": []
    },
    {
      "cell_type": "code",
      "source": [],
      "metadata": {
        "id": "TfwV6oXSnQCK"
      },
      "execution_count": 28,
      "outputs": []
    },
    {
      "cell_type": "code",
      "source": [],
      "metadata": {
        "id": "7V-COzVjnVyP"
      },
      "execution_count": 28,
      "outputs": []
    },
    {
      "cell_type": "code",
      "source": [],
      "metadata": {
        "id": "jAihy4ndnwre"
      },
      "execution_count": 28,
      "outputs": []
    },
    {
      "cell_type": "code",
      "source": [],
      "metadata": {
        "id": "SSWYP3jwnwuk"
      },
      "execution_count": 28,
      "outputs": []
    },
    {
      "cell_type": "code",
      "source": [],
      "metadata": {
        "id": "_Pms3O2qn0w_"
      },
      "execution_count": 28,
      "outputs": []
    },
    {
      "cell_type": "code",
      "source": [],
      "metadata": {
        "id": "hhlu2xq9n0zj"
      },
      "execution_count": 28,
      "outputs": []
    },
    {
      "cell_type": "markdown",
      "source": [
        "**Experiment with Different Configurationst**"
      ],
      "metadata": {
        "id": "KXhOWbtHF07R"
      }
    },
    {
      "cell_type": "markdown",
      "source": [
        "**Model - 1**"
      ],
      "metadata": {
        "id": "ifmNHVX8F6jY"
      }
    },
    {
      "cell_type": "code",
      "source": [
        "model = models.Sequential()\n",
        "model.add(layers.Conv2D(32, (3, 3), activation='relu', input_shape=(28, 28, 1)))\n",
        "model.add(layers.MaxPooling2D((2, 2)))\n",
        "model.add(layers.Flatten())\n",
        "model.add(layers.Dense(64, activation='relu'))\n",
        "model.add(layers.Dense(10, activation='softmax'))"
      ],
      "metadata": {
        "id": "t7RGdx2JF0fP"
      },
      "execution_count": 32,
      "outputs": []
    },
    {
      "cell_type": "code",
      "source": [
        "model.summary()"
      ],
      "metadata": {
        "id": "0owoll-WF0h1",
        "colab": {
          "base_uri": "https://localhost:8080/"
        },
        "outputId": "6bfabae4-1749-4751-892a-4400f712dbc7"
      },
      "execution_count": 33,
      "outputs": [
        {
          "output_type": "stream",
          "name": "stdout",
          "text": [
            "Model: \"sequential_4\"\n",
            "_________________________________________________________________\n",
            " Layer (type)                Output Shape              Param #   \n",
            "=================================================================\n",
            " conv2d_8 (Conv2D)           (None, 26, 26, 32)        320       \n",
            "                                                                 \n",
            " max_pooling2d_6 (MaxPoolin  (None, 13, 13, 32)        0         \n",
            " g2D)                                                            \n",
            "                                                                 \n",
            " flatten_4 (Flatten)         (None, 5408)              0         \n",
            "                                                                 \n",
            " dense_8 (Dense)             (None, 64)                346176    \n",
            "                                                                 \n",
            " dense_9 (Dense)             (None, 10)                650       \n",
            "                                                                 \n",
            "=================================================================\n",
            "Total params: 347146 (1.32 MB)\n",
            "Trainable params: 347146 (1.32 MB)\n",
            "Non-trainable params: 0 (0.00 Byte)\n",
            "_________________________________________________________________\n"
          ]
        }
      ]
    },
    {
      "cell_type": "code",
      "source": [
        "model.compile(optimizer='adam',\n",
        "              loss=tf.keras.losses.SparseCategoricalCrossentropy(from_logits=True),\n",
        "              metrics=['accuracy'])"
      ],
      "metadata": {
        "id": "4fjf5EOwFwbf"
      },
      "execution_count": 34,
      "outputs": []
    },
    {
      "cell_type": "code",
      "source": [
        "history = model.fit(x_train, y_train, epochs=10,\n",
        "                    validation_data=(x_test, y_test))"
      ],
      "metadata": {
        "id": "2MKHKSlPFweI",
        "colab": {
          "base_uri": "https://localhost:8080/"
        },
        "outputId": "d1a31f9b-8442-4612-e934-be6e5d01314b"
      },
      "execution_count": 35,
      "outputs": [
        {
          "output_type": "stream",
          "name": "stdout",
          "text": [
            "Epoch 1/10\n",
            "1876/1876 [==============================] - 42s 22ms/step - loss: 0.6042 - accuracy: 0.8715 - val_loss: 0.1330 - val_accuracy: 0.9645\n",
            "Epoch 2/10\n",
            "1876/1876 [==============================] - 35s 19ms/step - loss: 0.1004 - accuracy: 0.9718 - val_loss: 0.0873 - val_accuracy: 0.9757\n",
            "Epoch 3/10\n",
            "1876/1876 [==============================] - 38s 20ms/step - loss: 0.0639 - accuracy: 0.9808 - val_loss: 0.0998 - val_accuracy: 0.9711\n",
            "Epoch 4/10\n",
            "1876/1876 [==============================] - 37s 20ms/step - loss: 0.0489 - accuracy: 0.9848 - val_loss: 0.0783 - val_accuracy: 0.9791\n",
            "Epoch 5/10\n",
            "1876/1876 [==============================] - 37s 20ms/step - loss: 0.0379 - accuracy: 0.9878 - val_loss: 0.0816 - val_accuracy: 0.9804\n",
            "Epoch 6/10\n",
            "1876/1876 [==============================] - 35s 18ms/step - loss: 0.0332 - accuracy: 0.9901 - val_loss: 0.0865 - val_accuracy: 0.9788\n",
            "Epoch 7/10\n",
            "1876/1876 [==============================] - 34s 18ms/step - loss: 0.0283 - accuracy: 0.9906 - val_loss: 0.1066 - val_accuracy: 0.9765\n",
            "Epoch 8/10\n",
            "1876/1876 [==============================] - 37s 20ms/step - loss: 0.0260 - accuracy: 0.9920 - val_loss: 0.0970 - val_accuracy: 0.9781\n",
            "Epoch 9/10\n",
            "1876/1876 [==============================] - 34s 18ms/step - loss: 0.0225 - accuracy: 0.9931 - val_loss: 0.1360 - val_accuracy: 0.9745\n",
            "Epoch 10/10\n",
            "1876/1876 [==============================] - 37s 20ms/step - loss: 0.0185 - accuracy: 0.9941 - val_loss: 0.1222 - val_accuracy: 0.9782\n"
          ]
        }
      ]
    },
    {
      "cell_type": "code",
      "source": [
        "plt.plot(history.history['accuracy'], label='accuracy')\n",
        "plt.plot(history.history['val_accuracy'], label = 'val_accuracy')\n",
        "plt.xlabel('Epoch')\n",
        "plt.ylabel('Accuracy')\n",
        "plt.ylim([0.5, 1])\n",
        "plt.legend(loc='lower right')\n",
        "\n",
        "test_loss, test_acc = model.evaluate(x_test,  y_test, verbose=2)"
      ],
      "metadata": {
        "id": "Ko1PWHavEK1A",
        "colab": {
          "base_uri": "https://localhost:8080/",
          "height": 473
        },
        "outputId": "0d5395bb-ee57-4586-9f2e-91e161b3ceb6"
      },
      "execution_count": 36,
      "outputs": [
        {
          "output_type": "stream",
          "name": "stdout",
          "text": [
            "313/313 - 2s - loss: 0.1222 - accuracy: 0.9782 - 2s/epoch - 5ms/step\n"
          ]
        },
        {
          "output_type": "display_data",
          "data": {
            "text/plain": [
              "<Figure size 640x480 with 1 Axes>"
            ],
            "image/png": "[encoded data removed]"
          },
          "metadata": {}
        }
      ]
    },
    {
      "cell_type": "code",
      "source": [
        "print(test_acc)"
      ],
      "metadata": {
        "id": "mrpwLKEPHyXF",
        "colab": {
          "base_uri": "https://localhost:8080/"
        },
        "outputId": "bc001fb0-d7e9-4936-d005-4f2c8813d79c"
      },
      "execution_count": 37,
      "outputs": [
        {
          "output_type": "stream",
          "name": "stdout",
          "text": [
            "0.9782000184059143\n"
          ]
        }
      ]
    },
    {
      "cell_type": "markdown",
      "source": [
        "**Model - 2**"
      ],
      "metadata": {
        "id": "XSXmQjP4GN2Q"
      }
    },
    {
      "cell_type": "code",
      "source": [
        "model = models.Sequential()\n",
        "model.add(layers.Conv2D(32, (3, 3), activation='relu', input_shape=(28, 28, 1)))\n",
        "model.add(layers.MaxPooling2D((2, 2)))\n",
        "model.add(layers.Conv2D(64, (3, 3), activation='relu'))\n",
        "model.add(layers.Flatten())\n",
        "model.add(layers.Dense(64, activation='relu'))\n",
        "model.add(layers.Dense(10))"
      ],
      "metadata": {
        "id": "-FaS51XIGNgM"
      },
      "execution_count": 38,
      "outputs": []
    },
    {
      "cell_type": "code",
      "source": [
        "model.summary()"
      ],
      "metadata": {
        "id": "loaFO4YXEK4E",
        "colab": {
          "base_uri": "https://localhost:8080/"
        },
        "outputId": "1aa02e36-0e72-4f73-9c3e-491e976bc4b4"
      },
      "execution_count": 39,
      "outputs": [
        {
          "output_type": "stream",
          "name": "stdout",
          "text": [
            "Model: \"sequential_5\"\n",
            "_________________________________________________________________\n",
            " Layer (type)                Output Shape              Param #   \n",
            "=================================================================\n",
            " conv2d_9 (Conv2D)           (None, 26, 26, 32)        320       \n",
            "                                                                 \n",
            " max_pooling2d_7 (MaxPoolin  (None, 13, 13, 32)        0         \n",
            " g2D)                                                            \n",
            "                                                                 \n",
            " conv2d_10 (Conv2D)          (None, 11, 11, 64)        18496     \n",
            "                                                                 \n",
            " flatten_5 (Flatten)         (None, 7744)              0         \n",
            "                                                                 \n",
            " dense_10 (Dense)            (None, 64)                495680    \n",
            "                                                                 \n",
            " dense_11 (Dense)            (None, 10)                650       \n",
            "                                                                 \n",
            "=================================================================\n",
            "Total params: 515146 (1.97 MB)\n",
            "Trainable params: 515146 (1.97 MB)\n",
            "Non-trainable params: 0 (0.00 Byte)\n",
            "_________________________________________________________________\n"
          ]
        }
      ]
    },
    {
      "cell_type": "code",
      "source": [
        "model.compile(optimizer='adam',\n",
        "              loss=tf.keras.losses.SparseCategoricalCrossentropy(from_logits=True),\n",
        "              metrics=['accuracy'])"
      ],
      "metadata": {
        "id": "8Zl0Gz5DGM-3"
      },
      "execution_count": 40,
      "outputs": []
    },
    {
      "cell_type": "code",
      "source": [
        "history = model.fit(x_train, y_train, epochs=10,\n",
        "                    validation_data=(x_test, y_test))"
      ],
      "metadata": {
        "id": "6W5E-0ZLEK6y",
        "colab": {
          "base_uri": "https://localhost:8080/"
        },
        "outputId": "08fa4107-8953-452f-c448-72063e2e0b6e"
      },
      "execution_count": 41,
      "outputs": [
        {
          "output_type": "stream",
          "name": "stdout",
          "text": [
            "Epoch 1/10\n",
            "1876/1876 [==============================] - 69s 36ms/step - loss: 0.2588 - accuracy: 0.9535 - val_loss: 0.0957 - val_accuracy: 0.9705\n",
            "Epoch 2/10\n",
            "1876/1876 [==============================] - 65s 35ms/step - loss: 0.0577 - accuracy: 0.9823 - val_loss: 0.0504 - val_accuracy: 0.9851\n",
            "Epoch 3/10\n",
            "1876/1876 [==============================] - 70s 37ms/step - loss: 0.0463 - accuracy: 0.9860 - val_loss: 0.0558 - val_accuracy: 0.9827\n",
            "Epoch 4/10\n",
            "1876/1876 [==============================] - 66s 35ms/step - loss: 0.0353 - accuracy: 0.9892 - val_loss: 0.0592 - val_accuracy: 0.9837\n",
            "Epoch 5/10\n",
            "1876/1876 [==============================] - 66s 35ms/step - loss: 0.0297 - accuracy: 0.9907 - val_loss: 0.0738 - val_accuracy: 0.9804\n",
            "Epoch 6/10\n",
            "1876/1876 [==============================] - 68s 36ms/step - loss: 0.0276 - accuracy: 0.9917 - val_loss: 0.0581 - val_accuracy: 0.9854\n",
            "Epoch 7/10\n",
            "1876/1876 [==============================] - 67s 36ms/step - loss: 0.0217 - accuracy: 0.9931 - val_loss: 0.0710 - val_accuracy: 0.9847\n",
            "Epoch 8/10\n",
            "1876/1876 [==============================] - 65s 35ms/step - loss: 0.0209 - accuracy: 0.9939 - val_loss: 0.0784 - val_accuracy: 0.9826\n",
            "Epoch 9/10\n",
            "1876/1876 [==============================] - 69s 37ms/step - loss: 0.0184 - accuracy: 0.9943 - val_loss: 0.1185 - val_accuracy: 0.9794\n",
            "Epoch 10/10\n",
            "1876/1876 [==============================] - 67s 36ms/step - loss: 0.0176 - accuracy: 0.9947 - val_loss: 0.0834 - val_accuracy: 0.9834\n"
          ]
        }
      ]
    },
    {
      "cell_type": "code",
      "source": [
        "plt.plot(history.history['accuracy'], label='accuracy')\n",
        "plt.plot(history.history['val_accuracy'], label = 'val_accuracy')\n",
        "plt.xlabel('Epoch')\n",
        "plt.ylabel('Accuracy')\n",
        "plt.ylim([0.5, 1])\n",
        "plt.legend(loc='lower right')\n",
        "\n",
        "test_loss, test_acc = model.evaluate(x_test,  y_test, verbose=2)"
      ],
      "metadata": {
        "id": "CHvryMakEK93",
        "colab": {
          "base_uri": "https://localhost:8080/",
          "height": 473
        },
        "outputId": "610e21fe-cb16-4b3a-abc8-d7ee84078ba4"
      },
      "execution_count": 42,
      "outputs": [
        {
          "output_type": "stream",
          "name": "stdout",
          "text": [
            "313/313 - 3s - loss: 0.0834 - accuracy: 0.9834 - 3s/epoch - 8ms/step\n"
          ]
        },
        {
          "output_type": "display_data",
          "data": {
            "text/plain": [
              "<Figure size 640x480 with 1 Axes>"
            ],
            "image/png": "[encoded data removed]"
          },
          "metadata": {}
        }
      ]
    },
    {
      "cell_type": "code",
      "source": [
        "print(test_acc)"
      ],
      "metadata": {
        "id": "EWBZPxt-H0Ho",
        "colab": {
          "base_uri": "https://localhost:8080/"
        },
        "outputId": "504b6ce6-4c1b-4796-8e98-e7f4c510bc00"
      },
      "execution_count": 43,
      "outputs": [
        {
          "output_type": "stream",
          "name": "stdout",
          "text": [
            "0.9833999872207642\n"
          ]
        }
      ]
    },
    {
      "cell_type": "markdown",
      "source": [
        "**Create a Custom Test Set**"
      ],
      "metadata": {
        "id": "znOR28CiG1fn"
      }
    },
    {
      "cell_type": "code",
      "source": [],
      "metadata": {
        "id": "XBxxxTLyELA2"
      },
      "execution_count": 43,
      "outputs": []
    },
    {
      "cell_type": "code",
      "source": [
        "custom_test_images = []\n",
        "custom_test_labels = []\n",
        "folder_path = '/content/drive/MyDrive/TME_6015/Assignment_1_Custom_Test_Data'\n",
        "for filename in os.listdir(folder_path):\n",
        "  print('filename : ', filename)\n",
        "  if filename.endswith('.png') or filename.endswith('.PNG') or filename.endswith('.JPG') or filename.endswith('.jpg') or filename.endswith('.JPEG') or filename.endswith('.jpeg'):\n",
        "    img_path = os.path.join(folder_path, filename)\n",
        "    img = Image.open(img_path).convert('L')\n",
        "    img = img.resize((28, 28))\n",
        "    threshold = 100\n",
        "    img = img.point(lambda p: p > threshold and 255)\n",
        "    img_array = np.array(img)\n",
        "    custom_test_images.append(img_array)\n",
        "    custom_test_labels.append(int(filename[0]))\n",
        "\n",
        "# Convert the list of custom images and labels to numpy arrays\n",
        "custom_test_images = np.array(custom_test_images)\n",
        "custom_test_labels = np.array(custom_test_labels)\n"
      ],
      "metadata": {
        "colab": {
          "base_uri": "https://localhost:8080/"
        },
        "id": "5NWs5ij9KDyC",
        "outputId": "55f10e33-04ac-4e34-842b-bcf1a8060872"
      },
      "execution_count": 44,
      "outputs": [
        {
          "output_type": "stream",
          "name": "stdout",
          "text": [
            "filename :  1.png\n",
            "filename :  2.png\n",
            "filename :  3.png\n",
            "filename :  4.png\n",
            "filename :  5.png\n",
            "filename :  6.png\n",
            "filename :  7.png\n",
            "filename :  8.png\n",
            "filename :  9.png\n",
            "filename :  0.png\n"
          ]
        }
      ]
    },
    {
      "cell_type": "code",
      "source": [
        "plt.figure(figsize=(14,14))\n",
        "for i in range(10):\n",
        "    plt.subplot(2,5,i+1)\n",
        "    plt.xticks([])\n",
        "    plt.yticks([])\n",
        "    plt.grid(False)\n",
        "    plt.imshow(custom_test_images[i])\n",
        "    plt.xlabel(custom_test_labels[i])\n",
        "plt.show()"
      ],
      "metadata": {
        "colab": {
          "base_uri": "https://localhost:8080/",
          "height": 831
        },
        "id": "tvUXAlqAlEnB",
        "outputId": "4ffb69e0-8af7-4b3c-ed38-804c63280e14"
      },
      "execution_count": 45,
      "outputs": [
        {
          "output_type": "display_data",
          "data": {
            "text/plain": [
              "<Figure size 1400x1400 with 10 Axes>"
            ],
            "image/png": "[encoded data removed]"
          },
          "metadata": {}
        }
      ]
    },
    {
      "cell_type": "code",
      "source": [
        "custom_test_labels, len(custom_test_labels)"
      ],
      "metadata": {
        "colab": {
          "base_uri": "https://localhost:8080/"
        },
        "id": "Psh4glGHSmNp",
        "outputId": "36dddf80-6114-4c87-cabb-34e615bcb49f"
      },
      "execution_count": 46,
      "outputs": [
        {
          "output_type": "execute_result",
          "data": {
            "text/plain": [
              "(array([1, 2, 3, 4, 5, 6, 7, 8, 9, 0]), 10)"
            ]
          },
          "metadata": {},
          "execution_count": 46
        }
      ]
    },
    {
      "cell_type": "code",
      "source": [
        "custom_test_pred=model.predict(custom_test_images)"
      ],
      "metadata": {
        "colab": {
          "base_uri": "https://localhost:8080/"
        },
        "id": "end2cRAwG0xG",
        "outputId": "3147687e-bbbe-40c2-9342-1c9117da866a"
      },
      "execution_count": 47,
      "outputs": [
        {
          "output_type": "stream",
          "name": "stdout",
          "text": [
            "1/1 [==============================] - 0s 181ms/step\n"
          ]
        }
      ]
    },
    {
      "cell_type": "code",
      "source": [
        "custom_test_pred"
      ],
      "metadata": {
        "colab": {
          "base_uri": "https://localhost:8080/"
        },
        "id": "cfvH-2kESpmP",
        "outputId": "2a86d323-d825-4adb-9813-fe997bf31881"
      },
      "execution_count": 48,
      "outputs": [
        {
          "output_type": "execute_result",
          "data": {
            "text/plain": [
              "array([[ 6.1765103e+00, -4.5405364e+00,  6.2470565e+00, -4.7796335e+00,\n",
              "        -5.3547645e+00, -4.8685317e+00,  8.0070212e-02,  1.2969393e+00,\n",
              "         3.5496953e+00, -1.6267378e+00],\n",
              "       [ 2.2031515e+00, -7.2433519e+00,  8.2667656e+00, -6.7737455e+00,\n",
              "        -7.2235436e+00, -8.9421701e+00, -6.6008477e+00,  1.7840594e+00,\n",
              "         6.9462070e+00,  6.9293365e+00],\n",
              "       [ 4.0531750e+00, -8.8745928e+00,  8.2959299e+00, -2.1644013e-01,\n",
              "        -3.1125016e+00,  3.1743495e+00,  2.5575333e+00,  3.7646599e+00,\n",
              "        -1.0663459e+00,  4.7471933e+00],\n",
              "       [ 2.1695707e+00, -9.1078529e+00, -7.5145307e+00, -8.3635349e+00,\n",
              "        -5.6793885e+00, -2.3983603e+00, -5.2989316e+00, -5.3807511e+00,\n",
              "        -1.2778267e+00,  2.1454692e+00],\n",
              "       [-3.4961738e-03, -1.9237282e+01,  2.5769455e+00, -1.0581409e+01,\n",
              "        -7.9460126e-01,  3.2556510e+00, -1.5521056e+01,  1.6820333e+01,\n",
              "        -1.0682586e+01,  7.0250802e+00],\n",
              "       [ 4.1851239e+00, -1.9334669e+01, -5.9925585e+00, -1.3163803e+01,\n",
              "        -5.3572974e+00, -3.6500376e-01, -9.6576118e+00,  2.9672647e+00,\n",
              "        -1.3310515e+01,  7.1594872e+00],\n",
              "       [ 6.6979833e+00, -8.4393787e+00,  7.2258630e+00, -6.4904346e+00,\n",
              "        -4.5235610e+00, -7.2161689e+00, -4.5616870e+00,  3.3761854e+00,\n",
              "         8.2704878e+00,  1.7580299e+00],\n",
              "       [ 4.8935475e+00, -2.1332445e+01, -1.0475947e+01, -1.3372525e+01,\n",
              "        -1.9130284e+00,  2.1948526e+00, -1.6605659e+01,  4.5746717e+00,\n",
              "        -1.6540478e+01,  1.0179819e+01],\n",
              "       [ 4.7418003e+00, -1.7651474e+01, -1.9058746e+00, -1.6925192e+01,\n",
              "        -4.6777129e+00, -1.0249394e+01, -6.1511416e+00, -1.9606192e+00,\n",
              "        -5.3542724e+00,  3.1366181e+00],\n",
              "       [ 1.6486732e+00, -1.6114374e+01, -6.8311591e+00, -1.3259473e+01,\n",
              "        -2.2332938e+00, -3.2665095e+00, -1.5827276e+01,  6.9172816e+00,\n",
              "        -1.1516970e+01,  7.0132618e+00]], dtype=float32)"
            ]
          },
          "metadata": {},
          "execution_count": 48
        }
      ]
    },
    {
      "cell_type": "code",
      "source": [
        "custom_test_pred=list(map(lambda p: np.argmax(p), custom_test_pred))"
      ],
      "metadata": {
        "id": "AMRM_vljLYHx"
      },
      "execution_count": 49,
      "outputs": []
    },
    {
      "cell_type": "code",
      "source": [
        "for i in range(len(custom_test_pred)):\n",
        "  print(custom_test_labels[i],custom_test_pred[i])"
      ],
      "metadata": {
        "colab": {
          "base_uri": "https://localhost:8080/"
        },
        "id": "kAsoGZVLG00U",
        "outputId": "6bcf51c4-0f28-4d77-f7b7-b3803c5269af"
      },
      "execution_count": 50,
      "outputs": [
        {
          "output_type": "stream",
          "name": "stdout",
          "text": [
            "1 2\n",
            "2 2\n",
            "3 2\n",
            "4 0\n",
            "5 7\n",
            "6 9\n",
            "7 8\n",
            "8 9\n",
            "9 0\n",
            "0 9\n"
          ]
        }
      ]
    },
    {
      "cell_type": "code",
      "source": [],
      "metadata": {
        "id": "g8KctYqzS23s"
      },
      "execution_count": 50,
      "outputs": []
    }
  ]
}